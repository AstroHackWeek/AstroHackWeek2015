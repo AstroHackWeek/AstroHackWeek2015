{
 "cells": [
  {
   "cell_type": "code",
   "execution_count": 1,
   "metadata": {
    "collapsed": true
   },
   "outputs": [],
   "source": [
    "import numpy as np\n",
    "import abcpmc  # pip install abcpmc\n",
    "import matplotlib.pylab as plt\n",
    "%matplotlib inline"
   ]
  },
  {
   "cell_type": "code",
   "execution_count": 15,
   "metadata": {
    "collapsed": false
   },
   "outputs": [
    {
     "name": "stdout",
     "output_type": "stream",
     "text": [
      "KNN\n",
      "T: 0, eps: 3.0000, ratio: 0.6711\n",
      "    theta[0]: 1.0706 ± 0.4796\n",
      "    theta[1]: 1.1006 ± 0.5006\n",
      "T: 1, eps: 2.0965, ratio: 0.4292\n",
      "    theta[0]: 0.9688 ± 0.3973\n",
      "    theta[1]: 1.0830 ± 0.3982\n",
      "T: 2, eps: 1.4651, ratio: 0.2105\n",
      "    theta[0]: 1.0339 ± 0.2924\n",
      "    theta[1]: 1.0657 ± 0.3461\n",
      "T: 3, eps: 1.0238, ratio: 0.0793\n",
      "    theta[0]: 1.0807 ± 0.2172\n",
      "    theta[1]: 1.1051 ± 0.2699\n",
      "T: 4, eps: 0.7155, ratio: 0.0243\n",
      "    theta[0]: 1.0870 ± 0.1570\n",
      "    theta[1]: 1.1464 ± 0.1982\n",
      "T: 5, eps: 0.5000, ratio: 0.0102\n",
      "    theta[0]: 1.1030 ± 0.1418\n",
      "    theta[1]: 1.1526 ± 0.1839\n",
      "CPU times: user 6.87 s, sys: 68.6 ms, total: 6.94 s\n",
      "Wall time: 7.06 s\n"
     ]
    },
    {
     "data": {
      "image/png": "[encoded data removed]",
      "text/plain": [
       "<matplotlib.figure.Figure at 0x10f88e890>"
      ]
     },
     "metadata": {},
     "output_type": "display_data"
    }
   ],
   "source": [
    "#create \"observed\" data set\n",
    "def abc_test(Npart=50,part_prop='KNN',knn=5, threshold = 'ExpEps',epimax = 3., epimin = .5, Iter = 4):\n",
    "    #make simple mock data\n",
    "    size = 2\n",
    "    sigma = np.eye(size) * 0.2\n",
    "    means = np.ones(size)\n",
    "    data = np.random.multivariate_normal(means, sigma, size)\n",
    "    #-------\n",
    "\n",
    "    #distance function: sum of abs mean differences\n",
    "    def dist(x, y):\n",
    "        #return np.sum(np.abs(np.mean(x, axis=0) - np.mean(y, axis=0)))\n",
    "        return np.sum(np.abs((x) - (y)))\n",
    "\n",
    "    #our \"model\", a gaussian with varying means\n",
    "    def postfn(theta):\n",
    "        return np.random.multivariate_normal(theta, sigma, size)\n",
    "    \n",
    "    if threshold == 'ConstEps':\n",
    "        eps = abcpmc.ConstEps(Iter, epimax)\n",
    "    elif threshold == 'ExpEps':\n",
    "        eps = abcpmc.ExponentialEps(Iter, epimax,epimin)\n",
    "    else:\n",
    "        eps = abcpmc.LinearEps(Iter, epimax, epimin)\n",
    "        \n",
    "        \n",
    "    prior = abcpmc.GaussianPrior(means*1.1, sigma*2) #our best guess\n",
    "\n",
    "    sampler = abcpmc.Sampler(N=Npart, Y=data, postfn=postfn, dist=dist)\n",
    "    \n",
    "    \n",
    "    print part_prop\n",
    "    abcpmc.Sampler.particle_proposal_kwargs = {}\n",
    "    if part_prop == 'KNN':\n",
    "        abcpmc.Sampler.particle_proposal_kwargs = {'k':knn}\n",
    "        sampler.particle_proposal_cls = abcpmc.KNNParticleProposal\n",
    "    elif part_prop == 'OLCM':\n",
    "        sampler.particle_proposal_cls = abcpmc.OLCMParticleProposal\n",
    "    \n",
    "    pools=[]   \n",
    "    for pool in sampler.sample(prior, eps):\n",
    "        print(\"T: {0}, eps: {1:>.4f}, ratio: {2:>.4f}\".format(pool.t, pool.eps, pool.ratio))\n",
    "        for i, (mean, std) in enumerate(zip(np.mean(pool.thetas, axis=0), np.std(pool.thetas, axis=0))):\n",
    "            print(u\"    theta[{0}]: {1:>.4f} \\u00B1 {2:>.4f}\".format(i, mean,std))\n",
    "        pools.append(pool)\n",
    "    for i in range(len(means)):\n",
    "        moments = np.array([abcpmc.weighted_avg_and_std(pool.thetas[:,i], pool.ws, axis=0) for pool in pools])\n",
    "        plt.errorbar(range(Iter), moments[:, 0], moments[:, 1])\n",
    "    plt.hlines(means, 0, Iter, linestyle=\"dotted\", linewidth=0.7)\n",
    "    _ = plt.xlim([-.5, Iter])\n",
    "    return pools\n",
    "            \n",
    "%time pools = abc_test(Npart = 100,part_prop ='KNN',knn=5,threshold ='ExpEps',Iter = 6)"
   ]
  },
  {
   "cell_type": "markdown",
   "metadata": {
    "collapsed": true
   },
   "source": [
    "__references for further reading__\n",
    "\n",
    "**Good tutorial**\n",
    "Turner & Vandelt 2012\n",
    "http://www.sciencedirect.com/science/article/pii/S0022249612000272\n",
    "\n",
    "\n",
    "\"Akeret, J., Refregier, A., Amara, A, Seehars, S., and Hasner, C., JCAP (submitted 2015)\"\n",
    "\"Beaumont et al. 2009 arXiv:0805.2256\"\n",
    "\"Fillippi et al 2012 arXiv:1106.6280\"\n",
    "\n",
    "Example applied to SN cosmology\n",
    "http://arxiv.org/abs/1206.2563"
   ]
  },
  {
   "cell_type": "code",
   "execution_count": null,
   "metadata": {
    "collapsed": true
   },
   "outputs": [],
   "source": []
  }
 ],
 "metadata": {
  "kernelspec": {
   "display_name": "Python 2",
   "language": "python",
   "name": "python2"
  },
  "language_info": {
   "codemirror_mode": {
    "name": "ipython",
    "version": 2
   },
   "file_extension": ".py",
   "mimetype": "text/x-python",
   "name": "python",
   "nbconvert_exporter": "python",
   "pygments_lexer": "ipython2",
   "version": "2.7.10"
  }
 },
 "nbformat": 4,
 "nbformat_minor": 0
}
