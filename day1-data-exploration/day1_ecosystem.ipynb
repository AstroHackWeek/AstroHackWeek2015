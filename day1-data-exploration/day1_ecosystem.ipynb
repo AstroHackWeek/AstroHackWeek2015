{
 "cells": [
  {
   "cell_type": "markdown",
   "metadata": {},
   "source": [
    "# Orienting Yourself\n",
    "\n",
    "![The Scientific Python Stack](images/scientific_python_stack.png)\n",
    "Image: @jakevdp"
   ]
  },
  {
   "cell_type": "markdown",
   "metadata": {},
   "source": [
    "# How to install packages using conda\n",
    "\n",
    "If you're using anaconda, you probably already have most (if not all) of these installed. If you installed miniconda:\n",
    "\n",
    "```\n",
    "conda install numpy\n",
    "```\n",
    "\n",
    "Conda also has channels which allows anybody to distribute their own conda packages. There is an \"astropy\" channel for AstroPy affiliated packages. You can do:\n",
    "\n",
    "```\n",
    "conda install -c astropy astroml\n",
    "```\n",
    "\n",
    "To check if a package is available on conda:\n",
    "\n",
    "```\n",
    "conda search numpy\n",
    "```\n",
    "\n",
    "# How to install packages using pip\n",
    "\n",
    "Many smaller packages are not available via the `conda` package manager. For these, use `pip`:\n",
    "\n",
    "```\n",
    "pip install --no-deps corner\n",
    "```\n",
    "\n",
    "## Why prefer conda?\n",
    "\n",
    "conda is an actual package *manager* that will take care of resolving dependencies optimally."
   ]
  },
  {
   "cell_type": "markdown",
   "metadata": {},
   "source": [
    "# NumPy"
   ]
  },
  {
   "cell_type": "code",
   "execution_count": 1,
   "metadata": {
    "collapsed": true
   },
   "outputs": [],
   "source": [
    "from __future__ import print_function\n",
    "\n",
    "import math\n",
    "import numpy as np"
   ]
  },
  {
   "cell_type": "markdown",
   "metadata": {
    "collapsed": true
   },
   "source": [
    "If you use Python for any amount of time, you'll quickly find that there are some things it is not so good at.\n",
    "In particular, performing repeated operations via loops is one of its weaknesses.\n",
    "\n",
    "For example, in pure Python:"
   ]
  },
  {
   "cell_type": "code",
   "execution_count": 2,
   "metadata": {
    "collapsed": true
   },
   "outputs": [],
   "source": [
    "def add_one(x):\n",
    "    return [xi + 1 for xi in x]"
   ]
  },
  {
   "cell_type": "code",
   "execution_count": 3,
   "metadata": {
    "collapsed": false
   },
   "outputs": [
    {
     "name": "stdout",
     "output_type": "stream",
     "text": [
      "10 loops, best of 3: 65 ms per loop\n"
     ]
    }
   ],
   "source": [
    "x = list(range(1000000))\n",
    "%timeit add_one(x)"
   ]
  },
  {
   "cell_type": "markdown",
   "metadata": {},
   "source": [
    "Using numpy we would do:"
   ]
  },
  {
   "cell_type": "code",
   "execution_count": 4,
   "metadata": {
    "collapsed": false
   },
   "outputs": [
    {
     "name": "stdout",
     "output_type": "stream",
     "text": [
      "1000 loops, best of 3: 1.23 ms per loop\n"
     ]
    }
   ],
   "source": [
    "x = np.arange(1000000)\n",
    "%timeit np.add(x, 1)"
   ]
  },
  {
   "cell_type": "markdown",
   "metadata": {},
   "source": [
    "## Why is pure Python so slow?\n",
    "\n",
    "![array vs list](images/array_vs_list.png)\n",
    "Image: @jakevdp\n",
    "\n",
    "\n",
    "Operations in NumPy are faster than Python functions involving loops, because\n",
    "\n",
    "- The data type can be checked just once\n",
    "- The looping then happens in compiled code"
   ]
  },
  {
   "cell_type": "markdown",
   "metadata": {},
   "source": [
    "## Using NumPy efficiently\n",
    "\n",
    "The name of the game is moving all array-oriented code into *vectorized* NumPy operations."
   ]
  },
  {
   "cell_type": "code",
   "execution_count": 5,
   "metadata": {
    "collapsed": true
   },
   "outputs": [],
   "source": [
    "# Point coordinates\n",
    "x = np.random.rand(100000)\n",
    "y = np.random.rand(100000)"
   ]
  },
  {
   "cell_type": "code",
   "execution_count": 7,
   "metadata": {
    "collapsed": false
   },
   "outputs": [
    {
     "name": "stdout",
     "output_type": "stream",
     "text": [
      "10 loops, best of 3: 84.4 ms per loop\n"
     ]
    }
   ],
   "source": [
    "%%timeit\n",
    "dist = np.empty(len(x))\n",
    "for i in range(len(x)):\n",
    "    dist[i] = math.sqrt(x[i]**2 + y[i]**2)"
   ]
  },
  {
   "cell_type": "code",
   "execution_count": 9,
   "metadata": {
    "collapsed": false
   },
   "outputs": [
    {
     "name": "stdout",
     "output_type": "stream",
     "text": [
      "1000 loops, best of 3: 514 µs per loop\n"
     ]
    }
   ],
   "source": [
    "%%timeit\n",
    "dist = np.sqrt(x**2 + y**2)"
   ]
  },
  {
   "cell_type": "markdown",
   "metadata": {},
   "source": [
    "**Aside:** How many arrays are created in the above cell?"
   ]
  },
  {
   "cell_type": "markdown",
   "metadata": {},
   "source": [
    "Sometimes you have to get a little creative to \"vectorize\" things:"
   ]
  },
  {
   "cell_type": "code",
   "execution_count": 12,
   "metadata": {
    "collapsed": false
   },
   "outputs": [
    {
     "data": {
      "text/plain": [
       "array([ 0,  1,  4,  9, 16, 25, 36, 49, 64, 81])"
      ]
     },
     "execution_count": 12,
     "metadata": {},
     "output_type": "execute_result"
    }
   ],
   "source": [
    "x = np.arange(10)**2\n",
    "x"
   ]
  },
  {
   "cell_type": "code",
   "execution_count": 14,
   "metadata": {
    "collapsed": false
   },
   "outputs": [
    {
     "data": {
      "text/plain": [
       "array([ 1,  3,  5,  7,  9, 11, 13, 15, 17])"
      ]
     },
     "execution_count": 14,
     "metadata": {},
     "output_type": "execute_result"
    }
   ],
   "source": [
    "# difference between adjacent elements\n",
    "x[1:] - x[:-1]"
   ]
  },
  {
   "cell_type": "code",
   "execution_count": 16,
   "metadata": {
    "collapsed": true
   },
   "outputs": [],
   "source": [
    "# by the way, this is basically the implementation of `np.ediff1d`\n",
    "np.ediff1d??"
   ]
  },
  {
   "cell_type": "markdown",
   "metadata": {},
   "source": [
    "### Some interesting properties of numpy functions\n",
    "\n",
    "Functions that operate element-wise on arrays are known as *universal functions* (\"UFuncs\").\n",
    "\n",
    "UFuncs have some methods built-in, which allow for some very interesting, flexible, and fast operations:"
   ]
  },
  {
   "cell_type": "code",
   "execution_count": 17,
   "metadata": {
    "collapsed": false
   },
   "outputs": [
    {
     "data": {
      "text/plain": [
       "array([1, 3, 5, 7, 9])"
      ]
     },
     "execution_count": 17,
     "metadata": {},
     "output_type": "execute_result"
    }
   ],
   "source": [
    "x = np.arange(5)\n",
    "y = np.arange(1, 6)\n",
    "x + y"
   ]
  },
  {
   "cell_type": "markdown",
   "metadata": {},
   "source": [
    "All operators (like ``+``) actuall call an underlying numpy function: in this case ``np.add``:"
   ]
  },
  {
   "cell_type": "code",
   "execution_count": 18,
   "metadata": {
    "collapsed": false
   },
   "outputs": [
    {
     "data": {
      "text/plain": [
       "array([1, 3, 5, 7, 9])"
      ]
     },
     "execution_count": 18,
     "metadata": {},
     "output_type": "execute_result"
    }
   ],
   "source": [
    "np.add(x, y)"
   ]
  },
  {
   "cell_type": "markdown",
   "metadata": {},
   "source": [
    "These ufuncs have some interesting and useful properties:"
   ]
  },
  {
   "cell_type": "code",
   "execution_count": 19,
   "metadata": {
    "collapsed": false
   },
   "outputs": [
    {
     "data": {
      "text/plain": [
       "array([ 0,  1,  3,  6, 10])"
      ]
     },
     "execution_count": 19,
     "metadata": {},
     "output_type": "execute_result"
    }
   ],
   "source": [
    "np.add.accumulate(x)"
   ]
  },
  {
   "cell_type": "code",
   "execution_count": 20,
   "metadata": {
    "collapsed": false
   },
   "outputs": [
    {
     "data": {
      "text/plain": [
       "array([0, 0, 0, 0, 0])"
      ]
     },
     "execution_count": 20,
     "metadata": {},
     "output_type": "execute_result"
    }
   ],
   "source": [
    "np.multiply.accumulate(x)"
   ]
  },
  {
   "cell_type": "code",
   "execution_count": 21,
   "metadata": {
    "collapsed": false
   },
   "outputs": [
    {
     "data": {
      "text/plain": [
       "array([  1,   2,   6,  24, 120])"
      ]
     },
     "execution_count": 21,
     "metadata": {},
     "output_type": "execute_result"
    }
   ],
   "source": [
    "np.multiply.accumulate(y)"
   ]
  },
  {
   "cell_type": "code",
   "execution_count": 24,
   "metadata": {
    "collapsed": false
   },
   "outputs": [
    {
     "data": {
      "text/plain": [
       "array([0, 1, 2, 3, 4])"
      ]
     },
     "execution_count": 24,
     "metadata": {},
     "output_type": "execute_result"
    }
   ],
   "source": [
    "x"
   ]
  },
  {
   "cell_type": "code",
   "execution_count": 28,
   "metadata": {
    "collapsed": false
   },
   "outputs": [
    {
     "data": {
      "text/plain": [
       "array([4, 4, 4, 4, 4])"
      ]
     },
     "execution_count": 28,
     "metadata": {},
     "output_type": "execute_result"
    }
   ],
   "source": [
    "np.maximum.accumulate(x[::-1])"
   ]
  },
  {
   "cell_type": "code",
   "execution_count": 29,
   "metadata": {
    "collapsed": false
   },
   "outputs": [
    {
     "data": {
      "text/plain": [
       "1"
      ]
     },
     "execution_count": 29,
     "metadata": {},
     "output_type": "execute_result"
    }
   ],
   "source": [
    "np.multiply.identity"
   ]
  },
  {
   "cell_type": "code",
   "execution_count": 30,
   "metadata": {
    "collapsed": false
   },
   "outputs": [
    {
     "data": {
      "text/plain": [
       "array([[0, 1, 2, 3, 4],\n",
       "       [1, 2, 3, 4, 5],\n",
       "       [2, 3, 4, 5, 6],\n",
       "       [3, 4, 5, 6, 7],\n",
       "       [4, 5, 6, 7, 8]])"
      ]
     },
     "execution_count": 30,
     "metadata": {},
     "output_type": "execute_result"
    }
   ],
   "source": [
    "np.add.outer(x, x)"
   ]
  },
  {
   "cell_type": "code",
   "execution_count": 31,
   "metadata": {
    "collapsed": false
   },
   "outputs": [
    {
     "data": {
      "text/plain": [
       "array([[ 0,  0,  0,  0,  0],\n",
       "       [ 0,  1,  2,  3,  4],\n",
       "       [ 0,  2,  4,  6,  8],\n",
       "       [ 0,  3,  6,  9, 12],\n",
       "       [ 0,  4,  8, 12, 16]])"
      ]
     },
     "execution_count": 31,
     "metadata": {},
     "output_type": "execute_result"
    }
   ],
   "source": [
    "np.multiply.outer(x, x)"
   ]
  },
  {
   "cell_type": "markdown",
   "metadata": {},
   "source": [
    "## numpy aggregates\n",
    "\n",
    "*Aggregates* are functions that take an array and return a smaller-dimension array."
   ]
  },
  {
   "cell_type": "code",
   "execution_count": 32,
   "metadata": {
    "collapsed": false
   },
   "outputs": [
    {
     "data": {
      "text/plain": [
       "array([[ 0.,  1.,  2.,  3.,  4.],\n",
       "       [ 5.,  6.,  7.,  8.,  9.]])"
      ]
     },
     "execution_count": 32,
     "metadata": {},
     "output_type": "execute_result"
    }
   ],
   "source": [
    "z = np.arange(10, dtype=np.float64).reshape((2, 5))\n",
    "z"
   ]
  },
  {
   "cell_type": "code",
   "execution_count": 40,
   "metadata": {
    "collapsed": false
   },
   "outputs": [
    {
     "data": {
      "text/plain": [
       "array([  5.,   7.,   9.,  11.,  13.])"
      ]
     },
     "execution_count": 40,
     "metadata": {},
     "output_type": "execute_result"
    }
   ],
   "source": [
    "np.sum(z, axis=0)"
   ]
  },
  {
   "cell_type": "code",
   "execution_count": 34,
   "metadata": {
    "collapsed": false
   },
   "outputs": [
    {
     "data": {
      "text/plain": [
       "45.0"
      ]
     },
     "execution_count": 34,
     "metadata": {},
     "output_type": "execute_result"
    }
   ],
   "source": [
    "# alternate spelling:\n",
    "z.sum()"
   ]
  },
  {
   "cell_type": "code",
   "execution_count": 36,
   "metadata": {
    "collapsed": false
   },
   "outputs": [
    {
     "data": {
      "text/plain": [
       "4.5"
      ]
     },
     "execution_count": 36,
     "metadata": {},
     "output_type": "execute_result"
    }
   ],
   "source": [
    "np.mean(z)"
   ]
  },
  {
   "cell_type": "code",
   "execution_count": 38,
   "metadata": {
    "collapsed": false
   },
   "outputs": [
    {
     "data": {
      "text/plain": [
       "(0.0, 9.0)"
      ]
     },
     "execution_count": 38,
     "metadata": {},
     "output_type": "execute_result"
    }
   ],
   "source": [
    "np.min(z), np.max(z)"
   ]
  },
  {
   "cell_type": "code",
   "execution_count": 44,
   "metadata": {
    "collapsed": false
   },
   "outputs": [
    {
     "data": {
      "text/plain": [
       "array([  5.,   7.,   9.,  11.,  13.])"
      ]
     },
     "execution_count": 44,
     "metadata": {},
     "output_type": "execute_result"
    }
   ],
   "source": [
    "np.sum(z, axis=0)"
   ]
  },
  {
   "cell_type": "code",
   "execution_count": 41,
   "metadata": {
    "collapsed": false
   },
   "outputs": [
    {
     "data": {
      "text/plain": [
       "array([  5.,   7.,   9.,  11.,  13.])"
      ]
     },
     "execution_count": 41,
     "metadata": {},
     "output_type": "execute_result"
    }
   ],
   "source": [
    "# could also use ufunc \n",
    "np.add.reduce(z, axis=0)"
   ]
  },
  {
   "cell_type": "markdown",
   "metadata": {},
   "source": [
    "## Indexing\n",
    "\n",
    "#### Slice indexing"
   ]
  },
  {
   "cell_type": "code",
   "execution_count": 45,
   "metadata": {
    "collapsed": false
   },
   "outputs": [
    {
     "data": {
      "text/plain": [
       "array([ 0,  1,  2,  3,  4,  5,  6,  7,  8,  9, 10, 11, 12, 13, 14])"
      ]
     },
     "execution_count": 45,
     "metadata": {},
     "output_type": "execute_result"
    }
   ],
   "source": [
    "x = np.arange(15)\n",
    "x"
   ]
  },
  {
   "cell_type": "code",
   "execution_count": 46,
   "metadata": {
    "collapsed": false
   },
   "outputs": [
    {
     "data": {
      "text/plain": [
       "array([0, 1, 2, 3, 4])"
      ]
     },
     "execution_count": 46,
     "metadata": {},
     "output_type": "execute_result"
    }
   ],
   "source": [
    "x[0:5]"
   ]
  },
  {
   "cell_type": "code",
   "execution_count": 47,
   "metadata": {
    "collapsed": false
   },
   "outputs": [
    {
     "data": {
      "text/plain": [
       "array([0, 2, 4, 6, 8])"
      ]
     },
     "execution_count": 47,
     "metadata": {},
     "output_type": "execute_result"
    }
   ],
   "source": [
    "x[0:10:2]  # with a stride"
   ]
  },
  {
   "cell_type": "code",
   "execution_count": 48,
   "metadata": {
    "collapsed": false
   },
   "outputs": [
    {
     "data": {
      "text/plain": [
       "array([10,  8,  6,  4,  2])"
      ]
     },
     "execution_count": 48,
     "metadata": {},
     "output_type": "execute_result"
    }
   ],
   "source": [
    "x[10:0:-2]  # reversed"
   ]
  },
  {
   "cell_type": "markdown",
   "metadata": {},
   "source": [
    "This sort of indexing does not make a copy:"
   ]
  },
  {
   "cell_type": "code",
   "execution_count": 49,
   "metadata": {
    "collapsed": false
   },
   "outputs": [
    {
     "data": {
      "text/plain": [
       "array([100,   2,   4,   6,   8])"
      ]
     },
     "execution_count": 49,
     "metadata": {},
     "output_type": "execute_result"
    }
   ],
   "source": [
    "y = x[0:10:2]\n",
    "y[0] = 100.  # modify y\n",
    "y"
   ]
  },
  {
   "cell_type": "code",
   "execution_count": 50,
   "metadata": {
    "collapsed": false
   },
   "outputs": [
    {
     "data": {
      "text/plain": [
       "array([100,   1,   2,   3,   4,   5,   6,   7,   8,   9,  10,  11,  12,\n",
       "        13,  14])"
      ]
     },
     "execution_count": 50,
     "metadata": {},
     "output_type": "execute_result"
    }
   ],
   "source": [
    "# x is modified:\n",
    "x"
   ]
  },
  {
   "cell_type": "markdown",
   "metadata": {},
   "source": [
    "#### Indexing with indicies"
   ]
  },
  {
   "cell_type": "code",
   "execution_count": 51,
   "metadata": {
    "collapsed": false
   },
   "outputs": [
    {
     "data": {
      "text/plain": [
       "array([1, 2, 4])"
      ]
     },
     "execution_count": 51,
     "metadata": {},
     "output_type": "execute_result"
    }
   ],
   "source": [
    "x = np.arange(15)\n",
    "y = x[[1, 2, 4]]\n",
    "y"
   ]
  },
  {
   "cell_type": "code",
   "execution_count": 52,
   "metadata": {
    "collapsed": false
   },
   "outputs": [
    {
     "data": {
      "text/plain": [
       "array([100,   2,   4])"
      ]
     },
     "execution_count": 52,
     "metadata": {},
     "output_type": "execute_result"
    }
   ],
   "source": [
    "y[0] = 100\n",
    "y"
   ]
  },
  {
   "cell_type": "code",
   "execution_count": 53,
   "metadata": {
    "collapsed": false
   },
   "outputs": [
    {
     "data": {
      "text/plain": [
       "array([ 0,  1,  2,  3,  4,  5,  6,  7,  8,  9, 10, 11, 12, 13, 14])"
      ]
     },
     "execution_count": 53,
     "metadata": {},
     "output_type": "execute_result"
    }
   ],
   "source": [
    "# x is not modified\n",
    "x"
   ]
  },
  {
   "cell_type": "markdown",
   "metadata": {},
   "source": [
    "#### Indexing with booleans"
   ]
  },
  {
   "cell_type": "code",
   "execution_count": 54,
   "metadata": {
    "collapsed": false
   },
   "outputs": [
    {
     "data": {
      "text/plain": [
       "array([0, 1, 2, 3, 4])"
      ]
     },
     "execution_count": 54,
     "metadata": {},
     "output_type": "execute_result"
    }
   ],
   "source": [
    "x = np.arange(5)\n",
    "x"
   ]
  },
  {
   "cell_type": "code",
   "execution_count": 55,
   "metadata": {
    "collapsed": false
   },
   "outputs": [
    {
     "data": {
      "text/plain": [
       "array([0, 1, 3])"
      ]
     },
     "execution_count": 55,
     "metadata": {},
     "output_type": "execute_result"
    }
   ],
   "source": [
    "mask = np.array([True, True, False, True, False])\n",
    "x[mask]"
   ]
  },
  {
   "cell_type": "code",
   "execution_count": 56,
   "metadata": {
    "collapsed": false
   },
   "outputs": [
    {
     "name": "stdout",
     "output_type": "stream",
     "text": [
      "[100   1   3]\n",
      "[0 1 2 3 4]\n"
     ]
    }
   ],
   "source": [
    "# creates a copy\n",
    "y = x[mask]\n",
    "y[0] = 100.\n",
    "print(y)\n",
    "print(x)"
   ]
  },
  {
   "cell_type": "markdown",
   "metadata": {},
   "source": [
    "*How do you remember which type of indexing creates a copy?*\n",
    "\n",
    "NumPy arrays are stored as a chunk of data and a set of strides in each dimension.\n",
    "Boolean and arbitrary indicies cannot be represented this way, so numpy must make a copy."
   ]
  },
  {
   "cell_type": "markdown",
   "metadata": {},
   "source": [
    "#### More on masking\n",
    "\n",
    "All indexing operations also work in assigning to an array. Here we demonstrate assignment with booleans.\n",
    "\n",
    "For example, imagine you have an array of data where negative values indicate some kind of error."
   ]
  },
  {
   "cell_type": "code",
   "execution_count": 57,
   "metadata": {
    "collapsed": true
   },
   "outputs": [],
   "source": [
    "x = np.array([1, 2, 3, -999, 2, 4, -999])"
   ]
  },
  {
   "cell_type": "markdown",
   "metadata": {},
   "source": [
    "How might you clean this array, setting all negative values to, say, zero?"
   ]
  },
  {
   "cell_type": "code",
   "execution_count": 58,
   "metadata": {
    "collapsed": false
   },
   "outputs": [
    {
     "data": {
      "text/plain": [
       "array([1, 2, 3, 0, 2, 4, 0])"
      ]
     },
     "execution_count": 58,
     "metadata": {},
     "output_type": "execute_result"
    }
   ],
   "source": [
    "for i in range(len(x)):\n",
    "    if x[i] < 0:\n",
    "        x[i] = 0\n",
    "x"
   ]
  },
  {
   "cell_type": "code",
   "execution_count": 59,
   "metadata": {
    "collapsed": false
   },
   "outputs": [
    {
     "data": {
      "text/plain": [
       "array([False, False, False,  True, False, False,  True], dtype=bool)"
      ]
     },
     "execution_count": 59,
     "metadata": {},
     "output_type": "execute_result"
    }
   ],
   "source": [
    "x = np.array([1, 2, 3, -999, 2, 4, -999])\n",
    "\n",
    "mask = (x < 0)\n",
    "mask"
   ]
  },
  {
   "cell_type": "markdown",
   "metadata": {},
   "source": [
    "And the mask can be used directly to set the value you desire:"
   ]
  },
  {
   "cell_type": "code",
   "execution_count": 60,
   "metadata": {
    "collapsed": false
   },
   "outputs": [
    {
     "data": {
      "text/plain": [
       "array([1, 2, 3, 0, 2, 4, 0])"
      ]
     },
     "execution_count": 60,
     "metadata": {},
     "output_type": "execute_result"
    }
   ],
   "source": [
    "x[mask] = 0\n",
    "x"
   ]
  },
  {
   "cell_type": "markdown",
   "metadata": {},
   "source": [
    "Often you'll see this done in a separate step:"
   ]
  },
  {
   "cell_type": "code",
   "execution_count": 62,
   "metadata": {
    "collapsed": false
   },
   "outputs": [
    {
     "data": {
      "text/plain": [
       "array([1, 2, 3, 0, 2, 4, 0])"
      ]
     },
     "execution_count": 62,
     "metadata": {},
     "output_type": "execute_result"
    }
   ],
   "source": [
    "x = np.array([1, 2, 3, -999, 2, 4, -999])\n",
    "x[x < 0] = 0\n",
    "x"
   ]
  },
  {
   "cell_type": "code",
   "execution_count": 68,
   "metadata": {
    "collapsed": false
   },
   "outputs": [
    {
     "data": {
      "text/plain": [
       "array([   0,    0,    0, -999,    0,    0, -999])"
      ]
     },
     "execution_count": 68,
     "metadata": {},
     "output_type": "execute_result"
    }
   ],
   "source": [
    "# additional boolean operations: invert\n",
    "x = np.array([1, 2, 3, -999, 2, 4, -999])\n",
    "x[~(x < 0)] = 0\n",
    "x\n"
   ]
  },
  {
   "cell_type": "code",
   "execution_count": 71,
   "metadata": {
    "collapsed": false
   },
   "outputs": [
    {
     "data": {
      "text/plain": [
       "array([1, 2, 3, 0, 2, 0, 0])"
      ]
     },
     "execution_count": 71,
     "metadata": {},
     "output_type": "execute_result"
    }
   ],
   "source": [
    "x = np.array([1, 2, 3, -999, 2, 4, -999])\n",
    "x[(x < 0) | (x > 3)] = 0\n",
    "x"
   ]
  },
  {
   "cell_type": "markdown",
   "metadata": {},
   "source": [
    "## Broadcasting"
   ]
  },
  {
   "cell_type": "code",
   "execution_count": 72,
   "metadata": {
    "collapsed": false
   },
   "outputs": [
    {
     "data": {
      "text/plain": [
       "array([0, 1, 2, 3])"
      ]
     },
     "execution_count": 72,
     "metadata": {},
     "output_type": "execute_result"
    }
   ],
   "source": [
    "x = np.arange(4)\n",
    "x"
   ]
  },
  {
   "cell_type": "code",
   "execution_count": 73,
   "metadata": {
    "collapsed": false
   },
   "outputs": [
    {
     "data": {
      "text/plain": [
       "array([3, 4, 5, 6])"
      ]
     },
     "execution_count": 73,
     "metadata": {},
     "output_type": "execute_result"
    }
   ],
   "source": [
    "x + 3"
   ]
  },
  {
   "cell_type": "markdown",
   "metadata": {},
   "source": [
    "![broadcasting 1d](images/broadcast_1D.png)"
   ]
  },
  {
   "cell_type": "code",
   "execution_count": 74,
   "metadata": {
    "collapsed": false
   },
   "outputs": [
    {
     "name": "stdout",
     "output_type": "stream",
     "text": [
      "x shape: (4, 3)\n",
      "y shape:    (3,)\n"
     ]
    }
   ],
   "source": [
    "x = np.array([[0,  0,  0],\n",
    "              [10, 10, 10],\n",
    "              [20, 20, 20],\n",
    "              [30, 30, 30]])\n",
    "y = np.array([0, 1, 2])\n",
    "print(\"x shape:\", x.shape)\n",
    "print(\"y shape:   \", y.shape)"
   ]
  },
  {
   "cell_type": "code",
   "execution_count": 75,
   "metadata": {
    "collapsed": false
   },
   "outputs": [
    {
     "data": {
      "text/plain": [
       "array([[ 0,  1,  2],\n",
       "       [10, 11, 12],\n",
       "       [20, 21, 22],\n",
       "       [30, 31, 32]])"
      ]
     },
     "execution_count": 75,
     "metadata": {},
     "output_type": "execute_result"
    }
   ],
   "source": [
    "# If x and y are different dimensions, shape is padded on left with 1s\n",
    "# before broadcasting.\n",
    "x + y"
   ]
  },
  {
   "cell_type": "markdown",
   "metadata": {},
   "source": [
    "![numpy broadcasting](images/numpy_broadcasting.svg)"
   ]
  },
  {
   "cell_type": "code",
   "execution_count": 76,
   "metadata": {
    "collapsed": false
   },
   "outputs": [
    {
     "name": "stdout",
     "output_type": "stream",
     "text": [
      "x shape: (4, 1)\n",
      "y shape:    (3,)\n"
     ]
    }
   ],
   "source": [
    "x = np.array([[0],\n",
    "              [10],\n",
    "              [20],\n",
    "              [30]])\n",
    "y = np.array([0, 1, 2])\n",
    "print(\"x shape:\", x.shape)\n",
    "print(\"y shape:   \", y.shape)"
   ]
  },
  {
   "cell_type": "code",
   "execution_count": 81,
   "metadata": {
    "collapsed": false
   },
   "outputs": [
    {
     "data": {
      "text/plain": [
       "array([[ 0,  1,  2],\n",
       "       [10, 11, 12],\n",
       "       [20, 21, 22],\n",
       "       [30, 31, 32]])"
      ]
     },
     "execution_count": 81,
     "metadata": {},
     "output_type": "execute_result"
    }
   ],
   "source": [
    "x + y"
   ]
  },
  {
   "cell_type": "markdown",
   "metadata": {},
   "source": [
    "**Broadcasting rules:**\n",
    "\n",
    "1. If the two arrays differ in their number of dimensions, the shape of the array with fewer dimensions is *padded* with ones on its leading (left) side.\n",
    "\n",
    "2. If the shape of the two arrays does not match in any dimension, the array with shape equal to 1 in that dimension is *stretched* to match the other shape.\n",
    "\n",
    "3. If in any dimension the sizes disagree and neither is equal to 1, an error is raised."
   ]
  },
  {
   "cell_type": "markdown",
   "metadata": {},
   "source": [
    "## Mini exercises"
   ]
  },
  {
   "cell_type": "markdown",
   "metadata": {},
   "source": [
    "Assume you have $N$ points in $D$ dimensions, represented by an array of shape `(N, D)`, where there are some mising values scattered throughout the points.\n",
    "\n",
    "1. Count the number of points (rows) with no missing values, using `np.any` or `np.all`.\n",
    "\n",
    "2. Clean the array of the points with missing values.\n",
    "\n",
    "3. Construct the matrix ``M``, the centered and normalized version of the ``X`` array: $$ M_{ij} = (X_{ij} - \\mu_j) / \\sigma_j $$ using `np.mean` and `np.std`.  This is one version of *whitening* the array."
   ]
  },
  {
   "cell_type": "code",
   "execution_count": 83,
   "metadata": {
    "collapsed": true
   },
   "outputs": [],
   "source": [
    "np.random.seed(0)\n",
    "X = np.random.rand(5000)\n",
    "X[np.random.randint(0, 5000, size=500)] = np.nan  # ~10% missing\n",
    "X = X.reshape((1000, 5))  # 1000 points in 5 dimensions"
   ]
  },
  {
   "cell_type": "code",
   "execution_count": 112,
   "metadata": {
    "collapsed": false
   },
   "outputs": [
    {
     "data": {
      "text/plain": [
       "612"
      ]
     },
     "execution_count": 112,
     "metadata": {},
     "output_type": "execute_result"
    }
   ],
   "source": [
    "# 1. Compute the number of points (rows) with no missing values, using `np.any` or `np.all`.\n",
    "mask = np.all(~np.isnan(X), axis=1)\n",
    "mask.sum()"
   ]
  },
  {
   "cell_type": "code",
   "execution_count": 96,
   "metadata": {
    "collapsed": false
   },
   "outputs": [
    {
     "data": {
      "text/plain": [
       "(612, 5)"
      ]
     },
     "execution_count": 96,
     "metadata": {},
     "output_type": "execute_result"
    }
   ],
   "source": [
    "# 2. Clean the array, leaving only rows with no missing values\n",
    "Y = X[mask]\n",
    "Y.shape"
   ]
  },
  {
   "cell_type": "code",
   "execution_count": 99,
   "metadata": {
    "collapsed": false
   },
   "outputs": [
    {
     "data": {
      "text/plain": [
       "array([[ 1.06529173,  0.09242815,  0.28895283,  1.37495433, -1.51438865],\n",
       "       [-1.41794214, -1.64994524,  1.22435157,  0.88599369,  1.20944498],\n",
       "       [ 0.53028299, -1.22817041,  1.62049802,  0.03598805, -0.34291462],\n",
       "       ..., \n",
       "       [ 1.53325011,  0.58772122, -0.90299997,  1.0223077 , -0.32292258],\n",
       "       [-1.03929087, -0.96220483, -0.88700535, -1.18773479,  0.60570199],\n",
       "       [-0.95616059, -0.91269895, -1.02149246, -0.37245591,  1.51143122]])"
      ]
     },
     "execution_count": 99,
     "metadata": {},
     "output_type": "execute_result"
    }
   ],
   "source": [
    "# 3. Compute the whitened version of the array using np.mean and np.std.\n",
    "(Y - np.mean(Y, axis=0)) / np.std(Y, axis=0)"
   ]
  },
  {
   "cell_type": "markdown",
   "metadata": {},
   "source": [
    "## What else is in NumPy?\n",
    "\n",
    "- `numpy.random`: Random number generation\n",
    "- `numpy.linalg`: Some linear algebra routines\n",
    "- `numpy.fft`: Fast Fourier Transform"
   ]
  },
  {
   "cell_type": "code",
   "execution_count": null,
   "metadata": {
    "collapsed": false,
    "scrolled": false
   },
   "outputs": [],
   "source": [
    "print(np.random.__doc__)"
   ]
  },
  {
   "cell_type": "markdown",
   "metadata": {},
   "source": [
    "# SciPy\n",
    "\n",
    "Interestingly, scipy predates numpy by more than half a decade (circa 1999), even though it is built on top of numpy.\n",
    "\n",
    "Originally \"scipack\", a collection of wrappers for Fortran NetLib libraries."
   ]
  },
  {
   "cell_type": "code",
   "execution_count": 101,
   "metadata": {
    "collapsed": false
   },
   "outputs": [
    {
     "name": "stdout",
     "output_type": "stream",
     "text": [
      "\n",
      "SciPy: A scientific computing package for Python\n",
      "================================================\n",
      "\n",
      "Documentation is available in the docstrings and\n",
      "online at http://docs.scipy.org.\n",
      "\n",
      "Contents\n",
      "--------\n",
      "SciPy imports all the functions from the NumPy namespace, and in\n",
      "addition provides:\n",
      "\n",
      "Subpackages\n",
      "-----------\n",
      "Using any of these subpackages requires an explicit import.  For example,\n",
      "``import scipy.cluster``.\n",
      "\n",
      "::\n",
      "\n",
      " cluster                      --- Vector Quantization / Kmeans\n",
      " fftpack                      --- Discrete Fourier Transform algorithms\n",
      " integrate                    --- Integration routines\n",
      " interpolate                  --- Interpolation Tools\n",
      " io                           --- Data input and output\n",
      " linalg                       --- Linear algebra routines\n",
      " linalg.blas                  --- Wrappers to BLAS library\n",
      " linalg.lapack                --- Wrappers to LAPACK library\n",
      " misc                         --- Various utilities that don't have\n",
      "                                  another home.\n",
      " ndimage                      --- n-dimensional image package\n",
      " odr                          --- Orthogonal Distance Regression\n",
      " optimize                     --- Optimization Tools\n",
      " signal                       --- Signal Processing Tools\n",
      " sparse                       --- Sparse Matrices\n",
      " sparse.linalg                --- Sparse Linear Algebra\n",
      " sparse.linalg.dsolve         --- Linear Solvers\n",
      " sparse.linalg.dsolve.umfpack --- :Interface to the UMFPACK library:\n",
      "                                  Conjugate Gradient Method (LOBPCG)\n",
      " sparse.linalg.eigen          --- Sparse Eigenvalue Solvers\n",
      " sparse.linalg.eigen.lobpcg   --- Locally Optimal Block Preconditioned\n",
      "                                  Conjugate Gradient Method (LOBPCG)\n",
      " spatial                      --- Spatial data structures and algorithms\n",
      " special                      --- Special functions\n",
      " stats                        --- Statistical Functions\n",
      "\n",
      "Utility tools\n",
      "-------------\n",
      "::\n",
      "\n",
      " test              --- Run scipy unittests\n",
      " show_config       --- Show scipy build configuration\n",
      " show_numpy_config --- Show numpy build configuration\n",
      " __version__       --- Scipy version string\n",
      " __numpy_version__ --- Numpy version string\n",
      "\n",
      "\n"
     ]
    }
   ],
   "source": [
    "# contents of scipy:\n",
    "import scipy\n",
    "print(scipy.__doc__)"
   ]
  },
  {
   "cell_type": "markdown",
   "metadata": {},
   "source": [
    "Note the overlap:\n",
    "\n",
    "- `numpy.fft` / `scipy.fft`\n",
    "- `numpy.linalg` / `scipy.linalg`\n",
    "\n",
    "Why the duplication? The scipy routines are based on Fortran libraries, whereas numpy is C-only."
   ]
  },
  {
   "cell_type": "markdown",
   "metadata": {},
   "source": [
    "# AstroPy\n",
    "\n",
    "Project started in 2011, in response to increasing duplication in Python astronomy ecosystem.\n",
    "\n",
    "Initially brought together several existing Python packages:\n",
    "\n",
    "- `astropy.io.fits` (formerly `pyfits`)\n",
    "- `astropy.io.ascii` (formerly `asciitable`)\n",
    "- `astropy.wcs` (formerly `pywcs`)\n",
    "- `astropy.cosmology` (formerly `cosmolopy`)\n",
    "\n",
    "Now also contains:\n",
    "\n",
    "- `astropy.table` (Table class and table operations)\n",
    "- `astropy.units` (Quantity: arrays with units)\n",
    "- `astropy.coordinates` (astronomical coordinate systems)\n",
    "- `astropy.time` (UTC, UT, MJD, etc)\n",
    "- `astropy.stats` (additional stats not in scipy)\n",
    "- `astropy.modeling` (simple model fitting)\n",
    "- `astropy.vo` (virtual observatory)\n",
    "- `astropy.io.votable`\n",
    "- `astropy.analytic_functions`"
   ]
  },
  {
   "cell_type": "markdown",
   "metadata": {},
   "source": [
    "## Example: Coordinates"
   ]
  },
  {
   "cell_type": "code",
   "execution_count": 102,
   "metadata": {
    "collapsed": false
   },
   "outputs": [
    {
     "name": "stderr",
     "output_type": "stream",
     "text": [
      "/home/kyle/.conda/lib/python3.4/site-packages/IPython/kernel/__init__.py:13: ShimWarning: The `IPython.kernel` package has been deprecated. You should import from ipykernel or jupyter_client instead.\n",
      "  \"You should import from ipykernel or jupyter_client instead.\", ShimWarning)\n"
     ]
    }
   ],
   "source": [
    "from astropy import coordinates as coords\n",
    "from astropy import units as u"
   ]
  },
  {
   "cell_type": "code",
   "execution_count": 103,
   "metadata": {
    "collapsed": false
   },
   "outputs": [
    {
     "name": "stdout",
     "output_type": "stream",
     "text": [
      "RA: [  22.26271521  183.12057268  245.43571113  135.14011884   46.60902808] ...\n",
      "Dec: [  0.84336721  71.28940527  67.98133383 -57.76496669  62.82170868] ...\n"
     ]
    }
   ],
   "source": [
    "ra = 360. * np.random.rand(100)\n",
    "dec = -90. + 180. * np.random.rand(100)\n",
    "print(\"RA:\", ra[:5], \"...\")\n",
    "print(\"Dec:\", dec[:5], \"...\")"
   ]
  },
  {
   "cell_type": "code",
   "execution_count": 104,
   "metadata": {
    "collapsed": false
   },
   "outputs": [
    {
     "data": {
      "text/plain": [
       "<SkyCoord (ICRS): (ra, dec) in deg\n",
       "    [(22.26271521, 0.84336721), (183.12057268, 71.28940527),\n",
       "     (245.43571113, 67.98133383), (135.14011884, -57.76496669),\n",
       "     (46.60902808, 62.82170868), (5.5463205, 1.75300981),\n",
       "     (139.22724099, -70.89876917), (267.38584817, -33.93293061),\n",
       "     (356.59862418, 33.6502332), (166.70614453, 70.81810387),\n",
       "     (106.17018389, -70.4970478), (124.80006278, 19.73757575),\n",
       "     (33.09518851, 32.06320665), (162.04076361, -40.28813887),\n",
       "     (225.7663043, 46.19530728), (224.48786841, -71.40090351),\n",
       "     (4.5968499, -46.85816015), (228.14350723, -89.91162652),\n",
       "     (239.64711432, 0.49282502), (180.72883022, -42.58152806),\n",
       "     (340.15654779, -75.94785495), (92.8961079, 68.55866164),\n",
       "     (306.68972711, -54.24030273), (62.71976297, 12.11756194),\n",
       "     (94.30386281, -41.13622255), (73.76355903, 17.54992362),\n",
       "     (318.71501869, 27.77339407), (285.66924461, 40.60643253),\n",
       "     (162.17415904, -36.76930584), (136.08830588, -81.49407869),\n",
       "     (4.64446431, 64.30889663), (252.69825187, 84.47288164),\n",
       "     (347.3777251, 69.52044938), (280.2669565, -75.13019124),\n",
       "     (83.90758544, 51.32451507), (95.22073131, -2.51937637),\n",
       "     (152.20903157, 23.78184064), (146.78340593, 20.10874512),\n",
       "     (83.64156533, 6.30563222), (284.98240361, 31.51402911),\n",
       "     (282.99085196, 20.93785713), (254.32950052, 13.83134106),\n",
       "     (1.78581656, -64.29158404), (330.25618742, 65.68874076),\n",
       "     (121.52091784, 45.62917606), (10.37475192, 83.58645599),\n",
       "     (229.47085232, 52.51374062), (265.53574626, 14.85382878),\n",
       "     (241.54596526, 75.0901592), (140.72984933, 27.76728755),\n",
       "     (310.01976019, -34.17665585), (128.34306374, -58.40938547),\n",
       "     (193.77297, 18.77540026), (331.83235418, 42.51134429),\n",
       "     (262.04231582, 58.34918428), (34.08059625, -38.6481709),\n",
       "     (279.76991069, 72.36002549), (324.60875408, 14.03482972),\n",
       "     (297.13978196, 40.15674984), (171.63550278, 55.46390996),\n",
       "     (297.05320486, 77.63075714), (27.22647275, -37.80173752),\n",
       "     (91.52158026, -19.35600865), (312.07208258, 71.99411499),\n",
       "     (14.89961203, 60.20570492), (143.2994469, -18.15547608),\n",
       "     (309.76915887, -5.87911215), (160.50771678, 39.08657269),\n",
       "     (30.46347675, -78.9750637), (165.28050836, -23.8826492),\n",
       "     (263.59773577, -52.87856396), (113.90111071, 3.38313306),\n",
       "     (326.35113069, 48.97843671), (338.68670438, -66.61352401),\n",
       "     (60.39560909, 87.61220229), (33.61911774, -5.91989213),\n",
       "     (107.7684492, 49.14300366), (168.85535304, -26.56505755),\n",
       "     (56.52506585, -2.13537993), (86.96459271, 83.6755635),\n",
       "     (335.98755118, 34.24718827), (257.35680774, -85.38242037),\n",
       "     (215.26055807, -48.24321599), (254.8640582, -43.33306374),\n",
       "     (0.98131284, 82.60324643), (52.3876921, 48.5223606),\n",
       "     (249.03008076, 32.15351108), (257.38865925, -77.46286704),\n",
       "     (307.07025181, 54.68661457), (210.79808225, -57.29881293),\n",
       "     (200.61001583, -63.21951458), (143.14958607, 66.39298266),\n",
       "     (293.96018895, -89.09331409), (306.72829877, -78.60962086),\n",
       "     (162.57346671, 75.493078), (135.21343018, -44.72002254),\n",
       "     (18.14583323, 49.38088939), (285.14756737, 28.29117374),\n",
       "     (242.30053801, -69.79817479), (158.11270946, 53.0872026)]>"
      ]
     },
     "execution_count": 104,
     "metadata": {},
     "output_type": "execute_result"
    }
   ],
   "source": [
    "c = coords.SkyCoord(ra, dec, unit=(u.deg, u.deg))\n",
    "c"
   ]
  },
  {
   "cell_type": "code",
   "execution_count": 105,
   "metadata": {
    "collapsed": false
   },
   "outputs": [
    {
     "data": {
      "text/plain": [
       "<SkyCoord (Galactic): (l, b) in deg\n",
       "    [(142.37028781, -60.60101337), (127.37230118, 45.50149802),\n",
       "     (100.49884144, 38.71850453), (275.87053715, -7.5951703),\n",
       "     (137.6665351, 3.87813007), (108.06497461, -60.27162952),\n",
       "     (287.10403859, -14.9623307), (356.15234471, -3.29831988),\n",
       "     (107.72578741, -27.29362883), (134.52292868, 43.88003306),\n",
       "     (281.46855763, -24.37217664), (203.80955011, 27.83935091),\n",
       "     (142.27463499, -27.75021987), (278.84553583, 16.74828645),\n",
       "     (78.02777848, 57.8109045), (312.74161612, -10.9804884),\n",
       "     (319.01590877, -69.22446783), (302.98924546, -27.05610163),\n",
       "     (10.25291144, 37.82692152), (293.49026089, 19.39890292),\n",
       "     (312.59812132, -38.62184719), (145.71418151, 21.60079545),\n",
       "     (343.95068476, -35.46134659), (180.53815112, -27.72519608),\n",
       "     (248.59233783, -23.55871339), (182.99565049, -15.97021682),\n",
       "     (75.16627147, -14.40484285), (71.10929272, 15.2873244),\n",
       "     (277.16460109, 19.88635456), (295.2489923, -22.26134368),\n",
       "     (119.37897502, 1.66406845), (117.42508474, 29.79729391),\n",
       "     (114.18005303, 8.3993656), (319.43162298, -25.4918569),\n",
       "     (159.8258784, 10.0995378), (211.69193909, -7.9455871),\n",
       "     (208.87177497, 53.29988496), (212.17417162, 47.43588807),\n",
       "     (198.19156249, -13.95124905), (62.30981967, 12.13642734),\n",
       "     (51.79074719, 9.26739816), (33.01879165, 31.45029927),\n",
       "     (310.73787241, -52.16014571), (106.57051623, 8.3867858),\n",
       "     (174.05492536, 31.67449869), (122.63526923, 20.720434),\n",
       "     (86.03553116, 52.80489599), (38.92746275, 21.90380285),\n",
       "     (109.06000508, 36.28540938), (199.49015343, 44.09616228),\n",
       "     (8.93071087, -36.31700832), (274.15184992, -10.82569324),\n",
       "     (308.86627869, 81.60501453), (93.42409172, -10.7659707),\n",
       "     (86.83008336, 33.6509553), (251.30642995, -68.86325801),\n",
       "     (103.13637159, 26.68461494), (68.12213634, -27.6679297),\n",
       "     (74.63146094, 7.25424395), (145.56809294, 57.77485968),\n",
       "     (109.84415954, 23.4939854), (257.9934367, -73.88500449),\n",
       "     (225.74535602, -18.43370669), (106.50634039, 17.42065631),\n",
       "     (123.94656633, -2.64996479), (250.60303651, 23.98314356),\n",
       "     (40.26328397, -26.57592625), (180.67510179, 60.58335906),\n",
       "     (298.74705856, -37.57473158), (272.81858615, 32.45962212),\n",
       "     (338.37443145, -10.74260514), (214.95784695, 11.36533281),\n",
       "     (94.4446611, -3.32554999), (321.41139411, -45.29973077),\n",
       "     (124.88338323, 25.50276295), (169.6250365, -61.02098579),\n",
       "     (168.11543601, 23.24739239), (277.65622699, 31.55142316),\n",
       "     (189.68011317, -41.32615602), (129.65816277, 25.23667075),\n",
       "     (91.20966037, -19.3851468), (307.53285974, -25.06558446),\n",
       "     (317.96983218, 11.99492145), (342.89465867, -0.51816913),\n",
       "     (121.31723339, 19.88090491), (148.03593022, -6.49003792),\n",
       "     (53.12910329, 41.46421685), (315.06803174, -21.22484069),\n",
       "     (90.64339893, 9.27123397), (312.53678562, 4.22874672),\n",
       "     (306.41578296, -0.55766695), (146.58474094, 40.41331607),\n",
       "     (303.93317115, -27.29926864), (315.12198596, -31.20660739),\n",
       "     (132.33334152, 39.34275309), (266.03776428, 1.00670149),\n",
       "     (126.46623087, -13.34569525), (59.38841784, 10.65104759),\n",
       "     (318.56417117, -13.18478465), (158.05947175, 53.49363349)]>"
      ]
     },
     "execution_count": 105,
     "metadata": {},
     "output_type": "execute_result"
    }
   ],
   "source": [
    "# convert to galactic\n",
    "g = c.galactic\n",
    "g"
   ]
  },
  {
   "cell_type": "code",
   "execution_count": 106,
   "metadata": {
    "collapsed": false
   },
   "outputs": [
    {
     "data": {
      "text/latex": [
       "[$142^\\circ22{}^\\prime13.0361{}^{\\prime\\prime}$\n",
       " $127^\\circ22{}^\\prime20.2843{}^{\\prime\\prime}$\n",
       " $100^\\circ29{}^\\prime55.8292{}^{\\prime\\prime}$\n",
       " $275^\\circ52{}^\\prime13.9337{}^{\\prime\\prime}$\n",
       " $137^\\circ39{}^\\prime59.5263{}^{\\prime\\prime}$\n",
       " $108^\\circ03{}^\\prime53.9086{}^{\\prime\\prime}$\n",
       " $287^\\circ06{}^\\prime14.5389{}^{\\prime\\prime}$\n",
       " $356^\\circ09{}^\\prime08.441{}^{\\prime\\prime}$\n",
       " $107^\\circ43{}^\\prime32.8347{}^{\\prime\\prime}$\n",
       " $134^\\circ31{}^\\prime22.5432{}^{\\prime\\prime}$\n",
       " $281^\\circ28{}^\\prime06.8075{}^{\\prime\\prime}$\n",
       " $203^\\circ48{}^\\prime34.3804{}^{\\prime\\prime}$\n",
       " $142^\\circ16{}^\\prime28.686{}^{\\prime\\prime}$\n",
       " $278^\\circ50{}^\\prime43.929{}^{\\prime\\prime}$\n",
       " $78^\\circ01{}^\\prime40.0025{}^{\\prime\\prime}$\n",
       " $312^\\circ44{}^\\prime29.818{}^{\\prime\\prime}$\n",
       " $319^\\circ00{}^\\prime57.2716{}^{\\prime\\prime}$\n",
       " $302^\\circ59{}^\\prime21.2837{}^{\\prime\\prime}$\n",
       " $10^\\circ15{}^\\prime10.4812{}^{\\prime\\prime}$\n",
       " $293^\\circ29{}^\\prime24.9392{}^{\\prime\\prime}$\n",
       " $312^\\circ35{}^\\prime53.2368{}^{\\prime\\prime}$\n",
       " $145^\\circ42{}^\\prime51.0534{}^{\\prime\\prime}$\n",
       " $343^\\circ57{}^\\prime02.4651{}^{\\prime\\prime}$\n",
       " $180^\\circ32{}^\\prime17.344{}^{\\prime\\prime}$\n",
       " $248^\\circ35{}^\\prime32.4162{}^{\\prime\\prime}$\n",
       " $182^\\circ59{}^\\prime44.3418{}^{\\prime\\prime}$\n",
       " $75^\\circ09{}^\\prime58.5773{}^{\\prime\\prime}$\n",
       " $71^\\circ06{}^\\prime33.4538{}^{\\prime\\prime}$\n",
       " $277^\\circ09{}^\\prime52.5639{}^{\\prime\\prime}$\n",
       " $295^\\circ14{}^\\prime56.3723{}^{\\prime\\prime}$\n",
       " $119^\\circ22{}^\\prime44.3101{}^{\\prime\\prime}$\n",
       " $117^\\circ25{}^\\prime30.3051{}^{\\prime\\prime}$\n",
       " $114^\\circ10{}^\\prime48.1909{}^{\\prime\\prime}$\n",
       " $319^\\circ25{}^\\prime53.8427{}^{\\prime\\prime}$\n",
       " $159^\\circ49{}^\\prime33.1623{}^{\\prime\\prime}$\n",
       " $211^\\circ41{}^\\prime30.9807{}^{\\prime\\prime}$\n",
       " $208^\\circ52{}^\\prime18.3899{}^{\\prime\\prime}$\n",
       " $212^\\circ10{}^\\prime27.0178{}^{\\prime\\prime}$\n",
       " $198^\\circ11{}^\\prime29.625{}^{\\prime\\prime}$\n",
       " $62^\\circ18{}^\\prime35.3508{}^{\\prime\\prime}$\n",
       " $51^\\circ47{}^\\prime26.6899{}^{\\prime\\prime}$\n",
       " $33^\\circ01{}^\\prime07.6499{}^{\\prime\\prime}$\n",
       " $310^\\circ44{}^\\prime16.3407{}^{\\prime\\prime}$\n",
       " $106^\\circ34{}^\\prime13.8584{}^{\\prime\\prime}$\n",
       " $174^\\circ03{}^\\prime17.7313{}^{\\prime\\prime}$\n",
       " $122^\\circ38{}^\\prime06.9692{}^{\\prime\\prime}$\n",
       " $86^\\circ02{}^\\prime07.9122{}^{\\prime\\prime}$\n",
       " $38^\\circ55{}^\\prime38.8659{}^{\\prime\\prime}$\n",
       " $109^\\circ03{}^\\prime36.0183{}^{\\prime\\prime}$\n",
       " $199^\\circ29{}^\\prime24.5523{}^{\\prime\\prime}$\n",
       " $8^\\circ55{}^\\prime50.5591{}^{\\prime\\prime}$\n",
       " $274^\\circ09{}^\\prime06.6597{}^{\\prime\\prime}$\n",
       " $308^\\circ51{}^\\prime58.6033{}^{\\prime\\prime}$\n",
       " $93^\\circ25{}^\\prime26.7302{}^{\\prime\\prime}$\n",
       " $86^\\circ49{}^\\prime48.3001{}^{\\prime\\prime}$\n",
       " $251^\\circ18{}^\\prime23.1478{}^{\\prime\\prime}$\n",
       " $103^\\circ08{}^\\prime10.9377{}^{\\prime\\prime}$\n",
       " $68^\\circ07{}^\\prime19.6908{}^{\\prime\\prime}$\n",
       " $74^\\circ37{}^\\prime53.2594{}^{\\prime\\prime}$\n",
       " $145^\\circ34{}^\\prime05.1346{}^{\\prime\\prime}$\n",
       " $109^\\circ50{}^\\prime38.9743{}^{\\prime\\prime}$\n",
       " $257^\\circ59{}^\\prime36.3721{}^{\\prime\\prime}$\n",
       " $225^\\circ44{}^\\prime43.2817{}^{\\prime\\prime}$\n",
       " $106^\\circ30{}^\\prime22.8254{}^{\\prime\\prime}$\n",
       " $123^\\circ56{}^\\prime47.6388{}^{\\prime\\prime}$\n",
       " $250^\\circ36{}^\\prime10.9314{}^{\\prime\\prime}$\n",
       " $40^\\circ15{}^\\prime47.8223{}^{\\prime\\prime}$\n",
       " $180^\\circ40{}^\\prime30.3665{}^{\\prime\\prime}$\n",
       " $298^\\circ44{}^\\prime49.4108{}^{\\prime\\prime}$\n",
       " $272^\\circ49{}^\\prime06.9101{}^{\\prime\\prime}$\n",
       " $338^\\circ22{}^\\prime27.9532{}^{\\prime\\prime}$\n",
       " $214^\\circ57{}^\\prime28.249{}^{\\prime\\prime}$\n",
       " $94^\\circ26{}^\\prime40.78{}^{\\prime\\prime}$\n",
       " $321^\\circ24{}^\\prime41.0188{}^{\\prime\\prime}$\n",
       " $124^\\circ53{}^\\prime00.1796{}^{\\prime\\prime}$\n",
       " $169^\\circ37{}^\\prime30.1314{}^{\\prime\\prime}$\n",
       " $168^\\circ06{}^\\prime55.5697{}^{\\prime\\prime}$\n",
       " $277^\\circ39{}^\\prime22.4172{}^{\\prime\\prime}$\n",
       " $189^\\circ40{}^\\prime48.4074{}^{\\prime\\prime}$\n",
       " $129^\\circ39{}^\\prime29.386{}^{\\prime\\prime}$\n",
       " $91^\\circ12{}^\\prime34.7773{}^{\\prime\\prime}$\n",
       " $307^\\circ31{}^\\prime58.2951{}^{\\prime\\prime}$\n",
       " $317^\\circ58{}^\\prime11.3958{}^{\\prime\\prime}$\n",
       " $342^\\circ53{}^\\prime40.7712{}^{\\prime\\prime}$\n",
       " $121^\\circ19{}^\\prime02.0402{}^{\\prime\\prime}$\n",
       " $148^\\circ02{}^\\prime09.3488{}^{\\prime\\prime}$\n",
       " $53^\\circ07{}^\\prime44.7719{}^{\\prime\\prime}$\n",
       " $315^\\circ04{}^\\prime04.9143{}^{\\prime\\prime}$\n",
       " $90^\\circ38{}^\\prime36.2362{}^{\\prime\\prime}$\n",
       " $312^\\circ32{}^\\prime12.4282{}^{\\prime\\prime}$\n",
       " $306^\\circ24{}^\\prime56.8186{}^{\\prime\\prime}$\n",
       " $146^\\circ35{}^\\prime05.0674{}^{\\prime\\prime}$\n",
       " $303^\\circ55{}^\\prime59.4161{}^{\\prime\\prime}$\n",
       " $315^\\circ07{}^\\prime19.1495{}^{\\prime\\prime}$\n",
       " $132^\\circ20{}^\\prime00.0295{}^{\\prime\\prime}$\n",
       " $266^\\circ02{}^\\prime15.9514{}^{\\prime\\prime}$\n",
       " $126^\\circ27{}^\\prime58.4311{}^{\\prime\\prime}$\n",
       " $59^\\circ23{}^\\prime18.3042{}^{\\prime\\prime}$\n",
       " $318^\\circ33{}^\\prime51.0162{}^{\\prime\\prime}$\n",
       " $158^\\circ03{}^\\prime34.0983{}^{\\prime\\prime}$]"
      ],
      "text/plain": [
       "<Longitude [ 142.37028781, 127.37230118, 100.49884144, 275.87053715,\n",
       "             137.6665351 , 108.06497461, 287.10403859, 356.15234471,\n",
       "             107.72578741, 134.52292868, 281.46855763, 203.80955011,\n",
       "             142.27463499, 278.84553583,  78.02777848, 312.74161612,\n",
       "             319.01590877, 302.98924546,  10.25291144, 293.49026089,\n",
       "             312.59812132, 145.71418151, 343.95068476, 180.53815112,\n",
       "             248.59233783, 182.99565049,  75.16627147,  71.10929272,\n",
       "             277.16460109, 295.2489923 , 119.37897502, 117.42508474,\n",
       "             114.18005303, 319.43162298, 159.8258784 , 211.69193909,\n",
       "             208.87177497, 212.17417162, 198.19156249,  62.30981967,\n",
       "              51.79074719,  33.01879165, 310.73787241, 106.57051623,\n",
       "             174.05492536, 122.63526923,  86.03553116,  38.92746275,\n",
       "             109.06000508, 199.49015343,   8.93071087, 274.15184992,\n",
       "             308.86627869,  93.42409172,  86.83008336, 251.30642995,\n",
       "             103.13637159,  68.12213634,  74.63146094, 145.56809294,\n",
       "             109.84415954, 257.9934367 , 225.74535602, 106.50634039,\n",
       "             123.94656633, 250.60303651,  40.26328397, 180.67510179,\n",
       "             298.74705856, 272.81858615, 338.37443145, 214.95784695,\n",
       "              94.4446611 , 321.41139411, 124.88338323, 169.6250365 ,\n",
       "             168.11543601, 277.65622699, 189.68011317, 129.65816277,\n",
       "              91.20966037, 307.53285974, 317.96983218, 342.89465867,\n",
       "             121.31723339, 148.03593022,  53.12910329, 315.06803174,\n",
       "              90.64339893, 312.53678562, 306.41578296, 146.58474094,\n",
       "             303.93317115, 315.12198596, 132.33334152, 266.03776428,\n",
       "             126.46623087,  59.38841784, 318.56417117, 158.05947175] deg>"
      ]
     },
     "execution_count": 106,
     "metadata": {},
     "output_type": "execute_result"
    }
   ],
   "source": [
    "# access longitude or latitude\n",
    "g.l"
   ]
  },
  {
   "cell_type": "code",
   "execution_count": 107,
   "metadata": {
    "collapsed": false
   },
   "outputs": [
    {
     "data": {
      "text/plain": [
       "astropy.coordinates.angles.Longitude"
      ]
     },
     "execution_count": 107,
     "metadata": {},
     "output_type": "execute_result"
    }
   ],
   "source": [
    "type(g.l)"
   ]
  },
  {
   "cell_type": "code",
   "execution_count": 108,
   "metadata": {
    "collapsed": false
   },
   "outputs": [
    {
     "data": {
      "text/plain": [
       "array([ 142.37028781,  127.37230118,  100.49884144,  275.87053715,\n",
       "        137.6665351 ,  108.06497461,  287.10403859,  356.15234471,\n",
       "        107.72578741,  134.52292868,  281.46855763,  203.80955011,\n",
       "        142.27463499,  278.84553583,   78.02777848,  312.74161612,\n",
       "        319.01590877,  302.98924546,   10.25291144,  293.49026089,\n",
       "        312.59812132,  145.71418151,  343.95068476,  180.53815112,\n",
       "        248.59233783,  182.99565049,   75.16627147,   71.10929272,\n",
       "        277.16460109,  295.2489923 ,  119.37897502,  117.42508474,\n",
       "        114.18005303,  319.43162298,  159.8258784 ,  211.69193909,\n",
       "        208.87177497,  212.17417162,  198.19156249,   62.30981967,\n",
       "         51.79074719,   33.01879165,  310.73787241,  106.57051623,\n",
       "        174.05492536,  122.63526923,   86.03553116,   38.92746275,\n",
       "        109.06000508,  199.49015343,    8.93071087,  274.15184992,\n",
       "        308.86627869,   93.42409172,   86.83008336,  251.30642995,\n",
       "        103.13637159,   68.12213634,   74.63146094,  145.56809294,\n",
       "        109.84415954,  257.9934367 ,  225.74535602,  106.50634039,\n",
       "        123.94656633,  250.60303651,   40.26328397,  180.67510179,\n",
       "        298.74705856,  272.81858615,  338.37443145,  214.95784695,\n",
       "         94.4446611 ,  321.41139411,  124.88338323,  169.6250365 ,\n",
       "        168.11543601,  277.65622699,  189.68011317,  129.65816277,\n",
       "         91.20966037,  307.53285974,  317.96983218,  342.89465867,\n",
       "        121.31723339,  148.03593022,   53.12910329,  315.06803174,\n",
       "         90.64339893,  312.53678562,  306.41578296,  146.58474094,\n",
       "        303.93317115,  315.12198596,  132.33334152,  266.03776428,\n",
       "        126.46623087,   59.38841784,  318.56417117,  158.05947175])"
      ]
     },
     "execution_count": 108,
     "metadata": {},
     "output_type": "execute_result"
    }
   ],
   "source": [
    "# get underlying numpy array\n",
    "g.l.degree"
   ]
  },
  {
   "cell_type": "markdown",
   "metadata": {
    "collapsed": true
   },
   "source": [
    "# Other astro packages\n",
    "\n",
    "[AstroPy-affiliated packages](http://www.astropy.org/affiliated/index.html)\n",
    "\n",
    "[PyPI packages](https://pypi.python.org/pypi?:action=browse&show=all&c=385&c=387) with topic \"Astronomy\""
   ]
  },
  {
   "cell_type": "code",
   "execution_count": null,
   "metadata": {
    "collapsed": true
   },
   "outputs": [],
   "source": []
  }
 ],
 "metadata": {
  "kernelspec": {
   "display_name": "Python 3",
   "language": "python",
   "name": "python3"
  },
  "language_info": {
   "codemirror_mode": {
    "name": "ipython",
    "version": 3
   },
   "file_extension": ".py",
   "mimetype": "text/x-python",
   "name": "python",
   "nbconvert_exporter": "python",
   "pygments_lexer": "ipython3",
   "version": "3.4.3"
  }
 },
 "nbformat": 4,
 "nbformat_minor": 0
}
