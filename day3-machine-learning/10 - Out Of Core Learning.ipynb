{
 "cells": [
  {
   "cell_type": "code",
   "execution_count": null,
   "metadata": {
    "collapsed": false
   },
   "outputs": [],
   "source": [
    "# write out some toy data\n",
    "from sklearn.datasets import load_digits\n",
    "import cPickle\n",
    "\n",
    "digits = load_digits()\n",
    "\n",
    "X, y = digits.data, digits.target\n",
    "\n",
    "for i in range(10):\n",
    "    cPickle.dump((X[i::10], y[i::10]), open(\"data/batch_%02d.pickle\" % i, \"w\"), -1)"
   ]
  },
  {
   "cell_type": "code",
   "execution_count": null,
   "metadata": {
    "collapsed": false
   },
   "outputs": [],
   "source": [
    "from sklearn.linear_model import SGDClassifier\n"
   ]
  },
  {
   "cell_type": "code",
   "execution_count": null,
   "metadata": {
    "collapsed": false
   },
   "outputs": [],
   "source": [
    "sgd = SGDClassifier()\n",
    "\n",
    "for i in range(9):\n",
    "    X_batch, y_batch = cPickle.load(open(\"data/batch_%02d.pickle\" % i))\n",
    "    sgd.partial_fit(X_batch, y_batch, classes=range(10))"
   ]
  },
  {
   "cell_type": "code",
   "execution_count": null,
   "metadata": {
    "collapsed": false
   },
   "outputs": [],
   "source": [
    "X_test, y_test = cPickle.load(open(\"data/batch_09.pickle\"))\n",
    "\n",
    "sgd.score(X_test, y_test)"
   ]
  },
  {
   "cell_type": "markdown",
   "metadata": {},
   "source": [
    "Text\n",
    "====="
   ]
  },
  {
   "cell_type": "code",
   "execution_count": null,
   "metadata": {
    "collapsed": false
   },
   "outputs": [],
   "source": [
    "import pandas as pd\n",
    "from sklearn.feature_extraction.text import HashingVectorizer\n",
    "\n",
    "sgd = SGDClassifier()\n",
    "hashing_vectorizer = HashingVectorizer()\n",
    "\n",
    "for i in range(10):\n",
    "    data_batch = pd.read_csv(\"data/train_%d.csv\" % i)\n",
    "    text_batch = data_batch.Comment.tolist()\n",
    "    y_batch = data_batch.Insult.values\n",
    "    X_batch = hashing_vectorizer.transform(text_batch)\n",
    "    sgd.partial_fit(X_batch, y_batch, classes=range(10))"
   ]
  },
  {
   "cell_type": "code",
   "execution_count": null,
   "metadata": {
    "collapsed": false
   },
   "outputs": [],
   "source": [
    "data_test = pd.read_csv(\"data/test_with_solutions.csv\")\n",
    "X_test = hashing_vectorizer.transform(data_test.Comment.tolist())\n",
    "y_test = data_test.Insult.values\n",
    "sgd.score(X_test, y_test)"
   ]
  },
  {
   "cell_type": "markdown",
   "metadata": {},
   "source": [
    "Kernel Approximations\n",
    "======================="
   ]
  },
  {
   "cell_type": "code",
   "execution_count": null,
   "metadata": {
    "collapsed": false
   },
   "outputs": [],
   "source": [
    "from sklearn.kernel_approximation import RBFSampler\n",
    "\n",
    "sgd = SGDClassifier()\n",
    "kernel_approximation = RBFSampler(gamma=.001, n_components=400)\n",
    "\n",
    "for i in range(9):\n",
    "    X_batch, y_batch = cPickle.load(open(\"data/batch_%02d.pickle\" % i))\n",
    "    if i == 0:\n",
    "        kernel_approximation.fit(X_batch)\n",
    "    X_transformed = kernel_approximation.transform(X_batch)\n",
    "    sgd.partial_fit(X_transformed, y_batch, classes=range(10))"
   ]
  },
  {
   "cell_type": "code",
   "execution_count": null,
   "metadata": {
    "collapsed": false
   },
   "outputs": [],
   "source": [
    "X_test, y_test = cPickle.load(open(\"data/batch_09.pickle\"))\n",
    "\n",
    "sgd.score(kernel_approximation.transform(X_test), y_test)"
   ]
  },
  {
   "cell_type": "code",
   "execution_count": null,
   "metadata": {
    "collapsed": true
   },
   "outputs": [],
   "source": []
  }
 ],
 "metadata": {
  "kernelspec": {
   "display_name": "Python 2",
   "language": "python",
   "name": "python2"
  },
  "language_info": {
   "codemirror_mode": {
    "name": "ipython",
    "version": 2
   },
   "file_extension": ".py",
   "mimetype": "text/x-python",
   "name": "python",
   "nbconvert_exporter": "python",
   "pygments_lexer": "ipython2",
   "version": "2.7.6"
  }
 },
 "nbformat": 4,
 "nbformat_minor": 0
}
