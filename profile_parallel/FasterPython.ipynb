{
 "metadata": {
  "kernelspec": {
   "display_name": "Python 2",
   "language": "python",
   "name": "python2"
  },
  "language_info": {
   "codemirror_mode": {
    "name": "ipython",
    "version": 2
   },
   "file_extension": ".py",
   "mimetype": "text/x-python",
   "name": "python",
   "nbconvert_exporter": "python",
   "pygments_lexer": "ipython2",
   "version": "2.7.10"
  },
  "name": "",
  "signature": "sha256:0d2e71bc899f0522c926cf862a962341b0a23061b1f1cb0fdfea6e13c2146e55"
 },
 "nbformat": 3,
 "nbformat_minor": 0,
 "worksheets": [
  {
   "cells": [
    {
     "cell_type": "markdown",
     "metadata": {},
     "source": [
      "# Make My Python Code Faster\n",
      "\n",
      "*John Parejko, Phil Marshall and Your Name Here\\>*\n",
      "\n",
      "This notebook demonstrates some ways to make your python code go faster.\n",
      "\n",
      "#### Step 1: Profile and improve your code\n",
      "Because how can you optimize something if you haven't first evaluated it?\n",
      "\n",
      "#### Step 2: Parallelize your code\n",
      "Because you probably own more than one CPU."
     ]
    },
    {
     "cell_type": "heading",
     "level": 2,
     "metadata": {},
     "source": [
      "Profiling"
     ]
    },
    {
     "cell_type": "code",
     "collapsed": true,
     "input": [
      "import numpy as np"
     ],
     "language": "python",
     "metadata": {},
     "outputs": [],
     "prompt_number": 2
    },
    {
     "cell_type": "code",
     "collapsed": true,
     "input": [
      "x = np.random.randn(1000)"
     ],
     "language": "python",
     "metadata": {},
     "outputs": [],
     "prompt_number": 5
    },
    {
     "cell_type": "markdown",
     "metadata": {},
     "source": [
      "### Inline Timing\n",
      "\n",
      "Use `%timeit` in the notebook, and other commands in functions... Need examples of these!"
     ]
    },
    {
     "cell_type": "code",
     "collapsed": false,
     "input": [
      "%timeit np.power(x,2)"
     ],
     "language": "python",
     "metadata": {},
     "outputs": [
      {
       "output_type": "stream",
       "stream": "stdout",
       "text": [
        "10000 loops, best of 3: 32 \u00b5s per loop\n"
       ]
      }
     ],
     "prompt_number": 6
    },
    {
     "cell_type": "code",
     "collapsed": false,
     "input": [
      "%timeit x**2"
     ],
     "language": "python",
     "metadata": {},
     "outputs": [
      {
       "output_type": "stream",
       "stream": "stdout",
       "text": [
        "The slowest run took 59.22 times longer than the fastest. This could mean that an intermediate result is being cached \n",
        "1000000 loops, best of 3: 1.44 \u00b5s per loop\n"
       ]
      }
     ],
     "prompt_number": 8
    },
    {
     "cell_type": "code",
     "collapsed": true,
     "input": [],
     "language": "python",
     "metadata": {},
     "outputs": [],
     "prompt_number": null
    },
    {
     "cell_type": "code",
     "collapsed": true,
     "input": [
      "import cProfile\n",
      "import pstats"
     ],
     "language": "python",
     "metadata": {},
     "outputs": [],
     "prompt_number": 11
    },
    {
     "cell_type": "code",
     "collapsed": false,
     "input": [
      "def square(x):\n",
      "    for k in range(1000):\n",
      "        sq = np.power(x,2)\n",
      "        sq = x**2\n",
      "        sq = x*x\n",
      "    return "
     ],
     "language": "python",
     "metadata": {},
     "outputs": [],
     "prompt_number": 23
    },
    {
     "cell_type": "code",
     "collapsed": false,
     "input": [
      "log = 'square.profile'\n",
      "cProfile.run('square(x)',filename=log)\n",
      "\n",
      "stats = pstats.Stats(log)\n",
      "stats.strip_dirs()\n",
      "\n",
      "stats.sort_stats('cumtime').print_stats(20)"
     ],
     "language": "python",
     "metadata": {},
     "outputs": [],
     "prompt_number": 24
    },
    {
     "cell_type": "code",
     "collapsed": true,
     "input": [
      "# OK - so all the time is being taken by the function \"square\".\n",
      "# We need to re-write with the lines separated into functions - \n",
      "# which is a better way to code anyway."
     ],
     "language": "python",
     "metadata": {},
     "outputs": [],
     "prompt_number": 29
    },
    {
     "cell_type": "code",
     "collapsed": true,
     "input": [
      "def bettersquare(x):\n",
      "    \n",
      "    def powersquare(x):\n",
      "        return np.power(x,2)\n",
      "    def justsquare(x):\n",
      "        return x**2\n",
      "    def selfmultiply(x):\n",
      "        return x*x\n",
      "    \n",
      "    for k in range(1000):\n",
      "        sq = powersquare(x)\n",
      "        sq = justsquare(x)\n",
      "        sq = selfmultiply(x)\n",
      "    \n",
      "    return "
     ],
     "language": "python",
     "metadata": {},
     "outputs": [],
     "prompt_number": 30
    },
    {
     "cell_type": "code",
     "collapsed": false,
     "input": [
      "log = 'bettersquare.profile'\n",
      "cProfile.run('bettersquare(x)',filename=log)\n",
      "\n",
      "stats = pstats.Stats(log)\n",
      "stats.strip_dirs()\n",
      "\n",
      "stats.sort_stats('cumtime').print_stats(20)"
     ],
     "language": "python",
     "metadata": {},
     "outputs": [
      {
       "output_type": "stream",
       "stream": "stdout",
       "text": [
        "Tue Sep 29 12:22:48 2015    bettersquare.profile\n",
        "\n",
        "         3004 function calls in 0.063 seconds\n",
        "\n",
        "   Ordered by: cumulative time\n",
        "\n",
        "   ncalls  tottime  percall  cumtime  percall filename:lineno(function)\n",
        "        1    0.000    0.000    0.063    0.063 <string>:1(<module>)\n",
        "        1    0.004    0.004    0.063    0.063 <ipython-input-30-a566590efda6>:1(bettersquare)\n",
        "     1000    0.052    0.000    0.052    0.000 <ipython-input-30-a566590efda6>:3(powersquare)\n",
        "     1000    0.005    0.000    0.005    0.000 <ipython-input-30-a566590efda6>:5(justsquare)\n",
        "     1000    0.003    0.000    0.003    0.000 <ipython-input-30-a566590efda6>:7(selfmultiply)\n",
        "        1    0.000    0.000    0.000    0.000 {range}\n",
        "        1    0.000    0.000    0.000    0.000 {method 'disable' of '_lsprof.Profiler' objects}\n",
        "\n",
        "\n"
       ]
      },
      {
       "metadata": {},
       "output_type": "pyout",
       "prompt_number": 31,
       "text": [
        "<pstats.Stats instance at 0x105229c20>"
       ]
      }
     ],
     "prompt_number": 31
    },
    {
     "cell_type": "code",
     "collapsed": true,
     "input": [
      "# Much better - you can see the cumulative time spent in each function."
     ],
     "language": "python",
     "metadata": {},
     "outputs": [],
     "prompt_number": null
    },
    {
     "cell_type": "code",
     "collapsed": false,
     "input": [
      "# We could also try the line profiler, from rkern on GitHub.\n",
      "\n",
      "!pip install --upgrade line_profiler"
     ],
     "language": "python",
     "metadata": {},
     "outputs": [
      {
       "output_type": "stream",
       "stream": "stdout",
       "text": [
        "Collecting line-profiler\n",
        "  Downloading line_profiler-1.0.tar.gz (65kB)\n",
        "\u001b[K    100% |\u2588\u2588\u2588\u2588\u2588\u2588\u2588\u2588\u2588\u2588\u2588\u2588\u2588\u2588\u2588\u2588\u2588\u2588\u2588\u2588\u2588\u2588\u2588\u2588\u2588\u2588\u2588\u2588\u2588\u2588\u2588\u2588| 69kB 2.0MB/s \n",
        "\u001b[?25hBuilding wheels for collected packages: line-profiler\n",
        "  Running setup.py bdist_wheel for line-profiler\n",
        "  Stored in directory: /Users/pjm/Library/Caches/pip/wheels/42/e9/3a/aa5d3b6dbae0c78dd50300cb0f391f8153a3d907aacf655c87\n",
        "Successfully built line-profiler\n",
        "Installing collected packages: line-profiler\n",
        "Successfully installed line-profiler-1.0\n"
       ]
      }
     ],
     "prompt_number": 28
    },
    {
     "cell_type": "markdown",
     "metadata": {},
     "source": [
      "* We could also run the line_profiler from the command line... \n",
      "\n",
      "* Which means the square function needs writing out to a file...\n",
      "\n",
      "* *Can we do this from this notebook?*"
     ]
    },
    {
     "cell_type": "markdown",
     "metadata": {},
     "source": [
      "### Cythonization\n",
      "\n",
      "Something of a last resort: don't go to cython unless you know it's going to help...\n",
      "\n",
      "We could also replace simple lines of math with the equivalent line of c...\n",
      "\n",
      "```\n",
      "cython -a file.pyx\n",
      "```\n",
      "makes file.c, but also file.html. The html file shows you the lines that were unwrapped into c. \n",
      "\n",
      "*Can we demo this from this notebook?* Hmm."
     ]
    },
    {
     "cell_type": "markdown",
     "metadata": {},
     "source": [
      "### Compiling cython with IPython Notebook magic functions"
     ]
    },
    {
     "cell_type": "markdown",
     "metadata": {},
     "source": [
      "Here's a simple example of a double-for loop that cython speeds up tremendously, and a %magic trick for compiling cython within a Notebook. First, our simple slow pure python function:"
     ]
    },
    {
     "cell_type": "code",
     "collapsed": false,
     "input": [
      "def my_expensive_loop(n):\n",
      "    x = 0\n",
      "    for i in range(int(n)):\n",
      "        for j in range(int(n)):\n",
      "            x += i + j"
     ],
     "language": "python",
     "metadata": {},
     "outputs": [],
     "prompt_number": 1
    },
    {
     "cell_type": "code",
     "collapsed": false,
     "input": [
      "%timeit my_expensive_loop(1000)"
     ],
     "language": "python",
     "metadata": {},
     "outputs": [
      {
       "output_type": "stream",
       "stream": "stdout",
       "text": [
        "10 loops, best of 3: 59.5 ms per loop\n"
       ]
      }
     ],
     "prompt_number": 2
    },
    {
     "cell_type": "markdown",
     "metadata": {},
     "source": [
      "Let's write the same exact function in cython syntax:"
     ]
    },
    {
     "cell_type": "code",
     "collapsed": false,
     "input": [
      "%load_ext cythonmagic"
     ],
     "language": "python",
     "metadata": {},
     "outputs": [],
     "prompt_number": 3
    },
    {
     "cell_type": "code",
     "collapsed": false,
     "input": [
      "%%cython \n",
      "import numpy as np \n",
      "\n",
      "def my_cythonized_loop(int n):\n",
      "    cdef int i, j, x\n",
      "    x = 0\n",
      "    for i in range(int(n)):\n",
      "        for j in range(int(n)):\n",
      "            x += i + j"
     ],
     "language": "python",
     "metadata": {},
     "outputs": [],
     "prompt_number": 4
    },
    {
     "cell_type": "code",
     "collapsed": false,
     "input": [
      "%timeit my_cythonized_loop(1000)"
     ],
     "language": "python",
     "metadata": {},
     "outputs": [
      {
       "output_type": "stream",
       "stream": "stdout",
       "text": [
        "10000000 loops, best of 3: 47.2 ns per loop\n"
       ]
      }
     ],
     "prompt_number": 5
    },
    {
     "cell_type": "markdown",
     "metadata": {},
     "source": [
      "What's happening here is that in the pure python code, at each step of these tight nested loops python is doing a bunch of type-checking on *i*, *j* and *x*. All that *cdef* declaration does is to tell the cython compiler to declare these variables as c-ints, so that the code will not do this type-checking anymore. \n",
      "\n",
      "Even if the above pattern is the only one you ever learn in cython, it comes up so, so often that it's worth taking the time to pick up. "
     ]
    },
    {
     "cell_type": "code",
     "collapsed": false,
     "input": [],
     "language": "python",
     "metadata": {},
     "outputs": []
    }
   ],
   "metadata": {}
  }
 ]
}