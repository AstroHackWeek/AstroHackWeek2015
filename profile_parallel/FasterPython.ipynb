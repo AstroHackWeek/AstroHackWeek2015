{
 "cells": [
  {
   "cell_type": "markdown",
   "metadata": {},
   "source": [
    "# Make My Python Code Faster\n",
    "\n",
    "*John Parejko, Phil Marshall and Your Name Here\\>*\n",
    "\n",
    "This notebook demonstrates some ways to make your python code go faster.\n",
    "\n",
    "#### Step 1: Profile and improve your code\n",
    "Because how can you optimize something if you haven't first evaluated it?\n",
    "\n",
    "#### Step 2: Parallelize your code\n",
    "Because you probably own more than one CPU."
   ]
  },
  {
   "cell_type": "markdown",
   "metadata": {},
   "source": [
    "## Profiling"
   ]
  },
  {
   "cell_type": "code",
   "execution_count": 2,
   "metadata": {
    "collapsed": true
   },
   "outputs": [],
   "source": [
    "import numpy as np"
   ]
  },
  {
   "cell_type": "code",
   "execution_count": 5,
   "metadata": {
    "collapsed": true
   },
   "outputs": [],
   "source": [
    "x = np.random.randn(1000)"
   ]
  },
  {
   "cell_type": "markdown",
   "metadata": {},
   "source": [
    "### Inline Timing\n",
    "\n",
    "Use `%timeit` in the notebook, and other commands in functions... Need examples of these!"
   ]
  },
  {
   "cell_type": "code",
   "execution_count": 6,
   "metadata": {
    "collapsed": false
   },
   "outputs": [
    {
     "name": "stdout",
     "output_type": "stream",
     "text": [
      "10000 loops, best of 3: 32 µs per loop\n"
     ]
    }
   ],
   "source": [
    "%timeit np.power(x,2)"
   ]
  },
  {
   "cell_type": "code",
   "execution_count": 8,
   "metadata": {
    "collapsed": false
   },
   "outputs": [
    {
     "name": "stdout",
     "output_type": "stream",
     "text": [
      "The slowest run took 59.22 times longer than the fastest. This could mean that an intermediate result is being cached \n",
      "1000000 loops, best of 3: 1.44 µs per loop\n"
     ]
    }
   ],
   "source": [
    "%timeit x**2"
   ]
  },
  {
   "cell_type": "code",
   "execution_count": null,
   "metadata": {
    "collapsed": true
   },
   "outputs": [],
   "source": []
  },
  {
   "cell_type": "code",
   "execution_count": 11,
   "metadata": {
    "collapsed": true
   },
   "outputs": [],
   "source": [
    "import cProfile\n",
    "import pstats"
   ]
  },
  {
   "cell_type": "code",
   "execution_count": 23,
   "metadata": {
    "collapsed": false
   },
   "outputs": [],
   "source": [
    "def square(x):\n",
    "    for k in range(1000):\n",
    "        sq = np.power(x,2)\n",
    "        sq = x**2\n",
    "        sq = x*x\n",
    "    return "
   ]
  },
  {
   "cell_type": "code",
   "execution_count": 24,
   "metadata": {
    "collapsed": false
   },
   "outputs": [],
   "source": [
    "log = 'square.profile'\n",
    "cProfile.run('square(x)',filename=log)\n",
    "\n",
    "stats = pstats.Stats(log)\n",
    "stats.strip_dirs()\n",
    "\n",
    "stats.sort_stats('cumtime').print_stats(20)"
   ]
  },
  {
   "cell_type": "code",
   "execution_count": 29,
   "metadata": {
    "collapsed": true
   },
   "outputs": [],
   "source": [
    "# OK - so all the time is being taken by the function \"square\".\n",
    "# We need to re-write with the lines separated into functions - \n",
    "# which is a better way to code anyway."
   ]
  },
  {
   "cell_type": "code",
   "execution_count": 30,
   "metadata": {
    "collapsed": true
   },
   "outputs": [],
   "source": [
    "def bettersquare(x):\n",
    "    \n",
    "    def powersquare(x):\n",
    "        return np.power(x,2)\n",
    "    def justsquare(x):\n",
    "        return x**2\n",
    "    def selfmultiply(x):\n",
    "        return x*x\n",
    "    \n",
    "    for k in range(1000):\n",
    "        sq = powersquare(x)\n",
    "        sq = justsquare(x)\n",
    "        sq = selfmultiply(x)\n",
    "    \n",
    "    return "
   ]
  },
  {
   "cell_type": "code",
   "execution_count": 31,
   "metadata": {
    "collapsed": false
   },
   "outputs": [
    {
     "name": "stdout",
     "output_type": "stream",
     "text": [
      "Tue Sep 29 12:22:48 2015    bettersquare.profile\n",
      "\n",
      "         3004 function calls in 0.063 seconds\n",
      "\n",
      "   Ordered by: cumulative time\n",
      "\n",
      "   ncalls  tottime  percall  cumtime  percall filename:lineno(function)\n",
      "        1    0.000    0.000    0.063    0.063 <string>:1(<module>)\n",
      "        1    0.004    0.004    0.063    0.063 <ipython-input-30-a566590efda6>:1(bettersquare)\n",
      "     1000    0.052    0.000    0.052    0.000 <ipython-input-30-a566590efda6>:3(powersquare)\n",
      "     1000    0.005    0.000    0.005    0.000 <ipython-input-30-a566590efda6>:5(justsquare)\n",
      "     1000    0.003    0.000    0.003    0.000 <ipython-input-30-a566590efda6>:7(selfmultiply)\n",
      "        1    0.000    0.000    0.000    0.000 {range}\n",
      "        1    0.000    0.000    0.000    0.000 {method 'disable' of '_lsprof.Profiler' objects}\n",
      "\n",
      "\n"
     ]
    },
    {
     "data": {
      "text/plain": [
       "<pstats.Stats instance at 0x105229c20>"
      ]
     },
     "execution_count": 31,
     "metadata": {},
     "output_type": "execute_result"
    }
   ],
   "source": [
    "log = 'bettersquare.profile'\n",
    "cProfile.run('bettersquare(x)',filename=log)\n",
    "\n",
    "stats = pstats.Stats(log)\n",
    "stats.strip_dirs()\n",
    "\n",
    "stats.sort_stats('cumtime').print_stats(20)"
   ]
  },
  {
   "cell_type": "code",
   "execution_count": null,
   "metadata": {
    "collapsed": true
   },
   "outputs": [],
   "source": [
    "# Much better - you can see the cumulative time spent in each function."
   ]
  },
  {
   "cell_type": "code",
   "execution_count": 28,
   "metadata": {
    "collapsed": false
   },
   "outputs": [
    {
     "name": "stdout",
     "output_type": "stream",
     "text": [
      "Collecting line-profiler\n",
      "  Downloading line_profiler-1.0.tar.gz (65kB)\n",
      "\u001b[K    100% |████████████████████████████████| 69kB 2.0MB/s \n",
      "\u001b[?25hBuilding wheels for collected packages: line-profiler\n",
      "  Running setup.py bdist_wheel for line-profiler\n",
      "  Stored in directory: /Users/pjm/Library/Caches/pip/wheels/42/e9/3a/aa5d3b6dbae0c78dd50300cb0f391f8153a3d907aacf655c87\n",
      "Successfully built line-profiler\n",
      "Installing collected packages: line-profiler\n",
      "Successfully installed line-profiler-1.0\n"
     ]
    }
   ],
   "source": [
    "# We could also try the line profiler, from rkern on GitHub at https://github.com/rkern/line_profiler.\n",
    "\n",
    "!pip install --upgrade line_profiler"
   ]
  },
  {
   "cell_type": "markdown",
   "metadata": {},
   "source": [
    "* We could also run the line_profiler from the command line... \n",
    "\n",
    "* Which means the square function needs writing out to a file...\n",
    "\n",
    "* *Can we do this from this notebook?*"
   ]
  },
  {
   "cell_type": "markdown",
   "metadata": {},
   "source": [
    "### Cythonization\n",
    "\n",
    "* This is something of a last resort: don't go to cython unless you know it's going to help.\n",
    "\n",
    "\n",
    "* `Cython` allows us to replace simple lines of math with the equivalent lines of C, while still coding in python.\n",
    "\n",
    "\n",
    "* On the command line, \n",
    "```\n",
    "cython -a file.pyx\n",
    "```\n",
    "makes `file.c`, but also `file.html`. The html file shows you the lines that were unwrapped into C. \n",
    "\n",
    "\n",
    "*Can we demo this process from this notebook?* Hmm."
   ]
  },
  {
   "cell_type": "markdown",
   "metadata": {},
   "source": [
    "#### Compiling cython with IPython Notebook magic functions\n",
    "\n",
    "Here's a simple example of a double-for loop that cython speeds up tremendously, and a %magic trick for compiling cython within a Notebook. First, our simple slow pure python function:"
   ]
  },
  {
   "cell_type": "code",
   "execution_count": 52,
   "metadata": {
    "collapsed": true
   },
   "outputs": [],
   "source": [
    "def my_expensive_loop(n):\n",
    "    x = 0\n",
    "    for i in range(int(n)):\n",
    "        for j in range(int(n)):\n",
    "            x += i + j"
   ]
  },
  {
   "cell_type": "code",
   "execution_count": 53,
   "metadata": {
    "collapsed": false
   },
   "outputs": [
    {
     "name": "stdout",
     "output_type": "stream",
     "text": [
      "10 loops, best of 3: 65.9 ms per loop\n"
     ]
    }
   ],
   "source": [
    "%timeit my_expensive_loop(1000)"
   ]
  },
  {
   "cell_type": "markdown",
   "metadata": {},
   "source": [
    "Let's write the same exact function in cython syntax:"
   ]
  },
  {
   "cell_type": "code",
   "execution_count": 63,
   "metadata": {
    "collapsed": false
   },
   "outputs": [],
   "source": [
    "%load_ext cython"
   ]
  },
  {
   "cell_type": "code",
   "execution_count": 64,
   "metadata": {
    "collapsed": false
   },
   "outputs": [
    {
     "name": "stderr",
     "output_type": "stream",
     "text": [
      "/Users/pjm/lsst/DarwinX86/anaconda/2.1.0-4-g35ca374/lib/python2.7/site-packages/IPython/utils/path.py:264: UserWarning: get_ipython_cache_dir has moved to the IPython.paths module\n",
      "  warn(\"get_ipython_cache_dir has moved to the IPython.paths module\")\n"
     ]
    }
   ],
   "source": [
    "%%cython \n",
    "\n",
    "def my_cythonized_loop(int n):\n",
    "    cdef int i, j, x\n",
    "    x = 0\n",
    "    for i in range(int(n)):\n",
    "        for j in range(int(n)):\n",
    "            x += i + j"
   ]
  },
  {
   "cell_type": "code",
   "execution_count": 65,
   "metadata": {
    "collapsed": false
   },
   "outputs": [
    {
     "name": "stdout",
     "output_type": "stream",
     "text": [
      "1000 loops, best of 3: 752 µs per loop\n"
     ]
    }
   ],
   "source": [
    "%timeit my_cythonized_loop(1000)"
   ]
  },
  {
   "cell_type": "markdown",
   "metadata": {},
   "source": [
    "* What's happening here is that in the pure python code, at each step of these tight nested loops python is doing a bunch of type-checking on *i*, *j* and *x*. All that *cdef* declaration does is to tell the cython compiler to declare these variables as c-ints, so that the code will not do this type-checking anymore. \n",
    "\n",
    "\n",
    "* Even if the above pattern is the only one you ever learn in cython, it comes up so, so often that it's worth taking the time to pick up. "
   ]
  },
  {
   "cell_type": "markdown",
   "metadata": {
    "collapsed": true
   },
   "source": [
    "## Parallelization\n",
    "\n",
    "\n",
    "### Multiprocessing\n",
    "\n",
    "John's example:"
   ]
  },
  {
   "cell_type": "code",
   "execution_count": 66,
   "metadata": {
    "collapsed": true
   },
   "outputs": [],
   "source": [
    "\"\"\"\n",
    "The multiprocessing joke.\n",
    "\"\"\"\n",
    "from __future__ import print_function\n",
    "\n",
    "import multiprocessing\n",
    "\n",
    "def print_function(word):\n",
    "    print(word, end=' ')\n",
    "\n",
    "def tell_the_joke():\n",
    "    print()\n",
    "    print('Why did the parallel chicken cross the road?')\n",
    "    answer = 'To get to the other side.'\n",
    "    print()\n",
    "\n",
    "    # Summon a pool to handle some number of processes.\n",
    "    # Think of N as the number of processors you have?\n",
    "    \n",
    "    N = 2\n",
    "    \n",
    "    pool = multiprocessing.Pool(processes=N)\n",
    "\n",
    "    # Prepare a list of function inputs: \n",
    "    args = answer.split()\n",
    "\n",
    "    # Pass the function, and its arguments, to the pool: \n",
    "    pool.map(print_function, args)\n",
    "    \n",
    "    # Tell the pool members to finish their work.\n",
    "    pool.close()\n",
    "    \n",
    "    # \"Ask the pool to report that they are done.\n",
    "    pool.join()\n",
    "    print()\n",
    "    print()\n",
    "    \n",
    "    return"
   ]
  },
  {
   "cell_type": "code",
   "execution_count": 67,
   "metadata": {
    "collapsed": false
   },
   "outputs": [
    {
     "name": "stdout",
     "output_type": "stream",
     "text": [
      "\n",
      "Why did the parallel chicken cross the road?\n",
      "\n",
      "\n",
      "\n",
      "To to the other side. get "
     ]
    }
   ],
   "source": [
    "tell_the_joke()"
   ]
  },
  {
   "cell_type": "markdown",
   "metadata": {},
   "source": [
    "* The processes print their output words at semi-random times - in general, you have to be careful with what you do when dealing with a simple `pool` of processors.\n",
    "\n",
    "\n",
    "* If we make our function _return_ a word, rather than just print it, then we can collect the outputs and display them in the correct order."
   ]
  },
  {
   "cell_type": "code",
   "execution_count": 68,
   "metadata": {
    "collapsed": false
   },
   "outputs": [],
   "source": [
    "def new_function(word):\n",
    "    return word+' '\n",
    "\n",
    "def tell_the_joke_better():\n",
    "    print()\n",
    "    print('Why did the parallel chicken cross the road?')\n",
    "    answer = 'To get to the other side.'\n",
    "    print()\n",
    "\n",
    "    # Summon a pool to handle some number of processes.\n",
    "    # Leave N = blank to have multiprocessing guess!\n",
    "    # Or measure it yourself:\n",
    "    \n",
    "    N = multiprocessing.cpu_count()\n",
    "    \n",
    "    pool = multiprocessing.Pool(processes=N)\n",
    "\n",
    "    # Prepare a list of function inputs: \n",
    "    args = answer.split()\n",
    "\n",
    "    # Pass the function, and its arguments, to the pool: \n",
    "    punchline = pool.map(new_function, args)\n",
    "        \n",
    "    # Tell the pool members to finish their work.\n",
    "    pool.close()\n",
    "    \n",
    "    # \"Ask the pool to report that they are done.\n",
    "    pool.join()\n",
    "\n",
    "    # Use the outputs of the function, which are accessible via the map() method:\n",
    "    print(punchline)\n",
    "    print()\n",
    "    print()\n",
    "    \n",
    "    return"
   ]
  },
  {
   "cell_type": "code",
   "execution_count": 69,
   "metadata": {
    "collapsed": false
   },
   "outputs": [
    {
     "name": "stdout",
     "output_type": "stream",
     "text": [
      "\n",
      "Why did the parallel chicken cross the road?\n",
      "\n",
      "['To ', 'get ', 'to ', 'the ', 'other ', 'side. ']\n",
      "\n",
      "\n"
     ]
    }
   ],
   "source": [
    "tell_the_joke_better()"
   ]
  },
  {
   "cell_type": "code",
   "execution_count": null,
   "metadata": {
    "collapsed": true
   },
   "outputs": [],
   "source": []
  }
 ],
 "metadata": {
  "kernelspec": {
   "display_name": "Python 2",
   "language": "python",
   "name": "python2"
  },
  "language_info": {
   "codemirror_mode": {
    "name": "ipython",
    "version": 2
   },
   "file_extension": ".py",
   "mimetype": "text/x-python",
   "name": "python",
   "nbconvert_exporter": "python",
   "pygments_lexer": "ipython2",
   "version": "2.7.10"
  }
 },
 "nbformat": 4,
 "nbformat_minor": 0
}
