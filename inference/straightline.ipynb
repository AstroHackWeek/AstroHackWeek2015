{
 "cells": [
  {
   "cell_type": "markdown",
   "metadata": {},
   "source": [
    "# Bayesian Inference II: Fitting a Straight Line\n",
    "\n",
    "_Phil Marshall, Daniel Foreman-Mackey and Dustin Lang_\n",
    "\n",
    "_Astro Hack Week, New York, September 2015_\n",
    "\n",
    "This is **AstroHackWeek/inference/straightline.ipynb**"
   ]
  },
  {
   "cell_type": "markdown",
   "metadata": {},
   "source": [
    "### Goals:\n",
    "\n",
    "* Set up and carry out a simple Bayesian inference, characterizing a simple posterior PDF\n",
    "\n",
    "\n",
    "* Compare brute force, analytic and MCMC sampled results\n",
    "\n",
    "\n",
    "* Check models, with posterior predictive distributions of test statistics\n",
    "\n",
    "\n",
    "* Use the Bayesian Evidence to compare various models, and understand its properties\n",
    "\n",
    "\n",
    "* Suggest some simple hacks to get some practice with Bayesian inference"
   ]
  },
  {
   "cell_type": "code",
   "execution_count": 3,
   "metadata": {
    "collapsed": false
   },
   "outputs": [
    {
     "name": "stdout",
     "output_type": "stream",
     "text": [
      "The autoreload extension is already loaded. To reload it, use:\n",
      "  %reload_ext autoreload\n"
     ]
    }
   ],
   "source": [
    "%load_ext autoreload\n",
    "%autoreload 2\n",
    "\n",
    "from __future__ import print_function\n",
    "import numpy as np\n",
    "\n",
    "import matplotlib.pyplot as plt\n",
    "%matplotlib inline\n",
    "\n",
    "plt.rcParams['figure.figsize'] = (6.0, 6.0)\n",
    "plt.rcParams['savefig.dpi'] = 100"
   ]
  },
  {
   "cell_type": "code",
   "execution_count": 4,
   "metadata": {
    "collapsed": true
   },
   "outputs": [],
   "source": [
    "from straightline_utils import *"
   ]
  },
  {
   "cell_type": "markdown",
   "metadata": {},
   "source": [
    "## The Data\n",
    "\n",
    "* Let's generate a simple dataset: observations of $y$ with reported uncertainties $\\sigma_y$, at given $x$ values.\n",
    "\n",
    "\n",
    "* Yours will look different to mine, as your random seed will be different. That's good - we can do some (completely unrealistic) comparisons over datasets."
   ]
  },
  {
   "cell_type": "code",
   "execution_count": 6,
   "metadata": {
    "collapsed": false
   },
   "outputs": [
    {
     "name": "stdout",
     "output_type": "stream",
     "text": [
      "Requirement already up-to-date: daft in /Users/pjm/lsst/DarwinX86/anaconda/2.1.0-4-g35ca374/lib/python2.7/site-packages\n",
      "Requirement already up-to-date: matplotlib in /Users/pjm/lsst/DarwinX86/anaconda/2.1.0-4-g35ca374/lib/python2.7/site-packages (from daft)\n",
      "Requirement already up-to-date: numpy in /Users/pjm/lsst/DarwinX86/anaconda/2.1.0-4-g35ca374/lib/python2.7/site-packages (from daft)\n",
      "Requirement already up-to-date: six>=1.4 in /Users/pjm/lsst/DarwinX86/anaconda/2.1.0-4-g35ca374/lib/python2.7/site-packages (from matplotlib->daft)\n",
      "Requirement already up-to-date: python-dateutil in /Users/pjm/lsst/DarwinX86/anaconda/2.1.0-4-g35ca374/lib/python2.7/site-packages (from matplotlib->daft)\n",
      "Requirement already up-to-date: pytz in /Users/pjm/lsst/DarwinX86/anaconda/2.1.0-4-g35ca374/lib/python2.7/site-packages (from matplotlib->daft)\n",
      "Requirement already up-to-date: pyparsing>=1.5.6 in /Users/pjm/lsst/DarwinX86/anaconda/2.1.0-4-g35ca374/lib/python2.7/site-packages (from matplotlib->daft)\n",
      "Requirement already up-to-date: nose>=0.11.1 in /Users/pjm/lsst/DarwinX86/anaconda/2.1.0-4-g35ca374/lib/python2.7/site-packages (from matplotlib->daft)\n",
      "Requirement already up-to-date: mock in /Users/pjm/lsst/DarwinX86/anaconda/2.1.0-4-g35ca374/lib/python2.7/site-packages (from matplotlib->daft)\n",
      "Requirement already up-to-date: funcsigs in /Users/pjm/lsst/DarwinX86/anaconda/2.1.0-4-g35ca374/lib/python2.7/site-packages (from mock->matplotlib->daft)\n",
      "Collecting pbr>=0.11 (from mock->matplotlib->daft)\n",
      "  Downloading pbr-1.8.0-py2.py3-none-any.whl (87kB)\n",
      "\u001b[K    100% |████████████████████████████████| 90kB 2.7MB/s \n",
      "\u001b[?25hInstalling collected packages: pbr\n",
      "  Found existing installation: pbr 1.7.0\n",
      "    Uninstalling pbr-1.7.0:\n",
      "      Successfully uninstalled pbr-1.7.0\n",
      "Successfully installed pbr-1.8.0\n"
     ]
    },
    {
     "data": {
      "image/png": "[encoded data removed]",
      "text/plain": [
       "<matplotlib.figure.Figure at 0x106618190>"
      ]
     },
     "metadata": {},
     "output_type": "display_data"
    }
   ],
   "source": [
    "!pip install --upgrade daft\n",
    "\n",
    "(x,y,sigmay) = generate_data()\n",
    "\n",
    "plot_yerr(x, y, sigmay)"
   ]
  },
  {
   "cell_type": "markdown",
   "metadata": {},
   "source": [
    "## Least-squares Straight Line Fit\n",
    "\n",
    "* An industry standard: find the slope and intercept of a straight line that minimizes the mean square residual. Since the predicted data depend linearly on the parameters, the least squares solution can be found by a matrix inversion and multiplication, conveneniently packed in `numpy.linalg`.\n",
    "\n",
    "\n",
    "* Suppose that the $y$ values are related to the $x$ values by $y = m x + b$, where $x$ and $y$ are \"vectors\" (`numpy` arrays). We might say that we want to find $m$ and $b$ that minimize\n",
    "\n",
    "$W^2 = \\sum_k \\frac{(y_k - m x_k - b)^2}{\\sigma_k^2}$\n",
    "\n",
    "\n",
    "* Here, $1/\\sigma_k^2$ is a sensible weighting factor that reduces the influence of $y_k$ values with large uncertainty $\\sigma_k$\n",
    "\n",
    "\n",
    "* Differentiating $W^2$ with respect to $m$ and $b$ and setting the result to zero leads to a matrix equation that can be solved - this is what `np.linalg.lstsq` is doing."
   ]
  },
  {
   "cell_type": "code",
   "execution_count": 9,
   "metadata": {
    "collapsed": false
   },
   "outputs": [
    {
     "name": "stdout",
     "output_type": "stream",
     "text": [
      "Weighted least-squares estimated b,m: 95.7315369935 0.206860575057\n"
     ]
    },
    {
     "data": {
      "image/png": "[encoded data removed]",
      "text/plain": [
       "<matplotlib.figure.Figure at 0x106b79bd0>"
      ]
     },
     "metadata": {},
     "output_type": "display_data"
    }
   ],
   "source": [
    "# Linear algebra to implement weighted least squares.\n",
    "N = len(x)\n",
    "A = np.zeros((N,2))\n",
    "A[:,0] = 1. / sigmay\n",
    "A[:,1] =  x / sigmay\n",
    "yy = y / sigmay\n",
    "\n",
    "theta,nil,nil,nil = np.linalg.lstsq(A,yy)\n",
    "\n",
    "b_ls,m_ls = theta\n",
    "print('Weighted least-squares estimated b,m:', b_ls,m_ls)\n",
    "\n",
    "plot_yerr(x, y, sigmay)\n",
    "plot_line(m_ls, b_ls);"
   ]
  },
  {
   "cell_type": "markdown",
   "metadata": {},
   "source": [
    "# Probabilistic Fitting\n",
    "\n",
    "* The Bayesian answer to the question \"What are the values of $b$ and $m$ in a straight line model for the above data?\" is the posterior PDF for those parameters, ${\\rm Pr}(m,b|y)$\n",
    "\n",
    "\n",
    "* The posterior PDF doesn't tell us the *best-fit parameter combination* - it gives us the means to simulate *all plausible parameter combinations, given the data.*\n",
    "\n",
    "\n",
    "* Let's derive this posterior PDF, starting with a *probabilistic graphical model*."
   ]
  },
  {
   "cell_type": "code",
   "execution_count": 18,
   "metadata": {
    "collapsed": false
   },
   "outputs": [
    {
     "data": {
      "image/png": "[encoded data removed]",
      "text/plain": [
       "<IPython.core.display.Image object>"
      ]
     },
     "execution_count": 18,
     "metadata": {
      "image/png": {
       "width": 600
      }
     },
     "output_type": "execute_result"
    },
    {
     "data": {
      "image/png": "[encoded data removed]",
      "text/plain": [
       "<matplotlib.figure.Figure at 0x106dba690>"
      ]
     },
     "metadata": {},
     "output_type": "display_data"
    }
   ],
   "source": [
    "# import straightline_pgm\n",
    "# straightline_pgm.draw();\n",
    "\n",
    "from IPython.display import Image\n",
    "Image(filename=\"straightline_pgm.png\",width=600)"
   ]
  },
  {
   "cell_type": "markdown",
   "metadata": {},
   "source": [
    "* The PGM illustrates the *forward* problem of simulating a dataset $\\{y_k\\}$ by drawing random numbers from *conditional* probability distributions, which are depicted by the *nodes*. The conditional dependences are depicted by the *edges*.\n",
    "\n",
    "\n",
    "* The PGM is a complete description of the forward problem: it is a representation of the *joint PDF for all our variables*, ${\\rm Pr}(m,b,\\{y_k\\},\\{y^{\\rm true}_k\\}\\,|\\,\\{x_k\\},\\{\\sigma_k\\})$, factorized such that we can simulate data:\n",
    "\n",
    "${\\rm Pr}(m,b,\\{y_k\\},\\{y^{\\rm true}_k\\}\\,|\\,\\{x_k\\},\\{\\sigma_k\\},H_1) \n",
    "   = \\prod_k {\\rm Pr}(y_k\\,|\\,y^{\\rm true}_k,\\sigma_k,H_1)\n",
    "            \\;{\\rm Pr}(y^{\\rm true}_k\\,|\\,x_k,m,b,H_1)\n",
    "         \\;\\;\\;{\\rm Pr}(m,b\\,|\\,H_1)$"
   ]
  },
  {
   "cell_type": "markdown",
   "metadata": {},
   "source": [
    "### Questions:\n",
    "\n",
    "1. Where did that product come from? What assumption does it encode?\n",
    "\n",
    "2. Why are the $\\{x_k\\}$ and the $\\{\\sigma_k\\}$ always on the right hand side of the bar, but $\\{y_k\\}$ is sometimes on the left?\n",
    "\n",
    "3. What is the meaning of \"$H_1$\"? *Hint: notice that it too is always on the right hand side of the bar.*\n",
    "\n",
    "4. What functional form does the conditional PDF ${\\rm Pr}(y^{\\rm true}_k\\,|\\,x_k,m,b,H_1)$ have? \n",
    "\n",
    "5. What functional form do you think we should assume for the sampling distribution, ${\\rm Pr}(y_k\\,|\\,y^{\\rm true}_k,x_k,\\sigma_k,H_1)$? *Hint: imagine you were generating mock data.*\n",
    "\n",
    "6. What functional form should we assume for ${\\rm Pr}(m,b\\,|\\,H_1)$?\n",
    "\n",
    "\n",
    "Talk to your neighbor(s) for 5 minutes about these, note down some brief answers, and be prepared to provide them when called upon."
   ]
  },
  {
   "cell_type": "markdown",
   "metadata": {},
   "source": [
    "### The Inverse Problem\n",
    "\n",
    "* Let's simplify our joint probability expression a bit, by marginalizing out the latent variables \n",
    "$\\{y^{\\rm true}_k\\}$, and absorbing the $\\{x_k\\}$ and $\\{\\sigma_k\\}$ into $H_1$.\n",
    "\n",
    "${\\rm Pr}(m,b,\\{y_k\\}|H_1) = \\int\\,\n",
    "      \\prod_k {\\rm Pr}(y_k\\,|\\,y^{\\rm true}_k,\\sigma_k,H_1)\n",
    "            \\;{\\rm Pr}(y^{\\rm true}_k\\,|\\,x_k,m,b,H_1)\n",
    "         \\;\\;\\;{\\rm Pr}(m,b\\,|\\,H_1) \\; d y^{\\rm true}_k $\n",
    "\n",
    "$\\longrightarrow {\\rm Pr}(m,b,\\{y_k\\}|H_1) =  \n",
    "      \\prod_k {\\rm Pr}(y_k\\,|\\,(m x_k + b),\\sigma_k,H_1)\n",
    "         \\;\\;\\;{\\rm Pr}(m,b\\,|\\,H_1) $\n",
    " "
   ]
  },
  {
   "cell_type": "markdown",
   "metadata": {},
   "source": [
    "* Now we just factorize the left hand side and rearrange (like Bayes did), to get:\n",
    "\n",
    "${\\rm Pr}(m,b|\\{y_k\\},H_1) = \\frac{1}{Z} \\prod_k \n",
    " {\\rm Pr}(y_k\\,|\\,(m x_k + b),H_1)\n",
    "   \\;\\;\\;{\\rm Pr}(m,b\\,|\\,H_1) $"
   ]
  },
  {
   "cell_type": "markdown",
   "metadata": {},
   "source": [
    "* Here, $Z = {\\rm Pr}(\\{y_k\\}\\,|\\,H_1)$, and is known as the \"evidence\" for $H_1$. It also goes by the name \"Fully Marginalized Likelihood\" because\n",
    "\n",
    "$Z = {\\rm Pr}(\\{y_k\\}\\,|\\,H_1) = \\int \\prod_k \n",
    " {\\rm Pr}(y_k\\,|\\,(m x_k + b),\\sigma_k,H_1)\n",
    "   \\;{\\rm Pr}(m,b\\,|\\,H_1)\\;dm\\,db$\n",
    "   \n",
    "and $\\prod_k {\\rm Pr}(y_k\\,|\\,(m x_k + b),\\sigma_k,H_1)$ is the *joint likelihood* for the parameters. ${\\rm Pr}(m,b\\,|\\,H_1)$ is the *prior PDF for the parameters*."
   ]
  },
  {
   "cell_type": "markdown",
   "metadata": {},
   "source": [
    "## Evaluating the posterior PDF on a grid\n",
    "\n",
    "* For simple, 2-dimensional parameter spaces like this one, evaluating on a grid is not a bad way to go. We'll see that the least squares solution lies at the peak of the posterior PDF - for a certain set of assumptions about the data and the model.\n",
    "\n",
    "\n",
    "* To compute the evidence $Z$ and normalize the posterior PDF, we need to be able to integrate the likelihood function over the prior - on a grid, we can do this numerically, to normlize the posterior PDF.\n",
    "\n",
    "\n",
    "* Un-normalized, the likelihood function can take very small values, so we usually work with the log likelihood instead."
   ]
  },
  {
   "cell_type": "markdown",
   "metadata": {},
   "source": [
    "### Exercise:\n",
    "\n",
    "With your neighbors, upgrade my log likelihood function below so that it runs faster, and you get a plot of the posterior PDF for $m$ and $b$ without having to wait."
   ]
  },
  {
   "cell_type": "code",
   "execution_count": 10,
   "metadata": {
    "collapsed": true
   },
   "outputs": [],
   "source": [
    "def straight_line_log_likelihood(x, y, sigmay, m, b):\n",
    "    '''\n",
    "    Returns the log-likelihood of drawing data values *y* at\n",
    "    known values *x* given Gaussian measurement noise with standard\n",
    "    deviation with known *sigmay*, where the \"true\" y values are\n",
    "    *y_t = m * x + b*\n",
    "\n",
    "    x: list of x coordinates\n",
    "    y: list of y coordinates\n",
    "    sigmay: list of y uncertainties\n",
    "    m: scalar slope\n",
    "    b: scalar line intercept\n",
    "\n",
    "    Returns: scalar log likelihood\n",
    "    '''\n",
    "\n",
    "    L = 1.0\n",
    "    for k in range(len(y)):\n",
    "        L *= np.exp(-(y[k] - m*x[k] - b)**2/(2.0*sigmay[k]**2)) \n",
    "        L /= np.sqrt(2.0 * np.pi * sigmay[k]**2)\n",
    "    \n",
    "    return np.log(L)"
   ]
  },
  {
   "cell_type": "code",
   "execution_count": 11,
   "metadata": {
    "collapsed": true
   },
   "outputs": [],
   "source": [
    "# %load straightline_log_likelihood.py\n",
    "def straight_line_log_likelihood(x, y, sigmay, m, b):\n",
    "    '''\n",
    "    Returns the log-likelihood of drawing data values *y* at\n",
    "    known values *x* given Gaussian measurement noise with standard\n",
    "    deviation with known *sigmay*, where the \"true\" y values are\n",
    "    *y_t = m * x + b*\n",
    "\n",
    "    x: list of x coordinates\n",
    "    y: list of y coordinates\n",
    "    sigmay: list of y uncertainties\n",
    "    m: scalar slope\n",
    "    b: scalar line intercept\n",
    "\n",
    "    Returns: scalar log likelihood\n",
    "    '''\n",
    "\n",
    "    return (np.sum(np.log(1./(np.sqrt(2.*np.pi) * sigmay))) +\n",
    "            np.sum(-0.5 * (y - (m*x + b))**2 / sigmay**2))\n"
   ]
  },
  {
   "cell_type": "code",
   "execution_count": 12,
   "metadata": {
    "collapsed": false
   },
   "outputs": [],
   "source": [
    "def straight_line_log_prior(m, b, mlimits, blimits):\n",
    "    # Uniform in m:\n",
    "    if (m < mlimits[0]) | (m > mlimits[1]):\n",
    "        log_m_prior = -np.inf\n",
    "    else:\n",
    "        log_m_prior = np.log(1.0/(mlimits[1] - mlimits[0]))\n",
    "    # Uniform in b:\n",
    "    if (b < blimits[0]) | (b > blimits[1]):\n",
    "        log_b_prior = -np.inf\n",
    "    else:\n",
    "        log_b_prior = np.log(1.0/(blimits[1] - blimits[0]))\n",
    "        \n",
    "    return log_m_prior + log_b_prior\n",
    "\n",
    "\n",
    "def straight_line_log_posterior(x,y,sigmay,m,b,mlimits,blimits):\n",
    "    return (straight_line_log_likelihood(x,y,sigmay,m,b) +\n",
    "            straight_line_log_prior(m,b,mlimits,blimits))"
   ]
  },
  {
   "cell_type": "code",
   "execution_count": 14,
   "metadata": {
    "collapsed": false
   },
   "outputs": [
    {
     "name": "stdout",
     "output_type": "stream",
     "text": [
      "Grid maximum posterior values (m,b) = 0.22 94.0\n"
     ]
    },
    {
     "data": {
      "image/png": "[encoded data removed]",
      "text/plain": [
       "<matplotlib.figure.Figure at 0x106bce190>"
      ]
     },
     "metadata": {},
     "output_type": "display_data"
    }
   ],
   "source": [
    "# Evaluate log P(m,b | x,y,sigmay) on a grid.\n",
    "\n",
    "# Define uniform prior limits, enforcing positivity in both parameters:\n",
    "mlimits = [0.0, 2.0]\n",
    "blimits = [0.0, 200.0]\n",
    "\n",
    "# Set up grid:\n",
    "mgrid = np.linspace(mlimits[0], mlimits[1], 101)\n",
    "bgrid = np.linspace(blimits[0], blimits[1], 101)\n",
    "log_posterior = np.zeros((len(mgrid),len(bgrid)))\n",
    "\n",
    "# Evaluate log posterior PDF:\n",
    "for im,m in enumerate(mgrid):\n",
    "    for ib,b in enumerate(bgrid):\n",
    "        log_posterior[im,ib] = straight_line_log_posterior(x, y, sigmay, m, b, mlimits, blimits)\n",
    "\n",
    "        \n",
    "# Convert to probability density and plot, taking care with very small values:\n",
    "\n",
    "posterior = np.exp(log_posterior - log_posterior.max())\n",
    "\n",
    "plt.imshow(posterior, extent=[blimits[0],blimits[1],mlimits[0],mlimits[1]],cmap='Blues',\n",
    "           interpolation='none', origin='lower', aspect=(blimits[1]-blimits[0])/(mlimits[1]-mlimits[0]),\n",
    "           vmin=0, vmax=1)\n",
    "plt.contour(bgrid, mgrid, posterior, pdf_contour_levels(posterior), colors='k')\n",
    "\n",
    "i = np.argmax(posterior)\n",
    "i,j = np.unravel_index(i, posterior.shape)\n",
    "print('Grid maximum posterior values (m,b) =', mgrid[i], bgrid[j])\n",
    "\n",
    "plt.title('Straight line: posterior PDF for parameters');\n",
    "plt.plot(b_ls, m_ls, 'r+', ms=12, mew=4);\n",
    "plot_mb_setup(mlimits,blimits);"
   ]
  },
  {
   "cell_type": "markdown",
   "metadata": {},
   "source": [
    "-----\n",
    "\n",
    "\n",
    "# MCMC Sampling\n",
    "\n",
    "* In problems with higher dimensional parameter spaces, we need a more efficient way of approximating the posterior PDF - both when characterizing it in the first place, and then when doing integrals over that PDF (to get the marginalized PDFs for the parameters, or to compress them in to single numbers with uncertainties that can be easily reported). \n",
    "\n",
    "\n",
    "* In most applications it's sufficient to approximate a PDF with a (relatively) small number of samples drawn from it; MCMC is a procedure for drawing samples from PDFs. \n",
    "\n",
    "\n",
    "* The following piece of code implements the *Metropolis algorithm*, whose derivation can be read in many textbooks. You can read a brief justification aimed at Phil's grad student self in [Chapter 2 of Phil's thesis](http://www.slac.stanford.edu/~pjm/Site/CV_files/Marshall_PhDthesis.pdf), for example."
   ]
  },
  {
   "cell_type": "code",
   "execution_count": null,
   "metadata": {
    "collapsed": false
   },
   "outputs": [],
   "source": [
    "# Initial m, b, at center of prior:\n",
    "m = 0.5*(mlimits[0]+mlimits[1])\n",
    "b = 0.5*(blimits[0]+blimits[1])\n",
    "\n",
    "# Step sizes, 5% or 10% of the prior\n",
    "mstep = 0.05*(mlimits[1]-mlimits[0])\n",
    "bstep = 0.1*(blimits[1]-blimits[0])\n",
    "        \n",
    "# How many steps?\n",
    "nsteps = 10000\n",
    "   \n",
    "# We'll want to store the Markov chain as it evolves, since these are the samples we will\n",
    "# use in our inferences.\n",
    "chain = []\n",
    "probs = []\n",
    "naccept = 0\n",
    "    \n",
    "print('Running Metropolis Sampler for', nsteps, 'steps...')\n",
    "\n",
    "# First point:\n",
    "L_old    = straight_line_log_likelihood(x, y, sigmay, m, b)\n",
    "p_old    = straight_line_log_prior(m, b, mlimits, blimits)\n",
    "logprob_old = L_old + p_old\n",
    "\n",
    "for i in range(nsteps):\n",
    "\n",
    "    # Propose a step to a new point in parameter space:\n",
    "    mnew = m + np.random.normal() * mstep\n",
    "    bnew = b + np.random.normal() * bstep\n",
    "\n",
    "    # Evaluate probabilities at the proposed point:\n",
    "    L_new    = straight_line_log_likelihood(x, y, sigmay, mnew, bnew)\n",
    "    p_new    = straight_line_log_prior(mnew, bnew, mlimits, blimits)\n",
    "    logprob_new = L_new + p_new\n",
    "\n",
    "    # Metropolis-Hastings acceptance criterion:\n",
    "    if (np.exp(logprob_new - logprob_old) > np.random.uniform()):\n",
    "        # Accept the proposed sample:\n",
    "        m = mnew\n",
    "        b = bnew\n",
    "        L_old = L_new\n",
    "        p_old = p_new\n",
    "        logprob_old = logprob_new\n",
    "        naccept += 1\n",
    "    else:\n",
    "        # Reject the proposed sample; m,b stay the same, and we append them\n",
    "        # to the chain below.\n",
    "        pass\n",
    "\n",
    "    chain.append((b,m))\n",
    "    probs.append((L_old,p_old))\n",
    "\n",
    "# All steps taken, report:    \n",
    "    \n",
    "print('Acceptance fraction:', naccept/float(nsteps))"
   ]
  },
  {
   "cell_type": "code",
   "execution_count": null,
   "metadata": {
    "collapsed": false
   },
   "outputs": [],
   "source": [
    "# Pull m and b arrays out of the Markov chain and plot them:\n",
    "mm = [m for b,m in chain]\n",
    "bb = [b for b,m in chain]\n",
    "\n",
    "# Traces, for convergence inspection:\n",
    "plt.figure(figsize=(8,5))\n",
    "plt.subplot(2,1,1)\n",
    "plt.plot(mm, 'k-')\n",
    "plt.ylim(mlimits)\n",
    "plt.ylabel('m')\n",
    "plt.subplot(2,1,2)\n",
    "plt.plot(bb, 'k-')\n",
    "plt.ylabel('Intercept b')\n",
    "plt.ylim(blimits)"
   ]
  },
  {
   "cell_type": "markdown",
   "metadata": {},
   "source": [
    "* This looks pretty good: no plateauing, or drift.\n",
    "\n",
    "\n",
    "* A more rigorous test for convergence is due to Gelman & Rubin, and involves comparing the intrachain variance with the inter-chain variance in an ensemble. It's worth reading up on. \n",
    "\n",
    "\n",
    "* Foreman-Mackey & Hogg recommend looking at the autocorrelation length, and whether it stablizes during the run.\n",
    "\n",
    "\n",
    "* Note that we kept all the samples, and did not discard any at the beginning of the run as \"burn-in\". Nor did we thin the chain at all. Both of these are good ideas."
   ]
  },
  {
   "cell_type": "markdown",
   "metadata": {},
   "source": [
    "* Now let's look at the samples in parameter space, overlaid on our gridded posterior."
   ]
  },
  {
   "cell_type": "code",
   "execution_count": null,
   "metadata": {
    "collapsed": false
   },
   "outputs": [],
   "source": [
    "# First show contours from gridding calculation:\n",
    "plt.contour(bgrid, mgrid, posterior, pdf_contour_levels(posterior), colors='k')\n",
    "plt.gca().set_aspect((blimits[1]-blimits[0])/(mlimits[1]-mlimits[0]))\n",
    "\n",
    "# Scatterplot of m,b posterior samples, overlaid:\n",
    "plt.plot(bb, mm, 'b.', alpha=0.01)\n",
    "plot_mb_setup(mlimits,blimits)"
   ]
  },
  {
   "cell_type": "markdown",
   "metadata": {},
   "source": [
    "### Multi-dimensional Visualization\n",
    "\n",
    "* For a better view of a set of posterior samples, let's make a `corner` plot that shows *all 1D and 2D marginalized distributions*."
   ]
  },
  {
   "cell_type": "code",
   "execution_count": null,
   "metadata": {
    "collapsed": false
   },
   "outputs": [],
   "source": [
    "!pip install --upgrade --no-deps corner"
   ]
  },
  {
   "cell_type": "code",
   "execution_count": null,
   "metadata": {
    "collapsed": false
   },
   "outputs": [],
   "source": [
    "import corner\n",
    "corner.corner(chain, labels=['b','m'], range=[blimits,mlimits],quantiles=[0.16,0.5,0.84],\n",
    "                show_titles=True, title_args={\"fontsize\": 12},\n",
    "                plot_datapoints=True, fill_contours=True, levels=[0.68, 0.95], \n",
    "                color='b', bins=80, smooth=1.0);"
   ]
  },
  {
   "cell_type": "markdown",
   "metadata": {},
   "source": [
    "### Exercise:\n",
    "\n",
    "Now that you have seen the Metropolis sampler in action, let's try and break it. \n",
    "\n",
    "With your neighbor(s), see if you can change the control parameters (ie. not the priors) to make the sampler fail in various ways - and be ready to report back in 5 minutes."
   ]
  },
  {
   "cell_type": "markdown",
   "metadata": {
    "collapsed": false
   },
   "source": [
    "## Anyway:\n",
    "\n",
    "With a well-tuned sampler:\n",
    "\n",
    "\n",
    "* It looks like we made a nice, precise measurement! \n",
    "\n",
    "\n",
    "* Our next step is to check our model for accuracy."
   ]
  },
  {
   "cell_type": "markdown",
   "metadata": {},
   "source": [
    "\n",
    "-----\n",
    "\n",
    "\n",
    "# Model Checking\n",
    "\n",
    "* How do we know if our model is any good? There are two properties that \"good\" models have: the first is accuracy, and the second is efficiency. We'll return to th equestion of efficiency below.\n",
    "\n",
    "\n",
    "* Accurate models generate data that is *like* the observed data. What does this mean? First we have to define what similarity is, in this context. Visual impression is one very important way, that's usually best done first.\n",
    "\n",
    "\n",
    "* Test statistics that capture relevant features of the data are another. We'll look at the posterior predictive distributions for the datapoints, and for a particularly interesting test statistic, the reduced chi-squared."
   ]
  },
  {
   "cell_type": "markdown",
   "metadata": {},
   "source": [
    "## Visual Model Checking\n",
    "\n",
    "* Plot posterior predictions, in data space."
   ]
  },
  {
   "cell_type": "code",
   "execution_count": null,
   "metadata": {
    "collapsed": false
   },
   "outputs": [],
   "source": [
    "# Generate a straight line model for each parameter combination, and plot:\n",
    "X = np.linspace(xlimits[0],xlimits[1],50)\n",
    "for i in (np.random.rand(100)*len(chain)).astype(int):\n",
    "    b,m = chain[i]\n",
    "    plt.plot(X, b+X*m, 'b-', alpha=0.1)\n",
    "plot_line(m_ls, b_ls)\n",
    "\n",
    "# Overlay the data, for comparison:\n",
    "plot_yerr(x, y, sigmay);"
   ]
  },
  {
   "cell_type": "markdown",
   "metadata": {},
   "source": [
    "## Posterior Predictive Model Checking\n",
    "\n",
    "* If our model is the true one, then *replica* data generated by it should look like the one dataset we have. This means that *summaries* of both the real dataset, $T(d)$, and the replica datasets, $T(d^{\\rm rep})$, should be drawn from the same distribution. \n",
    "\n",
    "\n",
    "* If the real dataset was not generated with our model, then its summary may be an outlier from the distribution of summaries of replica datasets.\n",
    "\n",
    "\n",
    "* We can account for our uncertainty in the parameters $\\theta$ by marginalizing them out, which can be easily done by just making the histogram of $T(d^{\\rm rep}(\\theta))$ from our posterior samples, after drawing one replica dataset $d^{\\rm rep}$ from the model sampling distribution ${\\rm Pr}(d^{\\rm rep}\\,|\\,\\theta)$ for each one.\n",
    "\n",
    "\n",
    "* Then, we can ask: what is the posterior probability for the summary $T$ to be greater than the observed summary $T(d)$? If this is very small or very large, we should be suspicious of our model - because it is not predicting the data very accurately.\n",
    "\n",
    "${\\rm Pr}(T(d^{\\rm rep})>T(d)\\,|\\,d) = \\int I(T(d^{\\rm rep})>T(d))\\,{\\rm Pr}(d^{\\rm rep}\\,|\\,\\theta)\\,{\\rm Pr}(\\theta\\,|\\,d)\\;d\\theta\\,dd^{\\rm rep}$\n",
    "\n",
    "* Here $I$ is the \"indicator function\" - 1 or 0 according to the condition. "
   ]
  },
  {
   "cell_type": "code",
   "execution_count": null,
   "metadata": {
    "collapsed": false
   },
   "outputs": [],
   "source": [
    "# Test statistics: functions of the data, not the parameters.\n",
    "\n",
    "# 1) Reduced chisq for the best fit model:\n",
    "def test_statistic(x,y,sigmay,b_ls,m_ls):\n",
    "  return np.sum((y - m_ls*x - b_ls)**2.0/sigmay**2.0)/(len(y)-2)\n",
    "\n",
    "# 2) Reduced chisq for the best fit m=0 model:\n",
    "# def test_statistic(x,y,sigmay,dummy1,dummy2):\n",
    "#    return np.sum((y - np.mean(y))**2.0/sigmay**2.0)/(len(y)-1)\n",
    "\n",
    "# 3) Weighted mean y:\n",
    "# def test_statistic(x,y,sigmay,dummy1,dummy2):\n",
    "#    return np.sum(y/sigmay**2.0)/np.sum(1.0/sigmay**2.0)\n",
    "\n",
    "# 4) Variance of y:\n",
    "# def test_statistic(x,y,sigmay,dummy1,dummy2):\n",
    "#    return np.var(y)\n",
    "\n",
    "\n",
    "# Approximate the posterior predictive distribution for T, \n",
    "# by drawing a replica dataset for each sample (m,b) and computing its T:\n",
    "T = np.zeros(len(chain))\n",
    "for k,(b,m) in enumerate(chain):\n",
    "    yrep = b + m*x + np.random.randn(len(x)) * sigmay\n",
    "    T[k] = test_statistic(x,yrep,sigmay,b_ls,m_ls)\n",
    "    \n",
    "# Compare with the test statistic of the data, on a plot:   \n",
    "Td = test_statistic(x,y, sigmay, b_ls, m_ls)\n",
    "\n",
    "plt.hist(T, 100, histtype='step', color='blue', lw=2, range=(0.0,np.percentile(T,99.0)))\n",
    "plt.axvline(Td, color='black', linestyle='--', lw=2)\n",
    "plt.xlabel('Test statistic')\n",
    "plt.ylabel('Posterior predictive distribution')\n",
    "\n",
    "\n",
    "# What is Pr(T>T(d)|d)?\n",
    "\n",
    "greater = (T > Td)\n",
    "P = 100*len(T[greater])/(1.0*len(T))\n",
    "print(\"Pr(T>T(d)|d) = \",P,\"%\")"
   ]
  },
  {
   "cell_type": "markdown",
   "metadata": {},
   "source": [
    "* If our model is true (and we're just uncertain about its parameters, given the data), we can compute the probability of getting a $T$ less than that observed, where T is the reduced chisq relative to a straight line with some reference $(m,b)$.\n",
    "\n",
    "\n",
    "* Note that we did not have to look up the \"chi squared distribution\" - we can simply compute the posterior predictive distribution given our generative model.\n",
    "\n",
    "\n",
    "* Still, this test statistic looks a little bit strange: it's computed relative to the best fit straight line - which is a sensible reference but somehow not really in the spirit of fitting the data..."
   ]
  },
  {
   "cell_type": "markdown",
   "metadata": {},
   "source": [
    "* Instead, lets look at a *discrepancy measure* $T(d,\\theta)$ that is a function of both the data and the parameters, and compute the posterior probability of getting $T(d^{\\rm rep},\\theta) > T(d,\\theta)$:\n",
    "\n",
    "${\\rm Pr}(T(d^{\\rm rep},\\theta)>T(d,\\theta)\\,|\\,d) = \\int I(T(d^{\\rm rep},\\theta)>T(d,\\theta))\\,{\\rm Pr}(d^{\\rm rep}\\,|\\,\\theta)\\,{\\rm Pr}(\\theta\\,|\\,d)\\;d\\theta\\,dd^{\\rm rep}$"
   ]
  },
  {
   "cell_type": "code",
   "execution_count": null,
   "metadata": {
    "collapsed": false
   },
   "outputs": [],
   "source": [
    "# Discrepancy: functions of the data AND parameters.\n",
    "\n",
    "# 1) Reduced chisq for the model:\n",
    "def test_statistic(x,y,sigmay,b,m):\n",
    "   return np.sum((y - m*x - b)**2.0/sigmay**2.0)/(len(y)-2)\n",
    "\n",
    "# Approximate the posterior predictive distribution for T, \n",
    "# by drawing a replica dataset for each sample (m,b) and computing its T, \n",
    "# AND ALSO its Td (which now depends on the parameters, too):\n",
    "T = np.zeros(len(chain))\n",
    "Td = np.zeros(len(chain))\n",
    "for k,(b,m) in enumerate(chain):\n",
    "    yrep = b + m*x + np.random.randn(len(x)) * sigmay\n",
    "    T[k] = test_statistic(x,yrep,sigmay,b,m)\n",
    "    Td[k] = test_statistic(x,y,sigmay,b,m)\n",
    "    \n",
    "# Compare T with Td, on a scatter plot - how often is T>Td?   \n",
    "\n",
    "plt.scatter(Td, T, color='blue',alpha=0.1)\n",
    "plt.plot([0.0, 100.0], [0.0, 100.], color='k', linestyle='--', linewidth=2)\n",
    "plt.xlabel('Observed discrepancy $T(d,\\\\theta)$')\n",
    "plt.ylabel('Replicated discrepancy $T(d^{\\\\rm rep},\\\\theta)$')\n",
    "plt.ylim([0.0,np.percentile(Td,99.0)])\n",
    "plt.xlim([0.0,np.percentile(Td,99.0)])\n"
   ]
  },
  {
   "cell_type": "code",
   "execution_count": null,
   "metadata": {
    "collapsed": false
   },
   "outputs": [],
   "source": [
    "# Histogram of differences:\n",
    "\n",
    "diff = T-Td\n",
    "plt.hist(diff, 100, histtype='step', color='blue', lw=2, range=(np.percentile(diff,1.0),np.percentile(diff,99.0)))\n",
    "plt.axvline(0.0, color='black', linestyle='--', lw=2)\n",
    "plt.xlabel('Difference $T(d^{\\\\rm rep},\\\\theta) - T(d,\\\\theta)$')\n",
    "plt.ylabel('Posterior predictive distribution')\n",
    "\n",
    "\n",
    "# What is Pr(T>T(d)|d)?\n",
    "\n",
    "greater = (T > Td)\n",
    "Pline = 100*len(T[greater])/(1.0*len(T))\n",
    "print(\"Pr(T>T(d)|d) = \",Pline,\"%\")"
   ]
  },
  {
   "cell_type": "markdown",
   "metadata": {},
   "source": [
    "* The conclusion drawn from the discrepancy is more interesting, in this case. All our $\\theta = (m,b)$ samples are plausible, so replica datasets generated by them should also be plausible. The straight line defined by each $(m,b)$ should go through the real data points as readily (*on average*) as it does its replica dataset.\n",
    "\n",
    "\n",
    "* Do our posterior predictive $p-$values suggest we need to improve our model? What about the visual check?\n",
    "\n",
    "\n",
    "* The reduced chi-squared is actually not such an interesting test statistic - because we already used it in the likelihood! Better discrepancy measures would stress-test *different* aspects of the model - such as the correlations between datapoints, or the behavior of the model in particular places, etc. "
   ]
  },
  {
   "cell_type": "markdown",
   "metadata": {},
   "source": [
    "# Model Expansion\n",
    "\n",
    "\n",
    "* Maybe I see some curvature in the data - or maybe I have a new astrophysical idea for how this data was generated. Let's try adding an extra parameter to the model, to make a quadratic function: \n",
    "\n",
    "$y = m x + b + q x^2$\n",
    "\n",
    "\n",
    "* The coefficient $q$ is probably pretty small (we were originally expecting to only have to use a straight line model for these data!), so I guess we can assign a fairly narrow prior, centered on zero."
   ]
  },
  {
   "cell_type": "code",
   "execution_count": null,
   "metadata": {
    "collapsed": false
   },
   "outputs": [],
   "source": [
    "def quadratic_log_likelihood(x, y, sigmay, m, b, q):\n",
    "    '''\n",
    "    Returns the log-likelihood of drawing data values y at\n",
    "    known values x given Gaussian measurement noise with standard\n",
    "    deviation with known sigmay, where the \"true\" y values are\n",
    "    y_t = m*x + b + q**2\n",
    "\n",
    "    x: list of x coordinates\n",
    "    y: list of y coordinates\n",
    "    sigmay: list of y uncertainties\n",
    "    m: scalar slope\n",
    "    b: scalar line intercept\n",
    "    q: quadratic term coefficient\n",
    "\n",
    "    Returns: scalar log likelihood\n",
    "    '''\n",
    "    return (np.sum(np.log(1./(np.sqrt(2.*np.pi) * sigmay))) +\n",
    "            np.sum(-0.5 * (y - (m*x + b + q*x**2))**2 / sigmay**2))\n",
    "    \n",
    "    \n",
    "def quadratic_log_prior(m, b, q, mlimits, blimits, qpars):\n",
    "    # m and b:\n",
    "    log_mb_prior = straight_line_log_prior(m, b, mlimits, blimits)\n",
    "    # q:\n",
    "    log_q_prior = np.log(1./(np.sqrt(2.*np.pi) * qpars[1])) - \\\n",
    "                  0.5 * (q - qpars[0])**2 / qpars[1]**2\n",
    "    return log_mb_prior + log_q_prior\n",
    "    \n",
    "    \n",
    "def quadratic_log_posterior(x,y,sigmay,m,b,q):\n",
    "    return (quadratic_log_likelihood(x,y,sigmay,m,b,q) +\n",
    "            quadratic_log_prior(m,b,q))"
   ]
  },
  {
   "cell_type": "code",
   "execution_count": null,
   "metadata": {
    "collapsed": false
   },
   "outputs": [],
   "source": [
    "# Assign Gaussian prior for q:\n",
    "qpars = [0.0,0.003]\n",
    "\n",
    "# Initial m, b, q, at center of prior:\n",
    "m = 0.5*(mlimits[0]+mlimits[1])\n",
    "b = 0.5*(blimits[0]+blimits[1])\n",
    "q = qpars[0]\n",
    "\n",
    "# Step sizes\n",
    "mstep, bstep, qstep = 0.05, 5.0, 0.0003\n",
    "        \n",
    "# How many steps?\n",
    "nsteps = 10000\n",
    "    \n",
    "qchain = []\n",
    "qprobs = []\n",
    "naccept = 0\n",
    "    \n",
    "print('Running Metropolis sampler for', nsteps, 'steps')\n",
    "\n",
    "# First point:\n",
    "L_old    = quadratic_log_likelihood(x, y, sigmay, m, b, q)\n",
    "p_old    = quadratic_log_prior(m, b, q, mlimits, blimits, qpars)\n",
    "logprob_old = L_old + p_old\n",
    "\n",
    "for i in range(nsteps):\n",
    "    # step\n",
    "    mnew = m + np.random.normal() * mstep\n",
    "    bnew = b + np.random.normal() * bstep\n",
    "    qnew = q + np.random.normal() * qstep\n",
    "\n",
    "    # evaluate probabilities\n",
    "    L_new    = quadratic_log_likelihood(x, y, sigmay, mnew, bnew, qnew)\n",
    "    p_new    = quadratic_log_prior(mnew, bnew, qnew, mlimits, blimits, qpars)\n",
    "    logprob_new = L_new + p_new\n",
    "\n",
    "    if (np.exp(logprob_new - logprob_old) > np.random.uniform()):\n",
    "        # Accept the new sample:\n",
    "        m = mnew\n",
    "        b = bnew\n",
    "        q = qnew\n",
    "        L_old = L_new\n",
    "        p_old = p_new\n",
    "        logprob_old = logprob_new\n",
    "        naccept += 1\n",
    "    else:\n",
    "        # Reject, keep the old sample:\n",
    "        pass\n",
    "\n",
    "    qchain.append((b,m,q))\n",
    "    qprobs.append((L_old,p_old))\n",
    "    \n",
    "print('Acceptance fraction:', naccept/float(nsteps))"
   ]
  },
  {
   "cell_type": "code",
   "execution_count": null,
   "metadata": {
    "collapsed": false
   },
   "outputs": [],
   "source": [
    "# Pull m, b and q arrays out of the Markov chain and plot them:\n",
    "mm = [m for b,m,q in qchain]\n",
    "bb = [b for b,m,q in qchain]\n",
    "qq = [q for b,m,q in qchain]\n",
    "\n",
    "# Traces, for convergence inspection:\n",
    "plt.figure(figsize=(8,5))\n",
    "plt.subplot(3,1,1)\n",
    "plt.plot(mm, 'k-')\n",
    "plt.ylim(mlimits)\n",
    "plt.ylabel('m')\n",
    "plt.subplot(3,1,2)\n",
    "plt.plot(bb, 'k-')\n",
    "plt.ylim(blimits)\n",
    "plt.ylabel('Intercept b')\n",
    "plt.subplot(3,1,3)\n",
    "plt.plot(qq, 'k-')\n",
    "plt.ylim([qpars[0]-3*qpars[1],qpars[0]+3*qpars[1]])\n",
    "plt.ylabel('Quadratic coefficient q')"
   ]
  },
  {
   "cell_type": "code",
   "execution_count": null,
   "metadata": {
    "collapsed": false
   },
   "outputs": [],
   "source": [
    "corner.corner(qchain, labels=['b','m','q'], range=[blimits,mlimits,(qpars[0]-3*qpars[1],qpars[0]+3*qpars[1])],quantiles=[0.16,0.5,0.84],\n",
    "                show_titles=True, title_args={\"fontsize\": 12},\n",
    "                plot_datapoints=True, fill_contours=True, levels=[0.68, 0.95], \n",
    "                color='green', bins=80, smooth=1.0);"
   ]
  },
  {
   "cell_type": "markdown",
   "metadata": {},
   "source": [
    "* All parameters are again precisely constrained.\n",
    "\n",
    "\n",
    "* The gradient and intercept $m$ and $b$ are significantly different from before, though..."
   ]
  },
  {
   "cell_type": "markdown",
   "metadata": {},
   "source": [
    "## Checking the Quadratic Model"
   ]
  },
  {
   "cell_type": "code",
   "execution_count": null,
   "metadata": {
    "collapsed": false
   },
   "outputs": [],
   "source": [
    "# Posterior visual check, in data space:\n",
    "X = np.linspace(xlimits[0],xlimits[1],100)\n",
    "for i in (np.random.rand(100)*len(chain)).astype(int):\n",
    "    b,m,q = qchain[i]\n",
    "    plt.plot(X, b + X*m + q*X**2, 'g-', alpha=0.1)\n",
    "plot_line(m_ls, b_ls);\n",
    "plot_yerr(x, y, sigmay)"
   ]
  },
  {
   "cell_type": "code",
   "execution_count": null,
   "metadata": {
    "collapsed": false
   },
   "outputs": [],
   "source": [
    "# Discrepancy: functions of the data AND parameters.\n",
    "\n",
    "# 1) Reduced chisq for the model:\n",
    "def test_statistic(x,y,sigmay,b,m,q):\n",
    "   return np.sum((y - m*x - b - q*x**2)**2.0/sigmay**2.0)/(len(y)-3)\n",
    "\n",
    "# 2) Some other discrepancy measure:\n",
    "\n",
    "\n",
    "# Approximate the posterior predictive distribution for T, \n",
    "# by drawing a replica dataset for each sample (m,b) and computing its T, \n",
    "# AND ALSO its Td:\n",
    "T = np.zeros(len(qchain))\n",
    "Td = np.zeros(len(qchain))\n",
    "for k,(b,m,q) in enumerate(qchain):\n",
    "    yp = b + m*x + q*x**2 + sigmay*np.random.randn(len(x))\n",
    "    T[k] = test_statistic(x,yp,sigmay,b,m,q)\n",
    "    Td[k] = test_statistic(x,y,sigmay,b,m,q)\n",
    "\n",
    "# Histogram of differences:\n",
    "diff = T - Td\n",
    "plt.hist(diff, 100, histtype='step', color='green', lw=2, range=(np.percentile(diff,1.0),np.percentile(diff,99.0)))\n",
    "plt.axvline(0.0, color='black', linestyle='--', lw=2)\n",
    "plt.xlabel('Difference $T(d^{\\\\rm rep},\\\\theta) - T(d,\\\\theta)$')\n",
    "plt.ylabel('Posterior predictive distribution')\n",
    "\n",
    "# What is Pr(T>T(d)|d)?\n",
    "greater = (T > Td)\n",
    "Pquad = 100*len(T[greater])/(1.0*len(T))\n",
    "print(\"Pr(T>T(d)|d,quadratic) = \",Pquad,\"%, cf. Pr(T>T(d)|d,straightline) = \",Pline,\"%\")"
   ]
  },
  {
   "cell_type": "markdown",
   "metadata": {},
   "source": [
    "* How do the two models compare? Which one matches the data better?"
   ]
  },
  {
   "cell_type": "markdown",
   "metadata": {},
   "source": [
    "All of the above discussion was about *model checking* - assessment of the ability of a model to make accurate predictions. \n",
    "\n",
    "\n",
    "* We used *replicated data*, drawn from the model assuming it was true, and then looked at the probability of getting (a summary of) the data, given this assumption.\n",
    "\n",
    "\n",
    "* Note the parallel with frequentist hypothesis testing:\n",
    "\n",
    "**Frequentist:** assume the null hypothesis $H_0$, and calculate the probability of getting the estimators for the parameters by chance, by studying the distribution of a test statistic over a large ensemble of replica datasets (which under certain assumptions is a standard distribution).\n",
    "\n",
    "**Bayesian:** assume the alternative hypothesis $H_1$, and calculate the posterior predictive probability distribution for the test statistic given the data, relative to the one test statistic we observed, marginalizing over the model parameters. In general this distribution will be non-standard, but we can often draw samples from the posterior PDF anyway.\n",
    "\n",
    "\n",
    "* The Bayesian posterior predictive check is fairly conservative, by comparison with tests that focus on the best-fit parameters. This can be a good thing, to err on the side of caution. "
   ]
  },
  {
   "cell_type": "markdown",
   "metadata": {},
   "source": [
    "### Hack Suggestion: Bayesian Cross Validation with SciKit-Learn\n",
    "\n",
    "* An interesting alternative to posterior predictive model checking is to follow the machine learning approach, and use cross-validation to assess model prediction accuracy.\n",
    "\n",
    "\n",
    "* What should the algorithm be? Here's a starter suggestion:\n",
    "```\n",
    "   split data into training set dt and holdback test set dh\n",
    "      infer Pr(x|dt), drawing posterior samples in x\n",
    "      predict dhp\n",
    "      compute score, using dhp and dh  \n",
    "   combine scores   \n",
    "```\n",
    "* What should the \"score\" be? `Pr(dh|dt)`, marginalizing over x? Machine learning \"Accuracy\"? How should we combine the scores?\n",
    "\n",
    "\n",
    "* `scikit-learn` already has a nice API, with (I guess) a `Model` class and some very useful cross-validation machinery. Maybe we could write `BayesianModel` that inherits from `Model`, and give it a sampler, priors, etc, as well as `fit` and `predict` methods (which could return *ensembles of samples* instead of point estimates)."
   ]
  },
  {
   "cell_type": "markdown",
   "metadata": {},
   "source": [
    "-----\n",
    "\n",
    "# Model Comparison with the Bayesian Evidence\n",
    "\n",
    "* The evidence for model $H$, ${\\rm Pr}(d\\,|\\,H)$, enables a form of Bayesian hypothesis testing via the evidence ratio (or \"odds ratio\", or \"Bayes Factor\"):\n",
    "\n",
    "$R = \\frac{{\\rm Pr}(d\\,|\\,H_1)}{{\\rm Pr}(d\\,|\\,H_0)}$\n",
    "\n",
    "\n",
    "* This quantity is similar to a likelihood ratio, but it's a *fully marginalized likelihood ratio* - which is to say that it *takes into account our uncertainty about values of the parameters of each model by integrating over them all.*\n",
    "\n",
    "\n",
    "* As well predictive accuracy, the other virtue a model can have is *efficiency*. The evidence summarizes *all* the information we put into our model inferences, via both the data *and* our prior beliefs.  You can see this by inspection of the integrand of the fully marginalized likelihood (#FML) integral:\n",
    "\n",
    "${\\rm Pr}(d\\,|\\,H) = \\int\\;{\\rm Pr}(d\\,|\\,\\theta,H)\\;{\\rm Pr}(\\theta\\,|\\,H)\\;d\\theta$\n",
    "\n",
    "\n",
    "* The consequence of this is that the Evidence depends on *both* model accuracy (goodness of fit, ability to predict data) *and* efficiency (not over-fitting by having implausible flexibility). \n",
    "\n",
    "* The following figure might help illustrate how the evidence depends on both goodness of fit (through the likelihood) and the complexity of the model (via the prior). In this 1D case, a Gaussian likelihood (red) is integrated over a uniform prior (blue): the evidence can be shown to be given by $E = f \\times L_{\\rm max}$, where $L_{\\rm max}$ is the maximum possible likelihood, and $f$ is the fraction of the blue dashed area that is shaded red. $f$ is 0.31, 0.98, and 0.07 in each case."
   ]
  },
  {
   "cell_type": "code",
   "execution_count": null,
   "metadata": {
    "collapsed": false
   },
   "outputs": [],
   "source": [
    "from IPython.display import Image\n",
    "Image('evidence.png')"
   ]
  },
  {
   "cell_type": "markdown",
   "metadata": {},
   "source": [
    "The illustration above shows us a few things:\n",
    "\n",
    "1) The evidence can be made arbitrarily small by increasing the prior volume: the evidence is more conservative than focusing on the goodness of fit ($L_{\\rm max}$) alone.  Of course if you assign a prior you don't believe, then you should not expect to get out a meaningful answer for ${\\rm Pr}(d\\,|\\,H)$.\n",
    "\n",
    "2) The evidence is linearly sensitive to prior volume ($f$), but exponentially sensitive to goodness of fit ($L_{\\rm max}$). It's still a likelihood, after all."
   ]
  },
  {
   "cell_type": "markdown",
   "metadata": {},
   "source": [
    "* The odds ratio can, in principle, be combined with the ratio of priors for each model to give us the relative probability for each model being true, given the data:\n",
    "\n",
    "$\\frac{{\\rm Pr}(H_1|d)}{{\\rm Pr}(H_0|d)} = \\frac{{\\rm Pr}(d|H_1)}{{\\rm Pr}(d|H_0)} \\; \\frac{{\\rm Pr}(H_1)}{{\\rm Pr}(H_0)}$\n",
    "\n",
    "\n",
    "* Prior probabilities are very difficult to assign in most practical problems (notice that no theorist ever provides them). So, one way to interpret the evidence ratio is to note that:\n",
    "\n",
    "  * If you think that having seen the data, the two models are *still equally probable,*\n",
    "  * then the evidence ratio in favor of $H_1$ is you the odds that you would have had to have been willing to take against $H_1$, before seeing the data.\n",
    "  * That is: the evidence ratio updates the prior ratio into a posterior one - as usual.\n",
    "  "
   ]
  },
  {
   "cell_type": "markdown",
   "metadata": {},
   "source": [
    "## Calculating the Evidence\n",
    "\n",
    "* The FML is in general quite difficult to calculate, since it involves averaging the likelihood over the prior. MCMC gives us samples from the posterior - and these cannot, it turns out, be reprocessed so as to estimate the evidence stably.\n",
    "\n",
    "\n",
    "* A number of sampling algorithms have been developed that *do* calculate the evidence, during the process of sampling. These include:\n",
    "\n",
    "  * Nested Sampling (including MultiNest and DNest)\n",
    "  * Parallel Tempering, Thermodynamic Integration\n",
    "  * ...\n"
   ]
  },
  {
   "cell_type": "markdown",
   "metadata": {},
   "source": [
    "* If we draw samples from the *prior*, we can then estimate the evidence via the usual sum over samples,\n",
    "\n",
    "${\\rm Pr}(d\\,|\\,H) \\approx \\sum_k\\;{\\rm Pr}(d\\,|\\,\\theta,H)$\n",
    "  \n",
    "\n",
    "* Sampling the prior and computing the likelihood at each sample position is called \"Simple Monte Carlo\", and while it works in certain low-dimensional situations, in general it is very inefficient (at best). \n",
    "\n",
    "\n",
    "* Still, let's give it a try on our two models, and attempt to compute the Bayes Factor \n",
    "  \n",
    "$R = \\frac{{\\rm Pr}(d\\,|\\,{\\rm quadratic})}{{\\rm Pr}(d\\,|\\,{\\rm straight line})}$"
   ]
  },
  {
   "cell_type": "code",
   "execution_count": null,
   "metadata": {
    "collapsed": false
   },
   "outputs": [],
   "source": [
    "# Draw a large number of prior samples and calculate the log likelihood for each one:\n",
    "N = 50000\n",
    "\n",
    "# Set the priors:\n",
    "mlimits = [0.0, 2.0]\n",
    "blimits = [0.0, 200.0]\n",
    "qpars = [0.0,0.003]\n",
    "\n",
    "# Sample from the prior:\n",
    "mm = np.random.uniform(mlimits[0],mlimits[1], size=N)\n",
    "bb = np.random.uniform(blimits[0],blimits[1], size=N)\n",
    "qq = qpars[0] + qpars[1]*np.random.randn(N)\n",
    "\n",
    "# We'll store the posterior samples as a \"chain\" again\n",
    "schain = []\n",
    "\n",
    "log_likelihood_straight_line = np.zeros(N)\n",
    "log_likelihood_quadratic = np.zeros(N)\n",
    "for i in range(N):\n",
    "    log_likelihood_straight_line[i] = straight_line_log_likelihood(x, y, sigmay, mm[i], bb[i])\n",
    "    log_likelihood_quadratic[i] = quadratic_log_likelihood(x, y, sigmay, mm[i], bb[i], qq[i])    \n",
    "\n",
    "    schain.append((bb[i],mm[i],qq[i]))\n",
    "    \n",
    "# Let's also compute some unnormalized likelihoods as well, to enable \n",
    "# posterior inferences via weighted sums over the samples:\n",
    "\n",
    "likelihood_straight_line = np.exp(log_likelihood_straight_line - log_likelihood_straight_line.max())\n",
    "likelihood_quadratic = np.exp(log_likelihood_quadratic - log_likelihood_quadratic.max())"
   ]
  },
  {
   "cell_type": "markdown",
   "metadata": {},
   "source": [
    "Now that we have the likelihood for each sample, let's check that we did actually sample the posterior well. Here are the corner plots (note the weights, and the need to *not* plot the points as well as the contours!):"
   ]
  },
  {
   "cell_type": "code",
   "execution_count": null,
   "metadata": {
    "collapsed": false
   },
   "outputs": [],
   "source": [
    "corner.corner(schain, labels=['b','m','q'], range=[blimits,mlimits,(qpars[0]-3*qpars[1],qpars[0]+3*qpars[1])],quantiles=[0.16,0.5,0.84],\n",
    "                weights=likelihood_straight_line,\n",
    "                show_titles=True, title_args={\"fontsize\": 12},\n",
    "                plot_datapoints=False, fill_contours=True, levels=[0.68, 0.95], \n",
    "                color='blue', bins=80, smooth=1.0);"
   ]
  },
  {
   "cell_type": "markdown",
   "metadata": {},
   "source": [
    "### Question:\n",
    "\n",
    "* Why does $q$ appear in this plot? Does it affect the evidence calculation?"
   ]
  },
  {
   "cell_type": "code",
   "execution_count": null,
   "metadata": {
    "collapsed": false
   },
   "outputs": [],
   "source": [
    "corner.corner(schain, labels=['b','m','q'], range=[blimits,mlimits,(qpars[0]-3*qpars[1],qpars[0]+3*qpars[1])],quantiles=[0.16,0.5,0.84],\n",
    "                weights=likelihood_quadratic,\n",
    "                show_titles=True, title_args={\"fontsize\": 12},\n",
    "                plot_datapoints=False, fill_contours=True, levels=[0.68, 0.95], \n",
    "                color='green', bins=80, smooth=1.0);"
   ]
  },
  {
   "cell_type": "code",
   "execution_count": null,
   "metadata": {
    "collapsed": false
   },
   "outputs": [],
   "source": [
    "def logaverage(x):\n",
    "    mx = x.max()\n",
    "    return np.log(np.sum(np.exp(x - mx))) + mx - np.log(len(x))\n",
    "\n",
    "log_evidence_straight_line = logaverage(log_likelihood_straight_line)\n",
    "log_evidence_quadratic = logaverage(log_likelihood_quadratic)\n",
    "\n",
    "print('log Evidence for Straight Line Model:', log_evidence_straight_line)\n",
    "print('log Evidence for Quadratic Model:', log_evidence_quadratic)\n",
    "\n",
    "print('Odds ratio in favour of the Quadratic Model:', np.int(np.exp(log_evidence_quadratic - log_evidence_straight_line)),\"to 1\")"
   ]
  },
  {
   "cell_type": "markdown",
   "metadata": {},
   "source": [
    "### Exercise:\n",
    "\n",
    "Play around with the Simple Monte Carlo sampler, and see if you can break it. \n",
    "\n",
    "* Try running it a few times, with the same N: how precise these evidence estimates from 50000 samples?\n",
    "\n",
    "* We said we believed *a priori* that $q$ should be small, and set the prior width accordingly. What would happen if we started to doubt ourselves, and re-assigned a broader prior? Try running with some larger values for the Gaussian prior width $q[1]$, and note what happens to the Bayes Factor."
   ]
  },
  {
   "cell_type": "markdown",
   "metadata": {},
   "source": [
    "## Conclusions\n",
    "\n",
    "* The Bayesian evidence is *qualitatively different* from other model assessments. While they focus primarily on *prediction accuracy,* the evidence is the way in which information from the prior PDF propagates through into our posterior beliefs about the model as a whole.\n",
    "\n",
    "\n",
    "* There are no mathematical limitations to its use, in contrast to various other hypothesis tests that are only valid under certain assumptions (such as the models being nested). Any two models can be compared and the odds ratio computed.\n",
    "\n",
    "\n",
    "* Good things to keep in mind when using, or reading about, the evidence for a model:\n",
    "\n",
    "  * Garbage in, garbage out: if you don't believe your prior, you won't believe your evidence.\n",
    "  \n",
    "  * The evidence is only linearly sensitive to prior volume, but exponentially sensitive to goodness of fit. If you want a clearer sense of which model makes the data more probable, get more data.\n",
    "  \n",
    "  * If you don't believe your priors, the evidence can be a distraction from things you care about more - like accuracy, or cost.\n",
    "  \n",
    "  * If you do believe your priors, the evidence is very useful: it appears in second-level inferences, when parts of your model that you previously considered to be constant now need to be varied and inferred. The FML is only one parameter thaw away from becoming a likelihood.\n",
    "  \n",
    "  \n",
    "\n",
    "\n",
    "\n",
    "\n",
    "."
   ]
  },
  {
   "cell_type": "markdown",
   "metadata": {},
   "source": [
    "## More Hacks!\n",
    "\n",
    "* **Intrinsic Scatter**: Implement the log likelihood for the straight line plus intrinsic scatter, and compare it with the other models via the evidence. This is more of an exercise than a hack, but it's good to practice.\n",
    "\n",
    "\n",
    "* **Better Discrepancy Measures:** Design and implement some more interesting discrepancy measures $T(d,\\theta)$ that do a better job of highlighting the failures of the straight line model.\n",
    "\n",
    "\n",
    "* **Improve This Notebook**: The coding in this notebook leaves a lot to be desired. The samplers could be packaged into `def`'s for much easier re-use, and the plots could be combined to allow much easier comparison. Also, who does linear algebra these days? Surely `scikit-learn` has a linear model we could use. Pull requests are most welcome!\n",
    "\n",
    "\n",
    "* **Simple Monte Carlo**: Write a general purpose Simple Monte Carlo sampler whose API mimics something well-used (like `emcee`), package it up, and compete for business. Can you automate the calculation of the evidence to a desired precision? If you can, I think that will probably guarantee that  you have sampled the posterior well. \n",
    "\n",
    "\n",
    "* **Simple Monte Carlo Sci-Kit Learn Model:** So that the machine learning community can experiment with scoring with the Bayesian evidence. "
   ]
  },
  {
   "cell_type": "markdown",
   "metadata": {
    "collapsed": false
   },
   "source": [
    "-----\n",
    ".\n",
    "\n",
    "\n",
    "\n",
    "\n",
    "\n",
    "\n",
    "\n",
    "\n",
    "\n",
    "\n",
    "Copyright (C) Phil Marshall, Daniel Foreman-Mackey & Dustin Lang\n",
    "\n",
    "This program is free software; you can redistribute it and/or\n",
    "modify it under the terms of the GNU General Public License\n",
    "as published by the Free Software Foundation; either version 2\n",
    "of the License, or (at your option) any later version.\n",
    "\n",
    "This program is distributed in the hope that it will be useful,\n",
    "but WITHOUT ANY WARRANTY; without even the implied warranty of\n",
    "MERCHANTABILITY or FITNESS FOR A PARTICULAR PURPOSE.  See the\n",
    "GNU General Public License for more details.\n",
    "\n",
    "You should have received a copy of the [GNU General Public License](https://www.gnu.org/licenses/old-licenses/gpl-2.0.en.html)\n",
    "along with this program; if not, write to the Free Software\n",
    "Foundation, Inc., 51 Franklin Street, Fifth Floor, Boston, MA  02110-1301, USA."
   ]
  },
  {
   "cell_type": "code",
   "execution_count": null,
   "metadata": {
    "collapsed": true
   },
   "outputs": [],
   "source": []
  }
 ],
 "metadata": {
  "kernelspec": {
   "display_name": "Python 2",
   "language": "python",
   "name": "python2"
  },
  "language_info": {
   "codemirror_mode": {
    "name": "ipython",
    "version": 2
   },
   "file_extension": ".py",
   "mimetype": "text/x-python",
   "name": "python",
   "nbconvert_exporter": "python",
   "pygments_lexer": "ipython2",
   "version": "2.7.10"
  }
 },
 "nbformat": 4,
 "nbformat_minor": 0
}
