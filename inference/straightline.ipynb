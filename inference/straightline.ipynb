{
 "cells": [
  {
   "cell_type": "markdown",
   "metadata": {},
   "source": [
    "# Fitting a Straight Line\n",
    "\n",
    "_Phil Marshall, Daniel Foreman-Mackey and Dustin Lang_\n",
    "\n",
    "_Astro Hack Week, New York, September 2015_ "
   ]
  },
  {
   "cell_type": "markdown",
   "metadata": {},
   "source": [
    "### Goals:\n",
    "\n",
    "* Set up and carry out a simple Bayesian inference, characterizing a simple posterior PDF\n",
    "\n",
    "\n",
    "* Compare brute force, analytic and MCMC sampled results\n",
    "\n",
    "\n",
    "* Check models, with posterior predictive distributions of test statistics\n",
    "\n",
    "\n",
    "* Use the Bayesian Evidence to compare various models, and understand its properties"
   ]
  },
  {
   "cell_type": "code",
   "execution_count": null,
   "metadata": {
    "collapsed": false
   },
   "outputs": [],
   "source": [
    "%load_ext autoreload\n",
    "%autoreload 2\n",
    "\n",
    "from __future__ import print_function\n",
    "import numpy as np\n",
    "\n",
    "import matplotlib.pyplot as plt\n",
    "%matplotlib inline\n",
    "\n",
    "plt.rcParams['figure.figsize'] = (8.0, 8.0)\n",
    "plt.rcParams['savefig.dpi'] = 100"
   ]
  },
  {
   "cell_type": "code",
   "execution_count": null,
   "metadata": {
    "collapsed": true
   },
   "outputs": [],
   "source": [
    "from straightline_utils import *"
   ]
  },
  {
   "cell_type": "markdown",
   "metadata": {},
   "source": [
    "## The Data\n",
    "\n",
    "* Let's generate a simple dataset: observations of $y$ with reported uncertainties $\\sigma_y$, at given $x$ values."
   ]
  },
  {
   "cell_type": "code",
   "execution_count": null,
   "metadata": {
    "collapsed": false
   },
   "outputs": [],
   "source": [
    "(x,y,sigmay) = generate_data()\n",
    "\n",
    "plot_yerr(x, y, sigmay)"
   ]
  },
  {
   "cell_type": "markdown",
   "metadata": {},
   "source": [
    "## Least squares fitting\n",
    "\n",
    "An industry standard: find the slope and intercept that minimize the mean square residual. Since the data depend linearly on the parameters, the least squares solution can be found by a matrix inversion and multiplication, conveneniently packed in `numpy.linalg`."
   ]
  },
  {
   "cell_type": "code",
   "execution_count": null,
   "metadata": {
    "collapsed": false
   },
   "outputs": [],
   "source": [
    "# Linear algebra: weighted least squares\n",
    "N = len(x)\n",
    "A = np.zeros((N,2))\n",
    "A[:,0] = 1. / sigmay\n",
    "A[:,1] =  x / sigmay\n",
    "b = y / sigmay\n",
    "theta,nil,nil,nil = np.linalg.lstsq(A, b)\n",
    "plot_yerr(x, y, sigmay)\n",
    "b_ls,m_ls = theta\n",
    "print('Least Squares (maximum likelihood) estimator:', b_ls,m_ls)\n",
    "plot_line(m_ls, b_ls);"
   ]
  },
  {
   "cell_type": "markdown",
   "metadata": {},
   "source": [
    "## Evaluating posterior probability on a grid\n",
    "\n",
    "This procedure will get us the Bayesian solution to the problem - not an estimator, but a probability distribution for the parameters m and b. This PDF captures the uncertainty in the model parameters given the data. For simple, 2-dimensional parameter spaces like this one, evaluating on a grid is not a bad way to go. We'll see that the least squares solution lies at the peak of the posterior PDF - for a certain set of assumptions about the data and the model."
   ]
  },
  {
   "cell_type": "code",
   "execution_count": null,
   "metadata": {
    "collapsed": false
   },
   "outputs": [],
   "source": [
    "def straight_line_log_likelihood(x, y, sigmay, m, b):\n",
    "    '''\n",
    "    Returns the log-likelihood of drawing data values *y* at\n",
    "    known values *x* given Gaussian measurement noise with standard\n",
    "    deviation with known *sigmay*, where the \"true\" y values are\n",
    "    *y_t = m * x + b*\n",
    "\n",
    "    x: list of x coordinates\n",
    "    y: list of y coordinates\n",
    "    sigmay: list of y uncertainties\n",
    "    m: scalar slope\n",
    "    b: scalar line intercept\n",
    "\n",
    "    Returns: scalar log likelihood\n",
    "    '''\n",
    "    return (np.sum(np.log(1./(np.sqrt(2.*np.pi) * sigmay))) +\n",
    "            np.sum(-0.5 * (y - (m*x + b))**2 / sigmay**2))\n",
    "\n",
    "\n",
    "def straight_line_log_prior(m, b, mlimits, blimits):\n",
    "    # Uniform in m:\n",
    "    if (m < mlimits[0]) | (m > mlimits[1]):\n",
    "        log_m_prior = -np.inf\n",
    "    else:\n",
    "        log_m_prior = -np.log(mlimits[1] - mlimits[0])\n",
    "    # Uniform in b:\n",
    "    if (b < blimits[0]) | (b > blimits[1]):\n",
    "        log_b_prior = -np.inf\n",
    "    else:\n",
    "        log_b_prior = -np.log(blimits[1] - blimits[0])\n",
    "        \n",
    "    return log_m_prior + log_b_prior\n",
    "\n",
    "\n",
    "def straight_line_log_posterior(x,y,sigmay,m,b,mlimits,blimits):\n",
    "    return (straight_line_log_likelihood(x,y,sigmay,m,b) +\n",
    "            straight_line_log_prior(m,b,mlimits,blimits))"
   ]
  },
  {
   "cell_type": "code",
   "execution_count": null,
   "metadata": {
    "collapsed": false
   },
   "outputs": [],
   "source": [
    "# Evaluate log P(m,b | x,y,sigmay) on a grid.\n",
    "\n",
    "# Define uniform prior limits, enforcing positivity in both parameters:\n",
    "mlimits = [0.0, 2.0]\n",
    "blimits = [0.0, 200.0]\n",
    "\n",
    "# Set up grid:\n",
    "mgrid = np.linspace(mlimits[0], mlimits[1], 101)\n",
    "bgrid = np.linspace(blimits[0], blimits[1], 101)\n",
    "log_posterior = np.zeros((len(mgrid),len(bgrid)))\n",
    "\n",
    "# Evaluate log posterior PDF:\n",
    "for im,m in enumerate(mgrid):\n",
    "    for ib,b in enumerate(bgrid):\n",
    "        log_posterior[im,ib] = straight_line_log_posterior(x, y, sigmay, m, b, mlimits, blimits)\n",
    "\n",
    "# Convert to probability density and plot\n",
    "\n",
    "posterior = np.exp(log_posterior - log_posterior.max())\n",
    "\n",
    "plt.imshow(posterior, extent=[blimits[0],blimits[1],mlimits[0],mlimits[1]],cmap='Blues',\n",
    "           interpolation='none', origin='lower', aspect=(blimits[1]-blimits[0])/(mlimits[1]-mlimits[0]),\n",
    "           vmin=0, vmax=1)\n",
    "plt.contour(bgrid, mgrid, posterior, pdf_contour_levels(posterior), colors='k')\n",
    "\n",
    "i = np.argmax(posterior)\n",
    "i,j = np.unravel_index(i, posterior.shape)\n",
    "print('Grid maximum posterior values (m,b) =', mgrid[i], bgrid[j])\n",
    "\n",
    "plt.title('Straight line: posterior PDF for parameters');\n",
    "plt.plot(b_ls, m_ls, 'r+', ms=12, mew=4);\n",
    "plot_mb_setup(mlimits,blimits);"
   ]
  },
  {
   "cell_type": "markdown",
   "metadata": {},
   "source": [
    "## MCMC Sampling\n",
    "\n",
    "In problems with higher dimensional parameter spaces, we need a more efficient way of approximating the posterior PDF - both when characterizing it in the first place, and then when doing integrals over that PDF (to get the marginalized PDFs for the parameters, or to compress them in to single numbers with uncertainties that can be easily reported). In most applications it's sufficient to approximate a PDF with a (relatively) small number of samples drawn from it; MCMC is a procedure for drawing samples from PDFs.  "
   ]
  },
  {
   "cell_type": "code",
   "execution_count": null,
   "metadata": {
    "collapsed": false
   },
   "outputs": [],
   "source": [
    "def straight_line_posterior(x, y, sigmay, m, b, mlimits, blimits):\n",
    "    return np.exp(straight_line_log_posterior(x, y, sigmay, m, b, mlimits, blimits))"
   ]
  },
  {
   "cell_type": "code",
   "execution_count": null,
   "metadata": {
    "collapsed": false
   },
   "outputs": [],
   "source": [
    "# initial m, b, at center of ranges\n",
    "m,b = 0.5*(mlimits[0]+mlimits[1]), 0.5*(blimits[0]+blimits[1])\n",
    "\n",
    "# step sizes, 5% of the prior\n",
    "mstep, bstep = 0.05*(mlimits[1]-mlimits[0]), 0.1*(blimits[1]-blimits[0])\n",
    "        \n",
    "# how many steps?\n",
    "nsteps = 10000\n",
    "    \n",
    "chain = []\n",
    "probs = []\n",
    "naccept = 0\n",
    "    \n",
    "print('Running MH for', nsteps, 'steps')\n",
    "\n",
    "# First point:\n",
    "L_old    = straight_line_log_likelihood(x, y, sigmay, m, b)\n",
    "p_old    = straight_line_log_prior(m, b, mlimits, blimits)\n",
    "logprob_old = L_old + p_old\n",
    "\n",
    "for i in range(nsteps):\n",
    "    # step\n",
    "    mnew = m + np.random.normal() * mstep\n",
    "    bnew = b + np.random.normal() * bstep\n",
    "\n",
    "    # evaluate probabilities\n",
    "    L_new    = straight_line_log_likelihood(x, y, sigmay, mnew, bnew)\n",
    "    p_new    = straight_line_log_prior(mnew, bnew, mlimits, blimits)\n",
    "    logprob_new = L_new + p_new\n",
    "\n",
    "    if (np.exp(logprob_new - logprob_old) > np.random.uniform()):\n",
    "        # Accept the new sample:\n",
    "        m = mnew\n",
    "        b = bnew\n",
    "        L_old = L_new\n",
    "        p_old = p_new\n",
    "        logprob_old = logprob_new\n",
    "        naccept += 1\n",
    "    else:\n",
    "        # Stay where we are; m,b stay the same, and we append them\n",
    "        # to the chain below.\n",
    "        pass\n",
    "\n",
    "    chain.append((b,m))\n",
    "    probs.append((L_old,p_old))\n",
    "    \n",
    "print('Acceptance fraction:', naccept/float(nsteps))"
   ]
  },
  {
   "cell_type": "code",
   "execution_count": null,
   "metadata": {
    "collapsed": false
   },
   "outputs": [],
   "source": [
    "# Pull m and b arrays out of the Markov chain and plot them:\n",
    "mm = [m for b,m in chain]\n",
    "bb = [b for b,m in chain]\n",
    "\n",
    "# Traces, for convergence inspection:\n",
    "plt.figure(figsize=(8,5))\n",
    "plt.subplot(2,1,1)\n",
    "plt.plot(mm, 'k-')\n",
    "plt.ylim(mlimits)\n",
    "plt.ylabel('m')\n",
    "plt.subplot(2,1,2)\n",
    "plt.plot(bb, 'k-')\n",
    "plt.ylabel('Intercept b')\n",
    "plt.ylim(blimits)"
   ]
  },
  {
   "cell_type": "markdown",
   "metadata": {},
   "source": [
    "* This looks pretty good: no plateauing, or drift.\n",
    "\n",
    "\n",
    "* A more rigorous test for convergence is due to Gelman & Rubin, and involves comparing the intrachain variance with the inter-chain variance in an ensemble. It's worth reading up on. \n",
    "\n",
    "\n",
    "* Foreman-Mackey & Hogg recommend looking at the autocorrelation length, and whther it stablizes during the run."
   ]
  },
  {
   "cell_type": "code",
   "execution_count": null,
   "metadata": {
    "collapsed": false
   },
   "outputs": [],
   "source": [
    "# Look at samples in parameter space.\n",
    "\n",
    "# First show contours from gridding calculation:\n",
    "plt.contour(bgrid, mgrid, posterior, pdf_contour_levels(posterior), colors='k')\n",
    "plt.gca().set_aspect((blimits[1]-blimits[0])/(mlimits[1]-mlimits[0]))\n",
    "\n",
    "# Scatterplot of m,b posterior samples, overlaid:\n",
    "plt.plot(bb, mm, 'b.', alpha=0.1)\n",
    "plot_mb_setup(mlimits,blimits)"
   ]
  },
  {
   "cell_type": "code",
   "execution_count": null,
   "metadata": {
    "collapsed": false
   },
   "outputs": [],
   "source": [
    "# 1 and 2D marginalised distributions:\n",
    "\n",
    "!pip install --upgrade --no-deps corner"
   ]
  },
  {
   "cell_type": "code",
   "execution_count": null,
   "metadata": {
    "collapsed": false
   },
   "outputs": [],
   "source": [
    "import corner\n",
    "corner.corner(chain, labels=['b','m'], range=[blimits,mlimits],quantiles=[0.16,0.5,0.84],\n",
    "                show_titles=True, title_args={\"fontsize\": 12},\n",
    "                plot_datapoints=True, fill_contours=True, levels=[0.68, 0.95], \n",
    "                color='b', bins=80, smooth=1.0);"
   ]
  },
  {
   "cell_type": "markdown",
   "metadata": {
    "collapsed": false
   },
   "source": [
    "Looks like a measurement - but let's do some checks first."
   ]
  },
  {
   "cell_type": "markdown",
   "metadata": {},
   "source": [
    "## Model Checking\n",
    "\n",
    "How do we know if our model is any good? There are two properties that \"good\" models have: the first is accuracy, and the second is efficiency. Accurate models generate data that is *like* the observed data. What does this mean? First we have to define what similarity is, in this context. Visual impression is one very important way. Test statistics that capture relevant features of the data are another. Let's look at the posterior predictive distributions for the datapoints, and for a particularly interesting test statistic, the reduced chi-squared."
   ]
  },
  {
   "cell_type": "code",
   "execution_count": null,
   "metadata": {
    "collapsed": false
   },
   "outputs": [],
   "source": [
    "# Posterior visual check, in data space\n",
    "X = np.array(xlimits)\n",
    "for i in (np.random.rand(100)*len(chain)).astype(int):\n",
    "    b,m = chain[i]\n",
    "    plt.plot(X, b+X*m, 'b-', alpha=0.1)\n",
    "plot_line(m_ls, b_ls);\n",
    "plot_yerr(x, y, sigmay)"
   ]
  },
  {
   "cell_type": "code",
   "execution_count": null,
   "metadata": {
    "collapsed": false
   },
   "outputs": [],
   "source": [
    "# Test statistics: functions of the data, not the parameters.\n",
    "\n",
    "# 1) Reduced chisq for the best fit model:\n",
    "def test_statistic(x,y,sigmay,b_ls,m_ls):\n",
    "  return np.sum((y - m_ls*x - b_ls)**2.0/sigmay**2.0)/(len(y)-2)\n",
    "\n",
    "# 2) Reduced chisq for the best fit m=0 model:\n",
    "# def test_statistic(x,y,sigmay,dummy1,dummy2):\n",
    "#    return np.sum((y - np.mean(y))**2.0/sigmay**2.0)/(len(y)-1)\n",
    "\n",
    "# 3) Weighted mean y:\n",
    "# def test_statistic(x,y,sigmay,dummy1,dummy2):\n",
    "#    return np.sum(y/sigmay**2.0)/np.sum(1.0/sigmay**2.0)\n",
    "\n",
    "# 4) Variance of y:\n",
    "# def test_statistic(x,y,sigmay,dummy1,dummy2):\n",
    "#    return np.var(y)\n",
    "\n",
    "\n",
    "# Approximate the posterior predictive distribution for T, \n",
    "# by drawing a replica dataset for each sample (m,b) and computing its T:\n",
    "T = np.zeros(len(chain))\n",
    "for k,(b,m) in enumerate(chain):\n",
    "    yrep = b + m*x + np.random.randn(len(x)) * sigmay\n",
    "    T[k] = test_statistic(x,yrep,sigmay,b_ls,m_ls)\n",
    "    \n",
    "# Compare with the test statistic of the data, on a plot:   \n",
    "Td = test_statistic(x,y, sigmay, b_ls, m_ls)\n",
    "\n",
    "plt.hist(T, 100, histtype='step', color='blue', lw=2, range=(0.0,np.percentile(T,99.0)))\n",
    "plt.axvline(Td, color='black', linestyle='--', lw=2)\n",
    "plt.xlabel('Test statistic')\n",
    "plt.ylabel('Posterior predictive distribution')\n",
    "\n",
    "\n",
    "# What is Pr(T>T(d)|d)?\n",
    "\n",
    "greater = (T > Td)\n",
    "P = 100*len(T[greater])/(1.0*len(T))\n",
    "print(\"Pr(T>T(d)|d) = \",P,\"%\")"
   ]
  },
  {
   "cell_type": "markdown",
   "metadata": {},
   "source": [
    "* If our model is true (and we're just uncertain about its parameters, given the data), we can compute the probability of getting a $T$ less than that observed, where T is the reduced chisq relative to a straight line with some reference $(m,b)$.\n",
    "\n",
    "\n",
    "* Note that we did not have to look up the \"chi squared distribution\" - we can simply compute the posterior predictive distribution given our generative model.\n",
    "\n",
    "\n",
    "* Still, this test statistic looks a little bit strange: it's computed relative to the best fit straight line - which is a sensible reference but somehow not really in the spirit of fitting the data..."
   ]
  },
  {
   "cell_type": "markdown",
   "metadata": {},
   "source": [
    "* Instead, lets look at a *discrepancy* $T(d,\\theta)$ that is a function of both the data and the parameters, and compute the posterior probability of getting $T(d^{\\rm rep},\\theta) > T(d,\\theta)$\n",
    "\n",
    "${\\rm Pr}(T[d^{\\rm rep},\\theta] > T[d,\\theta]|d) = {\\rm Pr}(T[d^{\\rm rep},\\theta] > T[d,\\theta]|\\theta,d)\\;{\\rm Pr}(\\theta|d)\\;d\\theta$"
   ]
  },
  {
   "cell_type": "code",
   "execution_count": null,
   "metadata": {
    "collapsed": false
   },
   "outputs": [],
   "source": [
    "# Discrepancy: functions of the data AND parameters.\n",
    "\n",
    "# 1) Reduced chisq for the model:\n",
    "def test_statistic(x,y,sigmay,b,m):\n",
    "   return np.sum((y - m*x - b)**2.0/sigmay**2.0)/(len(y)-2)\n",
    "\n",
    "# Approximate the posterior predictive distribution for T, \n",
    "# by drawing a replica dataset for each sample (m,b) and computing its T, \n",
    "# AND ALSO its Td:\n",
    "T = np.zeros(len(chain))\n",
    "Td = np.zeros(len(chain))\n",
    "for k,(b,m) in enumerate(chain):\n",
    "    yrep = b + m*x + np.random.randn(len(x)) * sigmay\n",
    "    T[k] = test_statistic(x,yrep,sigmay,b,m)\n",
    "    Td[k] = test_statistic(x,y,sigmay,b,m)\n",
    "    \n",
    "# Compare T with Td, on a scatter plot:   \n",
    "\n",
    "plt.scatter(Td, T, color='blue',alpha=0.1)\n",
    "plt.plot([0.0, 100.0], [0.0, 100.], color='k', linestyle='--', linewidth=2)\n",
    "plt.xlabel('Observed discrepancy $T(d,\\\\theta)$')\n",
    "plt.ylabel('Replicated discrepancy $T(d^{\\\\rm rep},\\\\theta)$')\n",
    "plt.ylim([0.0,np.percentile(Td,99.0)])\n",
    "plt.xlim([0.0,np.percentile(Td,99.0)])\n"
   ]
  },
  {
   "cell_type": "code",
   "execution_count": null,
   "metadata": {
    "collapsed": false
   },
   "outputs": [],
   "source": [
    "# Histogram of differences:\n",
    "\n",
    "diff = T-Td\n",
    "plt.hist(diff, 100, histtype='step', color='blue', lw=2, range=(np.percentile(diff,1.0),np.percentile(diff,99.0)))\n",
    "plt.axvline(0.0, color='black', linestyle='--', lw=2)\n",
    "plt.xlabel('Difference $T(d^{\\\\rm rep},\\\\theta) - T(d,\\\\theta)$')\n",
    "plt.ylabel('Posterior predictive distribution')\n",
    "\n",
    "\n",
    "# What is Pr(T>T(d)|d)?\n",
    "\n",
    "greater = (T > Td)\n",
    "Pline = 100*len(T[greater])/(1.0*len(T))\n",
    "print(\"Pr(T>T(d)|d) = \",Pline,\"%\")"
   ]
  },
  {
   "cell_type": "markdown",
   "metadata": {},
   "source": [
    "* The conclusion drawn from the discrepancy is more conservative. All our $\\theta = (m,b)$ samples are plausible, so replica datasets generated by them should also be plausible: the straight line defined by each $(m,b)$ should go through the real data points as readily (on average) as it does its replica dataset.\n",
    "\n",
    "\n",
    "* Do our posterior predictive $p-$values suggest we need to improve our model? What about the visual check?"
   ]
  },
  {
   "cell_type": "markdown",
   "metadata": {},
   "source": [
    "## Higher order polynomial?\n",
    "\n",
    "* Maybe I see some curvature in the data. Let's try adding an extra parameter to the model, to see if our data are better modeled using a quadratic function than a straight line. \n",
    "\n",
    "\n",
    "$y = m x + b + q*x**2$\n",
    "\n",
    "* The coefficient $q$ is probably pretty small (we were expecting to only have to use a straight line model for these data!), so we can assign a fairly narrow prior."
   ]
  },
  {
   "cell_type": "code",
   "execution_count": null,
   "metadata": {
    "collapsed": false
   },
   "outputs": [],
   "source": [
    "def quadratic_log_likelihood(x, y, sigmay, m, b, q):\n",
    "    '''\n",
    "    Returns the log-likelihood of drawing data values y at\n",
    "    known values x given Gaussian measurement noise with standard\n",
    "    deviation with known sigmay, where the \"true\" y values are\n",
    "    y_t = m*x + b + q**2\n",
    "\n",
    "    x: list of x coordinates\n",
    "    y: list of y coordinates\n",
    "    sigmay: list of y uncertainties\n",
    "    m: scalar slope\n",
    "    b: scalar line intercept\n",
    "    q: quadratic term coefficient\n",
    "\n",
    "    Returns: scalar log likelihood\n",
    "    '''\n",
    "    return (np.sum(np.log(1./(np.sqrt(2.*np.pi) * sigmay))) +\n",
    "            np.sum(-0.5 * (y - (m*x + b + q*x**2))**2 / sigmay**2))\n",
    "    \n",
    "    \n",
    "def quadratic_log_prior(m, b, q, mlimits, blimits, qpars):\n",
    "    # m and b:\n",
    "    log_mb_prior = straight_line_log_prior(m, b, mlimits, blimits)\n",
    "    # q:\n",
    "    log_q_prior = np.log(1./(np.sqrt(2.*np.pi) * qpars[1])) - \\\n",
    "                  0.5 * (q - qpars[0])**2 / qpars[1]**2\n",
    "    return log_mb_prior + log_q_prior\n",
    "    \n",
    "    \n",
    "def quadratic_log_posterior(x,y,sigmay,m,b,q):\n",
    "    return (quadratic_log_likelihood(x,y,sigmay,m,b,q) +\n",
    "            quadratic_log_prior(m,b,q))"
   ]
  },
  {
   "cell_type": "code",
   "execution_count": null,
   "metadata": {
    "collapsed": false
   },
   "outputs": [],
   "source": [
    "# Assign Gaussian prior for q:\n",
    "qpars = [0.0,0.003]\n",
    "\n",
    "# initial m, b, q, at center of ranges\n",
    "m,b,q = 0.5, 50, 0.0\n",
    "\n",
    "# step sizes\n",
    "mstep, bstep, qstep = 0.05, 5.0, 0.0003\n",
    "        \n",
    "# how many steps?\n",
    "nsteps = 10000\n",
    "    \n",
    "chain = []\n",
    "probs = []\n",
    "naccept = 0\n",
    "    \n",
    "print('Running MH for', nsteps, 'steps')\n",
    "\n",
    "# First point:\n",
    "L_old    = quadratic_log_likelihood(x, y, sigmay, m, b, q)\n",
    "p_old    = quadratic_log_prior(m, b, q, mlimits, blimits, qpars)\n",
    "logprob_old = L_old + p_old\n",
    "\n",
    "for i in range(nsteps):\n",
    "    # step\n",
    "    mnew = m + np.random.normal() * mstep\n",
    "    bnew = b + np.random.normal() * bstep\n",
    "    qnew = q + np.random.normal() * qstep\n",
    "\n",
    "    # evaluate probabilities\n",
    "    L_new    = quadratic_log_likelihood(x, y, sigmay, mnew, bnew, qnew)\n",
    "    p_new    = quadratic_log_prior(mnew, bnew, qnew, mlimits, blimits, qpars)\n",
    "    logprob_new = L_new + p_new\n",
    "\n",
    "    if (np.exp(logprob_new - logprob_old) > np.random.uniform()):\n",
    "        # Accept the new sample:\n",
    "        m = mnew\n",
    "        b = bnew\n",
    "        q = qnew\n",
    "        L_old = L_new\n",
    "        p_old = p_new\n",
    "        logprob_old = logprob_new\n",
    "        naccept += 1\n",
    "    else:\n",
    "        # Stay where we are; m,b stay the same, and we append them\n",
    "        # to the chain below.\n",
    "        pass\n",
    "\n",
    "    chain.append((b,m,q))\n",
    "    probs.append((L_old,p_old))\n",
    "    \n",
    "print('Acceptance fraction:', naccept/float(nsteps))"
   ]
  },
  {
   "cell_type": "code",
   "execution_count": null,
   "metadata": {
    "collapsed": false
   },
   "outputs": [],
   "source": [
    "# Pull m, b and q arrays out of the Markov chain and plot them:\n",
    "mm = [m for b,m,q in chain]\n",
    "bb = [b for b,m,q in chain]\n",
    "qq = [q for b,m,q in chain]\n",
    "\n",
    "# Traces, for convergence inspection:\n",
    "plt.figure(figsize=(8,5))\n",
    "plt.subplot(3,1,1)\n",
    "plt.plot(mm, 'k-')\n",
    "plt.ylim(mlimits)\n",
    "plt.ylabel('m')\n",
    "plt.subplot(3,1,2)\n",
    "plt.plot(bb, 'k-')\n",
    "plt.ylim(blimits)\n",
    "plt.ylabel('Intercept b')\n",
    "plt.subplot(3,1,3)\n",
    "plt.plot(qq, 'k-')\n",
    "plt.ylim([qpars[0]-3*qpars[1],qpars[0]+3*qpars[1]])\n",
    "plt.ylabel('Quadratic coefficient q')"
   ]
  },
  {
   "cell_type": "code",
   "execution_count": null,
   "metadata": {
    "collapsed": false
   },
   "outputs": [],
   "source": [
    "corner.corner(chain, labels=['b','m','q'], range=[blimits,mlimits,(qpars[0]-3*qpars[1],qpars[0]+3*qpars[1])],quantiles=[0.16,0.5,0.84],\n",
    "                show_titles=True, title_args={\"fontsize\": 12},\n",
    "                plot_datapoints=True, fill_contours=True, levels=[0.68, 0.95], \n",
    "                color='green', bins=80, smooth=1.0);\n",
    "plt.show()"
   ]
  },
  {
   "cell_type": "markdown",
   "metadata": {},
   "source": [
    "### Checking the Quadratic Model"
   ]
  },
  {
   "cell_type": "code",
   "execution_count": null,
   "metadata": {
    "collapsed": false
   },
   "outputs": [],
   "source": [
    "# Posterior visual check, in data space\n",
    "X = np.linspace(xlimits[0],xlimits[1],100)\n",
    "for i in (np.random.rand(100)*len(chain)).astype(int):\n",
    "    b,m,q = chain[i]\n",
    "    plt.plot(X, b + X*m + q*X**2, 'g-', alpha=0.1)\n",
    "plot_line(m_ls, b_ls);\n",
    "plot_yerr(x, y, sigmay)"
   ]
  },
  {
   "cell_type": "code",
   "execution_count": null,
   "metadata": {
    "collapsed": false
   },
   "outputs": [],
   "source": [
    "# Discrepancy: functions of the data AND parameters.\n",
    "\n",
    "# 1) Reduced chisq for the model:\n",
    "def test_statistic(x,y,sigmay,b,m,q):\n",
    "   return np.sum((y - m*x - b - q*x**2)**2.0/sigmay**2.0)/(len(y)-3)\n",
    "\n",
    "# Approximate the posterior predictive distribution for T, \n",
    "# by drawing a replica dataset for each sample (m,b) and computing its T, \n",
    "# AND ALSO its Td:\n",
    "T = np.zeros(len(chain))\n",
    "Td = np.zeros(len(chain))\n",
    "for k,(b,m,q) in enumerate(chain):\n",
    "    yp = b + m*x + q*x**2 + sigmay*np.random.randn(len(x))\n",
    "    T[k] = test_statistic(x,yp,sigmay,b,m,q)\n",
    "    Td[k] = test_statistic(x,y,sigmay,b,m,q)\n",
    "\n",
    "# Histogram of differences:\n",
    "diff = T - Td\n",
    "plt.hist(diff, 100, histtype='step', color='green', lw=2, range=(np.percentile(diff,1.0),np.percentile(diff,99.0)))\n",
    "plt.axvline(0.0, color='black', linestyle='--', lw=2)\n",
    "plt.xlabel('Difference $T(d^{\\\\rm rep},\\\\theta) - T(d,\\\\theta)$')\n",
    "plt.ylabel('Posterior predictive distribution')\n",
    "\n",
    "# What is Pr(T>T(d)|d)?\n",
    "greater = (T > Td)\n",
    "Pquad = 100*len(T[greater])/(1.0*len(T))\n",
    "print(\"Pr(T>T(d)|d,quadratic) = \",Pquad,\"%, cf. Pr(T>T(d)|d,straightline) = \",Pline,\"%\")"
   ]
  },
  {
   "cell_type": "markdown",
   "metadata": {},
   "source": [
    "* This model checks out too: both the quadratic and linear models provide reasonable fits to the data, with the posterior predictive replica datasets behaving acceptably similarly to the real data.\n",
    "\n",
    "\n",
    "* But, the predictions seem comparably precise! Which model should we prefer?"
   ]
  },
  {
   "cell_type": "markdown",
   "metadata": {},
   "source": [
    "## Model Comparison with the Bayesian Evidence\n",
    "\n",
    "* The evidence for model $H$, ${\\rm Pr}(d|H)$, enables a form of Bayesian hypothesis testing via the evidence ratio (or \"odds ratio\", or \"Bayes Factor\"):\n",
    "\n",
    "$R = \\frac{{\\rm Pr}(d|H_1)}{{\\rm Pr}(d|H_0)}$\n",
    "\n",
    "\n",
    "* This quantity is similar to a likelihood ratio, but its a *fully marginalized likelihood ratio* - which is to say that it *takes into account our uncertainty about values of the parameters of each model* by integrating over them all.\n",
    "\n",
    "\n",
    "* As well predictive accuracy, the other virtue a model can have is *efficiency*. The evidence *summarizes all the information we put into our model inferences*, via both the data and our prior beliefs.  You can see this by inspection of the integrand of the fully marginalized likelihood (#FML) integral:\n",
    "\n",
    "${\\rm Pr}(d|H) = \\int\\;{\\rm Pr}(d|\\theta,H)\\;{\\rm Pr}(\\theta|H)\\;d\\theta$\n",
    "\n",
    "\n",
    "* The following figure might help illustrate how the evidence depends on both goodness of fit (through the likelihood) and the complexity of the model (via the prior). In this 1D case, a Gaussian likelihood (red) is integrated over a uniform prior (blue): the evidence can be shown to be given by $E = f \\times L_{\\rm max}$, where $L_{\\rm max}$ is the maximum possible likelihood, and $f$ is the fraction of the blue dashed area that is shaded red. $f$ is 0.31, 0.98, and 0.07 in each case."
   ]
  },
  {
   "cell_type": "code",
   "execution_count": null,
   "metadata": {
    "collapsed": false
   },
   "outputs": [],
   "source": [
    "from IPython.display import Image\n",
    "Image('evidence.png')"
   ]
  },
  {
   "cell_type": "markdown",
   "metadata": {},
   "source": [
    "* The illustration above shows us a few things:\n",
    "\n",
    "1) The evidence can be made arbitrarily small by increasing the prior volume: the evidence is more conservative than focusing on the goodness of fit ($L_{\\rm max}$) alone - and if you assign a prior you don't believe, you should not expect to get out a meaningful evidence value.\n",
    "\n",
    "2) The evidence is linearly sensitive to prior volume ($f$), but exponentially sensitive to goodness of fit ($L_{\\rm max}$). It's still a likelihood, after all."
   ]
  },
  {
   "cell_type": "markdown",
   "metadata": {},
   "source": [
    "* The odds ratio can, in principle, be combined with the ratio of priors for each model to give us the relative probability for each model being true, given the data:\n",
    "\n",
    "$\\frac{{\\rm Pr}(H_1|d)}{{\\rm Pr}(H_0|d)} = \\frac{{\\rm Pr}(d|H_1)}{{\\rm Pr}(d|H_0)} \\; \\frac{{\\rm Pr}(H_1)}{{\\rm Pr}(H_0)}$\n",
    "\n",
    "\n",
    "* Prior probabilities are very difficult to assign in most practical problems (notice that no theorist ever provides them). So, one way to interpret the evidence ratio is to note that:\n",
    "\n",
    "  * If you think that having seen the data, the two models are *still equally probable,*\n",
    "  * then the evidence ratio in favor of $H_1$ is you the odds that you would have had to have been willing to take against $H_1$, before seeing the data.\n",
    "  * That is: the evidence ratio updates the prior ratio into a posterior one - as usual.\n",
    "  \n",
    "  \n",
    "* The FML is in general quite difficult to calculate, since it involves averaging the likelihood over the prior. MCMC gives us samples from the posterior - and these cannot, it turns out, be reprocessed so as to estimate the evidence stably.\n",
    "\n",
    "\n",
    "* If we draw samples from the *prior*, however, we can then estimate the evidence via the usual sum over samples,\n",
    "\n",
    "${\\rm Pr}(d|H) \\approx \\sum_k\\;{\\rm Pr}(d|\\theta,H)$\n",
    "  \n",
    "\n",
    "* Sampling the prior and computing the likelihood at each sample position is called \"Simple Monte Carlo\", and while it works in certain low-dimensional situations, in general it is very inefficient (at best). Still, let's give it a try on our two models, and attempt to compute the Bayes Factor \n",
    "  \n",
    "$R = \\frac{{\\rm Pr}(d\\,|\\,{\\rm quadratic})}{{\\rm Pr}(d\\,|\\,{\\rm straight line})}$"
   ]
  },
  {
   "cell_type": "code",
   "execution_count": null,
   "metadata": {
    "collapsed": false
   },
   "outputs": [],
   "source": [
    "# Draw a large number of prior samples and hope for the best:\n",
    "N=50000\n",
    "mm = np.random.uniform(mlimits[0],mlimits[1], size=N)\n",
    "bb = np.random.uniform(blimits[0],blimits[1], size=N)\n",
    "qq = qpars[0] + qpars[1]*np.random.randn(N)\n",
    "\n",
    "log_likelihood_straight_line = np.zeros(N)\n",
    "log_likelihood_quadratic = np.zeros(N)\n",
    "\n",
    "for i in range(N):\n",
    "    log_likelihood_straight_line[i] = straight_line_log_likelihood(x, y, sigmay, mm[i], bb[i])\n",
    "    log_likelihood_quadratic[i] = quadratic_log_likelihood(x, y, sigmay, mm[i], bb[i], qq[i])\n",
    "\n",
    "def logaverage(x):\n",
    "    mx = x.max()\n",
    "    return np.log(np.sum(np.exp(x - mx))) + mx - np.log(len(x))\n",
    "\n",
    "log_evidence_straight_line = logaverage(log_likelihood_straight_line)\n",
    "log_evidence_quadratic = logaverage(log_likelihood_quadratic)\n",
    "\n",
    "print('log Evidence for Straight Line Model:', log_evidence_straight_line)\n",
    "print('log Evidence for Quadratic Model:', log_evidence_quadratic)\n",
    "\n",
    "print ('Odds ratio in favour of the Quadratic Model:', np.exp(log_evidence_quadratic - log_evidence_straight_line))\n"
   ]
  },
  {
   "cell_type": "code",
   "execution_count": null,
   "metadata": {
    "collapsed": true
   },
   "outputs": [],
   "source": []
  },
  {
   "cell_type": "code",
   "execution_count": null,
   "metadata": {
    "collapsed": true
   },
   "outputs": [],
   "source": []
  },
  {
   "cell_type": "code",
   "execution_count": null,
   "metadata": {
    "collapsed": true
   },
   "outputs": [],
   "source": []
  },
  {
   "cell_type": "markdown",
   "metadata": {},
   "source": [
    "-----\n",
    "\n",
    "\n",
    "# Extras"
   ]
  },
  {
   "cell_type": "markdown",
   "metadata": {},
   "source": [
    "## Intrinsic scatter\n",
    "\n",
    "* Now let's add an extra parameter to the model: intrinsic scatter. What does this mean? We imagine the model $y$ values to be drawn from a PDF that is conditional on $m$, $b$ and also $s$, the intrinsic scatter of the population. This is the example we worked through in the breakout on Tuesday (although there we didn't do any analytic marginalisation).\n",
    "\n",
    "\n",
    "* This scatter parameter can be inferred from the data as well: in this simple case we can introduce it, along with a \"true\" $y$ value for each data point, and analytically marginalize over the \"true\" y's. \n",
    "\n",
    "\n",
    "* This yields a new (marginalized) likelihood function, which looks as though it has an additional source of uncertainty in the y values - which is what scatter is. "
   ]
  },
  {
   "cell_type": "code",
   "execution_count": null,
   "metadata": {
    "collapsed": false
   },
   "outputs": [],
   "source": [
    "def straight_line_with_scatter_log_likelihood(x, y, sigmay, m, b, log_s):\n",
    "    '''\n",
    "    Returns the log-likelihood of drawing data values *y* at\n",
    "    known values *x* given Gaussian measurement noise with standard\n",
    "    deviation with known *sigmay*, where the \"true\" y values have\n",
    "    been drawn from N(mean=m * x + b, variance=(s^2)).\n",
    "\n",
    "    x: list of x coordinates\n",
    "    y: list of y coordinates\n",
    "    sigmay: list of y uncertainties\n",
    "    m: scalar slope\n",
    "    b: scalar line intercept\n",
    "    s: intrinsic scatter, Gaussian std.dev\n",
    "\n",
    "    Returns: scalar log likelihood\n",
    "    '''\n",
    "    s = np.exp(log_s)\n",
    "    V = sigmay**2 + s**2\n",
    "    return (np.sum(np.log(1./(np.sqrt(2.*np.pi*V)))) +\n",
    "            np.sum(-0.5 * (y - (m*x + b))**2 / V))\n",
    "    \n",
    "def straight_line_with_scatter_log_prior(m, b, log_s):\n",
    "    if log_s < np.log(slo) or log_s > np.log(shi):\n",
    "        return -np.inf\n",
    "    return 0.\n",
    "    \n",
    "def straight_line_with_scatter_log_posterior(x,y,sigmay, m,b,log_s):\n",
    "    return (straight_line_with_scatter_log_likelihood(x,y,sigmay,m,b,log_s) +\n",
    "            straight_line_with_scatter_log_prior(m,b,log_s))\n",
    "\n",
    "def straight_line_with_scatter_posterior(x,y,sigmay,m,b,log_s):\n",
    "    return np.exp(straight_line_with_scatter_log_posterior(x,y,sigmay,m,b,log_s))"
   ]
  },
  {
   "cell_type": "code",
   "execution_count": null,
   "metadata": {
    "collapsed": false
   },
   "outputs": [],
   "source": [
    "# initial m, b, s\n",
    "m,b,log_s = 2, 20, 0.\n",
    "\n",
    "# step sizes\n",
    "mstep, bstep, log_sstep = 1., 10., 1.\n",
    "\n",
    "# how many steps?\n",
    "nsteps = 30000\n",
    "    \n",
    "schain = []\n",
    "sprobs = []\n",
    "naccept = 0\n",
    "    \n",
    "print 'Running MH for', nsteps, 'steps'\n",
    "L_old    = straight_line_with_scatter_log_likelihood(x, y, sigmay, m, b, log_s)\n",
    "p_old    = straight_line_with_scatter_log_prior(m, b, log_s)\n",
    "prob_old = np.exp(L_old + p_old)\n",
    "\n",
    "for i in range(nsteps):\n",
    "    # step\n",
    "    mnew = m + np.random.normal() * mstep\n",
    "    bnew = b + np.random.normal() * bstep\n",
    "    log_snew = log_s + np.random.normal() * log_sstep\n",
    "\n",
    "    # evaluate probabilities\n",
    "    # prob_new = straight_line_with_scatter_posterior(x, y, sigmay, mnew, bnew, log_snew)\n",
    "\n",
    "    L_new    = straight_line_with_scatter_log_likelihood(x, y, sigmay, mnew, bnew, log_snew)\n",
    "    p_new    = straight_line_with_scatter_log_prior(mnew, bnew, log_snew)\n",
    "    prob_new = np.exp(L_new + p_new)\n",
    "\n",
    "    \n",
    "    if (prob_new / prob_old > np.random.uniform()):\n",
    "        # accept\n",
    "        m = mnew\n",
    "        b = bnew\n",
    "        log_s = log_snew\n",
    "        L_old = L_new\n",
    "        p_old = p_new\n",
    "        prob_old = prob_new\n",
    "        naccept += 1\n",
    "    else:\n",
    "        # Stay where we are; m,b stay the same, and we append them\n",
    "        # to the chain below.\n",
    "        pass\n",
    "        \n",
    "\n",
    "    schain.append((b,m,np.exp(log_s)))\n",
    "    sprobs.append((L_old,p_old))\n",
    "\n",
    "print 'Acceptance fraction:', naccept/float(nsteps)"
   ]
  },
  {
   "cell_type": "code",
   "execution_count": null,
   "metadata": {
    "collapsed": false
   },
   "outputs": [],
   "source": [
    "# Histograms:\n",
    "import triangle\n",
    "slo,shi = [0,10]\n",
    "triangle.corner(schain, labels=['b','m','s'], range=[(blo,bhi),(mlo,mhi),(slo,shi)],quantiles=[0.16,0.5,0.84],\n",
    "                show_titles=True, title_args={\"fontsize\": 12},\n",
    "                plot_datapoints=True, fill_contours=True, levels=[0.68, 0.95], color='b', bins=20, smooth=1.0);\n",
    "plt.show()\n",
    "\n",
    "# Traces:\n",
    "plt.clf()\n",
    "plt.subplot(3,1,1)\n",
    "plt.plot([b for b,m,s in schain], 'k-')\n",
    "plt.ylabel('b')\n",
    "plt.subplot(3,1,2)\n",
    "plt.plot([m for b,m,s in schain], 'k-')\n",
    "plt.ylabel('m')\n",
    "plt.subplot(3,1,3)\n",
    "plt.plot([s for b,m,s in schain], 'k-')\n",
    "plt.ylabel('s')\n",
    "plt.show()"
   ]
  },
  {
   "cell_type": "markdown",
   "metadata": {},
   "source": [
    "## Evidence for intrinsic scatter?"
   ]
  },
  {
   "cell_type": "code",
   "execution_count": null,
   "metadata": {
    "collapsed": false
   },
   "outputs": [],
   "source": [
    "# Draw a buttload of prior samples and hope for the best\n",
    "N=50000\n",
    "mm = np.random.uniform(mlo,mhi, size=N)\n",
    "bb = np.random.uniform(blo,bhi, size=N)\n",
    "slo,shi = [0.001,10]\n",
    "log_slo = np.log(slo)\n",
    "log_shi = np.log(shi)\n",
    "log_ss = np.random.uniform(log_slo, log_shi, size=N)\n",
    "\n",
    "log_likelihood_vanilla = np.zeros(N)\n",
    "log_likelihood_scatter = np.zeros(N)\n",
    "\n",
    "for i in range(N):\n",
    "    log_likelihood_vanilla[i] = straight_line_log_likelihood(x, y, sigmay, mm[i], bb[i])\n",
    "    log_likelihood_scatter[i] = straight_line_with_scatter_log_likelihood(x, y, sigmay, mm[i], bb[i], log_ss[i])\n",
    "\n",
    "def logsum(x):\n",
    "    mx = x.max()\n",
    "    return np.log(np.sum(np.exp(x - mx))) + mx\n",
    "\n",
    "log_evidence_vanilla = logsum(log_likelihood_vanilla) - np.log(N)\n",
    "log_evidence_scatter = logsum(log_likelihood_scatter) - np.log(N)\n",
    "\n",
    "print 'Log evidence vanilla:', log_evidence_vanilla\n",
    "print 'Log evidence scatter:', log_evidence_scatter\n",
    "\n",
    "print 'Odds ratio in favour of the vanilla model:', np.exp(log_evidence_vanilla - log_evidence_scatter)\n"
   ]
  },
  {
   "cell_type": "markdown",
   "metadata": {},
   "source": [
    "In this case there is very little to choose between the two models. Both provide comparably good fits to the data, so the only thing working against the scatter model is its extra parameter. However, the prior for `s` is very well -matched to the data (uniform in `log s` corresponds to a `1/s` distribution, favoring small values, and so there is not a very big \"Occam's Razor\" factor in the evidence. Both models are appropriate for this dataset.\n",
    "\n",
    "Incidentally, let's look at a possible approximation for the evidence - the *posterior* mean log likelihood from our MCMC chains:"
   ]
  },
  {
   "cell_type": "code",
   "execution_count": null,
   "metadata": {
    "collapsed": false
   },
   "outputs": [],
   "source": [
    "mean_log_L_vanilla = np.average(np.atleast_1d(probs).T[0])\n",
    "mean_log_L_scatter = np.average(np.atleast_1d(sprobs).T[0])\n",
    "\n",
    "print \"No scatter:  Evidence, mean log L, difference: \",log_evidence_vanilla,mean_log_L_vanilla,(mean_log_L_vanilla - log_evidence_vanilla)\n",
    "print \"   Scatter:  Evidence, mean log L, difference: \",log_evidence_scatter,mean_log_L_scatter,(mean_log_L_scatter - log_evidence_scatter)"
   ]
  },
  {
   "cell_type": "markdown",
   "metadata": {},
   "source": [
    "The difference between the posterior mean log likelihood and the Evidence is the *Shannon information gained* when we updated the prior into the posterior. In both cases we gained about 2 bits of information - perhaps corresponding to approximately 2 good measurements (regardless of the number of parameters being inferred)?"
   ]
  },
  {
   "cell_type": "code",
   "execution_count": null,
   "metadata": {
    "collapsed": false
   },
   "outputs": [],
   "source": [
    "\n",
    "\n",
    "\n",
    "\n",
    "\n",
    "\n",
    "\n",
    "\n",
    "\n",
    "\n",
    "\n",
    "\n",
    "\n",
    "\n",
    "\n",
    "\n",
    "\n",
    "\n"
   ]
  },
  {
   "cell_type": "markdown",
   "metadata": {},
   "source": [
    "## Appendix: Some Other Model Extensions"
   ]
  },
  {
   "cell_type": "code",
   "execution_count": null,
   "metadata": {
    "collapsed": false
   },
   "outputs": [],
   "source": [
    "def likelihood_outliers((m, b, pbad), (x, y, sigmay, sigmabad)):\n",
    "    return np.prod(pbad * 1./(np.sqrt(2.*np.pi)*sigmabad) *\n",
    "                        np.exp(-y**2 / (2.*sigmabad**2))\n",
    "                        + (1.-pbad) * (1./(np.sqrt(2.*np.pi)*sigmay)\n",
    "                                       * np.exp(-(y-(m*x+b))**2/(2.*sigmay**2))))"
   ]
  },
  {
   "cell_type": "code",
   "execution_count": null,
   "metadata": {
    "collapsed": false
   },
   "outputs": [],
   "source": [
    "def prior_outliers((m, b, pbad)):\n",
    "    if pbad < 0:\n",
    "        return 0\n",
    "    if pbad > 1:\n",
    "        return 0\n",
    "    return 1."
   ]
  },
  {
   "cell_type": "code",
   "execution_count": null,
   "metadata": {
    "collapsed": false
   },
   "outputs": [],
   "source": [
    "def prob_outliers((m,b,pbad), x,y,sigmay,sigmabad):\n",
    "    return (likelihood_outliers((m,b,pbad), (x,y,sigmay,sigmabad)) *\n",
    "            prior_outliers((m,b,pbad)))"
   ]
  },
  {
   "cell_type": "code",
   "execution_count": null,
   "metadata": {
    "collapsed": false
   },
   "outputs": [],
   "source": [
    "x,y,sigmay = data1.T\n",
    "sigmabad = np.std(y)\n",
    "prob_args = (x,y,sigmay,sigmabad)\n",
    "mstep = 0.1\n",
    "bstep = 1.\n",
    "pbadstep = 0.01\n",
    "proposal_args = ((mstep, bstep,pbadstep),)\n",
    "m,b,pbad = 2.2, 30, 0.1\n",
    "mh(prob_outliers, prob_args, gaussian_proposal, proposal_args,\n",
    "    (m,b,pbad), 100000);"
   ]
  },
  {
   "cell_type": "code",
   "execution_count": null,
   "metadata": {
    "collapsed": false
   },
   "outputs": [],
   "source": [
    "def likelihood_t((m, b, nu), (x, y, sigmay)):\n",
    "    return np.prod(pbad * 1./(np.sqrt(2.*np.pi)*sigmabad) *\n",
    "                        np.exp(-y**2 / (2.*sigmabad**2))\n",
    "                        + (1.-pbad) * (1./(np.sqrt(2.*np.pi)*sigmay)\n",
    "                                       * np.exp(-(y-(m*x+b))**2/(2.*sigmay**2))))"
   ]
  },
  {
   "cell_type": "code",
   "execution_count": null,
   "metadata": {
    "collapsed": false
   },
   "outputs": [],
   "source": [
    "def complexity_brewer_likelihood((m, b, q), (x, y, sigmay)):\n",
    "    # q: quadratic term\n",
    "    if q < 0:\n",
    "        q = 0\n",
    "    else:\n",
    "        k = 0.01\n",
    "        q = -k * np.log(1 - q)\n",
    "    return np.prod(np.exp(-(y-(b+m*x+q*(x - 150)**2))**2/(2.*sigmay**2)))"
   ]
  },
  {
   "cell_type": "code",
   "execution_count": null,
   "metadata": {
    "collapsed": false
   },
   "outputs": [],
   "source": [
    "def complexity_brewer_prior((m,b,q)):\n",
    "    if q < -1:\n",
    "        return 0.\n",
    "    return 1."
   ]
  },
  {
   "cell_type": "code",
   "execution_count": null,
   "metadata": {
    "collapsed": false
   },
   "outputs": [],
   "source": [
    "def complexity_brewer_prob(params, *args):\n",
    "    return complexity_brewer_prior(params) * complexity_brewer_likelihood(params, args)"
   ]
  },
  {
   "cell_type": "code",
   "execution_count": null,
   "metadata": {
    "collapsed": false
   },
   "outputs": [],
   "source": [
    "x,y,sigmay = get_data_no_outliers()\n",
    "print 'x', x.min(), x.max()\n",
    "print 'y', y.min(), y.max()\n",
    "y = y + (0.001 * (x-150)**2)\n",
    "prob_args = (x,y,sigmay)\n",
    "mstep = 0.1\n",
    "bstep = 1.\n",
    "qstep = 0.1\n",
    "proposal_args = ((mstep, bstep, qstep, cstep),)\n",
    "m,b,q = 2.2, 30, 0.\n",
    "plt.errorbar(x, y, fmt='.', yerr=sigmay)\n",
    "plt.show()\n",
    "mh(complexity_brewer_prob, prob_args, gaussian_proposal, proposal_args,\n",
    "    (m,b,q), 10000, pnames=['m','b','q']);"
   ]
  },
  {
   "cell_type": "markdown",
   "metadata": {
    "collapsed": false
   },
   "source": [
    "Copyright (C) Phil Marshall & Dustin Lang\n",
    "\n",
    "This program is free software; you can redistribute it and/or\n",
    "modify it under the terms of the GNU General Public License\n",
    "as published by the Free Software Foundation; either version 2\n",
    "of the License, or (at your option) any later version.\n",
    "\n",
    "This program is distributed in the hope that it will be useful,\n",
    "but WITHOUT ANY WARRANTY; without even the implied warranty of\n",
    "MERCHANTABILITY or FITNESS FOR A PARTICULAR PURPOSE.  See the\n",
    "GNU General Public License for more details.\n",
    "\n",
    "You should have received a copy of the [GNU General Public License](https://www.gnu.org/licenses/old-licenses/gpl-2.0.en.html)\n",
    "along with this program; if not, write to the Free Software\n",
    "Foundation, Inc., 51 Franklin Street, Fifth Floor, Boston, MA  02110-1301, USA."
   ]
  },
  {
   "cell_type": "code",
   "execution_count": null,
   "metadata": {
    "collapsed": true
   },
   "outputs": [],
   "source": []
  }
 ],
 "metadata": {
  "kernelspec": {
   "display_name": "Python 2",
   "language": "python",
   "name": "python2"
  },
  "language_info": {
   "codemirror_mode": {
    "name": "ipython",
    "version": 2
   },
   "file_extension": ".py",
   "mimetype": "text/x-python",
   "name": "python",
   "nbconvert_exporter": "python",
   "pygments_lexer": "ipython2",
   "version": "2.7.10"
  }
 },
 "nbformat": 4,
 "nbformat_minor": 0
}
