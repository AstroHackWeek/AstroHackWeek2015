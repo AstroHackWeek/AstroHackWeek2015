{
 "cells": [
  {
   "cell_type": "markdown",
   "metadata": {},
   "source": [
    "# Day 1: Exploratory Data Analysis\n",
    "\n",
    "### - Or: I have some data: now what? -\n",
    "\n",
    "In an ideal world, one collects data to answer a specific research question. In this \n",
    "case, usually the way the data will be analyzed is already clear and laid out \n",
    "from the beginning. In astronomy, that isn't always possible or the case. \n",
    "We might get data from a new instrument, a new wavelength rage, a new way to process \n",
    "the observations, or another parameter space that was previously unexplored. \n",
    "We might not always know what we find, or even what exactly we're looking for. \n",
    "We might find unexpected sources in data taken for a different purpose. \n",
    "In any and all of these cases, having a toolbox to explore a data set will be crucial \n",
    "to extracting information from the data.\n",
    "\n",
    "In this tutorial, we will present and practice some basic ways to represent and \n",
    "explore data, using an example data set from [???]. \n",
    "At the same time, we will be giving short tutorials for some of the most useful \n",
    "python packages for data analysis. The goal is to give you an overview of the\n",
    "various methods you might find useful, where to find them, and a starting point \n",
    "for the exploration of your own data sets.\n",
    "\n",
    "\n",
    "## A short overview of python packages\n",
    "\n",
    "* What they do and where to find them\n",
    "* numerical stuff: numpy + scipy\n",
    "* plotting: matplotlib and seaborn\n",
    "* data I/O: pandas, numpy (ASCII data), astropy.io, scipy.readsav\n",
    "\n",
    "## 1: Loading and working with Data\n",
    "\n",
    "### ASCII Files\n",
    "* numpy.loadtxt\n",
    "\n",
    "### Reading/Writing FITS files\n",
    "* astropy.io.fits\n",
    "\n",
    "### IDL .sav files\n",
    "* scipy.readsav\n",
    "\n",
    "### Excursion: Advanced Data Handling in Pandas\n",
    "* Pandas stuff\n",
    "\n",
    "## 2: Numerical Summaries of Data\n",
    "\n",
    "* mean, media, mode\n",
    "* variance and standard deviation\n",
    "* standard errors\n",
    "* ???\n",
    "* excursion: random sampling and statistical distributions in numpy and scipy\n",
    "\n",
    "## 3: Visual Summaries of Data\n",
    "* Intro to matplotlib: line plots, histograms, errorbars, scatter plots\n",
    "* useful things for manipulating plots?\n",
    "* More useful plotting methods in seaborn: rug plots, bar plots and violin plots\n",
    "* customizing figures\n",
    "\n",
    "## 4: But wait, my data is multidimensional!\n",
    "* correlations and simple linear regression, (weighted) least squares (scipy)\n",
    "* more plotting stuff in matplotlib and seaborn\n",
    "\n",
    "## Bonus: interactive plotting?\n",
    "\n"
   ]
  },
  {
   "cell_type": "code",
   "execution_count": null,
   "metadata": {
    "collapsed": true
   },
   "outputs": [],
   "source": []
  }
 ],
 "metadata": {
  "kernelspec": {
   "display_name": "Python 2",
   "language": "python",
   "name": "python2"
  },
  "language_info": {
   "codemirror_mode": {
    "name": "ipython",
    "version": 2
   },
   "file_extension": ".py",
   "mimetype": "text/x-python",
   "name": "python",
   "nbconvert_exporter": "python",
   "pygments_lexer": "ipython2",
   "version": "2.7.10"
  }
 },
 "nbformat": 4,
 "nbformat_minor": 0
}
