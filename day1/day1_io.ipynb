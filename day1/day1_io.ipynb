{
 "cells": [
  {
   "cell_type": "markdown",
   "metadata": {},
   "source": [
    "# Getting data into Python\n",
    "\n",
    "Outline:\n",
    "\n",
    "- ASCII Files: numpy.loadtxt, astropy.io.ascii, read_csv (pandas)\n",
    "- Reading/Writing FITS files: astropy.io.fits, fitsio\n",
    "- IDL .sav files: scipy.readsav\n",
    "- Pandas"
   ]
  },
  {
   "cell_type": "markdown",
   "metadata": {},
   "source": [
    "# CSV data"
   ]
  },
  {
   "cell_type": "code",
   "execution_count": 1,
   "metadata": {
    "collapsed": false
   },
   "outputs": [],
   "source": [
    "import os\n",
    "import numpy as np\n",
    "import requests"
   ]
  },
  {
   "cell_type": "code",
   "execution_count": 2,
   "metadata": {
    "collapsed": false
   },
   "outputs": [],
   "source": [
    "# get some CSV data from the SDSS SQL server\n",
    "URL = \"http://skyserver.sdss.org/dr12/en/tools/search/x_sql.aspx\"\n",
    "\n",
    "cmd = \"\"\"\n",
    "SELECT TOP 1000\n",
    "    p.u, p.g, p.r, p.i, p.z, s.class, s.z, s.zerr\n",
    "FROM\n",
    "    PhotoObj AS p\n",
    "JOIN\n",
    "    SpecObj AS s ON s.bestobjid = p.objid\n",
    "WHERE\n",
    "    p.u BETWEEN 0 AND 19.6 AND\n",
    "    p.g BETWEEN 0 AND 20 AND\n",
    "    s.class = 'GALAXY'\n",
    "\"\"\"\n",
    "if not os.path.exists('galaxy_colors.csv'):\n",
    "    cmd = ' '.join(map(lambda x: x.strip(), cmd.split('\\n')))\n",
    "    response = requests.get(URL, params={'cmd': cmd, 'format':'csv'})\n",
    "    with open('galaxy_colors.csv', 'w') as f:\n",
    "        f.write(response.text)"
   ]
  },
  {
   "cell_type": "code",
   "execution_count": 3,
   "metadata": {
    "collapsed": false
   },
   "outputs": [
    {
     "name": "stdout",
     "output_type": "stream",
     "text": [
      "-rw-rw-r-- 1 kyle kyle 74K Sep 24 15:54 galaxy_colors.csv\r\n"
     ]
    }
   ],
   "source": [
    "!ls -lh galaxy_colors.csv"
   ]
  },
  {
   "cell_type": "code",
   "execution_count": 4,
   "metadata": {
    "collapsed": false,
    "scrolled": false
   },
   "outputs": [
    {
     "name": "stdout",
     "output_type": "stream",
     "text": [
      "#Table1\n",
      "u,g,r,i,z,class,z1,zerr\n",
      "19.41061,18.23754,17.58132,17.20153,16.90159,GALAXY,0.03212454,6.06623E-06\n",
      "19.54964,17.95799,17.02898,16.531,16.13408,GALAXY,0.1213151,2.358919E-05\n",
      "18.74425,17.37778,16.80538,16.51149,16.28756,GALAXY,0.04876465,1.378529E-05\n",
      "17.55033,15.75007,15.02809,14.66306,14.34982,GALAXY,0.04028672,1.167005E-05\n",
      "17.60645,16.16628,15.51308,15.15529,14.87411,GALAXY,0.0254747,1.205017E-05\n",
      "19.46927,18.18101,17.59062,17.25874,16.94567,GALAXY,0.03616738,8.249292E-06\n",
      "19.58999,18.23981,17.54194,17.17573,16.92423,GALAXY,0.07254888,1.603681E-05\n",
      "18.52309,16.65203,15.9179,15.47603,15.16455,GALAXY,0.06675781,1.785021E-05\n",
      "18.7319,17.42271,16.80514,16.47006,16.18039,GALAXY,0.03646222,1.014089E-05\n",
      "19.51618,18.32554,17.63795,17.25495,17.02355,GALAXY,0.1380212,9.179801E-06\n",
      "18.97668,17.5344,17.04177,16.80851,16.6608,GALAXY,0.03877712,1.343119E-05\n",
      "18.28252,16.52093,15.60923,15.08733,14.62764,GALAXY,0.0406868,9.147252E-06\n",
      "18.79809,17.15676,16.46291,16.05119,15.75717,GALAXY,0.03758542,1.210123E-05\n",
      "19.20826,18.0934,17.64492,17.31631,17.1272,GALAXY,0.07229859,6.830511E-06\n",
      "19.44436,17.63904,16.6559,16.16875,15.77238,GALAXY,0.1004212,1.922567E-05\n",
      "18.52571,16.41782,15.39036,14.88511,14.47884,GALAXY,0.03984664,1.687375E-05\n",
      "17.85144,15.88613,14.90528,14.39902,14.00488,GALAXY,0.0393708,2.054666E-05\n",
      "18.35856,16.24755,15.2596,14.76577,14.37919,GALAXY,0.035788,1.524728E-05\n",
      "19.29955,17.97023,17.24436,16.77523,16.4432,GALAXY,0.1091017,1.079899E-05\n",
      "19.41176,18.22642,17.49589,17.06814,16.81949,GALAXY,0.1641361,8.652342E-06\n",
      "17.9766,16.00926,15.0054,14.50633,14.12062,GALAXY,0.0371233,1.478782E-05\n",
      "\u001b[K\n"
     ]
    }
   ],
   "source": [
    "!more galaxy_colors.csv"
   ]
  },
  {
   "cell_type": "markdown",
   "metadata": {},
   "source": [
    "## Using numpy.loadtxt"
   ]
  },
  {
   "cell_type": "code",
   "execution_count": 5,
   "metadata": {
    "collapsed": false
   },
   "outputs": [],
   "source": [
    "dtype=[('u', 'f8'),\n",
    "       ('g', 'f8'),\n",
    "       ('r', 'f8'),\n",
    "       ('i', 'f8'),\n",
    "       ('z', 'f8'),\n",
    "       ('class', 'S10'),\n",
    "       ('redshift', 'f8'),\n",
    "       ('redshift_err', 'f8')]\n",
    "data = np.loadtxt('galaxy_colors.csv', skiprows=2, delimiter=',', dtype=dtype)"
   ]
  },
  {
   "cell_type": "code",
   "execution_count": 6,
   "metadata": {
    "collapsed": false
   },
   "outputs": [
    {
     "data": {
      "text/plain": [
       "array([ (19.41061, 18.23754, 17.58132, 17.20153, 16.90159, b'GALAXY', 0.03212454, 6.06623e-06),\n",
       "       (19.54964, 17.95799, 17.02898, 16.531, 16.13408, b'GALAXY', 0.1213151, 2.358919e-05),\n",
       "       (18.74425, 17.37778, 16.80538, 16.51149, 16.28756, b'GALAXY', 0.04876465, 1.378529e-05),\n",
       "       (17.55033, 15.75007, 15.02809, 14.66306, 14.34982, b'GALAXY', 0.04028672, 1.167005e-05),\n",
       "       (17.60645, 16.16628, 15.51308, 15.15529, 14.87411, b'GALAXY', 0.0254747, 1.205017e-05),\n",
       "       (19.46927, 18.18101, 17.59062, 17.25874, 16.94567, b'GALAXY', 0.03616738, 8.249292e-06),\n",
       "       (19.58999, 18.23981, 17.54194, 17.17573, 16.92423, b'GALAXY', 0.07254888, 1.603681e-05),\n",
       "       (18.52309, 16.65203, 15.9179, 15.47603, 15.16455, b'GALAXY', 0.06675781, 1.785021e-05),\n",
       "       (18.7319, 17.42271, 16.80514, 16.47006, 16.18039, b'GALAXY', 0.03646222, 1.014089e-05),\n",
       "       (19.51618, 18.32554, 17.63795, 17.25495, 17.02355, b'GALAXY', 0.1380212, 9.179801e-06)], \n",
       "      dtype=[('u', '<f8'), ('g', '<f8'), ('r', '<f8'), ('i', '<f8'), ('z', '<f8'), ('class', 'S10'), ('redshift', '<f8'), ('redshift_err', '<f8')])"
      ]
     },
     "execution_count": 6,
     "metadata": {},
     "output_type": "execute_result"
    }
   ],
   "source": [
    "data[:10]"
   ]
  },
  {
   "cell_type": "markdown",
   "metadata": {},
   "source": [
    "## Using astropy.io.ascii"
   ]
  },
  {
   "cell_type": "code",
   "execution_count": 8,
   "metadata": {
    "collapsed": false
   },
   "outputs": [
    {
     "name": "stderr",
     "output_type": "stream",
     "text": [
      "/home/kyle/.conda/lib/python3.4/site-packages/IPython/kernel/__init__.py:13: ShimWarning: The `IPython.kernel` package has been deprecated. You should import from ipykernel or jupyter_client instead.\n",
      "  \"You should import from ipykernel or jupyter_client instead.\", ShimWarning)\n"
     ]
    }
   ],
   "source": [
    "from astropy.io import ascii"
   ]
  },
  {
   "cell_type": "code",
   "execution_count": 9,
   "metadata": {
    "collapsed": false
   },
   "outputs": [],
   "source": [
    "data = ascii.read('galaxy_colors.csv', format='csv', comment='#')"
   ]
  },
  {
   "cell_type": "code",
   "execution_count": 10,
   "metadata": {
    "collapsed": false
   },
   "outputs": [
    {
     "data": {
      "text/plain": [
       "astropy.table.table.Table"
      ]
     },
     "execution_count": 10,
     "metadata": {},
     "output_type": "execute_result"
    }
   ],
   "source": [
    "type(data)"
   ]
  },
  {
   "cell_type": "code",
   "execution_count": 11,
   "metadata": {
    "collapsed": false
   },
   "outputs": [
    {
     "data": {
      "text/html": [
       "&lt;Table masked=False length=10&gt;\n",
       "<table id=\"table139803268929688\">\n",
       "<thead><tr><th>u</th><th>g</th><th>r</th><th>i</th><th>z</th><th>class</th><th>z1</th><th>zerr</th></tr></thead>\n",
       "<thead><tr><th>float64</th><th>float64</th><th>float64</th><th>float64</th><th>float64</th><th>str192</th><th>float64</th><th>float64</th></tr></thead>\n",
       "<tr><td>19.41061</td><td>18.23754</td><td>17.58132</td><td>17.20153</td><td>16.90159</td><td>GALAXY</td><td>0.03212454</td><td>6.06623e-06</td></tr>\n",
       "<tr><td>19.54964</td><td>17.95799</td><td>17.02898</td><td>16.531</td><td>16.13408</td><td>GALAXY</td><td>0.1213151</td><td>2.358919e-05</td></tr>\n",
       "<tr><td>18.74425</td><td>17.37778</td><td>16.80538</td><td>16.51149</td><td>16.28756</td><td>GALAXY</td><td>0.04876465</td><td>1.378529e-05</td></tr>\n",
       "<tr><td>17.55033</td><td>15.75007</td><td>15.02809</td><td>14.66306</td><td>14.34982</td><td>GALAXY</td><td>0.04028672</td><td>1.167005e-05</td></tr>\n",
       "<tr><td>17.60645</td><td>16.16628</td><td>15.51308</td><td>15.15529</td><td>14.87411</td><td>GALAXY</td><td>0.0254747</td><td>1.205017e-05</td></tr>\n",
       "<tr><td>19.46927</td><td>18.18101</td><td>17.59062</td><td>17.25874</td><td>16.94567</td><td>GALAXY</td><td>0.03616738</td><td>8.249292e-06</td></tr>\n",
       "<tr><td>19.58999</td><td>18.23981</td><td>17.54194</td><td>17.17573</td><td>16.92423</td><td>GALAXY</td><td>0.07254888</td><td>1.603681e-05</td></tr>\n",
       "<tr><td>18.52309</td><td>16.65203</td><td>15.9179</td><td>15.47603</td><td>15.16455</td><td>GALAXY</td><td>0.06675781</td><td>1.785021e-05</td></tr>\n",
       "<tr><td>18.7319</td><td>17.42271</td><td>16.80514</td><td>16.47006</td><td>16.18039</td><td>GALAXY</td><td>0.03646222</td><td>1.014089e-05</td></tr>\n",
       "<tr><td>19.51618</td><td>18.32554</td><td>17.63795</td><td>17.25495</td><td>17.02355</td><td>GALAXY</td><td>0.1380212</td><td>9.179801e-06</td></tr>\n",
       "</table>"
      ],
      "text/plain": [
       "<Table masked=False length=10>\n",
       "   u        g        r        i        z     class      z1         zerr    \n",
       "float64  float64  float64  float64  float64  str192  float64     float64   \n",
       "-------- -------- -------- -------- -------- ------ ---------- ------------\n",
       "19.41061 18.23754 17.58132 17.20153 16.90159 GALAXY 0.03212454  6.06623e-06\n",
       "19.54964 17.95799 17.02898   16.531 16.13408 GALAXY  0.1213151 2.358919e-05\n",
       "18.74425 17.37778 16.80538 16.51149 16.28756 GALAXY 0.04876465 1.378529e-05\n",
       "17.55033 15.75007 15.02809 14.66306 14.34982 GALAXY 0.04028672 1.167005e-05\n",
       "17.60645 16.16628 15.51308 15.15529 14.87411 GALAXY  0.0254747 1.205017e-05\n",
       "19.46927 18.18101 17.59062 17.25874 16.94567 GALAXY 0.03616738 8.249292e-06\n",
       "19.58999 18.23981 17.54194 17.17573 16.92423 GALAXY 0.07254888 1.603681e-05\n",
       "18.52309 16.65203  15.9179 15.47603 15.16455 GALAXY 0.06675781 1.785021e-05\n",
       " 18.7319 17.42271 16.80514 16.47006 16.18039 GALAXY 0.03646222 1.014089e-05\n",
       "19.51618 18.32554 17.63795 17.25495 17.02355 GALAXY  0.1380212 9.179801e-06"
      ]
     },
     "execution_count": 11,
     "metadata": {},
     "output_type": "execute_result"
    }
   ],
   "source": [
    "data[:10]"
   ]
  },
  {
   "cell_type": "markdown",
   "metadata": {},
   "source": [
    "## Using pandas"
   ]
  },
  {
   "cell_type": "code",
   "execution_count": 12,
   "metadata": {
    "collapsed": true
   },
   "outputs": [],
   "source": [
    "import pandas"
   ]
  },
  {
   "cell_type": "code",
   "execution_count": 13,
   "metadata": {
    "collapsed": false
   },
   "outputs": [],
   "source": [
    "data = pandas.read_csv('galaxy_colors.csv', comment='#')"
   ]
  },
  {
   "cell_type": "code",
   "execution_count": 14,
   "metadata": {
    "collapsed": false
   },
   "outputs": [
    {
     "data": {
      "text/plain": [
       "pandas.core.frame.DataFrame"
      ]
     },
     "execution_count": 14,
     "metadata": {},
     "output_type": "execute_result"
    }
   ],
   "source": [
    "type(data)"
   ]
  },
  {
   "cell_type": "code",
   "execution_count": 15,
   "metadata": {
    "collapsed": false
   },
   "outputs": [
    {
     "data": {
      "text/html": [
       "<div>\n",
       "<table border=\"1\" class=\"dataframe\">\n",
       "  <thead>\n",
       "    <tr style=\"text-align: right;\">\n",
       "      <th></th>\n",
       "      <th>u</th>\n",
       "      <th>g</th>\n",
       "      <th>r</th>\n",
       "      <th>i</th>\n",
       "      <th>z</th>\n",
       "      <th>class</th>\n",
       "      <th>z1</th>\n",
       "      <th>zerr</th>\n",
       "    </tr>\n",
       "  </thead>\n",
       "  <tbody>\n",
       "    <tr>\n",
       "      <th>0</th>\n",
       "      <td>19.41061</td>\n",
       "      <td>18.23754</td>\n",
       "      <td>17.58132</td>\n",
       "      <td>17.20153</td>\n",
       "      <td>16.90159</td>\n",
       "      <td>GALAXY</td>\n",
       "      <td>0.032125</td>\n",
       "      <td>0.000006</td>\n",
       "    </tr>\n",
       "    <tr>\n",
       "      <th>1</th>\n",
       "      <td>19.54964</td>\n",
       "      <td>17.95799</td>\n",
       "      <td>17.02898</td>\n",
       "      <td>16.53100</td>\n",
       "      <td>16.13408</td>\n",
       "      <td>GALAXY</td>\n",
       "      <td>0.121315</td>\n",
       "      <td>0.000024</td>\n",
       "    </tr>\n",
       "    <tr>\n",
       "      <th>2</th>\n",
       "      <td>18.74425</td>\n",
       "      <td>17.37778</td>\n",
       "      <td>16.80538</td>\n",
       "      <td>16.51149</td>\n",
       "      <td>16.28756</td>\n",
       "      <td>GALAXY</td>\n",
       "      <td>0.048765</td>\n",
       "      <td>0.000014</td>\n",
       "    </tr>\n",
       "    <tr>\n",
       "      <th>3</th>\n",
       "      <td>17.55033</td>\n",
       "      <td>15.75007</td>\n",
       "      <td>15.02809</td>\n",
       "      <td>14.66306</td>\n",
       "      <td>14.34982</td>\n",
       "      <td>GALAXY</td>\n",
       "      <td>0.040287</td>\n",
       "      <td>0.000012</td>\n",
       "    </tr>\n",
       "    <tr>\n",
       "      <th>4</th>\n",
       "      <td>17.60645</td>\n",
       "      <td>16.16628</td>\n",
       "      <td>15.51308</td>\n",
       "      <td>15.15529</td>\n",
       "      <td>14.87411</td>\n",
       "      <td>GALAXY</td>\n",
       "      <td>0.025475</td>\n",
       "      <td>0.000012</td>\n",
       "    </tr>\n",
       "  </tbody>\n",
       "</table>\n",
       "</div>"
      ],
      "text/plain": [
       "          u         g         r         i         z   class        z1  \\\n",
       "0  19.41061  18.23754  17.58132  17.20153  16.90159  GALAXY  0.032125   \n",
       "1  19.54964  17.95799  17.02898  16.53100  16.13408  GALAXY  0.121315   \n",
       "2  18.74425  17.37778  16.80538  16.51149  16.28756  GALAXY  0.048765   \n",
       "3  17.55033  15.75007  15.02809  14.66306  14.34982  GALAXY  0.040287   \n",
       "4  17.60645  16.16628  15.51308  15.15529  14.87411  GALAXY  0.025475   \n",
       "\n",
       "       zerr  \n",
       "0  0.000006  \n",
       "1  0.000024  \n",
       "2  0.000014  \n",
       "3  0.000012  \n",
       "4  0.000012  "
      ]
     },
     "execution_count": 15,
     "metadata": {},
     "output_type": "execute_result"
    }
   ],
   "source": [
    "data.head()"
   ]
  },
  {
   "cell_type": "code",
   "execution_count": 16,
   "metadata": {
    "collapsed": false,
    "scrolled": true
   },
   "outputs": [
    {
     "data": {
      "text/html": [
       "<div>\n",
       "<table border=\"1\" class=\"dataframe\">\n",
       "  <thead>\n",
       "    <tr style=\"text-align: right;\">\n",
       "      <th></th>\n",
       "      <th>u</th>\n",
       "      <th>g</th>\n",
       "      <th>r</th>\n",
       "      <th>i</th>\n",
       "      <th>z</th>\n",
       "      <th>z1</th>\n",
       "      <th>zerr</th>\n",
       "    </tr>\n",
       "  </thead>\n",
       "  <tbody>\n",
       "    <tr>\n",
       "      <th>count</th>\n",
       "      <td>1000.000000</td>\n",
       "      <td>1000.000000</td>\n",
       "      <td>1000.000000</td>\n",
       "      <td>1000.000000</td>\n",
       "      <td>1000.000000</td>\n",
       "      <td>1000.000000</td>\n",
       "      <td>1000.000000</td>\n",
       "    </tr>\n",
       "    <tr>\n",
       "      <th>mean</th>\n",
       "      <td>18.847712</td>\n",
       "      <td>17.362790</td>\n",
       "      <td>16.652535</td>\n",
       "      <td>16.277254</td>\n",
       "      <td>16.015587</td>\n",
       "      <td>0.079304</td>\n",
       "      <td>0.000014</td>\n",
       "    </tr>\n",
       "    <tr>\n",
       "      <th>std</th>\n",
       "      <td>0.705162</td>\n",
       "      <td>0.777843</td>\n",
       "      <td>0.902157</td>\n",
       "      <td>0.942336</td>\n",
       "      <td>0.988064</td>\n",
       "      <td>0.051818</td>\n",
       "      <td>0.000011</td>\n",
       "    </tr>\n",
       "    <tr>\n",
       "      <th>min</th>\n",
       "      <td>14.065570</td>\n",
       "      <td>12.779670</td>\n",
       "      <td>12.145150</td>\n",
       "      <td>11.757920</td>\n",
       "      <td>11.650580</td>\n",
       "      <td>0.000000</td>\n",
       "      <td>0.000000</td>\n",
       "    </tr>\n",
       "    <tr>\n",
       "      <th>25%</th>\n",
       "      <td>18.537655</td>\n",
       "      <td>16.973130</td>\n",
       "      <td>16.168653</td>\n",
       "      <td>15.765792</td>\n",
       "      <td>15.432625</td>\n",
       "      <td>0.050569</td>\n",
       "      <td>0.000008</td>\n",
       "    </tr>\n",
       "    <tr>\n",
       "      <th>50%</th>\n",
       "      <td>19.043970</td>\n",
       "      <td>17.492975</td>\n",
       "      <td>16.719680</td>\n",
       "      <td>16.321100</td>\n",
       "      <td>16.040580</td>\n",
       "      <td>0.077798</td>\n",
       "      <td>0.000012</td>\n",
       "    </tr>\n",
       "    <tr>\n",
       "      <th>75%</th>\n",
       "      <td>19.355695</td>\n",
       "      <td>17.924820</td>\n",
       "      <td>17.313200</td>\n",
       "      <td>16.976025</td>\n",
       "      <td>16.745777</td>\n",
       "      <td>0.093881</td>\n",
       "      <td>0.000017</td>\n",
       "    </tr>\n",
       "    <tr>\n",
       "      <th>max</th>\n",
       "      <td>19.599320</td>\n",
       "      <td>19.260320</td>\n",
       "      <td>24.802040</td>\n",
       "      <td>24.361810</td>\n",
       "      <td>22.826910</td>\n",
       "      <td>0.760918</td>\n",
       "      <td>0.000233</td>\n",
       "    </tr>\n",
       "  </tbody>\n",
       "</table>\n",
       "</div>"
      ],
      "text/plain": [
       "                 u            g            r            i            z  \\\n",
       "count  1000.000000  1000.000000  1000.000000  1000.000000  1000.000000   \n",
       "mean     18.847712    17.362790    16.652535    16.277254    16.015587   \n",
       "std       0.705162     0.777843     0.902157     0.942336     0.988064   \n",
       "min      14.065570    12.779670    12.145150    11.757920    11.650580   \n",
       "25%      18.537655    16.973130    16.168653    15.765792    15.432625   \n",
       "50%      19.043970    17.492975    16.719680    16.321100    16.040580   \n",
       "75%      19.355695    17.924820    17.313200    16.976025    16.745777   \n",
       "max      19.599320    19.260320    24.802040    24.361810    22.826910   \n",
       "\n",
       "                z1         zerr  \n",
       "count  1000.000000  1000.000000  \n",
       "mean      0.079304     0.000014  \n",
       "std       0.051818     0.000011  \n",
       "min       0.000000     0.000000  \n",
       "25%       0.050569     0.000008  \n",
       "50%       0.077798     0.000012  \n",
       "75%       0.093881     0.000017  \n",
       "max       0.760918     0.000233  "
      ]
     },
     "execution_count": 16,
     "metadata": {},
     "output_type": "execute_result"
    }
   ],
   "source": [
    "data.describe()"
   ]
  },
  {
   "cell_type": "code",
   "execution_count": null,
   "metadata": {
    "collapsed": true
   },
   "outputs": [],
   "source": [
    "# Pandas reads from *lots* of different data sources\n",
    "pandas.read_"
   ]
  },
  {
   "cell_type": "markdown",
   "metadata": {},
   "source": [
    "# Specialized text formats"
   ]
  },
  {
   "cell_type": "code",
   "execution_count": 17,
   "metadata": {
    "collapsed": true
   },
   "outputs": [],
   "source": [
    "# get some data from CDS\n",
    "prefix = \"http://cdsarc.u-strasbg.fr/vizier/ftp/cats/J/ApJ/686/749/\"\n",
    "for fname in [\"ReadMe\", \"table10.dat\"]:\n",
    "    if not os.path.exists(fname):\n",
    "        response = requests.get(prefix + fname)\n",
    "        with open(fname, 'w') as f:\n",
    "            f.write(response.text)"
   ]
  },
  {
   "cell_type": "code",
   "execution_count": null,
   "metadata": {
    "collapsed": false
   },
   "outputs": [],
   "source": [
    "!cat table10.dat"
   ]
  },
  {
   "cell_type": "code",
   "execution_count": null,
   "metadata": {
    "collapsed": false
   },
   "outputs": [],
   "source": [
    "!cat ReadMe"
   ]
  },
  {
   "cell_type": "code",
   "execution_count": 20,
   "metadata": {
    "collapsed": false
   },
   "outputs": [],
   "source": [
    "# must specify the \"readme\" here.\n",
    "data = ascii.read(\"table10.dat\", format='cds', readme=\"ReadMe\")"
   ]
  },
  {
   "cell_type": "code",
   "execution_count": 21,
   "metadata": {
    "collapsed": false
   },
   "outputs": [
    {
     "data": {
      "text/html": [
       "&lt;Table masked=True length=140&gt;\n",
       "<table id=\"table139803241719176\">\n",
       "<thead><tr><th>SN</th><th>JD</th><th>Tel</th><th>Bmag</th><th>e_Bmag</th><th>Vmag</th><th>e_Vmag</th><th>Rmag</th><th>e_Rmag</th><th>Imag</th><th>e_Imag</th></tr></thead>\n",
       "<thead><tr><th></th><th>d</th><th></th><th>mag</th><th>mag</th><th>mag</th><th>mag</th><th>mag</th><th>mag</th><th>mag</th><th>mag</th></tr></thead>\n",
       "<thead><tr><th>str288</th><th>float64</th><th>str448</th><th>float64</th><th>float64</th><th>float64</th><th>float64</th><th>float64</th><th>float64</th><th>float64</th><th>float64</th></tr></thead>\n",
       "<tr><td>SN 1999aa</td><td>2451221.81</td><td>LICK 1m DEWAR2</td><td>15.828</td><td>0.032</td><td>--</td><td>--</td><td>--</td><td>--</td><td>--</td><td>--</td></tr>\n",
       "<tr><td>SN 1999aa</td><td>2451222.67</td><td>YALO</td><td>15.642</td><td>0.018</td><td>15.68</td><td>0.028</td><td>15.689</td><td>0.04</td><td>15.717</td><td>0.105</td></tr>\n",
       "<tr><td>SN 1999aa</td><td>2451223.67</td><td>YALO</td><td>15.462</td><td>0.02</td><td>--</td><td>--</td><td>15.486</td><td>0.036</td><td>15.514</td><td>0.083</td></tr>\n",
       "<tr><td>SN 1999aa</td><td>2451225.65</td><td>YALO</td><td>15.211</td><td>0.017</td><td>15.26</td><td>0.028</td><td>15.276</td><td>0.03</td><td>15.312</td><td>0.025</td></tr>\n",
       "<tr><td>SN 1999aa</td><td>2451227.73</td><td>LICK 1m DEWAR2</td><td>15.006</td><td>0.016</td><td>15.06</td><td>0.024</td><td>15.08</td><td>0.018</td><td>--</td><td>--</td></tr>\n",
       "<tr><td>SN 1999aa</td><td>2451229.62</td><td>YALO</td><td>14.924</td><td>0.017</td><td>14.965</td><td>0.026</td><td>15.092</td><td>0.03</td><td>--</td><td>--</td></tr>\n",
       "<tr><td>SN 1999aa</td><td>2451232.61</td><td>YALO</td><td>14.908</td><td>0.017</td><td>14.913</td><td>0.028</td><td>15.062</td><td>0.03</td><td>15.253</td><td>0.025</td></tr>\n",
       "<tr><td>SN 1999aa</td><td>2451235.6</td><td>YALO</td><td>14.919</td><td>0.021</td><td>14.898</td><td>0.032</td><td>15.037</td><td>0.031</td><td>15.307</td><td>0.029</td></tr>\n",
       "<tr><td>SN 1999aa</td><td>2451241.6</td><td>YALO</td><td>15.183</td><td>0.013</td><td>15.062</td><td>0.027</td><td>15.266</td><td>0.03</td><td>15.575</td><td>0.024</td></tr>\n",
       "<tr><td>...</td><td>...</td><td>...</td><td>...</td><td>...</td><td>...</td><td>...</td><td>...</td><td>...</td><td>...</td><td>...</td></tr>\n",
       "<tr><td>SN 1999bp</td><td>2451275.62</td><td>CTIO 1.5m T2K</td><td>19.132</td><td>0.018</td><td>18.748</td><td>0.024</td><td>18.599</td><td>0.031</td><td>19.127</td><td>0.048</td></tr>\n",
       "<tr><td>SN 1999bp</td><td>2451281.78</td><td>LICK 1m DEWAR2</td><td>20.128</td><td>0.15</td><td>--</td><td>--</td><td>19.091</td><td>0.08</td><td>--</td><td>--</td></tr>\n",
       "<tr><td>SN 1999bp</td><td>2451286.43</td><td>JKT 1m</td><td>20.242</td><td>0.04</td><td>19.438</td><td>0.038</td><td>--</td><td>--</td><td>--</td><td>--</td></tr>\n",
       "<tr><td>SN 1999bp</td><td>2451288.83</td><td>KPNO 2.1m</td><td>20.377</td><td>0.03</td><td>--</td><td>--</td><td>--</td><td>--</td><td>--</td><td>--</td></tr>\n",
       "<tr><td>SN 1999bp</td><td>2451289.74</td><td>LICK 1m DEWAR2</td><td>--</td><td>--</td><td>20.086</td><td>0.427</td><td>19.536</td><td>0.205</td><td>--</td><td>--</td></tr>\n",
       "<tr><td>SN 1999bp</td><td>2451293.75</td><td>LICK 1m DEWAR2</td><td>--</td><td>--</td><td>--</td><td>--</td><td>--</td><td>--</td><td>19.573</td><td>0.109</td></tr>\n",
       "<tr><td>SN 1999bp</td><td>2451302.72</td><td>CTIO 1.5m T2K</td><td>--</td><td>--</td><td>20.306</td><td>0.269</td><td>--</td><td>--</td><td>--</td><td>--</td></tr>\n",
       "<tr><td>SN 1999bp</td><td>2451306.57</td><td>YALO</td><td>21.723</td><td>0.039</td><td>20.603</td><td>0.042</td><td>19.646</td><td>0.046</td><td>--</td><td>--</td></tr>\n",
       "<tr><td>SN 1999bp</td><td>2451337.81</td><td>CFHT</td><td>--</td><td>--</td><td>--</td><td>--</td><td>20.612</td><td>0.06</td><td>20.904</td><td>0.144</td></tr>\n",
       "<tr><td>SN 1999bp</td><td>2451338.83</td><td>CFHT</td><td>22.208</td><td>0.107</td><td>--</td><td>--</td><td>--</td><td>--</td><td>--</td><td>--</td></tr>\n",
       "</table>"
      ],
      "text/plain": [
       "<Table masked=True length=140>\n",
       "    SN        JD          Tel         Bmag  ...   Rmag   e_Rmag   Imag   e_Imag\n",
       "              d                       mag   ...   mag     mag     mag     mag  \n",
       "  str288   float64       str448     float64 ... float64 float64 float64 float64\n",
       "--------- ---------- -------------- ------- ... ------- ------- ------- -------\n",
       "SN 1999aa 2451221.81 LICK 1m DEWAR2  15.828 ...      --      --      --      --\n",
       "SN 1999aa 2451222.67           YALO  15.642 ...  15.689    0.04  15.717   0.105\n",
       "SN 1999aa 2451223.67           YALO  15.462 ...  15.486   0.036  15.514   0.083\n",
       "SN 1999aa 2451225.65           YALO  15.211 ...  15.276    0.03  15.312   0.025\n",
       "SN 1999aa 2451227.73 LICK 1m DEWAR2  15.006 ...   15.08   0.018      --      --\n",
       "SN 1999aa 2451229.62           YALO  14.924 ...  15.092    0.03      --      --\n",
       "SN 1999aa 2451232.61           YALO  14.908 ...  15.062    0.03  15.253   0.025\n",
       "SN 1999aa  2451235.6           YALO  14.919 ...  15.037   0.031  15.307   0.029\n",
       "SN 1999aa  2451241.6           YALO  15.183 ...  15.266    0.03  15.575   0.024\n",
       "      ...        ...            ...     ... ...     ...     ...     ...     ...\n",
       "SN 1999bp 2451275.62  CTIO 1.5m T2K  19.132 ...  18.599   0.031  19.127   0.048\n",
       "SN 1999bp 2451281.78 LICK 1m DEWAR2  20.128 ...  19.091    0.08      --      --\n",
       "SN 1999bp 2451286.43         JKT 1m  20.242 ...      --      --      --      --\n",
       "SN 1999bp 2451288.83      KPNO 2.1m  20.377 ...      --      --      --      --\n",
       "SN 1999bp 2451289.74 LICK 1m DEWAR2      -- ...  19.536   0.205      --      --\n",
       "SN 1999bp 2451293.75 LICK 1m DEWAR2      -- ...      --      --  19.573   0.109\n",
       "SN 1999bp 2451302.72  CTIO 1.5m T2K      -- ...      --      --      --      --\n",
       "SN 1999bp 2451306.57           YALO  21.723 ...  19.646   0.046      --      --\n",
       "SN 1999bp 2451337.81           CFHT      -- ...  20.612    0.06  20.904   0.144\n",
       "SN 1999bp 2451338.83           CFHT  22.208 ...      --      --      --      --"
      ]
     },
     "execution_count": 21,
     "metadata": {},
     "output_type": "execute_result"
    }
   ],
   "source": [
    "data"
   ]
  },
  {
   "cell_type": "markdown",
   "metadata": {},
   "source": [
    "See http://astropy.readthedocs.org/en/stable/io/ascii/index.html for all the supported formats."
   ]
  },
  {
   "cell_type": "markdown",
   "metadata": {},
   "source": [
    "# Reading FITS files\n",
    "\n",
    "Two options: `astropy.io.fits` (formerly pyfits) and `fitsio`."
   ]
  },
  {
   "cell_type": "code",
   "execution_count": null,
   "metadata": {
    "collapsed": false
   },
   "outputs": [],
   "source": [
    "# get an SDSS image (can search for images from http://dr12.sdss3.org/fields/)\n",
    "if not os.path.exists(\"frame-g-006728-4-0121.fits.bz2\"):\n",
    "    !wget http://dr12.sdss3.org/sas/dr12/boss/photoObj/frames/301/6728/4/frame-g-006728-4-0121.fits.bz2\n",
    "if not os.path.exists(\"frame-g-006728-4-0121.fits\"):\n",
    "    !bunzip2 frame-g-006728-4-0121.fits.bz2"
   ]
  },
  {
   "cell_type": "markdown",
   "metadata": {},
   "source": [
    "## astropy.io.fits"
   ]
  },
  {
   "cell_type": "code",
   "execution_count": 22,
   "metadata": {
    "collapsed": true
   },
   "outputs": [],
   "source": [
    "from astropy.io import fits\n",
    "\n",
    "hdulist = fits.open(\"frame-g-006728-4-0121.fits\")"
   ]
  },
  {
   "cell_type": "code",
   "execution_count": 23,
   "metadata": {
    "collapsed": false
   },
   "outputs": [
    {
     "data": {
      "text/plain": [
       "[<astropy.io.fits.hdu.image.PrimaryHDU at 0x7f2677d77710>,\n",
       " <astropy.io.fits.hdu.image.ImageHDU at 0x7f267ce25668>,\n",
       " <astropy.io.fits.hdu.table.BinTableHDU at 0x7f267be55470>,\n",
       " <astropy.io.fits.hdu.table.BinTableHDU at 0x7f267be11d68>]"
      ]
     },
     "execution_count": 23,
     "metadata": {},
     "output_type": "execute_result"
    }
   ],
   "source": [
    "hdulist"
   ]
  },
  {
   "cell_type": "code",
   "execution_count": 24,
   "metadata": {
    "collapsed": false
   },
   "outputs": [
    {
     "name": "stdout",
     "output_type": "stream",
     "text": [
      "Filename: frame-g-006728-4-0121.fits\n",
      "No.    Name         Type      Cards   Dimensions   Format\n",
      "0    PRIMARY     PrimaryHDU      96   (2048, 1489)   float32   \n",
      "1                ImageHDU         6   (2048,)      float32   \n",
      "2                BinTableHDU     27   1R x 3C      [49152E, 2048E, 1489E]   \n",
      "3                BinTableHDU     79   1R x 31C     [J, 3A, J, A, D, D, 2J, J, D, D, D, D, D, D, D, D, D, D, D, D, D, D, D, D, D, D, D, D, D, E, E]   \n"
     ]
    }
   ],
   "source": [
    "hdulist.info()"
   ]
  },
  {
   "cell_type": "code",
   "execution_count": 25,
   "metadata": {
    "collapsed": false
   },
   "outputs": [
    {
     "data": {
      "text/plain": [
       "array([[ 0.00395966,  0.0116272 ,  0.02697754, ..., -0.00365067,\n",
       "         0.01544189,  0.0116272 ],\n",
       "       [-0.01139832, -0.00756073, -0.00756073, ...,  0.00016785,\n",
       "         0.0116272 ,  0.0269165 ],\n",
       "       [ 0.01547241, -0.00756073, -0.01522827, ...,  0.01544189,\n",
       "         0.00016856,  0.01925659],\n",
       "       ..., \n",
       "       [ 0.00098419,  0.00866699,  0.00482178, ...,  0.03155518,\n",
       "         0.00483704, -0.01806641],\n",
       "       [-0.02206421, -0.02972412,  0.00866699, ...,  0.01629639,\n",
       "         0.01629639,  0.01248169],\n",
       "       [-0.02206421, -0.03356934,  0.01249695, ...,  0.00865173,\n",
       "         0.00865173,  0.02011108]], dtype=float32)"
      ]
     },
     "execution_count": 25,
     "metadata": {},
     "output_type": "execute_result"
    }
   ],
   "source": [
    "hdulist[0].data"
   ]
  },
  {
   "cell_type": "code",
   "execution_count": null,
   "metadata": {
    "collapsed": false
   },
   "outputs": [],
   "source": [
    "hdulist[0].header"
   ]
  },
  {
   "cell_type": "markdown",
   "metadata": {},
   "source": [
    "## fitsio\n",
    "\n",
    "(`pip install --no-deps fitsio`)\n",
    "\n",
    "- Faster (mainly for tables)\n",
    "- Does a better job with ASCII table extensions"
   ]
  },
  {
   "cell_type": "code",
   "execution_count": 27,
   "metadata": {
    "collapsed": true
   },
   "outputs": [],
   "source": [
    "import fitsio"
   ]
  },
  {
   "cell_type": "code",
   "execution_count": 28,
   "metadata": {
    "collapsed": true
   },
   "outputs": [],
   "source": [
    "f = fitsio.FITS(\"frame-g-006728-4-0121.fits\")"
   ]
  },
  {
   "cell_type": "code",
   "execution_count": 29,
   "metadata": {
    "collapsed": false
   },
   "outputs": [
    {
     "data": {
      "text/plain": [
       "\n",
       "  file: frame-g-006728-4-0121.fits\n",
       "  mode: READONLY\n",
       "  extnum hdutype         hduname[v]\n",
       "  0      IMAGE_HDU       \n",
       "  1      IMAGE_HDU       \n",
       "  2      BINARY_TBL      \n",
       "  3      BINARY_TBL      "
      ]
     },
     "execution_count": 29,
     "metadata": {},
     "output_type": "execute_result"
    }
   ],
   "source": [
    "# summary of file HDUs\n",
    "f"
   ]
  },
  {
   "cell_type": "code",
   "execution_count": 30,
   "metadata": {
    "collapsed": false
   },
   "outputs": [
    {
     "data": {
      "text/plain": [
       "\n",
       "  file: frame-g-006728-4-0121.fits\n",
       "  extension: 0\n",
       "  type: IMAGE_HDU\n",
       "  image info:\n",
       "    data type: f4\n",
       "    dims: [1489,2048]"
      ]
     },
     "execution_count": 30,
     "metadata": {},
     "output_type": "execute_result"
    }
   ],
   "source": [
    "# summary of first HDU\n",
    "f[0]"
   ]
  },
  {
   "cell_type": "code",
   "execution_count": 31,
   "metadata": {
    "collapsed": false
   },
   "outputs": [
    {
     "data": {
      "text/plain": [
       "\n",
       "  file: frame-g-006728-4-0121.fits\n",
       "  extension: 2\n",
       "  type: BINARY_TBL\n",
       "  rows: 1\n",
       "  column info:\n",
       "    ALLSKY              f4  array[256,192]\n",
       "    XINTERP             f4  array[2048]\n",
       "    YINTERP             f4  array[1489]"
      ]
     },
     "execution_count": 31,
     "metadata": {},
     "output_type": "execute_result"
    }
   ],
   "source": [
    "# Summary of 3rd HDU\n",
    "f[2]"
   ]
  },
  {
   "cell_type": "code",
   "execution_count": 32,
   "metadata": {
    "collapsed": false
   },
   "outputs": [
    {
     "data": {
      "text/plain": [
       "array([[ 0.00395966,  0.0116272 ,  0.02697754, ..., -0.00365067,\n",
       "         0.01544189,  0.0116272 ],\n",
       "       [-0.01139832, -0.00756073, -0.00756073, ...,  0.00016785,\n",
       "         0.0116272 ,  0.0269165 ],\n",
       "       [ 0.01547241, -0.00756073, -0.01522827, ...,  0.01544189,\n",
       "         0.00016856,  0.01925659],\n",
       "       ..., \n",
       "       [ 0.00098419,  0.00866699,  0.00482178, ...,  0.03155518,\n",
       "         0.00483704, -0.01806641],\n",
       "       [-0.02206421, -0.02972412,  0.00866699, ...,  0.01629639,\n",
       "         0.01629639,  0.01248169],\n",
       "       [-0.02206421, -0.03356934,  0.01249695, ...,  0.00865173,\n",
       "         0.00865173,  0.02011108]], dtype=float32)"
      ]
     },
     "execution_count": 32,
     "metadata": {},
     "output_type": "execute_result"
    }
   ],
   "source": [
    "# Actually read the data.\n",
    "data = f[0].read()\n",
    "data"
   ]
  },
  {
   "cell_type": "markdown",
   "metadata": {},
   "source": [
    "# Salvaging data from IDL\n",
    "\n",
    "`scipy.io.readsav`: Formerly a separate `idlsave` module by Tom Robitaille."
   ]
  },
  {
   "cell_type": "code",
   "execution_count": 34,
   "metadata": {
    "collapsed": true
   },
   "outputs": [],
   "source": [
    "from scipy.io import readsav"
   ]
  },
  {
   "cell_type": "code",
   "execution_count": 35,
   "metadata": {
    "collapsed": false
   },
   "outputs": [],
   "source": [
    "# Note: won't work unless you have this sav file!\n",
    "data = readsav(\"150623434_det8_8100keV.sav\")"
   ]
  },
  {
   "cell_type": "code",
   "execution_count": 36,
   "metadata": {
    "collapsed": false
   },
   "outputs": [
    {
     "data": {
      "text/plain": [
       "{'events': array([  5.96046448e-08,   4.04059887e-04,   1.60408020e-03, ...,\n",
       "          2.36982572e+03,   2.36982581e+03,   2.36982593e+03]),\n",
       " 'tstart': 456747888.71404397}"
      ]
     },
     "execution_count": 36,
     "metadata": {},
     "output_type": "execute_result"
    }
   ],
   "source": [
    "data"
   ]
  },
  {
   "cell_type": "code",
   "execution_count": 37,
   "metadata": {
    "collapsed": false
   },
   "outputs": [
    {
     "data": {
      "text/plain": [
       "6653156"
      ]
     },
     "execution_count": 37,
     "metadata": {},
     "output_type": "execute_result"
    }
   ],
   "source": [
    "len(data.events)"
   ]
  },
  {
   "cell_type": "markdown",
   "metadata": {},
   "source": [
    "# Clean up downloaded files"
   ]
  },
  {
   "cell_type": "code",
   "execution_count": null,
   "metadata": {
    "collapsed": true
   },
   "outputs": [],
   "source": [
    "!rm galaxy_colors.csv\n",
    "!rm ReadMe\n",
    "!rm table10.dat\n",
    "!rm frame-g-006728-4-0121.fits.bz2\n",
    "!rm frame-g-006728-4-0121.fits"
   ]
  }
 ],
 "metadata": {
  "kernelspec": {
   "display_name": "Python 3",
   "language": "python",
   "name": "python3"
  },
  "language_info": {
   "codemirror_mode": {
    "name": "ipython",
    "version": 3
   },
   "file_extension": ".py",
   "mimetype": "text/x-python",
   "name": "python",
   "nbconvert_exporter": "python",
   "pygments_lexer": "ipython3",
   "version": "3.4.3"
  }
 },
 "nbformat": 4,
 "nbformat_minor": 0
}
