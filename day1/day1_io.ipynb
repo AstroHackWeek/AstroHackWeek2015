{
 "cells": [
  {
   "cell_type": "markdown",
   "metadata": {},
   "source": [
    "# Getting data into Python\n",
    "\n",
    "Outline:\n",
    "\n",
    "- ASCII Files: numpy.loadtxt, astropy.io.ascii, read_csv (pandas)\n",
    "- Reading/Writing FITS files: astropy.io.fits, fitsio\n",
    "- IDL .sav files: scipy.readsav\n",
    "- Pandas"
   ]
  },
  {
   "cell_type": "markdown",
   "metadata": {},
   "source": [
    "# CSV data"
   ]
  },
  {
   "cell_type": "code",
   "execution_count": 2,
   "metadata": {
    "collapsed": false
   },
   "outputs": [],
   "source": [
    "import numpy as np\n",
    "import requests"
   ]
  },
  {
   "cell_type": "code",
   "execution_count": 60,
   "metadata": {
    "collapsed": false
   },
   "outputs": [],
   "source": [
    "# get some CSV data from the SDSS SQL server\n",
    "URL = \"http://skyserver.sdss.org/dr12/en/tools/search/x_sql.aspx\"\n",
    "\n",
    "cmd = \"\"\"\n",
    "SELECT TOP 1000\n",
    "    p.u, p.g, p.r, p.i, p.z, s.class, s.z, s.zerr\n",
    "FROM\n",
    "    PhotoObj AS p\n",
    "JOIN\n",
    "    SpecObj AS s ON s.bestobjid = p.objid\n",
    "WHERE\n",
    "    p.u BETWEEN 0 AND 19.6 AND\n",
    "    p.g BETWEEN 0 AND 20 AND\n",
    "    s.class = 'GALAXY'\n",
    "\"\"\"\n",
    "\n",
    "cmd = ' '.join(map(lambda x: x.strip(), cmd.split('\\n')))\n",
    "response = requests.get(URL, params={'cmd': cmd, 'format':'csv'})\n",
    "with open('galaxy_colors.csv', 'w') as f:\n",
    "    f.write(response.text)"
   ]
  },
  {
   "cell_type": "code",
   "execution_count": 69,
   "metadata": {
    "collapsed": false
   },
   "outputs": [
    {
     "name": "stdout",
     "output_type": "stream",
     "text": [
      "-rw-rw-r-- 1 kyle kyle 74K Sep 22 14:57 galaxy_colors.csv\r\n"
     ]
    }
   ],
   "source": [
    "!ls -lh galaxy_colors.csv"
   ]
  },
  {
   "cell_type": "code",
   "execution_count": 3,
   "metadata": {
    "collapsed": false,
    "scrolled": false
   },
   "outputs": [
    {
     "name": "stdout",
     "output_type": "stream",
     "text": [
      "#Table1\n",
      "u,g,r,i,z,class,z1,zerr\n",
      "19.41061,18.23754,17.58132,17.20153,16.90159,GALAXY,0.03212454,6.06623E-06\n",
      "19.54964,17.95799,17.02898,16.531,16.13408,GALAXY,0.1213151,2.358919E-05\n",
      "18.74425,17.37778,16.80538,16.51149,16.28756,GALAXY,0.04876465,1.378529E-05\n",
      "17.55033,15.75007,15.02809,14.66306,14.34982,GALAXY,0.04028672,1.167005E-05\n",
      "17.60645,16.16628,15.51308,15.15529,14.87411,GALAXY,0.0254747,1.205017E-05\n",
      "19.46927,18.18101,17.59062,17.25874,16.94567,GALAXY,0.03616738,8.249292E-06\n",
      "19.58999,18.23981,17.54194,17.17573,16.92423,GALAXY,0.07254888,1.603681E-05\n",
      "19.11101,16.80968,15.6026,15.1123,14.74625,GALAXY,0.156453,2.146377E-05\n",
      "18.52309,16.65203,15.9179,15.47603,15.16455,GALAXY,0.06675781,1.785021E-05\n",
      "18.7319,17.42271,16.80514,16.47006,16.18039,GALAXY,0.03646222,1.014089E-05\n",
      "19.40927,18.40509,18.16815,18.03163,17.92519,GALAXY,0.0222007,4.418426E-06\n",
      "19.51618,18.32554,17.63795,17.25495,17.02355,GALAXY,0.1380212,9.179801E-06\n",
      "18.82419,17.60955,17.07287,16.79243,16.64695,GALAXY,0.03101574,1.476548E-05\n",
      "18.97668,17.5344,17.04177,16.80851,16.6608,GALAXY,0.03877712,1.343119E-05\n",
      "18.28252,16.52093,15.60923,15.08733,14.62764,GALAXY,0.0406868,9.147252E-06\n",
      "18.79809,17.15676,16.46291,16.05119,15.75717,GALAXY,0.03758542,1.210123E-05\n",
      "19.20826,18.0934,17.64492,17.31631,17.1272,GALAXY,0.07229859,6.830511E-06\n",
      "19.44436,17.63904,16.6559,16.16875,15.77238,GALAXY,0.1004212,1.922567E-05\n",
      "19.38053,17.54408,16.66972,16.23319,15.91902,GALAXY,0.04000779,1.662115E-05\n",
      "19.04084,17.40382,16.69114,16.30337,16.02601,GALAXY,0.04860179,1.326119E-05\n",
      "19.3455,17.43334,16.25943,15.72512,15.38018,GALAXY,0.1860474,5.131289E-05\n",
      "\u001b[K\n"
     ]
    }
   ],
   "source": [
    "!more galaxy_colors.csv"
   ]
  },
  {
   "cell_type": "markdown",
   "metadata": {},
   "source": [
    "## Using numpy.loadtxt"
   ]
  },
  {
   "cell_type": "code",
   "execution_count": 6,
   "metadata": {
    "collapsed": false
   },
   "outputs": [],
   "source": [
    "dtype=[('u', 'f8'),\n",
    "       ('g', 'f8'),\n",
    "       ('r', 'f8'),\n",
    "       ('i', 'f8'),\n",
    "       ('z', 'f8'),\n",
    "       ('class', 'S10'),\n",
    "       ('redshift', 'f8'),\n",
    "       ('redshift_err', 'f8')]\n",
    "data = np.loadtxt('galaxy_colors.csv', skiprows=2, delimiter=',', dtype=dtype)"
   ]
  },
  {
   "cell_type": "code",
   "execution_count": 8,
   "metadata": {
    "collapsed": false
   },
   "outputs": [
    {
     "data": {
      "text/plain": [
       "array([ (19.41061, 18.23754, 17.58132, 17.20153, 16.90159, b'GALAXY', 0.03212454, 6.06623e-06),\n",
       "       (19.54964, 17.95799, 17.02898, 16.531, 16.13408, b'GALAXY', 0.1213151, 2.358919e-05),\n",
       "       (18.74425, 17.37778, 16.80538, 16.51149, 16.28756, b'GALAXY', 0.04876465, 1.378529e-05),\n",
       "       (17.55033, 15.75007, 15.02809, 14.66306, 14.34982, b'GALAXY', 0.04028672, 1.167005e-05),\n",
       "       (17.60645, 16.16628, 15.51308, 15.15529, 14.87411, b'GALAXY', 0.0254747, 1.205017e-05),\n",
       "       (19.46927, 18.18101, 17.59062, 17.25874, 16.94567, b'GALAXY', 0.03616738, 8.249292e-06),\n",
       "       (19.58999, 18.23981, 17.54194, 17.17573, 16.92423, b'GALAXY', 0.07254888, 1.603681e-05),\n",
       "       (19.11101, 16.80968, 15.6026, 15.1123, 14.74625, b'GALAXY', 0.156453, 2.146377e-05),\n",
       "       (18.52309, 16.65203, 15.9179, 15.47603, 15.16455, b'GALAXY', 0.06675781, 1.785021e-05),\n",
       "       (18.7319, 17.42271, 16.80514, 16.47006, 16.18039, b'GALAXY', 0.03646222, 1.014089e-05)], \n",
       "      dtype=[('u', '<f8'), ('g', '<f8'), ('r', '<f8'), ('i', '<f8'), ('z', '<f8'), ('class', 'S10'), ('redshift', '<f8'), ('redshift_err', '<f8')])"
      ]
     },
     "execution_count": 8,
     "metadata": {},
     "output_type": "execute_result"
    }
   ],
   "source": [
    "data[:10]"
   ]
  },
  {
   "cell_type": "markdown",
   "metadata": {},
   "source": [
    "## Using astropy.io.ascii"
   ]
  },
  {
   "cell_type": "code",
   "execution_count": 16,
   "metadata": {
    "collapsed": false
   },
   "outputs": [],
   "source": [
    "from astropy.io import ascii"
   ]
  },
  {
   "cell_type": "code",
   "execution_count": 29,
   "metadata": {
    "collapsed": false
   },
   "outputs": [],
   "source": [
    "data = ascii.read('galaxy_colors.csv', format='csv', comment='#')"
   ]
  },
  {
   "cell_type": "code",
   "execution_count": 30,
   "metadata": {
    "collapsed": false
   },
   "outputs": [
    {
     "data": {
      "text/plain": [
       "astropy.table.table.Table"
      ]
     },
     "execution_count": 30,
     "metadata": {},
     "output_type": "execute_result"
    }
   ],
   "source": [
    "type(data)"
   ]
  },
  {
   "cell_type": "code",
   "execution_count": 26,
   "metadata": {
    "collapsed": false
   },
   "outputs": [
    {
     "data": {
      "text/html": [
       "&lt;Table masked=False length=10&gt;\n",
       "<table id=\"table140395330607424\">\n",
       "<thead><tr><th>u</th><th>g</th><th>r</th><th>i</th><th>z</th><th>class</th><th>z1</th><th>zerr</th></tr></thead>\n",
       "<thead><tr><th>float64</th><th>float64</th><th>float64</th><th>float64</th><th>float64</th><th>str192</th><th>float64</th><th>float64</th></tr></thead>\n",
       "<tr><td>19.41061</td><td>18.23754</td><td>17.58132</td><td>17.20153</td><td>16.90159</td><td>GALAXY</td><td>0.03212454</td><td>6.06623e-06</td></tr>\n",
       "<tr><td>19.54964</td><td>17.95799</td><td>17.02898</td><td>16.531</td><td>16.13408</td><td>GALAXY</td><td>0.1213151</td><td>2.358919e-05</td></tr>\n",
       "<tr><td>18.74425</td><td>17.37778</td><td>16.80538</td><td>16.51149</td><td>16.28756</td><td>GALAXY</td><td>0.04876465</td><td>1.378529e-05</td></tr>\n",
       "<tr><td>17.55033</td><td>15.75007</td><td>15.02809</td><td>14.66306</td><td>14.34982</td><td>GALAXY</td><td>0.04028672</td><td>1.167005e-05</td></tr>\n",
       "<tr><td>17.60645</td><td>16.16628</td><td>15.51308</td><td>15.15529</td><td>14.87411</td><td>GALAXY</td><td>0.0254747</td><td>1.205017e-05</td></tr>\n",
       "<tr><td>19.46927</td><td>18.18101</td><td>17.59062</td><td>17.25874</td><td>16.94567</td><td>GALAXY</td><td>0.03616738</td><td>8.249292e-06</td></tr>\n",
       "<tr><td>19.58999</td><td>18.23981</td><td>17.54194</td><td>17.17573</td><td>16.92423</td><td>GALAXY</td><td>0.07254888</td><td>1.603681e-05</td></tr>\n",
       "<tr><td>19.11101</td><td>16.80968</td><td>15.6026</td><td>15.1123</td><td>14.74625</td><td>GALAXY</td><td>0.156453</td><td>2.146377e-05</td></tr>\n",
       "<tr><td>18.52309</td><td>16.65203</td><td>15.9179</td><td>15.47603</td><td>15.16455</td><td>GALAXY</td><td>0.06675781</td><td>1.785021e-05</td></tr>\n",
       "<tr><td>18.7319</td><td>17.42271</td><td>16.80514</td><td>16.47006</td><td>16.18039</td><td>GALAXY</td><td>0.03646222</td><td>1.014089e-05</td></tr>\n",
       "</table>"
      ],
      "text/plain": [
       "<Table masked=False length=10>\n",
       "   u        g        r        i        z     class      z1         zerr    \n",
       "float64  float64  float64  float64  float64  str192  float64     float64   \n",
       "-------- -------- -------- -------- -------- ------ ---------- ------------\n",
       "19.41061 18.23754 17.58132 17.20153 16.90159 GALAXY 0.03212454  6.06623e-06\n",
       "19.54964 17.95799 17.02898   16.531 16.13408 GALAXY  0.1213151 2.358919e-05\n",
       "18.74425 17.37778 16.80538 16.51149 16.28756 GALAXY 0.04876465 1.378529e-05\n",
       "17.55033 15.75007 15.02809 14.66306 14.34982 GALAXY 0.04028672 1.167005e-05\n",
       "17.60645 16.16628 15.51308 15.15529 14.87411 GALAXY  0.0254747 1.205017e-05\n",
       "19.46927 18.18101 17.59062 17.25874 16.94567 GALAXY 0.03616738 8.249292e-06\n",
       "19.58999 18.23981 17.54194 17.17573 16.92423 GALAXY 0.07254888 1.603681e-05\n",
       "19.11101 16.80968  15.6026  15.1123 14.74625 GALAXY   0.156453 2.146377e-05\n",
       "18.52309 16.65203  15.9179 15.47603 15.16455 GALAXY 0.06675781 1.785021e-05\n",
       " 18.7319 17.42271 16.80514 16.47006 16.18039 GALAXY 0.03646222 1.014089e-05"
      ]
     },
     "execution_count": 26,
     "metadata": {},
     "output_type": "execute_result"
    }
   ],
   "source": [
    "data[:10]"
   ]
  },
  {
   "cell_type": "markdown",
   "metadata": {},
   "source": [
    "## Using pandas"
   ]
  },
  {
   "cell_type": "code",
   "execution_count": 31,
   "metadata": {
    "collapsed": true
   },
   "outputs": [],
   "source": [
    "import pandas"
   ]
  },
  {
   "cell_type": "code",
   "execution_count": 34,
   "metadata": {
    "collapsed": false
   },
   "outputs": [
    {
     "data": {
      "text/html": [
       "<div>\n",
       "<table border=\"1\" class=\"dataframe\">\n",
       "  <thead>\n",
       "    <tr style=\"text-align: right;\">\n",
       "      <th></th>\n",
       "      <th>u</th>\n",
       "      <th>g</th>\n",
       "      <th>r</th>\n",
       "      <th>i</th>\n",
       "      <th>z</th>\n",
       "      <th>class</th>\n",
       "      <th>z1</th>\n",
       "      <th>zerr</th>\n",
       "    </tr>\n",
       "  </thead>\n",
       "  <tbody>\n",
       "    <tr>\n",
       "      <th>0</th>\n",
       "      <td>19.41061</td>\n",
       "      <td>18.23754</td>\n",
       "      <td>17.58132</td>\n",
       "      <td>17.20153</td>\n",
       "      <td>16.90159</td>\n",
       "      <td>GALAXY</td>\n",
       "      <td>0.032125</td>\n",
       "      <td>0.000006</td>\n",
       "    </tr>\n",
       "    <tr>\n",
       "      <th>1</th>\n",
       "      <td>19.54964</td>\n",
       "      <td>17.95799</td>\n",
       "      <td>17.02898</td>\n",
       "      <td>16.53100</td>\n",
       "      <td>16.13408</td>\n",
       "      <td>GALAXY</td>\n",
       "      <td>0.121315</td>\n",
       "      <td>0.000024</td>\n",
       "    </tr>\n",
       "    <tr>\n",
       "      <th>2</th>\n",
       "      <td>18.74425</td>\n",
       "      <td>17.37778</td>\n",
       "      <td>16.80538</td>\n",
       "      <td>16.51149</td>\n",
       "      <td>16.28756</td>\n",
       "      <td>GALAXY</td>\n",
       "      <td>0.048765</td>\n",
       "      <td>0.000014</td>\n",
       "    </tr>\n",
       "    <tr>\n",
       "      <th>3</th>\n",
       "      <td>17.55033</td>\n",
       "      <td>15.75007</td>\n",
       "      <td>15.02809</td>\n",
       "      <td>14.66306</td>\n",
       "      <td>14.34982</td>\n",
       "      <td>GALAXY</td>\n",
       "      <td>0.040287</td>\n",
       "      <td>0.000012</td>\n",
       "    </tr>\n",
       "    <tr>\n",
       "      <th>4</th>\n",
       "      <td>17.60645</td>\n",
       "      <td>16.16628</td>\n",
       "      <td>15.51308</td>\n",
       "      <td>15.15529</td>\n",
       "      <td>14.87411</td>\n",
       "      <td>GALAXY</td>\n",
       "      <td>0.025475</td>\n",
       "      <td>0.000012</td>\n",
       "    </tr>\n",
       "    <tr>\n",
       "      <th>5</th>\n",
       "      <td>19.46927</td>\n",
       "      <td>18.18101</td>\n",
       "      <td>17.59062</td>\n",
       "      <td>17.25874</td>\n",
       "      <td>16.94567</td>\n",
       "      <td>GALAXY</td>\n",
       "      <td>0.036167</td>\n",
       "      <td>0.000008</td>\n",
       "    </tr>\n",
       "    <tr>\n",
       "      <th>6</th>\n",
       "      <td>19.58999</td>\n",
       "      <td>18.23981</td>\n",
       "      <td>17.54194</td>\n",
       "      <td>17.17573</td>\n",
       "      <td>16.92423</td>\n",
       "      <td>GALAXY</td>\n",
       "      <td>0.072549</td>\n",
       "      <td>0.000016</td>\n",
       "    </tr>\n",
       "    <tr>\n",
       "      <th>7</th>\n",
       "      <td>19.11101</td>\n",
       "      <td>16.80968</td>\n",
       "      <td>15.60260</td>\n",
       "      <td>15.11230</td>\n",
       "      <td>14.74625</td>\n",
       "      <td>GALAXY</td>\n",
       "      <td>0.156453</td>\n",
       "      <td>0.000021</td>\n",
       "    </tr>\n",
       "    <tr>\n",
       "      <th>8</th>\n",
       "      <td>18.52309</td>\n",
       "      <td>16.65203</td>\n",
       "      <td>15.91790</td>\n",
       "      <td>15.47603</td>\n",
       "      <td>15.16455</td>\n",
       "      <td>GALAXY</td>\n",
       "      <td>0.066758</td>\n",
       "      <td>0.000018</td>\n",
       "    </tr>\n",
       "    <tr>\n",
       "      <th>9</th>\n",
       "      <td>18.73190</td>\n",
       "      <td>17.42271</td>\n",
       "      <td>16.80514</td>\n",
       "      <td>16.47006</td>\n",
       "      <td>16.18039</td>\n",
       "      <td>GALAXY</td>\n",
       "      <td>0.036462</td>\n",
       "      <td>0.000010</td>\n",
       "    </tr>\n",
       "  </tbody>\n",
       "</table>\n",
       "</div>"
      ],
      "text/plain": [
       "          u         g         r         i         z   class        z1  \\\n",
       "0  19.41061  18.23754  17.58132  17.20153  16.90159  GALAXY  0.032125   \n",
       "1  19.54964  17.95799  17.02898  16.53100  16.13408  GALAXY  0.121315   \n",
       "2  18.74425  17.37778  16.80538  16.51149  16.28756  GALAXY  0.048765   \n",
       "3  17.55033  15.75007  15.02809  14.66306  14.34982  GALAXY  0.040287   \n",
       "4  17.60645  16.16628  15.51308  15.15529  14.87411  GALAXY  0.025475   \n",
       "5  19.46927  18.18101  17.59062  17.25874  16.94567  GALAXY  0.036167   \n",
       "6  19.58999  18.23981  17.54194  17.17573  16.92423  GALAXY  0.072549   \n",
       "7  19.11101  16.80968  15.60260  15.11230  14.74625  GALAXY  0.156453   \n",
       "8  18.52309  16.65203  15.91790  15.47603  15.16455  GALAXY  0.066758   \n",
       "9  18.73190  17.42271  16.80514  16.47006  16.18039  GALAXY  0.036462   \n",
       "\n",
       "       zerr  \n",
       "0  0.000006  \n",
       "1  0.000024  \n",
       "2  0.000014  \n",
       "3  0.000012  \n",
       "4  0.000012  \n",
       "5  0.000008  \n",
       "6  0.000016  \n",
       "7  0.000021  \n",
       "8  0.000018  \n",
       "9  0.000010  "
      ]
     },
     "execution_count": 34,
     "metadata": {},
     "output_type": "execute_result"
    }
   ],
   "source": [
    "data = pandas.read_csv('galaxy_colors.csv', comment='#')\n",
    "data[:10]"
   ]
  },
  {
   "cell_type": "code",
   "execution_count": 35,
   "metadata": {
    "collapsed": false
   },
   "outputs": [
    {
     "data": {
      "text/plain": [
       "pandas.core.frame.DataFrame"
      ]
     },
     "execution_count": 35,
     "metadata": {},
     "output_type": "execute_result"
    }
   ],
   "source": [
    "type(data)"
   ]
  },
  {
   "cell_type": "markdown",
   "metadata": {},
   "source": [
    "# Reading FITS files"
   ]
  },
  {
   "cell_type": "code",
   "execution_count": null,
   "metadata": {
    "collapsed": true
   },
   "outputs": [],
   "source": []
  }
 ],
 "metadata": {
  "kernelspec": {
   "display_name": "Python 3",
   "language": "python",
   "name": "python3"
  },
  "language_info": {
   "codemirror_mode": {
    "name": "ipython",
    "version": 3
   },
   "file_extension": ".py",
   "mimetype": "text/x-python",
   "name": "python",
   "nbconvert_exporter": "python",
   "pygments_lexer": "ipython3",
   "version": "3.4.3"
  }
 },
 "nbformat": 4,
 "nbformat_minor": 0
}
