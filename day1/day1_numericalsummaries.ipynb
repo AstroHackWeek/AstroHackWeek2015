{
 "cells": [
  {
   "cell_type": "markdown",
   "metadata": {},
   "source": [
    "# Numerical Summaries of Data\n",
    "\n",
    "Congratulations, you have some data. Now what? Well, ideally, you'll have a research question to match. In practice, that's not always true or even possible. \n",
    "So, in the following tutorial, we're going to present some methods to explore your data, using an example data set from SDSS. Most of these methods focus on *summarizing* the data in some way, that is, compress the information in your data set in such a way that it will be more useful to you than the raw data. There are many ways to achieve this sort of compression; we'll only showcase a few of them. In general, one can summarize data numerically, that is, compute a set of numbers that describe the data in a meaningful way that trades loss of information with descriptiveness. One can also summarize data sets visually, in the form of graphs. Here, we will explore the former category (although we won't get away without making any graphs here, either!). The following tutorial will explore visual summaries of data in more detail.\n",
    "\n",
    "Many of these methods may seem familiar, but we'll try to teach you something new, too! \n",
    "At the same time, you'll also get to know some of the most useful packages for numerical computation in python: numpy and scipy.\n",
    "\n",
    "Before we start, let's load some astronomy data!"
   ]
  },
  {
   "cell_type": "code",
   "execution_count": 1,
   "metadata": {
    "collapsed": true
   },
   "outputs": [],
   "source": [
    "import os\n",
    "import requests \n",
    "\n",
    "# get some CSV data from the SDSS SQL server\n",
    "URL = \"http://skyserver.sdss.org/dr12/en/tools/search/x_sql.aspx\"\n",
    "\n",
    "cmd = \"\"\"\n",
    "SELECT TOP 10000\n",
    "    p.u, p.g, p.r, p.i, p.z, s.class, s.z, s.zerr\n",
    "FROM\n",
    "    PhotoObj AS p\n",
    "JOIN\n",
    "    SpecObj AS s ON s.bestobjid = p.objid\n",
    "WHERE\n",
    "    p.u BETWEEN 0 AND 19.6 AND\n",
    "    p.g BETWEEN 0 AND 20 AND\n",
    "    (s.class = 'STAR' OR s.class = 'GALAXY' OR s.class = 'QSO')\n",
    "\"\"\"\n",
    "if not os.path.exists('all_colors.csv'):\n",
    "    cmd = ' '.join(map(lambda x: x.strip(), cmd.split('\\n')))\n",
    "    response = requests.get(URL, params={'cmd': cmd, 'format':'csv'})\n",
    "    with open('all_colors.csv', 'w') as f:\n",
    "        f.write(response.text)"
   ]
  },
  {
   "cell_type": "code",
   "execution_count": 2,
   "metadata": {
    "collapsed": true
   },
   "outputs": [],
   "source": [
    "import pandas as pd\n",
    "df = pd.read_csv(\"all_colors.csv\",skiprows=1)"
   ]
  },
  {
   "cell_type": "code",
   "execution_count": 3,
   "metadata": {
    "collapsed": false
   },
   "outputs": [
    {
     "data": {
      "text/html": [
       "<div>\n",
       "<table border=\"1\" class=\"dataframe\">\n",
       "  <thead>\n",
       "    <tr style=\"text-align: right;\">\n",
       "      <th></th>\n",
       "      <th>u</th>\n",
       "      <th>g</th>\n",
       "      <th>r</th>\n",
       "      <th>i</th>\n",
       "      <th>z</th>\n",
       "      <th>class</th>\n",
       "      <th>z1</th>\n",
       "      <th>zerr</th>\n",
       "    </tr>\n",
       "  </thead>\n",
       "  <tbody>\n",
       "    <tr>\n",
       "      <th>0</th>\n",
       "      <td>19.16978</td>\n",
       "      <td>17.08930</td>\n",
       "      <td>16.04692</td>\n",
       "      <td>15.55223</td>\n",
       "      <td>15.17684</td>\n",
       "      <td>GALAXY</td>\n",
       "      <td>0.076246</td>\n",
       "      <td>0.000019</td>\n",
       "    </tr>\n",
       "    <tr>\n",
       "      <th>1</th>\n",
       "      <td>18.88655</td>\n",
       "      <td>17.26482</td>\n",
       "      <td>16.53105</td>\n",
       "      <td>16.23936</td>\n",
       "      <td>16.05161</td>\n",
       "      <td>STAR</td>\n",
       "      <td>0.000122</td>\n",
       "      <td>0.000009</td>\n",
       "    </tr>\n",
       "    <tr>\n",
       "      <th>2</th>\n",
       "      <td>18.94358</td>\n",
       "      <td>17.47576</td>\n",
       "      <td>16.79267</td>\n",
       "      <td>16.49504</td>\n",
       "      <td>16.30348</td>\n",
       "      <td>STAR</td>\n",
       "      <td>0.000161</td>\n",
       "      <td>0.000011</td>\n",
       "    </tr>\n",
       "    <tr>\n",
       "      <th>3</th>\n",
       "      <td>18.42756</td>\n",
       "      <td>16.98290</td>\n",
       "      <td>16.79660</td>\n",
       "      <td>16.78195</td>\n",
       "      <td>16.72049</td>\n",
       "      <td>STAR</td>\n",
       "      <td>0.000123</td>\n",
       "      <td>0.000010</td>\n",
       "    </tr>\n",
       "    <tr>\n",
       "      <th>4</th>\n",
       "      <td>18.76420</td>\n",
       "      <td>16.92113</td>\n",
       "      <td>16.04104</td>\n",
       "      <td>15.65526</td>\n",
       "      <td>15.39297</td>\n",
       "      <td>STAR</td>\n",
       "      <td>0.000241</td>\n",
       "      <td>0.000008</td>\n",
       "    </tr>\n",
       "    <tr>\n",
       "      <th>5</th>\n",
       "      <td>17.20783</td>\n",
       "      <td>15.75872</td>\n",
       "      <td>15.63107</td>\n",
       "      <td>15.59838</td>\n",
       "      <td>15.56201</td>\n",
       "      <td>STAR</td>\n",
       "      <td>0.000142</td>\n",
       "      <td>0.000005</td>\n",
       "    </tr>\n",
       "    <tr>\n",
       "      <th>6</th>\n",
       "      <td>18.28920</td>\n",
       "      <td>16.84220</td>\n",
       "      <td>16.68952</td>\n",
       "      <td>16.64136</td>\n",
       "      <td>16.58683</td>\n",
       "      <td>STAR</td>\n",
       "      <td>0.000222</td>\n",
       "      <td>0.000008</td>\n",
       "    </tr>\n",
       "    <tr>\n",
       "      <th>7</th>\n",
       "      <td>17.69090</td>\n",
       "      <td>16.22015</td>\n",
       "      <td>15.54465</td>\n",
       "      <td>15.20622</td>\n",
       "      <td>15.05557</td>\n",
       "      <td>STAR</td>\n",
       "      <td>0.000150</td>\n",
       "      <td>0.000009</td>\n",
       "    </tr>\n",
       "    <tr>\n",
       "      <th>8</th>\n",
       "      <td>19.10833</td>\n",
       "      <td>17.49509</td>\n",
       "      <td>16.73375</td>\n",
       "      <td>16.40439</td>\n",
       "      <td>16.16703</td>\n",
       "      <td>STAR</td>\n",
       "      <td>0.000188</td>\n",
       "      <td>0.000009</td>\n",
       "    </tr>\n",
       "    <tr>\n",
       "      <th>9</th>\n",
       "      <td>18.18435</td>\n",
       "      <td>16.81769</td>\n",
       "      <td>16.30527</td>\n",
       "      <td>16.06046</td>\n",
       "      <td>15.91306</td>\n",
       "      <td>STAR</td>\n",
       "      <td>0.000210</td>\n",
       "      <td>0.000012</td>\n",
       "    </tr>\n",
       "    <tr>\n",
       "      <th>10</th>\n",
       "      <td>18.98582</td>\n",
       "      <td>17.43833</td>\n",
       "      <td>16.70121</td>\n",
       "      <td>16.40430</td>\n",
       "      <td>16.22956</td>\n",
       "      <td>STAR</td>\n",
       "      <td>0.000339</td>\n",
       "      <td>0.000010</td>\n",
       "    </tr>\n",
       "    <tr>\n",
       "      <th>11</th>\n",
       "      <td>17.78138</td>\n",
       "      <td>16.38120</td>\n",
       "      <td>16.31779</td>\n",
       "      <td>16.31096</td>\n",
       "      <td>16.27825</td>\n",
       "      <td>STAR</td>\n",
       "      <td>0.000247</td>\n",
       "      <td>0.000006</td>\n",
       "    </tr>\n",
       "    <tr>\n",
       "      <th>12</th>\n",
       "      <td>16.12573</td>\n",
       "      <td>15.05371</td>\n",
       "      <td>15.04288</td>\n",
       "      <td>15.09971</td>\n",
       "      <td>15.12204</td>\n",
       "      <td>STAR</td>\n",
       "      <td>0.000225</td>\n",
       "      <td>0.000004</td>\n",
       "    </tr>\n",
       "    <tr>\n",
       "      <th>13</th>\n",
       "      <td>17.88314</td>\n",
       "      <td>16.59722</td>\n",
       "      <td>16.52256</td>\n",
       "      <td>16.50586</td>\n",
       "      <td>16.57543</td>\n",
       "      <td>STAR</td>\n",
       "      <td>0.000207</td>\n",
       "      <td>0.000007</td>\n",
       "    </tr>\n",
       "    <tr>\n",
       "      <th>14</th>\n",
       "      <td>16.50660</td>\n",
       "      <td>15.11010</td>\n",
       "      <td>15.02940</td>\n",
       "      <td>15.05553</td>\n",
       "      <td>15.01521</td>\n",
       "      <td>STAR</td>\n",
       "      <td>0.000166</td>\n",
       "      <td>0.000004</td>\n",
       "    </tr>\n",
       "    <tr>\n",
       "      <th>15</th>\n",
       "      <td>17.54357</td>\n",
       "      <td>16.15225</td>\n",
       "      <td>16.02519</td>\n",
       "      <td>16.01606</td>\n",
       "      <td>15.98047</td>\n",
       "      <td>STAR</td>\n",
       "      <td>0.000212</td>\n",
       "      <td>0.000006</td>\n",
       "    </tr>\n",
       "    <tr>\n",
       "      <th>16</th>\n",
       "      <td>17.46517</td>\n",
       "      <td>15.97317</td>\n",
       "      <td>15.81342</td>\n",
       "      <td>15.78044</td>\n",
       "      <td>15.71757</td>\n",
       "      <td>STAR</td>\n",
       "      <td>0.000230</td>\n",
       "      <td>0.000006</td>\n",
       "    </tr>\n",
       "    <tr>\n",
       "      <th>17</th>\n",
       "      <td>18.55322</td>\n",
       "      <td>16.99053</td>\n",
       "      <td>16.78870</td>\n",
       "      <td>16.72765</td>\n",
       "      <td>16.73230</td>\n",
       "      <td>STAR</td>\n",
       "      <td>0.000225</td>\n",
       "      <td>0.000009</td>\n",
       "    </tr>\n",
       "    <tr>\n",
       "      <th>18</th>\n",
       "      <td>17.65196</td>\n",
       "      <td>16.34665</td>\n",
       "      <td>16.21154</td>\n",
       "      <td>16.19021</td>\n",
       "      <td>16.13198</td>\n",
       "      <td>STAR</td>\n",
       "      <td>0.000207</td>\n",
       "      <td>0.000007</td>\n",
       "    </tr>\n",
       "    <tr>\n",
       "      <th>19</th>\n",
       "      <td>18.94093</td>\n",
       "      <td>17.30824</td>\n",
       "      <td>16.68718</td>\n",
       "      <td>16.37980</td>\n",
       "      <td>16.19246</td>\n",
       "      <td>STAR</td>\n",
       "      <td>0.000109</td>\n",
       "      <td>0.000016</td>\n",
       "    </tr>\n",
       "    <tr>\n",
       "      <th>20</th>\n",
       "      <td>19.42305</td>\n",
       "      <td>17.70929</td>\n",
       "      <td>16.88225</td>\n",
       "      <td>16.48898</td>\n",
       "      <td>16.24508</td>\n",
       "      <td>STAR</td>\n",
       "      <td>0.000103</td>\n",
       "      <td>0.000012</td>\n",
       "    </tr>\n",
       "    <tr>\n",
       "      <th>21</th>\n",
       "      <td>17.49978</td>\n",
       "      <td>15.94900</td>\n",
       "      <td>15.74521</td>\n",
       "      <td>15.66466</td>\n",
       "      <td>15.56982</td>\n",
       "      <td>STAR</td>\n",
       "      <td>0.000208</td>\n",
       "      <td>0.000008</td>\n",
       "    </tr>\n",
       "    <tr>\n",
       "      <th>22</th>\n",
       "      <td>17.28362</td>\n",
       "      <td>15.78144</td>\n",
       "      <td>15.60855</td>\n",
       "      <td>15.56985</td>\n",
       "      <td>15.50644</td>\n",
       "      <td>STAR</td>\n",
       "      <td>0.000233</td>\n",
       "      <td>0.000005</td>\n",
       "    </tr>\n",
       "    <tr>\n",
       "      <th>23</th>\n",
       "      <td>18.48349</td>\n",
       "      <td>16.99278</td>\n",
       "      <td>16.83139</td>\n",
       "      <td>16.76890</td>\n",
       "      <td>16.71789</td>\n",
       "      <td>STAR</td>\n",
       "      <td>0.000178</td>\n",
       "      <td>0.000011</td>\n",
       "    </tr>\n",
       "    <tr>\n",
       "      <th>24</th>\n",
       "      <td>17.90772</td>\n",
       "      <td>16.59890</td>\n",
       "      <td>16.51875</td>\n",
       "      <td>16.52415</td>\n",
       "      <td>16.49093</td>\n",
       "      <td>STAR</td>\n",
       "      <td>0.000183</td>\n",
       "      <td>0.000008</td>\n",
       "    </tr>\n",
       "    <tr>\n",
       "      <th>25</th>\n",
       "      <td>18.05621</td>\n",
       "      <td>16.50874</td>\n",
       "      <td>16.21932</td>\n",
       "      <td>16.08952</td>\n",
       "      <td>16.00218</td>\n",
       "      <td>STAR</td>\n",
       "      <td>0.000201</td>\n",
       "      <td>0.000008</td>\n",
       "    </tr>\n",
       "    <tr>\n",
       "      <th>26</th>\n",
       "      <td>17.80663</td>\n",
       "      <td>16.30726</td>\n",
       "      <td>16.14573</td>\n",
       "      <td>16.10564</td>\n",
       "      <td>16.07638</td>\n",
       "      <td>STAR</td>\n",
       "      <td>0.000068</td>\n",
       "      <td>0.000006</td>\n",
       "    </tr>\n",
       "    <tr>\n",
       "      <th>27</th>\n",
       "      <td>19.48872</td>\n",
       "      <td>17.48968</td>\n",
       "      <td>16.54476</td>\n",
       "      <td>16.17460</td>\n",
       "      <td>15.91617</td>\n",
       "      <td>STAR</td>\n",
       "      <td>-0.000018</td>\n",
       "      <td>0.000008</td>\n",
       "    </tr>\n",
       "    <tr>\n",
       "      <th>28</th>\n",
       "      <td>18.55945</td>\n",
       "      <td>17.00299</td>\n",
       "      <td>16.78813</td>\n",
       "      <td>16.69907</td>\n",
       "      <td>16.62170</td>\n",
       "      <td>STAR</td>\n",
       "      <td>0.000206</td>\n",
       "      <td>0.000009</td>\n",
       "    </tr>\n",
       "    <tr>\n",
       "      <th>29</th>\n",
       "      <td>17.05843</td>\n",
       "      <td>15.67654</td>\n",
       "      <td>15.53414</td>\n",
       "      <td>15.51704</td>\n",
       "      <td>15.48902</td>\n",
       "      <td>STAR</td>\n",
       "      <td>0.000182</td>\n",
       "      <td>0.000005</td>\n",
       "    </tr>\n",
       "    <tr>\n",
       "      <th>...</th>\n",
       "      <td>...</td>\n",
       "      <td>...</td>\n",
       "      <td>...</td>\n",
       "      <td>...</td>\n",
       "      <td>...</td>\n",
       "      <td>...</td>\n",
       "      <td>...</td>\n",
       "      <td>...</td>\n",
       "    </tr>\n",
       "    <tr>\n",
       "      <th>9970</th>\n",
       "      <td>17.59953</td>\n",
       "      <td>16.58967</td>\n",
       "      <td>16.24192</td>\n",
       "      <td>16.10102</td>\n",
       "      <td>16.04400</td>\n",
       "      <td>STAR</td>\n",
       "      <td>0.000035</td>\n",
       "      <td>0.000013</td>\n",
       "    </tr>\n",
       "    <tr>\n",
       "      <th>9971</th>\n",
       "      <td>18.16958</td>\n",
       "      <td>16.85057</td>\n",
       "      <td>16.34460</td>\n",
       "      <td>16.16843</td>\n",
       "      <td>16.09365</td>\n",
       "      <td>STAR</td>\n",
       "      <td>0.000020</td>\n",
       "      <td>0.000009</td>\n",
       "    </tr>\n",
       "    <tr>\n",
       "      <th>9972</th>\n",
       "      <td>19.47481</td>\n",
       "      <td>18.17858</td>\n",
       "      <td>17.65583</td>\n",
       "      <td>17.48444</td>\n",
       "      <td>17.40809</td>\n",
       "      <td>STAR</td>\n",
       "      <td>-0.000042</td>\n",
       "      <td>0.000015</td>\n",
       "    </tr>\n",
       "    <tr>\n",
       "      <th>9973</th>\n",
       "      <td>16.93509</td>\n",
       "      <td>15.89833</td>\n",
       "      <td>15.64126</td>\n",
       "      <td>15.55972</td>\n",
       "      <td>15.55461</td>\n",
       "      <td>STAR</td>\n",
       "      <td>-0.000243</td>\n",
       "      <td>0.000009</td>\n",
       "    </tr>\n",
       "    <tr>\n",
       "      <th>9974</th>\n",
       "      <td>19.05413</td>\n",
       "      <td>17.64038</td>\n",
       "      <td>17.12273</td>\n",
       "      <td>16.95944</td>\n",
       "      <td>16.94414</td>\n",
       "      <td>STAR</td>\n",
       "      <td>0.000003</td>\n",
       "      <td>0.000011</td>\n",
       "    </tr>\n",
       "    <tr>\n",
       "      <th>9975</th>\n",
       "      <td>18.96898</td>\n",
       "      <td>17.83578</td>\n",
       "      <td>17.34993</td>\n",
       "      <td>17.13929</td>\n",
       "      <td>17.04628</td>\n",
       "      <td>STAR</td>\n",
       "      <td>0.000155</td>\n",
       "      <td>0.000024</td>\n",
       "    </tr>\n",
       "    <tr>\n",
       "      <th>9976</th>\n",
       "      <td>18.53863</td>\n",
       "      <td>17.50417</td>\n",
       "      <td>17.40921</td>\n",
       "      <td>17.02764</td>\n",
       "      <td>16.95722</td>\n",
       "      <td>STAR</td>\n",
       "      <td>0.000320</td>\n",
       "      <td>0.000012</td>\n",
       "    </tr>\n",
       "    <tr>\n",
       "      <th>9977</th>\n",
       "      <td>19.15937</td>\n",
       "      <td>17.71990</td>\n",
       "      <td>17.00692</td>\n",
       "      <td>16.57077</td>\n",
       "      <td>16.29756</td>\n",
       "      <td>GALAXY</td>\n",
       "      <td>0.106886</td>\n",
       "      <td>0.000008</td>\n",
       "    </tr>\n",
       "    <tr>\n",
       "      <th>9978</th>\n",
       "      <td>19.09615</td>\n",
       "      <td>18.03058</td>\n",
       "      <td>17.58615</td>\n",
       "      <td>17.23315</td>\n",
       "      <td>17.07345</td>\n",
       "      <td>GALAXY</td>\n",
       "      <td>0.097435</td>\n",
       "      <td>0.000007</td>\n",
       "    </tr>\n",
       "    <tr>\n",
       "      <th>9979</th>\n",
       "      <td>18.76028</td>\n",
       "      <td>17.58084</td>\n",
       "      <td>16.94311</td>\n",
       "      <td>16.53653</td>\n",
       "      <td>16.27498</td>\n",
       "      <td>GALAXY</td>\n",
       "      <td>0.099985</td>\n",
       "      <td>0.000007</td>\n",
       "    </tr>\n",
       "    <tr>\n",
       "      <th>9980</th>\n",
       "      <td>19.54107</td>\n",
       "      <td>18.63769</td>\n",
       "      <td>18.35180</td>\n",
       "      <td>18.24740</td>\n",
       "      <td>18.27069</td>\n",
       "      <td>STAR</td>\n",
       "      <td>-0.000034</td>\n",
       "      <td>0.000015</td>\n",
       "    </tr>\n",
       "    <tr>\n",
       "      <th>9981</th>\n",
       "      <td>16.74574</td>\n",
       "      <td>15.81132</td>\n",
       "      <td>15.60078</td>\n",
       "      <td>15.48096</td>\n",
       "      <td>15.47831</td>\n",
       "      <td>STAR</td>\n",
       "      <td>0.000006</td>\n",
       "      <td>0.000010</td>\n",
       "    </tr>\n",
       "    <tr>\n",
       "      <th>9982</th>\n",
       "      <td>18.65651</td>\n",
       "      <td>17.37145</td>\n",
       "      <td>16.87351</td>\n",
       "      <td>16.64450</td>\n",
       "      <td>16.57219</td>\n",
       "      <td>STAR</td>\n",
       "      <td>0.000003</td>\n",
       "      <td>0.000011</td>\n",
       "    </tr>\n",
       "    <tr>\n",
       "      <th>9983</th>\n",
       "      <td>19.06465</td>\n",
       "      <td>17.73145</td>\n",
       "      <td>17.15522</td>\n",
       "      <td>16.90062</td>\n",
       "      <td>16.78501</td>\n",
       "      <td>STAR</td>\n",
       "      <td>0.000574</td>\n",
       "      <td>0.000010</td>\n",
       "    </tr>\n",
       "    <tr>\n",
       "      <th>9984</th>\n",
       "      <td>18.62742</td>\n",
       "      <td>17.63571</td>\n",
       "      <td>17.54901</td>\n",
       "      <td>17.53024</td>\n",
       "      <td>17.59915</td>\n",
       "      <td>STAR</td>\n",
       "      <td>-0.000160</td>\n",
       "      <td>0.000015</td>\n",
       "    </tr>\n",
       "    <tr>\n",
       "      <th>9985</th>\n",
       "      <td>18.80398</td>\n",
       "      <td>17.20560</td>\n",
       "      <td>16.45576</td>\n",
       "      <td>16.05471</td>\n",
       "      <td>15.77661</td>\n",
       "      <td>GALAXY</td>\n",
       "      <td>0.076985</td>\n",
       "      <td>0.000017</td>\n",
       "    </tr>\n",
       "    <tr>\n",
       "      <th>9986</th>\n",
       "      <td>19.17921</td>\n",
       "      <td>18.01439</td>\n",
       "      <td>18.10545</td>\n",
       "      <td>18.19231</td>\n",
       "      <td>18.28418</td>\n",
       "      <td>STAR</td>\n",
       "      <td>0.000184</td>\n",
       "      <td>0.000010</td>\n",
       "    </tr>\n",
       "    <tr>\n",
       "      <th>9987</th>\n",
       "      <td>18.88458</td>\n",
       "      <td>17.41936</td>\n",
       "      <td>16.91883</td>\n",
       "      <td>16.74213</td>\n",
       "      <td>16.65047</td>\n",
       "      <td>STAR</td>\n",
       "      <td>-0.000074</td>\n",
       "      <td>0.000010</td>\n",
       "    </tr>\n",
       "    <tr>\n",
       "      <th>9988</th>\n",
       "      <td>18.86460</td>\n",
       "      <td>17.42484</td>\n",
       "      <td>16.92172</td>\n",
       "      <td>16.75095</td>\n",
       "      <td>16.64374</td>\n",
       "      <td>STAR</td>\n",
       "      <td>0.000231</td>\n",
       "      <td>0.000010</td>\n",
       "    </tr>\n",
       "    <tr>\n",
       "      <th>9989</th>\n",
       "      <td>19.27100</td>\n",
       "      <td>18.20939</td>\n",
       "      <td>17.43694</td>\n",
       "      <td>17.09906</td>\n",
       "      <td>16.76650</td>\n",
       "      <td>GALAXY</td>\n",
       "      <td>0.175186</td>\n",
       "      <td>0.000047</td>\n",
       "    </tr>\n",
       "    <tr>\n",
       "      <th>9990</th>\n",
       "      <td>19.18914</td>\n",
       "      <td>18.02758</td>\n",
       "      <td>17.37794</td>\n",
       "      <td>16.97155</td>\n",
       "      <td>16.70886</td>\n",
       "      <td>GALAXY</td>\n",
       "      <td>0.161950</td>\n",
       "      <td>0.000010</td>\n",
       "    </tr>\n",
       "    <tr>\n",
       "      <th>9991</th>\n",
       "      <td>17.82411</td>\n",
       "      <td>16.69526</td>\n",
       "      <td>16.71062</td>\n",
       "      <td>16.79333</td>\n",
       "      <td>16.87201</td>\n",
       "      <td>STAR</td>\n",
       "      <td>0.000225</td>\n",
       "      <td>0.000009</td>\n",
       "    </tr>\n",
       "    <tr>\n",
       "      <th>9992</th>\n",
       "      <td>18.73274</td>\n",
       "      <td>17.51075</td>\n",
       "      <td>17.47652</td>\n",
       "      <td>17.51238</td>\n",
       "      <td>17.53094</td>\n",
       "      <td>STAR</td>\n",
       "      <td>0.000270</td>\n",
       "      <td>0.000016</td>\n",
       "    </tr>\n",
       "    <tr>\n",
       "      <th>9993</th>\n",
       "      <td>17.97962</td>\n",
       "      <td>16.50592</td>\n",
       "      <td>15.73102</td>\n",
       "      <td>15.34384</td>\n",
       "      <td>15.01797</td>\n",
       "      <td>GALAXY</td>\n",
       "      <td>0.091313</td>\n",
       "      <td>0.000023</td>\n",
       "    </tr>\n",
       "    <tr>\n",
       "      <th>9994</th>\n",
       "      <td>19.18282</td>\n",
       "      <td>17.50630</td>\n",
       "      <td>16.68982</td>\n",
       "      <td>16.32261</td>\n",
       "      <td>15.99805</td>\n",
       "      <td>GALAXY</td>\n",
       "      <td>0.063424</td>\n",
       "      <td>0.000022</td>\n",
       "    </tr>\n",
       "    <tr>\n",
       "      <th>9995</th>\n",
       "      <td>18.01290</td>\n",
       "      <td>16.68392</td>\n",
       "      <td>16.03075</td>\n",
       "      <td>15.67043</td>\n",
       "      <td>15.40829</td>\n",
       "      <td>GALAXY</td>\n",
       "      <td>0.077660</td>\n",
       "      <td>0.000018</td>\n",
       "    </tr>\n",
       "    <tr>\n",
       "      <th>9996</th>\n",
       "      <td>19.21344</td>\n",
       "      <td>17.69683</td>\n",
       "      <td>16.70948</td>\n",
       "      <td>16.23935</td>\n",
       "      <td>15.87513</td>\n",
       "      <td>GALAXY</td>\n",
       "      <td>0.148604</td>\n",
       "      <td>0.000025</td>\n",
       "    </tr>\n",
       "    <tr>\n",
       "      <th>9997</th>\n",
       "      <td>19.57024</td>\n",
       "      <td>17.60483</td>\n",
       "      <td>16.70992</td>\n",
       "      <td>16.28086</td>\n",
       "      <td>15.96815</td>\n",
       "      <td>GALAXY</td>\n",
       "      <td>0.080292</td>\n",
       "      <td>0.000026</td>\n",
       "    </tr>\n",
       "    <tr>\n",
       "      <th>9998</th>\n",
       "      <td>19.52763</td>\n",
       "      <td>17.42569</td>\n",
       "      <td>16.47646</td>\n",
       "      <td>16.05531</td>\n",
       "      <td>15.74205</td>\n",
       "      <td>GALAXY</td>\n",
       "      <td>0.090509</td>\n",
       "      <td>0.000023</td>\n",
       "    </tr>\n",
       "    <tr>\n",
       "      <th>9999</th>\n",
       "      <td>19.57570</td>\n",
       "      <td>17.94259</td>\n",
       "      <td>16.93353</td>\n",
       "      <td>16.47952</td>\n",
       "      <td>16.11912</td>\n",
       "      <td>GALAXY</td>\n",
       "      <td>0.077799</td>\n",
       "      <td>0.000023</td>\n",
       "    </tr>\n",
       "  </tbody>\n",
       "</table>\n",
       "<p>10000 rows × 8 columns</p>\n",
       "</div>"
      ],
      "text/plain": [
       "             u         g         r         i         z   class        z1  \\\n",
       "0     19.16978  17.08930  16.04692  15.55223  15.17684  GALAXY  0.076246   \n",
       "1     18.88655  17.26482  16.53105  16.23936  16.05161    STAR  0.000122   \n",
       "2     18.94358  17.47576  16.79267  16.49504  16.30348    STAR  0.000161   \n",
       "3     18.42756  16.98290  16.79660  16.78195  16.72049    STAR  0.000123   \n",
       "4     18.76420  16.92113  16.04104  15.65526  15.39297    STAR  0.000241   \n",
       "5     17.20783  15.75872  15.63107  15.59838  15.56201    STAR  0.000142   \n",
       "6     18.28920  16.84220  16.68952  16.64136  16.58683    STAR  0.000222   \n",
       "7     17.69090  16.22015  15.54465  15.20622  15.05557    STAR  0.000150   \n",
       "8     19.10833  17.49509  16.73375  16.40439  16.16703    STAR  0.000188   \n",
       "9     18.18435  16.81769  16.30527  16.06046  15.91306    STAR  0.000210   \n",
       "10    18.98582  17.43833  16.70121  16.40430  16.22956    STAR  0.000339   \n",
       "11    17.78138  16.38120  16.31779  16.31096  16.27825    STAR  0.000247   \n",
       "12    16.12573  15.05371  15.04288  15.09971  15.12204    STAR  0.000225   \n",
       "13    17.88314  16.59722  16.52256  16.50586  16.57543    STAR  0.000207   \n",
       "14    16.50660  15.11010  15.02940  15.05553  15.01521    STAR  0.000166   \n",
       "15    17.54357  16.15225  16.02519  16.01606  15.98047    STAR  0.000212   \n",
       "16    17.46517  15.97317  15.81342  15.78044  15.71757    STAR  0.000230   \n",
       "17    18.55322  16.99053  16.78870  16.72765  16.73230    STAR  0.000225   \n",
       "18    17.65196  16.34665  16.21154  16.19021  16.13198    STAR  0.000207   \n",
       "19    18.94093  17.30824  16.68718  16.37980  16.19246    STAR  0.000109   \n",
       "20    19.42305  17.70929  16.88225  16.48898  16.24508    STAR  0.000103   \n",
       "21    17.49978  15.94900  15.74521  15.66466  15.56982    STAR  0.000208   \n",
       "22    17.28362  15.78144  15.60855  15.56985  15.50644    STAR  0.000233   \n",
       "23    18.48349  16.99278  16.83139  16.76890  16.71789    STAR  0.000178   \n",
       "24    17.90772  16.59890  16.51875  16.52415  16.49093    STAR  0.000183   \n",
       "25    18.05621  16.50874  16.21932  16.08952  16.00218    STAR  0.000201   \n",
       "26    17.80663  16.30726  16.14573  16.10564  16.07638    STAR  0.000068   \n",
       "27    19.48872  17.48968  16.54476  16.17460  15.91617    STAR -0.000018   \n",
       "28    18.55945  17.00299  16.78813  16.69907  16.62170    STAR  0.000206   \n",
       "29    17.05843  15.67654  15.53414  15.51704  15.48902    STAR  0.000182   \n",
       "...        ...       ...       ...       ...       ...     ...       ...   \n",
       "9970  17.59953  16.58967  16.24192  16.10102  16.04400    STAR  0.000035   \n",
       "9971  18.16958  16.85057  16.34460  16.16843  16.09365    STAR  0.000020   \n",
       "9972  19.47481  18.17858  17.65583  17.48444  17.40809    STAR -0.000042   \n",
       "9973  16.93509  15.89833  15.64126  15.55972  15.55461    STAR -0.000243   \n",
       "9974  19.05413  17.64038  17.12273  16.95944  16.94414    STAR  0.000003   \n",
       "9975  18.96898  17.83578  17.34993  17.13929  17.04628    STAR  0.000155   \n",
       "9976  18.53863  17.50417  17.40921  17.02764  16.95722    STAR  0.000320   \n",
       "9977  19.15937  17.71990  17.00692  16.57077  16.29756  GALAXY  0.106886   \n",
       "9978  19.09615  18.03058  17.58615  17.23315  17.07345  GALAXY  0.097435   \n",
       "9979  18.76028  17.58084  16.94311  16.53653  16.27498  GALAXY  0.099985   \n",
       "9980  19.54107  18.63769  18.35180  18.24740  18.27069    STAR -0.000034   \n",
       "9981  16.74574  15.81132  15.60078  15.48096  15.47831    STAR  0.000006   \n",
       "9982  18.65651  17.37145  16.87351  16.64450  16.57219    STAR  0.000003   \n",
       "9983  19.06465  17.73145  17.15522  16.90062  16.78501    STAR  0.000574   \n",
       "9984  18.62742  17.63571  17.54901  17.53024  17.59915    STAR -0.000160   \n",
       "9985  18.80398  17.20560  16.45576  16.05471  15.77661  GALAXY  0.076985   \n",
       "9986  19.17921  18.01439  18.10545  18.19231  18.28418    STAR  0.000184   \n",
       "9987  18.88458  17.41936  16.91883  16.74213  16.65047    STAR -0.000074   \n",
       "9988  18.86460  17.42484  16.92172  16.75095  16.64374    STAR  0.000231   \n",
       "9989  19.27100  18.20939  17.43694  17.09906  16.76650  GALAXY  0.175186   \n",
       "9990  19.18914  18.02758  17.37794  16.97155  16.70886  GALAXY  0.161950   \n",
       "9991  17.82411  16.69526  16.71062  16.79333  16.87201    STAR  0.000225   \n",
       "9992  18.73274  17.51075  17.47652  17.51238  17.53094    STAR  0.000270   \n",
       "9993  17.97962  16.50592  15.73102  15.34384  15.01797  GALAXY  0.091313   \n",
       "9994  19.18282  17.50630  16.68982  16.32261  15.99805  GALAXY  0.063424   \n",
       "9995  18.01290  16.68392  16.03075  15.67043  15.40829  GALAXY  0.077660   \n",
       "9996  19.21344  17.69683  16.70948  16.23935  15.87513  GALAXY  0.148604   \n",
       "9997  19.57024  17.60483  16.70992  16.28086  15.96815  GALAXY  0.080292   \n",
       "9998  19.52763  17.42569  16.47646  16.05531  15.74205  GALAXY  0.090509   \n",
       "9999  19.57570  17.94259  16.93353  16.47952  16.11912  GALAXY  0.077799   \n",
       "\n",
       "          zerr  \n",
       "0     0.000019  \n",
       "1     0.000009  \n",
       "2     0.000011  \n",
       "3     0.000010  \n",
       "4     0.000008  \n",
       "5     0.000005  \n",
       "6     0.000008  \n",
       "7     0.000009  \n",
       "8     0.000009  \n",
       "9     0.000012  \n",
       "10    0.000010  \n",
       "11    0.000006  \n",
       "12    0.000004  \n",
       "13    0.000007  \n",
       "14    0.000004  \n",
       "15    0.000006  \n",
       "16    0.000006  \n",
       "17    0.000009  \n",
       "18    0.000007  \n",
       "19    0.000016  \n",
       "20    0.000012  \n",
       "21    0.000008  \n",
       "22    0.000005  \n",
       "23    0.000011  \n",
       "24    0.000008  \n",
       "25    0.000008  \n",
       "26    0.000006  \n",
       "27    0.000008  \n",
       "28    0.000009  \n",
       "29    0.000005  \n",
       "...        ...  \n",
       "9970  0.000013  \n",
       "9971  0.000009  \n",
       "9972  0.000015  \n",
       "9973  0.000009  \n",
       "9974  0.000011  \n",
       "9975  0.000024  \n",
       "9976  0.000012  \n",
       "9977  0.000008  \n",
       "9978  0.000007  \n",
       "9979  0.000007  \n",
       "9980  0.000015  \n",
       "9981  0.000010  \n",
       "9982  0.000011  \n",
       "9983  0.000010  \n",
       "9984  0.000015  \n",
       "9985  0.000017  \n",
       "9986  0.000010  \n",
       "9987  0.000010  \n",
       "9988  0.000010  \n",
       "9989  0.000047  \n",
       "9990  0.000010  \n",
       "9991  0.000009  \n",
       "9992  0.000016  \n",
       "9993  0.000023  \n",
       "9994  0.000022  \n",
       "9995  0.000018  \n",
       "9996  0.000025  \n",
       "9997  0.000026  \n",
       "9998  0.000023  \n",
       "9999  0.000023  \n",
       "\n",
       "[10000 rows x 8 columns]"
      ]
     },
     "execution_count": 3,
     "metadata": {},
     "output_type": "execute_result"
    }
   ],
   "source": [
    "df"
   ]
  },
  {
   "cell_type": "markdown",
   "metadata": {},
   "source": [
    "## Summarizing Data\n",
    "\n",
    "There are a few very simple, but often used ways to summarize data: the arithmetic mean and median, along the standard deviation, variance or standard error. For a first look at what your data looks like, these can be incredibly useful tools, but be aware of their limitations, too!\n",
    "\n",
    "The arithmetic mean of a (univariate) sample $x = \\{x_1, x_2, ..., x_n\\}$ with n elements is defined as \n",
    "\n",
    "$\\bar{x} = \\frac{1}{n}\\sum_{i=1}^{n}{x_i}$  .\n",
    "\n",
    "In python, you can of course define your own function to do this, but much faster is the implementation in numpy:"
   ]
  },
  {
   "cell_type": "code",
   "execution_count": 4,
   "metadata": {
    "collapsed": false
   },
   "outputs": [
    {
     "name": "stdout",
     "output_type": "stream",
     "text": [
      "The mean of the r-band magnitude of the galaxies in the sample is 16.647\n"
     ]
    }
   ],
   "source": [
    "import numpy as np\n",
    "\n",
    "galaxies = df[df[\"class\"]==\"GALAXY\"]\n",
    "x = np.array(galaxies[\"r\"])\n",
    "\n",
    "x_mean = np.mean(x)\n",
    "\n",
    "print(\"The mean of the r-band magnitude of the galaxies in the sample is %.3f\"%x_mean)\n"
   ]
  },
  {
   "cell_type": "markdown",
   "metadata": {},
   "source": [
    "Note that if you have multivariate data (i.e. several dimensions), you can use the `axis` keyword to specify which dimension to average over:"
   ]
  },
  {
   "cell_type": "code",
   "execution_count": 5,
   "metadata": {
    "collapsed": false
   },
   "outputs": [
    {
     "name": "stdout",
     "output_type": "stream",
     "text": [
      "(4254,)\n"
     ]
    }
   ],
   "source": [
    "x_multi = np.array(galaxies[[\"u\", \"g\", \"r\"]])\n",
    "print(x.shape)"
   ]
  },
  {
   "cell_type": "code",
   "execution_count": 6,
   "metadata": {
    "collapsed": false
   },
   "outputs": [
    {
     "name": "stdout",
     "output_type": "stream",
     "text": [
      "17.6009759904\n",
      "[ 18.80490997  17.35073168  16.64728632]\n",
      "[ 17.43533333  16.05213667  18.34262    ...,  17.96166333  17.80992667\n",
      "  18.15060667]\n"
     ]
    }
   ],
   "source": [
    "## global average\n",
    "print(np.mean(x_multi))\n",
    "\n",
    "## average over the sample for each colour\n",
    "print(np.mean(x_multi, axis=0))\n",
    "\n",
    "## average over all colours for each galaxy in the sample\n",
    "print(np.mean(x_multi, axis=1))"
   ]
  },
  {
   "cell_type": "markdown",
   "metadata": {},
   "source": [
    "Note: which dimension you want to average over depends on the shape of your array, so be careful (and check the shape of the output, if in doubt!).\n",
    "\n",
    "The average is nice to have, since it's a measure for the \"center of gravity\" of your sample, however, it is also prone to be strongly affected by outliers! In some cases, the **median**, the middle of the sample, can be a better choice. For a sample of length $n$, the median is either the $(n+1)/2$-th value, if $n$ is odd, or the mean of the middle two values $n/2$ and $(n+1)/2$, if $n$ is even. \n",
    "Again, numpy allows for easy and quick computation:"
   ]
  },
  {
   "cell_type": "code",
   "execution_count": 7,
   "metadata": {
    "collapsed": false
   },
   "outputs": [
    {
     "name": "stdout",
     "output_type": "stream",
     "text": [
      "The median of the r-band magnitude of the sample of galaxies is 16.761\n"
     ]
    }
   ],
   "source": [
    "x_med = np.median(x)\n",
    "print(\"The median of the r-band magnitude of the sample of galaxies is %.3f\"%x_med)"
   ]
  },
  {
   "cell_type": "markdown",
   "metadata": {},
   "source": [
    "Both the median and mean are useful, but be aware that unless the underlying distribution that created your sample is symmetric: "
   ]
  },
  {
   "cell_type": "code",
   "execution_count": 8,
   "metadata": {
    "collapsed": false
   },
   "outputs": [
    {
     "data": {
      "text/plain": [
       "<matplotlib.text.Text at 0x7f93a1446588>"
      ]
     },
     "execution_count": 8,
     "metadata": {},
     "output_type": "execute_result"
    },
    {
     "data": {
      "image/png": "[encoded data removed]",
      "text/plain": [
       "<matplotlib.figure.Figure at 0x7f93ab6016a0>"
      ]
     },
     "metadata": {},
     "output_type": "display_data"
    }
   ],
   "source": [
    "%matplotlib inline\n",
    "import matplotlib.pyplot as plt\n",
    "import scipy.stats\n",
    "\n",
    "fig, (ax1, ax2) = plt.subplots(1,2,figsize=(16,6))\n",
    "xcoord = np.linspace(0,2,100)\n",
    "ax1.plot(xcoord, scipy.stats.norm(1.0, 0.3).pdf(xcoord))\n",
    "ax1.set_title(\"Symmetric distribution\")\n",
    "ax2.plot(xcoord, scipy.stats.lognorm(1.0, 0.1).pdf(xcoord))\n",
    "ax2.set_title(\"Asymmetric distribution\")"
   ]
  },
  {
   "cell_type": "markdown",
   "metadata": {},
   "source": [
    "For a (large enough) sample drawn from the distribution the mean and median will not be the same, and more importantly, in this case, they will also **not** be equal to the most probable value (the top of the distribution). The latter is also called the **mode**. There's no intrinsic nifty way to compute the mode of a distribution (or sample). In practice, for a univariate sample, you might make a **histogram** of the sample (that is, define finite bins over the width of your sample, and count all elements that fall into each bin), and then find the bin with the most counts. Note that for creating a histogram, you need to pick the number of your bins (or, equivalently, the width of each bin). This can be tricky, as we'll discuss in more detail in the visualization part of this tutorial. \n"
   ]
  },
  {
   "cell_type": "code",
   "execution_count": 9,
   "metadata": {
    "collapsed": false
   },
   "outputs": [],
   "source": [
    "h, edges = np.histogram(x, bins=30,range=[16.,19.6], normed=False)"
   ]
  },
  {
   "cell_type": "code",
   "execution_count": 10,
   "metadata": {
    "collapsed": false
   },
   "outputs": [
    {
     "name": "stdout",
     "output_type": "stream",
     "text": [
      "The mode of the distribution is located at 16.7800\n"
     ]
    }
   ],
   "source": [
    "## find the index where the binned counts have their maximum\n",
    "h_max = np.where(h == np.max(h))[0]\n",
    "\n",
    "## these are the maximum binned counts\n",
    "max_counts = h[h_max]\n",
    "\n",
    "## find the middle of the bin with the maximum counts\n",
    "edge_min = edges[h_max]\n",
    "edge_max = edges[h_max+1]\n",
    "edge_mean = np.mean([edge_min, edge_max])\n",
    "\n",
    "print(\"The mode of the distribution is located at %.4f\"%edge_mean)"
   ]
  },
  {
   "cell_type": "markdown",
   "metadata": {},
   "source": [
    "Mean, median and mode all tell us something about the center of the sample. However, it tells us nothing about the spread of the sample: are most values close to the mean (high precision) or are they scattered very far (low precision)?\n",
    "\n",
    "For this, we can use the variance, the squared deviations from the mean:\n",
    "\n",
    "$s^2_x = \\frac{1}{n-1}\\sum_{i=1}^{n}{(x_i - \\bar{x})^2}$\n",
    "\n",
    "or its square root, the standard deviation: $s_x = \\sqrt{s^2_x}$.\n",
    "\n",
    "Similarly to the mean, there are functions in numpy for the mean and the standard deviation, and again, it is possible to specify the axis along which to compute either:"
   ]
  },
  {
   "cell_type": "code",
   "execution_count": 13,
   "metadata": {
    "collapsed": false
   },
   "outputs": [
    {
     "name": "stdout",
     "output_type": "stream",
     "text": [
      "The variance of the r-band magnitude for the galaxies in the sample is 0.7895\n",
      "The standard deviation of the r-band magnitude for the galaxies in the sample is 0.8885\n",
      "The variance of the for all three bands for the galaxies in the sample is [ 0.54077999  0.64099039  0.78947615]\n",
      "The standard deviation for all three bands for the galaxies in the sample is [ 0.73537745  0.80061875  0.8885247 ]\n"
     ]
    }
   ],
   "source": [
    "x_var = np.var(x, ddof=1)\n",
    "x_std = np.std(x, ddof=1)\n",
    "\n",
    "print(\"The variance of the r-band magnitude for the galaxies in the sample is %.4f\"%x_var)\n",
    "print(\"The standard deviation of the r-band magnitude for the galaxies in the sample is %.4f\"%x_std)\n",
    "\n",
    "x_var_multi = np.var(x_multi, axis=0, ddof=1)\n",
    "x_std_multi = np.std(x_multi, axis=0, ddof=1)\n",
    "\n",
    "print(\"The variance of the for all three bands for the galaxies in the sample is \"+str(x_var_multi))\n",
    "print(\"The standard deviation for all three bands for the galaxies in the sample is \" + str(x_std_multi))\n"
   ]
  },
  {
   "cell_type": "markdown",
   "metadata": {},
   "source": [
    "**Note**: If your data set contains NaN values, you can use the functions `nanmean`, `nanvar` and `nanstd` instead, which will compute the mean, variance and standard deviation, respectively, while ignoring any NaN values in your data.\n",
    "\n",
    "What is the error on the mean? That depends on the size of your sample! Imagine you pick many samples from the population of possible outcomes. If each sample has a large number of elements, then you are more likely to find similar means for each of your samples than if the sample size is small. \n",
    "\n",
    "Given that we might not have many samples from the population (but perhaps only one SDSS data set!), we'd like to quantify how well we can specify the mean. We do this by dividing the variance by the number of data points and taking the square root to get the **standard error**:"
   ]
  },
  {
   "cell_type": "code",
   "execution_count": 14,
   "metadata": {
    "collapsed": false
   },
   "outputs": [
    {
     "name": "stdout",
     "output_type": "stream",
     "text": [
      "The standard error on the mean for the r-band galaxy magnitudes is 0.0136\n"
     ]
    }
   ],
   "source": [
    "se = np.sqrt(np.var(x)/x.shape[0])\n",
    "print(\"The standard error on the mean for the r-band galaxy magnitudes is %.4f\"%se)"
   ]
  },
  {
   "cell_type": "markdown",
   "metadata": {},
   "source": [
    "Mean and variance give us general information about the center and the spread of the sample, but tell us nothing about the shape. \n",
    "\n",
    "If we want yet more information about how the data are distributed, we'll have to introduce yet another concept: the **quantile** the $\\alpha$-quantile of a sample is the point below which a fraction $\\alpha$ of the data occur. \n",
    "For example, the $0.25$-quantile is the point below which $25\\%$ of the sample is located. Note that the 0.5-quantile is the median. \n",
    "\n",
    "The 0.25, 0.5 and 0.75 quantiles are also called the first, second and third quantile, respectively. The difference between the 0.25 and 0.75 quantile are called the **interquartile range** (remember that! We'll come back to it!).\n",
    "\n",
    "This time, there's no nifty numpy function (that I know of) that we can use. Instead, we'll turn to scipy instead, which contains much functionality for statistics:"
   ]
  },
  {
   "cell_type": "code",
   "execution_count": 15,
   "metadata": {
    "collapsed": false
   },
   "outputs": [
    {
     "name": "stdout",
     "output_type": "stream",
     "text": [
      "The 0.25, 0.5 and 0.75 of the r-band galaxy magnitudes are [ 16.186635  16.76063   17.29516 ]\n"
     ]
    }
   ],
   "source": [
    "from scipy.stats.mstats import mquantiles\n",
    "\n",
    "q = mquantiles(x, prob=[0.25, 0.5, 0.75])\n",
    "print(\"The 0.25, 0.5 and 0.75 of the r-band galaxy magnitudes are \" + str(q))"
   ]
  },
  {
   "cell_type": "markdown",
   "metadata": {},
   "source": [
    "Using this, we can now compute the Tukey five-number summary: a collection of five numbers that contains first quartil, median, second quartile as well as the minimum and maximum values in the sample. Together, they give a reasonably good first impression of how the data are distributed:"
   ]
  },
  {
   "cell_type": "code",
   "execution_count": 16,
   "metadata": {
    "collapsed": true
   },
   "outputs": [],
   "source": [
    "def tukey_five_number(x):\n",
    "    x_min = np.min(x)\n",
    "    x_max = np.max(x)\n",
    "    q = mquantiles(x, prob=[0.25, 0.5, 0.75])\n",
    "    return np.hstack([x_min, q, x_max])"
   ]
  },
  {
   "cell_type": "code",
   "execution_count": 17,
   "metadata": {
    "collapsed": false
   },
   "outputs": [
    {
     "name": "stdout",
     "output_type": "stream",
     "text": [
      "The Tukey five-number summary of the galaxy r-band magnitudes is: [ 11.62901   16.186635  16.76063   17.29516   24.80204 ]\n"
     ]
    }
   ],
   "source": [
    "print(\"The Tukey five-number summary of the galaxy r-band magnitudes is: \" + str(tukey_five_number(x)))"
   ]
  },
  {
   "cell_type": "markdown",
   "metadata": {},
   "source": [
    "Finally, if you're working with a pandas DataFrame, you can use the method `describe` to print some statistical summaries as well:"
   ]
  },
  {
   "cell_type": "code",
   "execution_count": 18,
   "metadata": {
    "collapsed": false
   },
   "outputs": [
    {
     "data": {
      "text/html": [
       "<div>\n",
       "<table border=\"1\" class=\"dataframe\">\n",
       "  <thead>\n",
       "    <tr style=\"text-align: right;\">\n",
       "      <th></th>\n",
       "      <th>u</th>\n",
       "      <th>g</th>\n",
       "      <th>r</th>\n",
       "      <th>i</th>\n",
       "      <th>z</th>\n",
       "      <th>z1</th>\n",
       "      <th>zerr</th>\n",
       "    </tr>\n",
       "  </thead>\n",
       "  <tbody>\n",
       "    <tr>\n",
       "      <th>count</th>\n",
       "      <td>10000.000000</td>\n",
       "      <td>10000.000000</td>\n",
       "      <td>10000.000000</td>\n",
       "      <td>10000.000000</td>\n",
       "      <td>10000.000000</td>\n",
       "      <td>10000.000000</td>\n",
       "      <td>10000.000000</td>\n",
       "    </tr>\n",
       "    <tr>\n",
       "      <th>mean</th>\n",
       "      <td>18.571290</td>\n",
       "      <td>17.285582</td>\n",
       "      <td>16.754050</td>\n",
       "      <td>16.506324</td>\n",
       "      <td>16.357668</td>\n",
       "      <td>0.126480</td>\n",
       "      <td>0.043141</td>\n",
       "    </tr>\n",
       "    <tr>\n",
       "      <th>std</th>\n",
       "      <td>0.876269</td>\n",
       "      <td>0.991114</td>\n",
       "      <td>1.098876</td>\n",
       "      <td>1.167787</td>\n",
       "      <td>1.225994</td>\n",
       "      <td>0.399746</td>\n",
       "      <td>4.299624</td>\n",
       "    </tr>\n",
       "    <tr>\n",
       "      <th>min</th>\n",
       "      <td>11.960040</td>\n",
       "      <td>11.840030</td>\n",
       "      <td>11.629010</td>\n",
       "      <td>11.048570</td>\n",
       "      <td>10.629170</td>\n",
       "      <td>-0.004020</td>\n",
       "      <td>-4.000000</td>\n",
       "    </tr>\n",
       "    <tr>\n",
       "      <th>25%</th>\n",
       "      <td>18.116808</td>\n",
       "      <td>16.717278</td>\n",
       "      <td>16.087798</td>\n",
       "      <td>15.788695</td>\n",
       "      <td>15.575025</td>\n",
       "      <td>0.000065</td>\n",
       "      <td>0.000008</td>\n",
       "    </tr>\n",
       "    <tr>\n",
       "      <th>50%</th>\n",
       "      <td>18.814455</td>\n",
       "      <td>17.434205</td>\n",
       "      <td>16.805045</td>\n",
       "      <td>16.524285</td>\n",
       "      <td>16.356350</td>\n",
       "      <td>0.000998</td>\n",
       "      <td>0.000010</td>\n",
       "    </tr>\n",
       "    <tr>\n",
       "      <th>75%</th>\n",
       "      <td>19.247158</td>\n",
       "      <td>17.964277</td>\n",
       "      <td>17.463252</td>\n",
       "      <td>17.217353</td>\n",
       "      <td>17.105128</td>\n",
       "      <td>0.082580</td>\n",
       "      <td>0.000016</td>\n",
       "    </tr>\n",
       "    <tr>\n",
       "      <th>max</th>\n",
       "      <td>19.599920</td>\n",
       "      <td>19.919760</td>\n",
       "      <td>24.802040</td>\n",
       "      <td>28.182330</td>\n",
       "      <td>22.826920</td>\n",
       "      <td>5.854882</td>\n",
       "      <td>429.914900</td>\n",
       "    </tr>\n",
       "  </tbody>\n",
       "</table>\n",
       "</div>"
      ],
      "text/plain": [
       "                  u             g             r             i             z  \\\n",
       "count  10000.000000  10000.000000  10000.000000  10000.000000  10000.000000   \n",
       "mean      18.571290     17.285582     16.754050     16.506324     16.357668   \n",
       "std        0.876269      0.991114      1.098876      1.167787      1.225994   \n",
       "min       11.960040     11.840030     11.629010     11.048570     10.629170   \n",
       "25%       18.116808     16.717278     16.087798     15.788695     15.575025   \n",
       "50%       18.814455     17.434205     16.805045     16.524285     16.356350   \n",
       "75%       19.247158     17.964277     17.463252     17.217353     17.105128   \n",
       "max       19.599920     19.919760     24.802040     28.182330     22.826920   \n",
       "\n",
       "                 z1          zerr  \n",
       "count  10000.000000  10000.000000  \n",
       "mean       0.126480      0.043141  \n",
       "std        0.399746      4.299624  \n",
       "min       -0.004020     -4.000000  \n",
       "25%        0.000065      0.000008  \n",
       "50%        0.000998      0.000010  \n",
       "75%        0.082580      0.000016  \n",
       "max        5.854882    429.914900  "
      ]
     },
     "execution_count": 18,
     "metadata": {},
     "output_type": "execute_result"
    }
   ],
   "source": [
    "df.describe()"
   ]
  },
  {
   "cell_type": "markdown",
   "metadata": {},
   "source": [
    "Let's think more about the mean of a sample. Imagine we actually have a reasonably good idea of what the mean should be. We might then want to ask whether the sample we collected is consistent with that predetermined theoretical value. To do that, we can take the difference between the sample mean and the theoretical value, but we'll need to normalize it by the standard error. After all, the sample mean could be far from the theoretical prediction, but if the spread in the sample is large, that might not mean much.\n",
    "\n",
    "$t = \\frac{\\bar{x} - \\mu}{\\sqrt{(s_x^2/n)}}$\n",
    "\n",
    "This number is also called the **Student t-statistic** for univariate data.\n",
    "\n",
    "This is, of course, not hard to write down in python with the functions for mean and variance we've learned above, but as above, we can make use of functionality in scipy to achieve the same result:"
   ]
  },
  {
   "cell_type": "code",
   "execution_count": 19,
   "metadata": {
    "collapsed": false
   },
   "outputs": [
    {
     "name": "stdout",
     "output_type": "stream",
     "text": [
      "The t-statistic for the galaxy r-band magnitude is -11.2100\n",
      "The p-value for that t-statistic is 9.17918391308e-29\n"
     ]
    }
   ],
   "source": [
    "import scipy.stats\n",
    "\n",
    "## some theoretical prediction\n",
    "mu = 16.8\n",
    "\n",
    "## compute the t-statistic.\n",
    "t = scipy.stats.ttest_1samp(x, mu)\n",
    "\n",
    "t_statistic = t.statistic\n",
    "p_value = t.pvalue\n",
    "\n",
    "print(\"The t-statistic for the galaxy r-band magnitude is %.4f\"%t_statistic)\n",
    "print(\"The p-value for that t-statistic is \" + str(p_value))"
   ]
  },
  {
   "cell_type": "markdown",
   "metadata": {},
   "source": [
    "** need to write some explanation here **\n",
    "\n",
    "## Statistical Distributions in scipy\n",
    "\n",
    "Aside from the two examples above, `scipy.stats` has a large amount of functionality that can be helpful when exploring data sets. \n",
    "\n",
    "We will not go into the theory of probabilities and probability distributions here. Some of that, you will learn later this week. But before we start, some definitions:\n",
    "\n",
    "* **random variable**: technically, a function that maps sample space (e.g. \"red\", \"green\", \"blue\") of some process onto real numbers (e.g. 1, 2, 3)\n",
    "* we will distinguish between **continuous** random variables (which can take all real values in the *support* of the distribution) and **discrete** random variables (which may only take certain values, e.g. integers).\n",
    "* the **probability mass function (PMF)** for discrete variables maps the probability of a certain outcome to that outcome\n",
    "* in analogy, the **probability density function (PDF)** for continuous random variables is the probability mass in an interval, divided by the size of that interval (in the limit of the interval size going to zero)\n",
    "* the **cumulative distribution function (CDF)** at a point x of a distribution is the probability of a random variable X being smaller than x: it translates to the integral (sum) over the PDF (PMF) from negative infinity up to that point x for a continuous (discrete) distribution. \n",
    "\n",
    "`scipy.stats` defines a large number of both discrete and continuous probability distributions that will likely satisfy most of your requirements. For example, let's define a standard normal distribution."
   ]
  },
  {
   "cell_type": "code",
   "execution_count": 20,
   "metadata": {
    "collapsed": false
   },
   "outputs": [
    {
     "data": {
      "text/plain": [
       "<scipy.stats._distn_infrastructure.rv_frozen at 0x7f93a1446198>"
      ]
     },
     "execution_count": 20,
     "metadata": {},
     "output_type": "execute_result"
    }
   ],
   "source": [
    "## continuous (normal) distribution\n",
    "\n",
    "loc = 2.0\n",
    "scale = 0.4 \n",
    "\n",
    "dist = scipy.stats.norm(loc=loc, scale=scale)\n",
    "dist"
   ]
  },
  {
   "cell_type": "markdown",
   "metadata": {},
   "source": [
    "We've now created an object that defines a normal (Gaussian) distribution with a scale parameter of 0.4 and a center of 2. What can we do with this?\n",
    "\n",
    "For example, draw a random sample:"
   ]
  },
  {
   "cell_type": "code",
   "execution_count": 21,
   "metadata": {
    "collapsed": false
   },
   "outputs": [
    {
     "name": "stdout",
     "output_type": "stream",
     "text": [
      "[ 1.62226023  1.45005495  1.6969063   1.33105111  1.57771296  2.27395805\n",
      "  1.56598028  2.45737309  2.4270138   1.76469965  2.04434153  2.08774334\n",
      "  1.49839137  2.12691211  2.30125192  1.70077398  1.82684575  1.36746204\n",
      "  2.27542978  2.49656497  1.95976459  1.78357715  1.95404175  1.63628354\n",
      "  1.39799878  2.22164267  2.10707009  1.79129867  2.32019898  1.99926506\n",
      "  2.09776978  2.18431906  2.49410193  1.82026347  1.40390937  2.18712606\n",
      "  1.78527304  1.47674404  2.78892459  1.76544505  1.84410855  1.13419224\n",
      "  1.44591677  1.73428803  2.64421505  2.10347834  1.51767048  2.0095711\n",
      "  2.21352091  1.58457071  1.72484402  2.04329481  2.69436825  1.87525603\n",
      "  2.51702313  1.93376163  2.04181871  1.80440037  1.85294554  1.91657922\n",
      "  1.67357774  2.66771398  2.16168345  2.31900513  2.04305365  2.01216194\n",
      "  2.38299073  1.73029165  2.42590275  1.50671186  2.20849726  2.45800587\n",
      "  1.3083183   2.37117458  1.89219083  2.1202836   1.80071967  2.0059164\n",
      "  2.46566289  2.63316054  1.90467194  1.53308912  2.68248762  1.8982383\n",
      "  2.14032191  2.09480823  1.67107002  2.82025686  1.81240154  2.01251211\n",
      "  1.26988616  1.50135753  2.19807951  1.91752855  1.24224244  1.53297534\n",
      "  2.1320263   1.35606962  2.23766465  1.99054902]\n"
     ]
    }
   ],
   "source": [
    "s = dist.rvs(100)\n",
    "print(s)"
   ]
  },
  {
   "cell_type": "markdown",
   "metadata": {},
   "source": [
    "We have sampled 100 numbers from that distribution!\n",
    "\n",
    "We can also compute the PDF in a given range:"
   ]
  },
  {
   "cell_type": "code",
   "execution_count": 22,
   "metadata": {
    "collapsed": false
   },
   "outputs": [
    {
     "data": {
      "text/plain": [
       "[<matplotlib.lines.Line2D at 0x7f93a13d42e8>]"
      ]
     },
     "execution_count": 22,
     "metadata": {},
     "output_type": "execute_result"
    },
    {
     "data": {
      "image/png": "[encoded data removed]",
      "text/plain": [
       "<matplotlib.figure.Figure at 0x7f93a11e3128>"
      ]
     },
     "metadata": {},
     "output_type": "display_data"
    }
   ],
   "source": [
    "xcoord = np.linspace(0,4,500)\n",
    "pdf = dist.pdf(xcoord)\n",
    "\n",
    "plt.plot(xcoord, pdf)"
   ]
  },
  {
   "cell_type": "markdown",
   "metadata": {},
   "source": [
    "or the CDF:"
   ]
  },
  {
   "cell_type": "code",
   "execution_count": 23,
   "metadata": {
    "collapsed": false
   },
   "outputs": [
    {
     "data": {
      "text/plain": [
       "[<matplotlib.lines.Line2D at 0x7f93a133b780>]"
      ]
     },
     "execution_count": 23,
     "metadata": {},
     "output_type": "execute_result"
    },
    {
     "data": {
      "image/png": "[encoded data removed]",
      "text/plain": [
       "<matplotlib.figure.Figure at 0x7f93a34d3fd0>"
      ]
     },
     "metadata": {},
     "output_type": "display_data"
    }
   ],
   "source": [
    "cdf = dist.cdf(xcoord)\n",
    "\n",
    "plt.plot(xcoord, cdf)"
   ]
  },
  {
   "cell_type": "markdown",
   "metadata": {},
   "source": [
    "Mean, median, var and std work as methods for the distribution, too:"
   ]
  },
  {
   "cell_type": "code",
   "execution_count": 24,
   "metadata": {
    "collapsed": false
   },
   "outputs": [
    {
     "name": "stdout",
     "output_type": "stream",
     "text": [
      "distribution mean 2.0000\n",
      "distribution median 2.0000\n",
      "distribution standard deviation 0.4000\n",
      "distribution variance 0.1600\n"
     ]
    }
   ],
   "source": [
    "print(\"distribution mean %.4f\"%dist.mean())\n",
    "print(\"distribution median %.4f\"%dist.median())\n",
    "print(\"distribution standard deviation %.4f\"%dist.std())\n",
    "print(\"distribution variance %.4f\"%dist.var())\n"
   ]
  },
  {
   "cell_type": "markdown",
   "metadata": {},
   "source": [
    "Easier than that, we can get it to just give us the moments of the distribution: the mean, the variance, the skewness and the kurtosis (below, replace 'mvsk' by any combination of those four letters to get it to print any of the four):"
   ]
  },
  {
   "cell_type": "code",
   "execution_count": 25,
   "metadata": {
    "collapsed": false
   },
   "outputs": [
    {
     "data": {
      "text/plain": [
       "(array(2.0), array(0.16000000000000003), array(0.0), array(0.0))"
      ]
     },
     "execution_count": 25,
     "metadata": {},
     "output_type": "execute_result"
    }
   ],
   "source": [
    "dist.stats(moments='mvsk')"
   ]
  },
  {
   "cell_type": "markdown",
   "metadata": {},
   "source": [
    "For computing the $n$th-order non-central moment, use the `moment` method:"
   ]
  },
  {
   "cell_type": "code",
   "execution_count": 26,
   "metadata": {
    "collapsed": false
   },
   "outputs": [
    {
     "data": {
      "text/plain": [
       "2.0"
      ]
     },
     "execution_count": 26,
     "metadata": {},
     "output_type": "execute_result"
    }
   ],
   "source": [
    "dist.moment(1)"
   ]
  },
  {
   "cell_type": "code",
   "execution_count": 29,
   "metadata": {
    "collapsed": false
   },
   "outputs": [],
   "source": []
  },
  {
   "cell_type": "markdown",
   "metadata": {},
   "source": [
    "For more advanced purposes, we can also compute the survival function (1-CDF) and the percent point function (1/CDF) of the distribution:"
   ]
  },
  {
   "cell_type": "code",
   "execution_count": 30,
   "metadata": {
    "collapsed": false
   },
   "outputs": [
    {
     "data": {
      "text/plain": [
       "<matplotlib.text.Text at 0x7f93a1235550>"
      ]
     },
     "execution_count": 30,
     "metadata": {},
     "output_type": "execute_result"
    },
    {
     "data": {
      "image/png": "[encoded data removed]",
      "text/plain": [
       "<matplotlib.figure.Figure at 0x7f93a13e9470>"
      ]
     },
     "metadata": {},
     "output_type": "display_data"
    }
   ],
   "source": [
    "fig, (ax1, ax2) = plt.subplots(1,2, figsize=(16,6))\n",
    "ax1.plot(xcoord, dist.sf(xcoord))\n",
    "ax1.set_title(\"Survival function\")\n",
    "\n",
    "ax2.plot(xcoord, dist.ppf(xcoord))\n",
    "ax2.set_title(\"Percent point function\")"
   ]
  },
  {
   "cell_type": "markdown",
   "metadata": {},
   "source": [
    "To compute a confidence interval around the median of the distribution, use the method `interval`:"
   ]
  },
  {
   "cell_type": "code",
   "execution_count": 31,
   "metadata": {
    "collapsed": false
   },
   "outputs": [
    {
     "data": {
      "text/plain": [
       "(1.6633515065708342, 2.3366484934291658)"
      ]
     },
     "execution_count": 31,
     "metadata": {},
     "output_type": "execute_result"
    }
   ],
   "source": [
    "dist.interval(0.6)"
   ]
  },
  {
   "cell_type": "markdown",
   "metadata": {},
   "source": [
    "Finally, if you have some data that you think was drawn from the distribution, you may use the `fit` method to fit the distribution's parameters to the sample:"
   ]
  },
  {
   "cell_type": "code",
   "execution_count": 32,
   "metadata": {
    "collapsed": false
   },
   "outputs": [
    {
     "name": "stdout",
     "output_type": "stream",
     "text": [
      "the location and scale parameters of the fit distribution are 3.995 and 0.200, respectively.\n"
     ]
    }
   ],
   "source": [
    "normal_data = np.random.normal(4.0, 0.2, size=1000)\n",
    "\n",
    "data_loc, data_scale = scipy.stats.norm.fit(normal_data)\n",
    "print(\"the location and scale parameters of the fit distribution are %.3f and %.3f, respectively.\"%(data_loc, data_scale))"
   ]
  },
  {
   "cell_type": "markdown",
   "metadata": {},
   "source": [
    "Discrete distributions function in exactly the same way, except that instead of a `pdf` method, they will have a `pmf` method:"
   ]
  },
  {
   "cell_type": "code",
   "execution_count": 33,
   "metadata": {
    "collapsed": false
   },
   "outputs": [
    {
     "data": {
      "text/plain": [
       "<matplotlib.collections.PathCollection at 0x7f93a10c92b0>"
      ]
     },
     "execution_count": 33,
     "metadata": {},
     "output_type": "execute_result"
    },
    {
     "data": {
      "image/png": "[encoded data removed]",
      "text/plain": [
       "<matplotlib.figure.Figure at 0x7f93a11bfc88>"
      ]
     },
     "metadata": {},
     "output_type": "display_data"
    }
   ],
   "source": [
    "## set the distribution\n",
    "dist = scipy.stats.poisson(10)\n",
    "\n",
    "## make an x-coordinate: Poisson distribution only defined\n",
    "## for positive integer numbers!\n",
    "xcoord = np.arange(0,50,1.0)\n",
    "\n",
    "## plot the results\n",
    "plt.scatter(xcoord, dist.pmf(xcoord))"
   ]
  },
  {
   "cell_type": "markdown",
   "metadata": {},
   "source": [
    "**Exercise**: Take the galaxy data we've used above and fit a distribution of your choice (see http://docs.scipy.org/doc/scipy/reference/stats.html for a list of all of them) and compare the parameters of your distribution to the sample mean and variance (if they're comparable.\n",
    "\n",
    "### Multivariate data\n",
    "\n",
    "Of course, most data sets aren't univariate. As we've seen above, we can use the same functions that we've used to compute  mean, median, variance and standard deviation for multi-variate data sets in the same way as for single-valued data, except that we need to specify the axis along which to compute the operation. \n",
    "\n",
    "However, these functions will compute the mean, variance etc. for each dimension in the data set *independently*. This unfortunately tells us nothing about whether the data vary with each other, that is, whether they are correlated in any way. One way to look at whether data vary with each other is by computing the covariance. Let's take our slightly expanded galaxy data set (with three colours from above, and compute the covariance between the three magnitude bands.\n",
    "\n",
    "Because of the way I've set up the array above, we need to take the transpose of it in order to get the covariance between the bands (and not between the samples!). "
   ]
  },
  {
   "cell_type": "code",
   "execution_count": 35,
   "metadata": {
    "collapsed": false
   },
   "outputs": [
    {
     "name": "stdout",
     "output_type": "stream",
     "text": [
      "[[ 0.54077999  0.52446592  0.49590579]\n",
      " [ 0.52446592  0.64099039  0.68482109]\n",
      " [ 0.49590579  0.68482109  0.78947615]]\n"
     ]
    }
   ],
   "source": [
    "cov = np.cov(x_multi.T)\n",
    "print(cov)"
   ]
  },
  {
   "cell_type": "markdown",
   "metadata": {},
   "source": [
    "Note that the matrix is symmetric about the diagonal. Also, the values on the diagonal are just the variance:"
   ]
  },
  {
   "cell_type": "code",
   "execution_count": 38,
   "metadata": {
    "collapsed": false
   },
   "outputs": [
    {
     "name": "stdout",
     "output_type": "stream",
     "text": [
      "[ 0.54077999  0.64099039  0.78947615]\n",
      "[ 0.54077999  0.64099039  0.78947615]\n"
     ]
    }
   ],
   "source": [
    "x_var = np.var(x_multi, axis=0, ddof=1)\n",
    "print(x_var)\n",
    "x_var_cov = np.diag(cov)\n",
    "print(x_var_cov)"
   ]
  },
  {
   "cell_type": "markdown",
   "metadata": {},
   "source": [
    "To compute the actual correlation between two samples, compute the correlation coefficient, which is the ratio of sample covariance and the product of the individual standard deviations:\n",
    "\n",
    "$s_{xy} = \\frac{1}{n-1}\\sum{(x_i - \\bar{x})(y_i - \\bar{y})}$ ;\n",
    "\n",
    "$r = \\frac{s_{xy}}{s_x s_y}$"
   ]
  },
  {
   "cell_type": "code",
   "execution_count": 37,
   "metadata": {
    "collapsed": false
   },
   "outputs": [
    {
     "name": "stdout",
     "output_type": "stream",
     "text": [
      "[[ 1.          0.89080204  0.75896083]\n",
      " [ 0.89080204  1.          0.9626798 ]\n",
      " [ 0.75896083  0.9626798   1.        ]]\n"
     ]
    }
   ],
   "source": [
    "r = np.corrcoef(x_multi.T)\n",
    "print(r)"
   ]
  },
  {
   "cell_type": "markdown",
   "metadata": {},
   "source": [
    "The correlation coefficient can range between -1 and 1. If two samples are only offset by a scaling factor (perfect correlation), then $r = 1$. $r = 0$ implies that there is no correlation.\n",
    "\n",
    "Another way to compare two samples is to compare the *means* of the two samples. To do this, we can use a generalization of the Student's t-test above to higher dimensions for two samples $x$ and $y$:\n",
    "\n",
    "$t = \\frac{\\bar{x} - \\bar{y}}{\\sqrt{\\left(\\frac{s_x^2}{n} + \\frac{s_y^2}{n}\\right)}}$.\n",
    "\n",
    "In python: "
   ]
  },
  {
   "cell_type": "code",
   "execution_count": 32,
   "metadata": {
    "collapsed": false
   },
   "outputs": [
    {
     "name": "stdout",
     "output_type": "stream",
     "text": [
      "The t-statistic for the two bands is 87.2469\n",
      "The p-value for that t-statistic is 0.0\n"
     ]
    }
   ],
   "source": [
    "t = scipy.stats.ttest_ind(x_multi[:,0], x_multi[:,1])\n",
    "t_stat = t.statistic\n",
    "t_pvalue = t.pvalue\n",
    "\n",
    "print(\"The t-statistic for the two bands is %.4f\"%t_stat)\n",
    "print(\"The p-value for that t-statistic is \" + str(t_pvalue))"
   ]
  },
  {
   "cell_type": "markdown",
   "metadata": {},
   "source": [
    "Note that the t-statistic tests whether the *means* of the two samples are the same. We can also test whether a sample is likely to be produced by a reference distribution (single-sample Kolmogorov-Smirnov test) or whether two samples are produced by the same, underlying (unknown) distribution (2-sample Kolmogorov-Smirnov test).\n",
    "\n",
    "The one-sample  KS-test (test sample against a reference distribution) can take, for example, the `cdf` method of any of the distributions defined in scipy.stats. "
   ]
  },
  {
   "cell_type": "code",
   "execution_count": 39,
   "metadata": {
    "collapsed": false
   },
   "outputs": [
    {
     "name": "stdout",
     "output_type": "stream",
     "text": [
      "The KS statistic for the sample and a normal distribution is 0.0645158517338\n",
      "The corresponding p-value is 8.34532703341e-16\n"
     ]
    }
   ],
   "source": [
    "ks = scipy.stats.kstest(x, scipy.stats.norm(np.mean(x), np.var(x)).cdf)\n",
    "print(\"The KS statistic for the sample and a normal distribution is \" + str(ks.statistic))\n",
    "print(\"The corresponding p-value is \" + str(ks.pvalue))"
   ]
  },
  {
   "cell_type": "markdown",
   "metadata": {},
   "source": [
    "Analogously, for the 2-sample KS-test:"
   ]
  },
  {
   "cell_type": "code",
   "execution_count": 40,
   "metadata": {
    "collapsed": false
   },
   "outputs": [
    {
     "name": "stdout",
     "output_type": "stream",
     "text": [
      "The KS statistic for the u and g-band magnitudes is 0.767983074753\n",
      "The corresponding p-value is 0.0\n"
     ]
    }
   ],
   "source": [
    "ks = scipy.stats.ks_2samp(x_multi[:,0], x_multi[:,1])\n",
    "print(\"The KS statistic for the u and g-band magnitudes is \" + str(ks.statistic))\n",
    "print(\"The corresponding p-value is \" + str(ks.pvalue))"
   ]
  },
  {
   "cell_type": "markdown",
   "metadata": {},
   "source": [
    "There are *many* more statistical tests to compare distributions and samples, too many to showcase them all here. Some of them are implemented in scipy.stats, so I invite you to look there for your favourite test!\n",
    "\n",
    "### Linear Regression\n",
    "\n",
    "Perhaps you've found a high correlation coefficient in your data. Perhaps you already expect some kind of functional dependence of your (bivariate) data set. \n",
    "In this case, linear regression comes in handy. Here, we'll only give a *very* brief overview of how to do it (and introduce you to scipy.optimize). Later in the week, you'll learn how to do parameter estimation properly.\n",
    "\n",
    "Doing simple linear regression in python requires two steps: one, you need a linear (in the coefficients) model, and a way to optimize the parameters with respect to the data. \n",
    "Here's where scipy.optimize comes in really handy. But first, let's build a model:"
   ]
  },
  {
   "cell_type": "code",
   "execution_count": 41,
   "metadata": {
    "collapsed": true
   },
   "outputs": [],
   "source": [
    "def straight(x, a, b):\n",
    "    return a*x+b"
   ]
  },
  {
   "cell_type": "markdown",
   "metadata": {},
   "source": [
    "Now we'll take two variables, in this case the g- and the r-band magnitudes, and use `curve_fit` from scipy.optimize to do linear regression:"
   ]
  },
  {
   "cell_type": "code",
   "execution_count": 42,
   "metadata": {
    "collapsed": true
   },
   "outputs": [],
   "source": [
    "import scipy.optimize \n",
    "\n",
    "x = np.array(galaxies[\"r\"])\n",
    "y = np.array(galaxies[\"g\"])\n",
    "\n",
    "popt, pcov = scipy.optimize.curve_fit(straight, x, y, p0=[1.,2.])"
   ]
  },
  {
   "cell_type": "markdown",
   "metadata": {},
   "source": [
    "`curve_fit` returns first the best-fit parameters, and also the covariance matrix of the parameters:"
   ]
  },
  {
   "cell_type": "code",
   "execution_count": 43,
   "metadata": {
    "collapsed": false
   },
   "outputs": [
    {
     "name": "stdout",
     "output_type": "stream",
     "text": [
      "The best fit slope and intercept are [ 0.86743733  2.91025401]\n",
      "The covariance matrix of slope and intercept is [[  1.39866162e-05  -2.32839205e-04]\n",
      " [ -2.32839205e-04   3.88718041e-03]]\n"
     ]
    }
   ],
   "source": [
    "print(\"The best fit slope and intercept are \" + str(popt))\n",
    "print(\"The covariance matrix of slope and intercept is \" + str(pcov))"
   ]
  },
  {
   "cell_type": "markdown",
   "metadata": {},
   "source": [
    "Let's plot this to see how well our model's done!"
   ]
  },
  {
   "cell_type": "code",
   "execution_count": 44,
   "metadata": {
    "collapsed": false
   },
   "outputs": [
    {
     "data": {
      "text/plain": [
       "<matplotlib.text.Text at 0x7f93a1103400>"
      ]
     },
     "execution_count": 44,
     "metadata": {},
     "output_type": "execute_result"
    },
    {
     "data": {
      "image/png": "[encoded data removed]",
      "text/plain": [
       "<matplotlib.figure.Figure at 0x7f93a117eb00>"
      ]
     },
     "metadata": {},
     "output_type": "display_data"
    }
   ],
   "source": [
    "fig = plt.figure(figsize=(10,6))\n",
    "ax = fig.add_subplot(111)\n",
    "ax.scatter(x,y, color=\"orange\", alpha=0.7)\n",
    "ax.plot(x, straight(x, *popt), color=\"black\")\n",
    "ax.set_xlabel(\"r-band magnitude\")\n",
    "ax.set_ylabel(\"g-band magnitude\")"
   ]
  },
  {
   "cell_type": "markdown",
   "metadata": {},
   "source": [
    "Note that standard linear regression assumes a model that's strictly linear in the coefficients (that is, for example a power law of the type $f(x) = ax^b$ wouldn't be), as well as errors on the data that are independent and identically distributed (they are *homoscedastic*), `curve_fit` allows for non-linear models as well as *heteroscedastic* errors:"
   ]
  },
  {
   "cell_type": "code",
   "execution_count": 45,
   "metadata": {
    "collapsed": true
   },
   "outputs": [],
   "source": [
    "## make up some heteroscedastic errors:\n",
    "yerr = np.random.normal(size=y.shape[0])*y/10.\n",
    "\n",
    "popt, pcov = scipy.optimize.curve_fit(straight, x, y, sigma=yerr)"
   ]
  },
  {
   "cell_type": "code",
   "execution_count": 46,
   "metadata": {
    "collapsed": false
   },
   "outputs": [
    {
     "data": {
      "text/plain": [
       "<matplotlib.text.Text at 0x7f93a1299eb8>"
      ]
     },
     "execution_count": 46,
     "metadata": {},
     "output_type": "execute_result"
    },
    {
     "data": {
      "image/png": "[encoded data removed]",
      "text/plain": [
       "<matplotlib.figure.Figure at 0x7f93a10501d0>"
      ]
     },
     "metadata": {},
     "output_type": "display_data"
    }
   ],
   "source": [
    "fig = plt.figure(figsize=(10,6))\n",
    "ax = fig.add_subplot(111)\n",
    "ax.errorbar(x,y, fmt=\"o\", yerr=yerr, color=\"orange\", alpha=0.7)\n",
    "ax.plot(x, straight(x, *popt), color=\"black\")\n",
    "ax.set_xlabel(\"r-band magnitude\")\n",
    "ax.set_ylabel(\"g-band magnitude\")"
   ]
  },
  {
   "cell_type": "markdown",
   "metadata": {},
   "source": [
    "The errors that I made up for the example above depend on the value of each data point. Therefore, for a higher r-band magnitude, the error will be larger, too. \n",
    "\n",
    "Note that `curve_fit` still assumes your measurement errors are Gaussian, which will allow you to use (generalized) least-squares to do the optimization. If this is not true, you will need to define your own *likelihood*. The likelihood is the probability of obtaining a data set under the assumption of a model and some model parameters. What that means in detail we'll worry about more on Thursday and Friday. Today, I'll just give you an example of how to set up a likelihood (not the only one, mind you) and use other methods in `scipy.optimize` to do the minimization:"
   ]
  },
  {
   "cell_type": "code",
   "execution_count": 47,
   "metadata": {
    "collapsed": true
   },
   "outputs": [],
   "source": [
    "logmin = -10000000000.0\n",
    "class PoissonLikelihood(object):\n",
    "    def __init__(self, x, y, func):\n",
    "        \"\"\" Set up the model\"\"\"\n",
    "        self.x = x\n",
    "        self.y = y\n",
    "        self.func = func\n",
    "    \n",
    "    def loglikelihood(self, pars, neg=True):\n",
    "        \"\"\"Set up a simple Poisson likelihood\"\"\"\n",
    "        m = self.func(self.x, *pars)\n",
    "        logl = np.sum(-m + self.y*np.log(m) - scipy.special.gammaln(self.y + 1.))\n",
    "        \n",
    "        ## catch infinite values and NaNs\n",
    "        if np.isinf(logl) or np.isnan(logl):\n",
    "            logl = logmin\n",
    "        ## can choose whether to return log(L) or -log(L)\n",
    "        if neg:\n",
    "            return -logl\n",
    "        else:\n",
    "            return logl\n",
    "    \n",
    "    def __call__(self, pars, neg=True):\n",
    "        return self.loglikelihood(pars, neg)\n",
    "                    \n"
   ]
  },
  {
   "cell_type": "code",
   "execution_count": 48,
   "metadata": {
    "collapsed": false
   },
   "outputs": [
    {
     "name": "stdout",
     "output_type": "stream",
     "text": [
      "The log-likelihood for our trial parameters is 10597.180367\n"
     ]
    }
   ],
   "source": [
    "loglike = PoissonLikelihood(x, y, straight)\n",
    "ll = loglike([1., 3.], neg=True)\n",
    "print(\"The log-likelihood for our trial parameters is \" + str(ll))"
   ]
  },
  {
   "cell_type": "markdown",
   "metadata": {},
   "source": [
    "In practice, we want to maximize the likelihood, but optimization routines always *minimize* a function. Therefore, we actually want to minimize the log-likelihood.\n",
    "\n",
    "With the class we've set up above, we can now put this into `scipy.optimize.minimize`. This function provides a combined interface to the numerous optimization routines available in `scipy.optimize`. Some of these allow for constrained optimization (that is, optimization where the possible parameter range is restricted), others don't. Each optimization routine may have its own keyword parameters. I invite you to look at the documentation here http://docs.scipy.org/doc/scipy/reference/generated/scipy.optimize.minimize.html for more details. "
   ]
  },
  {
   "cell_type": "code",
   "execution_count": 49,
   "metadata": {
    "collapsed": false
   },
   "outputs": [],
   "source": [
    "res = scipy.optimize.minimize(loglike, [1, 3], method=\"L-BFGS-B\")"
   ]
  },
  {
   "cell_type": "markdown",
   "metadata": {},
   "source": [
    "The output will be an object that contains the necessary information, for example the best-fit parameters, the covariance matrix (for some, not all methods), a status message describing whether the optimization was successful, and the value of the likelihood function at the end of the optimization:"
   ]
  },
  {
   "cell_type": "code",
   "execution_count": 50,
   "metadata": {
    "collapsed": false
   },
   "outputs": [
    {
     "data": {
      "text/plain": [
       "        x: array([ 0.8625471 ,  2.99167252])\n",
       "      nit: 5\n",
       " hess_inv: <2x2 LbfgsInvHessProduct with dtype=float64>\n",
       "      fun: 10002.58298276264\n",
       "  success: True\n",
       "     nfev: 30\n",
       "   status: 0\n",
       "  message: b'CONVERGENCE: REL_REDUCTION_OF_F_<=_FACTR*EPSMCH'\n",
       "      jac: array([-0.5315087 ,  0.16661943])"
      ]
     },
     "execution_count": 50,
     "metadata": {},
     "output_type": "execute_result"
    }
   ],
   "source": [
    "res"
   ]
  },
  {
   "cell_type": "code",
   "execution_count": 51,
   "metadata": {
    "collapsed": false
   },
   "outputs": [
    {
     "name": "stdout",
     "output_type": "stream",
     "text": [
      "Was the optimization successful? True\n",
      "The best-fit parameters are: [ 0.8625471   2.99167252]\n",
      "The likelihood value at the best-fit parameters is: 10002.5829828\n"
     ]
    }
   ],
   "source": [
    "print(\"Was the optimization successful? \" + str(res.success))\n",
    "print(\"The best-fit parameters are: \" + str(res.x))\n",
    "print(\"The likelihood value at the best-fit parameters is: \" + str(res.fun))"
   ]
  },
  {
   "cell_type": "code",
   "execution_count": null,
   "metadata": {
    "collapsed": true
   },
   "outputs": [],
   "source": []
  }
 ],
 "metadata": {
  "kernelspec": {
   "display_name": "Python 3",
   "language": "python",
   "name": "python3"
  },
  "language_info": {
   "codemirror_mode": {
    "name": "ipython",
    "version": 3
   },
   "file_extension": ".py",
   "mimetype": "text/x-python",
   "name": "python",
   "nbconvert_exporter": "python",
   "pygments_lexer": "ipython3",
   "version": "3.4.3"
  }
 },
 "nbformat": 4,
 "nbformat_minor": 0
}
