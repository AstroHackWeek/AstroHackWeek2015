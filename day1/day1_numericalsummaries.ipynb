{
 "cells": [
  {
   "cell_type": "markdown",
   "metadata": {},
   "source": [
    "# Numerical Summaries of Data\n",
    "\n",
    "* mean, media, mode\n",
    "* variance and standard deviation\n",
    "* standard errors\n",
    "* ???\n",
    "* excursion: random sampling and statistical distributions in numpy and scipy\n",
    "\n",
    "\n",
    "Congratulations, you have some data. Now what? Well, ideally, you'll have a research question to match. In practice, that's not always true or even possible. \n",
    "So, in the following tutorial, we're going to present some methods to explore your data, using an example data set from SDSS. Most of these methods focus on *summarizing* the data in some way, that is, compress the information in your data set in such a way that it will be more useful to you than the raw data. There are many ways to achieve this sort of compression; we'll only showcase a few of them. In general, one can summarize data numerically, that is, compute a set of numbers that describe the data in a meaningful way that trades loss of information with descriptiveness. One can also summarize data sets visually, in the form of graphs. Here, we will explore the former category (although we won't get away without making any graphs here, either!). The following tutorial will explore visual summaries of data in more detail.\n",
    "\n",
    "Many of these methods may seem familiar, but we'll try to teach you something new, too! \n",
    "At the same time, you'll also get to know some of the most useful packages for numerical computation in python: numpy and scipy.\n",
    "\n",
    "Before we start, let's load some astronomy data!"
   ]
  },
  {
   "cell_type": "code",
   "execution_count": 1,
   "metadata": {
    "collapsed": true
   },
   "outputs": [],
   "source": [
    "import os\n",
    "import requests \n",
    "\n",
    "# get some CSV data from the SDSS SQL server\n",
    "URL = \"http://skyserver.sdss.org/dr12/en/tools/search/x_sql.aspx\"\n",
    "\n",
    "cmd = \"\"\"\n",
    "SELECT TOP 10000\n",
    "    p.u, p.g, p.r, p.i, p.z, s.class, s.z, s.zerr\n",
    "FROM\n",
    "    PhotoObj AS p\n",
    "JOIN\n",
    "    SpecObj AS s ON s.bestobjid = p.objid\n",
    "WHERE\n",
    "    p.u BETWEEN 0 AND 19.6 AND\n",
    "    p.g BETWEEN 0 AND 20 AND\n",
    "    (s.class = 'STAR' OR s.class = 'GALAXY' OR s.class = 'QSO')\n",
    "\"\"\"\n",
    "if not os.path.exists('all_colors.csv'):\n",
    "    cmd = ' '.join(map(lambda x: x.strip(), cmd.split('\\n')))\n",
    "    response = requests.get(URL, params={'cmd': cmd, 'format':'csv'})\n",
    "    with open('all_colors.csv', 'w') as f:\n",
    "        f.write(response.text)"
   ]
  },
  {
   "cell_type": "code",
   "execution_count": 2,
   "metadata": {
    "collapsed": true
   },
   "outputs": [],
   "source": [
    "import pandas as pd\n",
    "df = pd.read_csv(\"all_colors.csv\",skiprows=1)"
   ]
  },
  {
   "cell_type": "code",
   "execution_count": 3,
   "metadata": {
    "collapsed": false
   },
   "outputs": [
    {
     "data": {
      "text/html": [
       "<div>\n",
       "<table border=\"1\" class=\"dataframe\">\n",
       "  <thead>\n",
       "    <tr style=\"text-align: right;\">\n",
       "      <th></th>\n",
       "      <th>u</th>\n",
       "      <th>g</th>\n",
       "      <th>r</th>\n",
       "      <th>i</th>\n",
       "      <th>z</th>\n",
       "      <th>class</th>\n",
       "      <th>z1</th>\n",
       "      <th>zerr</th>\n",
       "    </tr>\n",
       "  </thead>\n",
       "  <tbody>\n",
       "    <tr>\n",
       "      <th>0</th>\n",
       "      <td>19.16978</td>\n",
       "      <td>17.08930</td>\n",
       "      <td>16.04692</td>\n",
       "      <td>15.55223</td>\n",
       "      <td>15.17684</td>\n",
       "      <td>GALAXY</td>\n",
       "      <td>0.076246</td>\n",
       "      <td>0.000019</td>\n",
       "    </tr>\n",
       "    <tr>\n",
       "      <th>1</th>\n",
       "      <td>18.88655</td>\n",
       "      <td>17.26482</td>\n",
       "      <td>16.53105</td>\n",
       "      <td>16.23936</td>\n",
       "      <td>16.05161</td>\n",
       "      <td>STAR</td>\n",
       "      <td>0.000122</td>\n",
       "      <td>0.000009</td>\n",
       "    </tr>\n",
       "    <tr>\n",
       "      <th>2</th>\n",
       "      <td>18.94358</td>\n",
       "      <td>17.47576</td>\n",
       "      <td>16.79267</td>\n",
       "      <td>16.49504</td>\n",
       "      <td>16.30348</td>\n",
       "      <td>STAR</td>\n",
       "      <td>0.000161</td>\n",
       "      <td>0.000011</td>\n",
       "    </tr>\n",
       "    <tr>\n",
       "      <th>3</th>\n",
       "      <td>18.42756</td>\n",
       "      <td>16.98290</td>\n",
       "      <td>16.79660</td>\n",
       "      <td>16.78195</td>\n",
       "      <td>16.72049</td>\n",
       "      <td>STAR</td>\n",
       "      <td>0.000123</td>\n",
       "      <td>0.000010</td>\n",
       "    </tr>\n",
       "    <tr>\n",
       "      <th>4</th>\n",
       "      <td>18.76420</td>\n",
       "      <td>16.92113</td>\n",
       "      <td>16.04104</td>\n",
       "      <td>15.65526</td>\n",
       "      <td>15.39297</td>\n",
       "      <td>STAR</td>\n",
       "      <td>0.000241</td>\n",
       "      <td>0.000008</td>\n",
       "    </tr>\n",
       "    <tr>\n",
       "      <th>5</th>\n",
       "      <td>17.20783</td>\n",
       "      <td>15.75872</td>\n",
       "      <td>15.63107</td>\n",
       "      <td>15.59838</td>\n",
       "      <td>15.56201</td>\n",
       "      <td>STAR</td>\n",
       "      <td>0.000142</td>\n",
       "      <td>0.000005</td>\n",
       "    </tr>\n",
       "    <tr>\n",
       "      <th>6</th>\n",
       "      <td>18.28920</td>\n",
       "      <td>16.84220</td>\n",
       "      <td>16.68952</td>\n",
       "      <td>16.64136</td>\n",
       "      <td>16.58683</td>\n",
       "      <td>STAR</td>\n",
       "      <td>0.000222</td>\n",
       "      <td>0.000008</td>\n",
       "    </tr>\n",
       "    <tr>\n",
       "      <th>7</th>\n",
       "      <td>17.69090</td>\n",
       "      <td>16.22015</td>\n",
       "      <td>15.54465</td>\n",
       "      <td>15.20622</td>\n",
       "      <td>15.05557</td>\n",
       "      <td>STAR</td>\n",
       "      <td>0.000150</td>\n",
       "      <td>0.000009</td>\n",
       "    </tr>\n",
       "    <tr>\n",
       "      <th>8</th>\n",
       "      <td>19.10833</td>\n",
       "      <td>17.49509</td>\n",
       "      <td>16.73375</td>\n",
       "      <td>16.40439</td>\n",
       "      <td>16.16703</td>\n",
       "      <td>STAR</td>\n",
       "      <td>0.000188</td>\n",
       "      <td>0.000009</td>\n",
       "    </tr>\n",
       "    <tr>\n",
       "      <th>9</th>\n",
       "      <td>18.18435</td>\n",
       "      <td>16.81769</td>\n",
       "      <td>16.30527</td>\n",
       "      <td>16.06046</td>\n",
       "      <td>15.91306</td>\n",
       "      <td>STAR</td>\n",
       "      <td>0.000210</td>\n",
       "      <td>0.000012</td>\n",
       "    </tr>\n",
       "    <tr>\n",
       "      <th>10</th>\n",
       "      <td>18.98582</td>\n",
       "      <td>17.43833</td>\n",
       "      <td>16.70121</td>\n",
       "      <td>16.40430</td>\n",
       "      <td>16.22956</td>\n",
       "      <td>STAR</td>\n",
       "      <td>0.000339</td>\n",
       "      <td>0.000010</td>\n",
       "    </tr>\n",
       "    <tr>\n",
       "      <th>11</th>\n",
       "      <td>17.78138</td>\n",
       "      <td>16.38120</td>\n",
       "      <td>16.31779</td>\n",
       "      <td>16.31096</td>\n",
       "      <td>16.27825</td>\n",
       "      <td>STAR</td>\n",
       "      <td>0.000247</td>\n",
       "      <td>0.000006</td>\n",
       "    </tr>\n",
       "    <tr>\n",
       "      <th>12</th>\n",
       "      <td>16.12573</td>\n",
       "      <td>15.05371</td>\n",
       "      <td>15.04288</td>\n",
       "      <td>15.09971</td>\n",
       "      <td>15.12204</td>\n",
       "      <td>STAR</td>\n",
       "      <td>0.000225</td>\n",
       "      <td>0.000004</td>\n",
       "    </tr>\n",
       "    <tr>\n",
       "      <th>13</th>\n",
       "      <td>17.88314</td>\n",
       "      <td>16.59722</td>\n",
       "      <td>16.52256</td>\n",
       "      <td>16.50586</td>\n",
       "      <td>16.57543</td>\n",
       "      <td>STAR</td>\n",
       "      <td>0.000207</td>\n",
       "      <td>0.000007</td>\n",
       "    </tr>\n",
       "    <tr>\n",
       "      <th>14</th>\n",
       "      <td>16.50660</td>\n",
       "      <td>15.11010</td>\n",
       "      <td>15.02940</td>\n",
       "      <td>15.05553</td>\n",
       "      <td>15.01521</td>\n",
       "      <td>STAR</td>\n",
       "      <td>0.000166</td>\n",
       "      <td>0.000004</td>\n",
       "    </tr>\n",
       "    <tr>\n",
       "      <th>15</th>\n",
       "      <td>17.54357</td>\n",
       "      <td>16.15225</td>\n",
       "      <td>16.02519</td>\n",
       "      <td>16.01606</td>\n",
       "      <td>15.98047</td>\n",
       "      <td>STAR</td>\n",
       "      <td>0.000212</td>\n",
       "      <td>0.000006</td>\n",
       "    </tr>\n",
       "    <tr>\n",
       "      <th>16</th>\n",
       "      <td>17.46517</td>\n",
       "      <td>15.97317</td>\n",
       "      <td>15.81342</td>\n",
       "      <td>15.78044</td>\n",
       "      <td>15.71757</td>\n",
       "      <td>STAR</td>\n",
       "      <td>0.000230</td>\n",
       "      <td>0.000006</td>\n",
       "    </tr>\n",
       "    <tr>\n",
       "      <th>17</th>\n",
       "      <td>18.55322</td>\n",
       "      <td>16.99053</td>\n",
       "      <td>16.78870</td>\n",
       "      <td>16.72765</td>\n",
       "      <td>16.73230</td>\n",
       "      <td>STAR</td>\n",
       "      <td>0.000225</td>\n",
       "      <td>0.000009</td>\n",
       "    </tr>\n",
       "    <tr>\n",
       "      <th>18</th>\n",
       "      <td>17.65196</td>\n",
       "      <td>16.34665</td>\n",
       "      <td>16.21154</td>\n",
       "      <td>16.19021</td>\n",
       "      <td>16.13198</td>\n",
       "      <td>STAR</td>\n",
       "      <td>0.000207</td>\n",
       "      <td>0.000007</td>\n",
       "    </tr>\n",
       "    <tr>\n",
       "      <th>19</th>\n",
       "      <td>18.94093</td>\n",
       "      <td>17.30824</td>\n",
       "      <td>16.68718</td>\n",
       "      <td>16.37980</td>\n",
       "      <td>16.19246</td>\n",
       "      <td>STAR</td>\n",
       "      <td>0.000109</td>\n",
       "      <td>0.000016</td>\n",
       "    </tr>\n",
       "    <tr>\n",
       "      <th>20</th>\n",
       "      <td>19.42305</td>\n",
       "      <td>17.70929</td>\n",
       "      <td>16.88225</td>\n",
       "      <td>16.48898</td>\n",
       "      <td>16.24508</td>\n",
       "      <td>STAR</td>\n",
       "      <td>0.000103</td>\n",
       "      <td>0.000012</td>\n",
       "    </tr>\n",
       "    <tr>\n",
       "      <th>21</th>\n",
       "      <td>17.49978</td>\n",
       "      <td>15.94900</td>\n",
       "      <td>15.74521</td>\n",
       "      <td>15.66466</td>\n",
       "      <td>15.56982</td>\n",
       "      <td>STAR</td>\n",
       "      <td>0.000208</td>\n",
       "      <td>0.000008</td>\n",
       "    </tr>\n",
       "    <tr>\n",
       "      <th>22</th>\n",
       "      <td>17.28362</td>\n",
       "      <td>15.78144</td>\n",
       "      <td>15.60855</td>\n",
       "      <td>15.56985</td>\n",
       "      <td>15.50644</td>\n",
       "      <td>STAR</td>\n",
       "      <td>0.000233</td>\n",
       "      <td>0.000005</td>\n",
       "    </tr>\n",
       "    <tr>\n",
       "      <th>23</th>\n",
       "      <td>18.48349</td>\n",
       "      <td>16.99278</td>\n",
       "      <td>16.83139</td>\n",
       "      <td>16.76890</td>\n",
       "      <td>16.71789</td>\n",
       "      <td>STAR</td>\n",
       "      <td>0.000178</td>\n",
       "      <td>0.000011</td>\n",
       "    </tr>\n",
       "    <tr>\n",
       "      <th>24</th>\n",
       "      <td>17.90772</td>\n",
       "      <td>16.59890</td>\n",
       "      <td>16.51875</td>\n",
       "      <td>16.52415</td>\n",
       "      <td>16.49093</td>\n",
       "      <td>STAR</td>\n",
       "      <td>0.000183</td>\n",
       "      <td>0.000008</td>\n",
       "    </tr>\n",
       "    <tr>\n",
       "      <th>25</th>\n",
       "      <td>18.05621</td>\n",
       "      <td>16.50874</td>\n",
       "      <td>16.21932</td>\n",
       "      <td>16.08952</td>\n",
       "      <td>16.00218</td>\n",
       "      <td>STAR</td>\n",
       "      <td>0.000201</td>\n",
       "      <td>0.000008</td>\n",
       "    </tr>\n",
       "    <tr>\n",
       "      <th>26</th>\n",
       "      <td>17.80663</td>\n",
       "      <td>16.30726</td>\n",
       "      <td>16.14573</td>\n",
       "      <td>16.10564</td>\n",
       "      <td>16.07638</td>\n",
       "      <td>STAR</td>\n",
       "      <td>0.000068</td>\n",
       "      <td>0.000006</td>\n",
       "    </tr>\n",
       "    <tr>\n",
       "      <th>27</th>\n",
       "      <td>19.48872</td>\n",
       "      <td>17.48968</td>\n",
       "      <td>16.54476</td>\n",
       "      <td>16.17460</td>\n",
       "      <td>15.91617</td>\n",
       "      <td>STAR</td>\n",
       "      <td>-0.000018</td>\n",
       "      <td>0.000008</td>\n",
       "    </tr>\n",
       "    <tr>\n",
       "      <th>28</th>\n",
       "      <td>18.55945</td>\n",
       "      <td>17.00299</td>\n",
       "      <td>16.78813</td>\n",
       "      <td>16.69907</td>\n",
       "      <td>16.62170</td>\n",
       "      <td>STAR</td>\n",
       "      <td>0.000206</td>\n",
       "      <td>0.000009</td>\n",
       "    </tr>\n",
       "    <tr>\n",
       "      <th>29</th>\n",
       "      <td>17.05843</td>\n",
       "      <td>15.67654</td>\n",
       "      <td>15.53414</td>\n",
       "      <td>15.51704</td>\n",
       "      <td>15.48902</td>\n",
       "      <td>STAR</td>\n",
       "      <td>0.000182</td>\n",
       "      <td>0.000005</td>\n",
       "    </tr>\n",
       "    <tr>\n",
       "      <th>...</th>\n",
       "      <td>...</td>\n",
       "      <td>...</td>\n",
       "      <td>...</td>\n",
       "      <td>...</td>\n",
       "      <td>...</td>\n",
       "      <td>...</td>\n",
       "      <td>...</td>\n",
       "      <td>...</td>\n",
       "    </tr>\n",
       "    <tr>\n",
       "      <th>9970</th>\n",
       "      <td>18.66580</td>\n",
       "      <td>18.66566</td>\n",
       "      <td>18.89007</td>\n",
       "      <td>19.06359</td>\n",
       "      <td>19.27806</td>\n",
       "      <td>QSO</td>\n",
       "      <td>1.096592</td>\n",
       "      <td>0.000229</td>\n",
       "    </tr>\n",
       "    <tr>\n",
       "      <th>9971</th>\n",
       "      <td>18.55215</td>\n",
       "      <td>16.84621</td>\n",
       "      <td>15.91145</td>\n",
       "      <td>15.46771</td>\n",
       "      <td>15.12429</td>\n",
       "      <td>GALAXY</td>\n",
       "      <td>0.122022</td>\n",
       "      <td>0.000034</td>\n",
       "    </tr>\n",
       "    <tr>\n",
       "      <th>9972</th>\n",
       "      <td>17.00455</td>\n",
       "      <td>15.53162</td>\n",
       "      <td>14.82834</td>\n",
       "      <td>14.41894</td>\n",
       "      <td>14.12202</td>\n",
       "      <td>GALAXY</td>\n",
       "      <td>0.037770</td>\n",
       "      <td>0.000008</td>\n",
       "    </tr>\n",
       "    <tr>\n",
       "      <th>9973</th>\n",
       "      <td>18.91488</td>\n",
       "      <td>16.83624</td>\n",
       "      <td>15.89665</td>\n",
       "      <td>15.45328</td>\n",
       "      <td>15.09546</td>\n",
       "      <td>GALAXY</td>\n",
       "      <td>0.059557</td>\n",
       "      <td>0.000014</td>\n",
       "    </tr>\n",
       "    <tr>\n",
       "      <th>9974</th>\n",
       "      <td>18.85091</td>\n",
       "      <td>17.52745</td>\n",
       "      <td>16.87109</td>\n",
       "      <td>16.44857</td>\n",
       "      <td>16.19461</td>\n",
       "      <td>GALAXY</td>\n",
       "      <td>0.081072</td>\n",
       "      <td>0.000009</td>\n",
       "    </tr>\n",
       "    <tr>\n",
       "      <th>9975</th>\n",
       "      <td>19.27532</td>\n",
       "      <td>18.08082</td>\n",
       "      <td>17.56893</td>\n",
       "      <td>17.21910</td>\n",
       "      <td>17.06681</td>\n",
       "      <td>GALAXY</td>\n",
       "      <td>0.125263</td>\n",
       "      <td>0.000008</td>\n",
       "    </tr>\n",
       "    <tr>\n",
       "      <th>9976</th>\n",
       "      <td>18.91428</td>\n",
       "      <td>17.95433</td>\n",
       "      <td>17.71039</td>\n",
       "      <td>17.56416</td>\n",
       "      <td>17.54964</td>\n",
       "      <td>STAR</td>\n",
       "      <td>-0.000035</td>\n",
       "      <td>0.000030</td>\n",
       "    </tr>\n",
       "    <tr>\n",
       "      <th>9977</th>\n",
       "      <td>17.98449</td>\n",
       "      <td>17.07576</td>\n",
       "      <td>16.77341</td>\n",
       "      <td>16.65288</td>\n",
       "      <td>16.64050</td>\n",
       "      <td>STAR</td>\n",
       "      <td>-0.000041</td>\n",
       "      <td>0.000007</td>\n",
       "    </tr>\n",
       "    <tr>\n",
       "      <th>9978</th>\n",
       "      <td>18.88045</td>\n",
       "      <td>16.92197</td>\n",
       "      <td>16.11383</td>\n",
       "      <td>15.71679</td>\n",
       "      <td>15.40778</td>\n",
       "      <td>GALAXY</td>\n",
       "      <td>0.054414</td>\n",
       "      <td>0.000015</td>\n",
       "    </tr>\n",
       "    <tr>\n",
       "      <th>9979</th>\n",
       "      <td>17.52261</td>\n",
       "      <td>16.09159</td>\n",
       "      <td>15.28299</td>\n",
       "      <td>14.85429</td>\n",
       "      <td>14.51337</td>\n",
       "      <td>GALAXY</td>\n",
       "      <td>0.037375</td>\n",
       "      <td>0.000012</td>\n",
       "    </tr>\n",
       "    <tr>\n",
       "      <th>9980</th>\n",
       "      <td>18.35714</td>\n",
       "      <td>17.27558</td>\n",
       "      <td>17.09887</td>\n",
       "      <td>17.07650</td>\n",
       "      <td>17.08409</td>\n",
       "      <td>STAR</td>\n",
       "      <td>-0.000111</td>\n",
       "      <td>0.000014</td>\n",
       "    </tr>\n",
       "    <tr>\n",
       "      <th>9981</th>\n",
       "      <td>18.48715</td>\n",
       "      <td>17.19322</td>\n",
       "      <td>16.63678</td>\n",
       "      <td>16.31632</td>\n",
       "      <td>16.11982</td>\n",
       "      <td>GALAXY</td>\n",
       "      <td>0.069888</td>\n",
       "      <td>0.000016</td>\n",
       "    </tr>\n",
       "    <tr>\n",
       "      <th>9982</th>\n",
       "      <td>18.68424</td>\n",
       "      <td>17.68931</td>\n",
       "      <td>17.35985</td>\n",
       "      <td>17.13924</td>\n",
       "      <td>16.98174</td>\n",
       "      <td>GALAXY</td>\n",
       "      <td>0.037802</td>\n",
       "      <td>0.000006</td>\n",
       "    </tr>\n",
       "    <tr>\n",
       "      <th>9983</th>\n",
       "      <td>18.68946</td>\n",
       "      <td>17.18591</td>\n",
       "      <td>16.56903</td>\n",
       "      <td>16.32432</td>\n",
       "      <td>16.17589</td>\n",
       "      <td>STAR</td>\n",
       "      <td>-0.000136</td>\n",
       "      <td>0.000011</td>\n",
       "    </tr>\n",
       "    <tr>\n",
       "      <th>9984</th>\n",
       "      <td>19.03388</td>\n",
       "      <td>16.73407</td>\n",
       "      <td>15.74353</td>\n",
       "      <td>15.37458</td>\n",
       "      <td>15.14844</td>\n",
       "      <td>STAR</td>\n",
       "      <td>-0.000015</td>\n",
       "      <td>0.000008</td>\n",
       "    </tr>\n",
       "    <tr>\n",
       "      <th>9985</th>\n",
       "      <td>18.10310</td>\n",
       "      <td>16.75151</td>\n",
       "      <td>16.09899</td>\n",
       "      <td>15.76913</td>\n",
       "      <td>15.51989</td>\n",
       "      <td>GALAXY</td>\n",
       "      <td>0.016488</td>\n",
       "      <td>0.000017</td>\n",
       "    </tr>\n",
       "    <tr>\n",
       "      <th>9986</th>\n",
       "      <td>17.32072</td>\n",
       "      <td>15.74650</td>\n",
       "      <td>15.11705</td>\n",
       "      <td>14.88004</td>\n",
       "      <td>14.77378</td>\n",
       "      <td>STAR</td>\n",
       "      <td>0.000011</td>\n",
       "      <td>0.000007</td>\n",
       "    </tr>\n",
       "    <tr>\n",
       "      <th>9987</th>\n",
       "      <td>18.87338</td>\n",
       "      <td>16.83988</td>\n",
       "      <td>15.79945</td>\n",
       "      <td>15.32242</td>\n",
       "      <td>14.90727</td>\n",
       "      <td>GALAXY</td>\n",
       "      <td>0.086303</td>\n",
       "      <td>0.000019</td>\n",
       "    </tr>\n",
       "    <tr>\n",
       "      <th>9988</th>\n",
       "      <td>18.53954</td>\n",
       "      <td>18.10493</td>\n",
       "      <td>17.81214</td>\n",
       "      <td>17.44697</td>\n",
       "      <td>17.50096</td>\n",
       "      <td>GALAXY</td>\n",
       "      <td>0.146669</td>\n",
       "      <td>0.000004</td>\n",
       "    </tr>\n",
       "    <tr>\n",
       "      <th>9989</th>\n",
       "      <td>18.82698</td>\n",
       "      <td>17.70184</td>\n",
       "      <td>17.23304</td>\n",
       "      <td>17.06105</td>\n",
       "      <td>16.98843</td>\n",
       "      <td>STAR</td>\n",
       "      <td>-0.000465</td>\n",
       "      <td>0.000010</td>\n",
       "    </tr>\n",
       "    <tr>\n",
       "      <th>9990</th>\n",
       "      <td>18.66400</td>\n",
       "      <td>17.08254</td>\n",
       "      <td>16.47720</td>\n",
       "      <td>16.24797</td>\n",
       "      <td>16.14481</td>\n",
       "      <td>STAR</td>\n",
       "      <td>0.000139</td>\n",
       "      <td>0.000009</td>\n",
       "    </tr>\n",
       "    <tr>\n",
       "      <th>9991</th>\n",
       "      <td>19.01188</td>\n",
       "      <td>17.14509</td>\n",
       "      <td>16.36780</td>\n",
       "      <td>15.98576</td>\n",
       "      <td>15.69298</td>\n",
       "      <td>GALAXY</td>\n",
       "      <td>0.017033</td>\n",
       "      <td>0.000024</td>\n",
       "    </tr>\n",
       "    <tr>\n",
       "      <th>9992</th>\n",
       "      <td>19.48624</td>\n",
       "      <td>18.17650</td>\n",
       "      <td>17.69476</td>\n",
       "      <td>17.41129</td>\n",
       "      <td>17.31583</td>\n",
       "      <td>GALAXY</td>\n",
       "      <td>0.033752</td>\n",
       "      <td>0.000008</td>\n",
       "    </tr>\n",
       "    <tr>\n",
       "      <th>9993</th>\n",
       "      <td>19.26799</td>\n",
       "      <td>17.34957</td>\n",
       "      <td>16.48178</td>\n",
       "      <td>16.10234</td>\n",
       "      <td>15.86800</td>\n",
       "      <td>STAR</td>\n",
       "      <td>0.000081</td>\n",
       "      <td>0.000008</td>\n",
       "    </tr>\n",
       "    <tr>\n",
       "      <th>9994</th>\n",
       "      <td>17.52086</td>\n",
       "      <td>16.05171</td>\n",
       "      <td>15.38772</td>\n",
       "      <td>15.03875</td>\n",
       "      <td>14.83801</td>\n",
       "      <td>STAR</td>\n",
       "      <td>-0.000807</td>\n",
       "      <td>0.000011</td>\n",
       "    </tr>\n",
       "    <tr>\n",
       "      <th>9995</th>\n",
       "      <td>19.24875</td>\n",
       "      <td>18.19267</td>\n",
       "      <td>17.74338</td>\n",
       "      <td>17.52076</td>\n",
       "      <td>17.44764</td>\n",
       "      <td>STAR</td>\n",
       "      <td>-0.000265</td>\n",
       "      <td>0.000010</td>\n",
       "    </tr>\n",
       "    <tr>\n",
       "      <th>9996</th>\n",
       "      <td>18.45863</td>\n",
       "      <td>17.21609</td>\n",
       "      <td>16.71649</td>\n",
       "      <td>16.53343</td>\n",
       "      <td>16.42949</td>\n",
       "      <td>STAR</td>\n",
       "      <td>-0.000106</td>\n",
       "      <td>0.000010</td>\n",
       "    </tr>\n",
       "    <tr>\n",
       "      <th>9997</th>\n",
       "      <td>19.22442</td>\n",
       "      <td>16.56367</td>\n",
       "      <td>15.32245</td>\n",
       "      <td>14.84301</td>\n",
       "      <td>14.56661</td>\n",
       "      <td>STAR</td>\n",
       "      <td>-0.000055</td>\n",
       "      <td>0.000008</td>\n",
       "    </tr>\n",
       "    <tr>\n",
       "      <th>9998</th>\n",
       "      <td>19.17015</td>\n",
       "      <td>17.75889</td>\n",
       "      <td>17.12812</td>\n",
       "      <td>16.68459</td>\n",
       "      <td>16.40116</td>\n",
       "      <td>GALAXY</td>\n",
       "      <td>0.066407</td>\n",
       "      <td>0.000011</td>\n",
       "    </tr>\n",
       "    <tr>\n",
       "      <th>9999</th>\n",
       "      <td>19.54867</td>\n",
       "      <td>17.26397</td>\n",
       "      <td>16.29182</td>\n",
       "      <td>15.88584</td>\n",
       "      <td>15.65525</td>\n",
       "      <td>STAR</td>\n",
       "      <td>-0.000101</td>\n",
       "      <td>0.000007</td>\n",
       "    </tr>\n",
       "  </tbody>\n",
       "</table>\n",
       "<p>10000 rows × 8 columns</p>\n",
       "</div>"
      ],
      "text/plain": [
       "             u         g         r         i         z   class        z1  \\\n",
       "0     19.16978  17.08930  16.04692  15.55223  15.17684  GALAXY  0.076246   \n",
       "1     18.88655  17.26482  16.53105  16.23936  16.05161    STAR  0.000122   \n",
       "2     18.94358  17.47576  16.79267  16.49504  16.30348    STAR  0.000161   \n",
       "3     18.42756  16.98290  16.79660  16.78195  16.72049    STAR  0.000123   \n",
       "4     18.76420  16.92113  16.04104  15.65526  15.39297    STAR  0.000241   \n",
       "5     17.20783  15.75872  15.63107  15.59838  15.56201    STAR  0.000142   \n",
       "6     18.28920  16.84220  16.68952  16.64136  16.58683    STAR  0.000222   \n",
       "7     17.69090  16.22015  15.54465  15.20622  15.05557    STAR  0.000150   \n",
       "8     19.10833  17.49509  16.73375  16.40439  16.16703    STAR  0.000188   \n",
       "9     18.18435  16.81769  16.30527  16.06046  15.91306    STAR  0.000210   \n",
       "10    18.98582  17.43833  16.70121  16.40430  16.22956    STAR  0.000339   \n",
       "11    17.78138  16.38120  16.31779  16.31096  16.27825    STAR  0.000247   \n",
       "12    16.12573  15.05371  15.04288  15.09971  15.12204    STAR  0.000225   \n",
       "13    17.88314  16.59722  16.52256  16.50586  16.57543    STAR  0.000207   \n",
       "14    16.50660  15.11010  15.02940  15.05553  15.01521    STAR  0.000166   \n",
       "15    17.54357  16.15225  16.02519  16.01606  15.98047    STAR  0.000212   \n",
       "16    17.46517  15.97317  15.81342  15.78044  15.71757    STAR  0.000230   \n",
       "17    18.55322  16.99053  16.78870  16.72765  16.73230    STAR  0.000225   \n",
       "18    17.65196  16.34665  16.21154  16.19021  16.13198    STAR  0.000207   \n",
       "19    18.94093  17.30824  16.68718  16.37980  16.19246    STAR  0.000109   \n",
       "20    19.42305  17.70929  16.88225  16.48898  16.24508    STAR  0.000103   \n",
       "21    17.49978  15.94900  15.74521  15.66466  15.56982    STAR  0.000208   \n",
       "22    17.28362  15.78144  15.60855  15.56985  15.50644    STAR  0.000233   \n",
       "23    18.48349  16.99278  16.83139  16.76890  16.71789    STAR  0.000178   \n",
       "24    17.90772  16.59890  16.51875  16.52415  16.49093    STAR  0.000183   \n",
       "25    18.05621  16.50874  16.21932  16.08952  16.00218    STAR  0.000201   \n",
       "26    17.80663  16.30726  16.14573  16.10564  16.07638    STAR  0.000068   \n",
       "27    19.48872  17.48968  16.54476  16.17460  15.91617    STAR -0.000018   \n",
       "28    18.55945  17.00299  16.78813  16.69907  16.62170    STAR  0.000206   \n",
       "29    17.05843  15.67654  15.53414  15.51704  15.48902    STAR  0.000182   \n",
       "...        ...       ...       ...       ...       ...     ...       ...   \n",
       "9970  18.66580  18.66566  18.89007  19.06359  19.27806     QSO  1.096592   \n",
       "9971  18.55215  16.84621  15.91145  15.46771  15.12429  GALAXY  0.122022   \n",
       "9972  17.00455  15.53162  14.82834  14.41894  14.12202  GALAXY  0.037770   \n",
       "9973  18.91488  16.83624  15.89665  15.45328  15.09546  GALAXY  0.059557   \n",
       "9974  18.85091  17.52745  16.87109  16.44857  16.19461  GALAXY  0.081072   \n",
       "9975  19.27532  18.08082  17.56893  17.21910  17.06681  GALAXY  0.125263   \n",
       "9976  18.91428  17.95433  17.71039  17.56416  17.54964    STAR -0.000035   \n",
       "9977  17.98449  17.07576  16.77341  16.65288  16.64050    STAR -0.000041   \n",
       "9978  18.88045  16.92197  16.11383  15.71679  15.40778  GALAXY  0.054414   \n",
       "9979  17.52261  16.09159  15.28299  14.85429  14.51337  GALAXY  0.037375   \n",
       "9980  18.35714  17.27558  17.09887  17.07650  17.08409    STAR -0.000111   \n",
       "9981  18.48715  17.19322  16.63678  16.31632  16.11982  GALAXY  0.069888   \n",
       "9982  18.68424  17.68931  17.35985  17.13924  16.98174  GALAXY  0.037802   \n",
       "9983  18.68946  17.18591  16.56903  16.32432  16.17589    STAR -0.000136   \n",
       "9984  19.03388  16.73407  15.74353  15.37458  15.14844    STAR -0.000015   \n",
       "9985  18.10310  16.75151  16.09899  15.76913  15.51989  GALAXY  0.016488   \n",
       "9986  17.32072  15.74650  15.11705  14.88004  14.77378    STAR  0.000011   \n",
       "9987  18.87338  16.83988  15.79945  15.32242  14.90727  GALAXY  0.086303   \n",
       "9988  18.53954  18.10493  17.81214  17.44697  17.50096  GALAXY  0.146669   \n",
       "9989  18.82698  17.70184  17.23304  17.06105  16.98843    STAR -0.000465   \n",
       "9990  18.66400  17.08254  16.47720  16.24797  16.14481    STAR  0.000139   \n",
       "9991  19.01188  17.14509  16.36780  15.98576  15.69298  GALAXY  0.017033   \n",
       "9992  19.48624  18.17650  17.69476  17.41129  17.31583  GALAXY  0.033752   \n",
       "9993  19.26799  17.34957  16.48178  16.10234  15.86800    STAR  0.000081   \n",
       "9994  17.52086  16.05171  15.38772  15.03875  14.83801    STAR -0.000807   \n",
       "9995  19.24875  18.19267  17.74338  17.52076  17.44764    STAR -0.000265   \n",
       "9996  18.45863  17.21609  16.71649  16.53343  16.42949    STAR -0.000106   \n",
       "9997  19.22442  16.56367  15.32245  14.84301  14.56661    STAR -0.000055   \n",
       "9998  19.17015  17.75889  17.12812  16.68459  16.40116  GALAXY  0.066407   \n",
       "9999  19.54867  17.26397  16.29182  15.88584  15.65525    STAR -0.000101   \n",
       "\n",
       "          zerr  \n",
       "0     0.000019  \n",
       "1     0.000009  \n",
       "2     0.000011  \n",
       "3     0.000010  \n",
       "4     0.000008  \n",
       "5     0.000005  \n",
       "6     0.000008  \n",
       "7     0.000009  \n",
       "8     0.000009  \n",
       "9     0.000012  \n",
       "10    0.000010  \n",
       "11    0.000006  \n",
       "12    0.000004  \n",
       "13    0.000007  \n",
       "14    0.000004  \n",
       "15    0.000006  \n",
       "16    0.000006  \n",
       "17    0.000009  \n",
       "18    0.000007  \n",
       "19    0.000016  \n",
       "20    0.000012  \n",
       "21    0.000008  \n",
       "22    0.000005  \n",
       "23    0.000011  \n",
       "24    0.000008  \n",
       "25    0.000008  \n",
       "26    0.000006  \n",
       "27    0.000008  \n",
       "28    0.000009  \n",
       "29    0.000005  \n",
       "...        ...  \n",
       "9970  0.000229  \n",
       "9971  0.000034  \n",
       "9972  0.000008  \n",
       "9973  0.000014  \n",
       "9974  0.000009  \n",
       "9975  0.000008  \n",
       "9976  0.000030  \n",
       "9977  0.000007  \n",
       "9978  0.000015  \n",
       "9979  0.000012  \n",
       "9980  0.000014  \n",
       "9981  0.000016  \n",
       "9982  0.000006  \n",
       "9983  0.000011  \n",
       "9984  0.000008  \n",
       "9985  0.000017  \n",
       "9986  0.000007  \n",
       "9987  0.000019  \n",
       "9988  0.000004  \n",
       "9989  0.000010  \n",
       "9990  0.000009  \n",
       "9991  0.000024  \n",
       "9992  0.000008  \n",
       "9993  0.000008  \n",
       "9994  0.000011  \n",
       "9995  0.000010  \n",
       "9996  0.000010  \n",
       "9997  0.000008  \n",
       "9998  0.000011  \n",
       "9999  0.000007  \n",
       "\n",
       "[10000 rows x 8 columns]"
      ]
     },
     "execution_count": 3,
     "metadata": {},
     "output_type": "execute_result"
    }
   ],
   "source": [
    "df"
   ]
  },
  {
   "cell_type": "markdown",
   "metadata": {},
   "source": [
    "## Summarizing Data\n",
    "\n",
    "There are a few very simple, but often used ways to summarize data: the arithmetic mean and median, along the standard deviation, variance or standard error. For a first look at what your data looks like, these can be incredibly useful tools, but be aware of their limitations, too!\n",
    "\n",
    "The arithmetic mean of a (univariate) sample $x = \\{x_1, x_2, ..., x_n\\}$ with n elements is defined as \n",
    "\n",
    "$\\bar{x} = \\frac{1}{n}\\sum_{i=1}^{n}{x_i}$  .\n",
    "\n",
    "In python, you can of course define your own function to do this, but much faster is the implementation in numpy:"
   ]
  },
  {
   "cell_type": "code",
   "execution_count": 15,
   "metadata": {
    "collapsed": false
   },
   "outputs": [
    {
     "name": "stdout",
     "output_type": "stream",
     "text": [
      "The mean of the r-band magnitude of the galaxies in the sample is 16.651\n"
     ]
    }
   ],
   "source": [
    "import numpy as np\n",
    "\n",
    "galaxies = df[df[\"class\"]==\"GALAXY\"]\n",
    "x = np.array(galaxies[\"r\"])\n",
    "\n",
    "x_mean = np.mean(x)\n",
    "\n",
    "print(\"The mean of the r-band magnitude of the galaxies in the sample is %.3f\"%x_mean)\n"
   ]
  },
  {
   "cell_type": "markdown",
   "metadata": {},
   "source": [
    "Note that if you have multivariate data (i.e. several dimensions), you can use the `axis` keyword to specify which dimension to average over:"
   ]
  },
  {
   "cell_type": "code",
   "execution_count": 16,
   "metadata": {
    "collapsed": false
   },
   "outputs": [
    {
     "name": "stdout",
     "output_type": "stream",
     "text": [
      "(4299,)\n"
     ]
    }
   ],
   "source": [
    "x_multi = np.array(galaxies[[\"u\", \"g\", \"r\"]])\n",
    "print(x.shape)"
   ]
  },
  {
   "cell_type": "code",
   "execution_count": 17,
   "metadata": {
    "collapsed": false
   },
   "outputs": [
    {
     "name": "stdout",
     "output_type": "stream",
     "text": [
      "17.6026387927\n",
      "[ 18.80438917  17.35221503  16.65131218]\n",
      "[ 17.43533333  16.05213667  18.12191667 ...,  17.50825667  18.4525\n",
      "  18.01905333]\n"
     ]
    }
   ],
   "source": [
    "## global average\n",
    "print(np.mean(x_multi))\n",
    "\n",
    "## average over the sample for each colour\n",
    "print(np.mean(x_multi, axis=0))\n",
    "\n",
    "## average over all colours for each galaxy in the sample\n",
    "print(np.mean(x_multi, axis=1))"
   ]
  },
  {
   "cell_type": "markdown",
   "metadata": {},
   "source": [
    "Note: which dimension you want to average over depends on the shape of your array, so be careful (and check the shape of the output, if in doubt!).\n",
    "\n",
    "The average is nice to have, since it's a measure for the \"center of gravity\" of your sample, however, it is also prone to be strongly affected by outliers! In some cases, the **median**, the middle of the sample, can be a better choice. For a sample of length $n$, the median is either the $(n+1)/2$-th value, if $n$ is odd, or the mean of the middle two values $n/2$ and $(n+1)/2$, if $n$ is even. \n",
    "Again, numpy allows for easy and quick computation:"
   ]
  },
  {
   "cell_type": "code",
   "execution_count": 21,
   "metadata": {
    "collapsed": false
   },
   "outputs": [
    {
     "name": "stdout",
     "output_type": "stream",
     "text": [
      "The median of the r-band magnitude of the sample of galaxies is 16.756\n"
     ]
    }
   ],
   "source": [
    "x_med = np.median(x)\n",
    "print(\"The median of the r-band magnitude of the sample of galaxies is %.3f\"%x_med)"
   ]
  },
  {
   "cell_type": "markdown",
   "metadata": {},
   "source": [
    "Both the median and mean are useful, but be aware that unless the underlying distribution that created your sample is symmetric: "
   ]
  },
  {
   "cell_type": "code",
   "execution_count": 35,
   "metadata": {
    "collapsed": false
   },
   "outputs": [
    {
     "data": {
      "text/plain": [
       "<matplotlib.text.Text at 0x117f91d90>"
      ]
     },
     "execution_count": 35,
     "metadata": {},
     "output_type": "execute_result"
    },
    {
     "data": {
      "image/png": "[encoded data removed]",
      "text/plain": [
       "<matplotlib.figure.Figure at 0x1164aca50>"
      ]
     },
     "metadata": {},
     "output_type": "display_data"
    }
   ],
   "source": [
    "%matplotlib inline\n",
    "import matplotlib.pyplot as plt\n",
    "import scipy.stats\n",
    "\n",
    "fig, (ax1, ax2) = plt.subplots(1,2,figsize=(16,6))\n",
    "xcoord = np.linspace(0,2,100)\n",
    "ax1.plot(xcoord, scipy.stats.norm(1.0, 0.3).pdf(xcoord))\n",
    "ax1.set_title(\"Symmetric distribution\")\n",
    "ax2.plot(xcoord, scipy.stats.lognorm(1.0, 0.1).pdf(xcoord))\n",
    "ax2.set_title(\"Asymmetric distribution\")"
   ]
  },
  {
   "cell_type": "markdown",
   "metadata": {},
   "source": [
    "For a (large enough) sample drawn from the distribution the mean and median will not be the same, and more importantly, in this case, they will also **not** be equal to the most probable value (the top of the distribution). The latter is also called the **mode**. There's no intrinsic nifty way to compute the mode of a distribution (or sample). In practice, for a univariate sample, you might make a **histogram** of the sample (that is, define finite bins over the width of your sample, and count all elements that fall into each bin), and then find the bin with the most counts. Note that for creating a histogram, you need to pick the number of your bins (or, equivalently, the width of each bin). This can be tricky, as we'll discuss in more detail in the visualization part of this tutorial. \n"
   ]
  },
  {
   "cell_type": "code",
   "execution_count": 37,
   "metadata": {
    "collapsed": false
   },
   "outputs": [],
   "source": [
    "h, edges = np.histogram(x, bins=30,range=[16.,19.6], normed=False)"
   ]
  },
  {
   "cell_type": "code",
   "execution_count": 45,
   "metadata": {
    "collapsed": false
   },
   "outputs": [
    {
     "name": "stdout",
     "output_type": "stream",
     "text": [
      "The mode of the distribution is located at 17.0200\n"
     ]
    }
   ],
   "source": [
    "## find the index where the binned counts have their maximum\n",
    "h_max = np.where(h == np.max(h))[0]\n",
    "\n",
    "## these are the maximum binned counts\n",
    "max_counts = h[h_max]\n",
    "\n",
    "## find the middle of the bin with the maximum counts\n",
    "edge_min = edges[h_max]\n",
    "edge_max = edges[h_max+1]\n",
    "edge_mean = np.mean([edge_min, edge_max])\n",
    "\n",
    "print(\"The mode of the distribution is located at %.4f\"%edge_mean)"
   ]
  },
  {
   "cell_type": "markdown",
   "metadata": {},
   "source": [
    "Mean, median and mode all tell us something about the center of the sample. However, it tells us nothing about the spread of the sample: are most values close to the mean (high precision) or are they scattered very far (low precision)?\n",
    "\n",
    "For this, we can use the variance, the squared deviations from the mean:\n",
    "\n",
    "$s^2_x = \\frac{1}{n-1}\\sum_{i=1}^{n}{(x_i - \\bar{x})^2}$\n",
    "\n",
    "or its square root, the standard deviation: $s_x = \\sqrt{s^2_x}$.\n",
    "\n",
    "Similarly to the mean, there are functions in numpy for the mean and the standard deviation, and again, it is possible to specify the axis along which to compute either:"
   ]
  },
  {
   "cell_type": "code",
   "execution_count": 47,
   "metadata": {
    "collapsed": false
   },
   "outputs": [
    {
     "name": "stdout",
     "output_type": "stream",
     "text": [
      "The variance of the r-band magnitude for the galaxies in the sample is 0.7825\n",
      "The standard deviation of the r-band magnitude for the galaxies in the sample is 0.8846\n",
      "The variance of the for all three bands for the galaxies in the sample is [ 0.52926058  0.63001774  0.78250212]\n",
      "The standard deviation for all three bands for the galaxies in the sample is [ 0.72750298  0.79373657  0.8845915 ]\n"
     ]
    }
   ],
   "source": [
    "x_var = np.var(x)\n",
    "x_std = np.std(x)\n",
    "\n",
    "print(\"The variance of the r-band magnitude for the galaxies in the sample is %.4f\"%x_var)\n",
    "print(\"The standard deviation of the r-band magnitude for the galaxies in the sample is %.4f\"%x_std)\n",
    "\n",
    "x_var_multi = np.var(x_multi, axis=0)\n",
    "x_std_multi = np.std(x_multi, axis=0)\n",
    "\n",
    "print(\"The variance of the for all three bands for the galaxies in the sample is \"+str(x_var_multi))\n",
    "print(\"The standard deviation for all three bands for the galaxies in the sample is \" + str(x_std_multi))\n"
   ]
  },
  {
   "cell_type": "markdown",
   "metadata": {},
   "source": [
    "**Note**: If your data set contains NaN values, you can use the functions `nanmean`, `nanvar` and `nanstd` instead, which will compute the mean, variance and standard deviation, respectively, while ignoring any NaN values in your data.\n",
    "\n",
    "What is the error on the mean? That depends on the size of your sample! Imagine you pick many samples from the population of possible outcomes. If each sample has a large number of elements, then you are more likely to find similar means for each of your samples than if the sample size is small. \n",
    "\n",
    "Given that we might not have many samples from the population (but perhaps only one SDSS data set!), we'd like to quantify how well we can specify the mean. We do this by dividing the variance by the number of data points and taking the square root to get the **standard error**:"
   ]
  },
  {
   "cell_type": "code",
   "execution_count": 51,
   "metadata": {
    "collapsed": false
   },
   "outputs": [
    {
     "name": "stdout",
     "output_type": "stream",
     "text": [
      "The standard error on the mean for the r-band galaxy magnitudes is 0.0135\n"
     ]
    }
   ],
   "source": [
    "se = np.sqrt(np.var(x)/x.shape[0])\n",
    "print(\"The standard error on the mean for the r-band galaxy magnitudes is %.4f\"%se)"
   ]
  },
  {
   "cell_type": "markdown",
   "metadata": {},
   "source": [
    "Mean and variance give us general information about the center and the spread of the sample, but tell us nothing about the shape. \n",
    "\n",
    "If we want yet more information about how the data are distributed, we'll have to introduce yet another concept: the **quantile** the $\\alpha$-quantile of a sample is the point below which a fraction $\\alpha$ of the data occur. \n",
    "For example, the $0.25$-quantile is the point below which $25\\%$ of the sample is located. Note that the 0.5-quantile is the median. \n",
    "\n",
    "The 0.25, 0.5 and 0.75 quantiles are also called the first, second and third quantile, respectively. The difference between the 0.25 and 0.75 quantile are called the **interquartile range** (remember that! We'll come back to it!).\n",
    "\n",
    "This time, there's no nifty numpy function (that I know of) that we can use. Instead, we'll turn to scipy instead, which contains much functionality for statistics:"
   ]
  },
  {
   "cell_type": "code",
   "execution_count": 52,
   "metadata": {
    "collapsed": false
   },
   "outputs": [
    {
     "name": "stdout",
     "output_type": "stream",
     "text": [
      "The 0.25, 0.5 and 0.75 of the r-band galaxy magnitudes are [ 16.182876  16.75585   17.29843 ]\n"
     ]
    }
   ],
   "source": [
    "from scipy.stats.mstats import mquantiles\n",
    "\n",
    "q = mquantiles(x, prob=[0.25, 0.5, 0.75])\n",
    "print(\"The 0.25, 0.5 and 0.75 of the r-band galaxy magnitudes are \" + str(q))"
   ]
  },
  {
   "cell_type": "markdown",
   "metadata": {},
   "source": [
    "Using this, we can now compute the Tukey five-number summary: a collection of five numbers that contains first quartil, median, second quartile as well as the minimum and maximum values in the sample. Together, they give a reasonably good first impression of how the data are distributed:"
   ]
  },
  {
   "cell_type": "code",
   "execution_count": 53,
   "metadata": {
    "collapsed": true
   },
   "outputs": [],
   "source": [
    "def tukey_five_number(x):\n",
    "    x_min = np.min(x)\n",
    "    x_max = np.max(x)\n",
    "    q = mquantiles(x, prob=[0.25, 0.5, 0.75])\n",
    "    return np.hstack([x_min, q, x_max])"
   ]
  },
  {
   "cell_type": "code",
   "execution_count": 54,
   "metadata": {
    "collapsed": false
   },
   "outputs": [
    {
     "name": "stdout",
     "output_type": "stream",
     "text": [
      "The Tukey five-number summary of the galaxy r-band magnitudes is: [ 11.62901   16.182876  16.75585   17.29843   24.80204 ]\n"
     ]
    }
   ],
   "source": [
    "print(\"The Tukey five-number summary of the galaxy r-band magnitudes is: \" + str(tukey_five_number(x)))"
   ]
  },
  {
   "cell_type": "markdown",
   "metadata": {},
   "source": [
    "Let's think more about the mean of a sample. Imagine we actually have a reasonably good idea of what the mean should be. We might then want to ask whether the sample we collected is consistent with that predetermined theoretical value. To do that, we can take the difference between the sample mean and the theoretical value, but we'll need to normalize it by the standard error. After all, the sample mean could be far from the theoretical prediction, but if the spread in the sample is large, that might not mean much.\n",
    "\n",
    "$t = \\frac{\\bar{x} - \\mu}{\\sqrt{(s_x^2/n)}}$\n",
    "\n",
    "This number is also called the **Student t-statistic** for univariate data.\n",
    "\n",
    "This is, of course, not hard to write down in python with the functions for mean and variance we've learned above, but as above, we can make use of functionality in scipy to achieve the same result:"
   ]
  },
  {
   "cell_type": "code",
   "execution_count": 64,
   "metadata": {
    "collapsed": false
   },
   "outputs": [
    {
     "name": "stdout",
     "output_type": "stream",
     "text": [
      "The t-statistic for the galaxy r-band magnitude is -11.0196\n",
      "The p-value for that t-statistic is 7.23412760149e-28\n"
     ]
    }
   ],
   "source": [
    "import scipy.stats\n",
    "\n",
    "## some theoretical prediction\n",
    "mu = 16.8\n",
    "\n",
    "## compute the t-statistic.\n",
    "t = scipy.stats.ttest_1samp(x, mu)\n",
    "\n",
    "t_statistic = t.statistic\n",
    "p_value = t.pvalue\n",
    "\n",
    "print(\"The t-statistic for the galaxy r-band magnitude is %.4f\"%t_statistic)\n",
    "print(\"The p-value for that t-statistic is \" + str(p_value))"
   ]
  },
  {
   "cell_type": "markdown",
   "metadata": {},
   "source": [
    "** need to write some explanation here **\n",
    "\n",
    "## Statistical Distributions in scipy\n",
    "\n",
    "Aside from the two examples above, `scipy.stats` has a large amount of functionality that can be helpful when exploring data sets. \n",
    "\n",
    "We will not go into the theory of probabilities and probability distributions here. Some of that, you will learn later this week. But before we start, some definitions:\n",
    "\n",
    "* **random variable**: technically, a function that maps sample space (e.g. \"red\", \"green\", \"blue\") of some process onto real numbers (e.g. 1, 2, 3)\n",
    "* we will distinguish between **continuous** random variables (which can take all real values in the *support* of the distribution) and **discrete** random variables (which may only take certain values, e.g. integers).\n",
    "* the **probability mass function (PMF)** for discrete variables maps the probability of a certain outcome to that outcome\n",
    "* in analogy, the **probability density function (PDF)** for continuous random variables is the probability mass in an interval, divided by the size of that interval (in the limit of the interval size going to zero)\n",
    "* the **cumulative distribution function (CDF)** at a point x of a distribution is the probability of a random variable X being smaller than x: it translates to the integral (sum) over the PDF (PMF) from negative infinity up to that point x for a continuous (discrete) distribution. \n",
    "\n",
    "`scipy.stats` defines a large number of both discrete and continuous probability distributions that will likely satisfy most of your requirements. For example, let's define a standard normal distribution."
   ]
  },
  {
   "cell_type": "code",
   "execution_count": 67,
   "metadata": {
    "collapsed": false
   },
   "outputs": [
    {
     "data": {
      "text/plain": [
       "<scipy.stats._distn_infrastructure.rv_frozen at 0x117f7be90>"
      ]
     },
     "execution_count": 67,
     "metadata": {},
     "output_type": "execute_result"
    }
   ],
   "source": [
    "## continuous (normal) distribution\n",
    "\n",
    "loc = 2.0\n",
    "scale = 0.4 \n",
    "\n",
    "dist = scipy.stats.norm(loc=loc, scale=scale)\n",
    "dist"
   ]
  },
  {
   "cell_type": "markdown",
   "metadata": {},
   "source": [
    "We've now created an object that defines a normal (Gaussian) distribution with a scale parameter of 0.4 and a center of 2. What can we do with this?\n",
    "\n",
    "For example, draw a random sample:"
   ]
  },
  {
   "cell_type": "code",
   "execution_count": 68,
   "metadata": {
    "collapsed": false
   },
   "outputs": [
    {
     "name": "stdout",
     "output_type": "stream",
     "text": [
      "[ 2.50431444  2.11058364  2.24071986  2.47497436  1.75850039  1.62600395\n",
      "  2.20289435  1.89238838  1.91996427  2.00952353  2.14367686  2.23121868\n",
      "  1.62096689  2.74025872  2.19697373  0.85651104  2.01703714  1.51215581\n",
      "  1.49519117  1.51461253  2.57479157  1.98103806  2.41766122  2.52023994\n",
      "  1.44844469  1.65138438  1.65253577  2.71651984  1.81187593  1.23089199\n",
      "  1.47922214  2.17067098  1.38393825  1.26531693  2.7052431   2.49835938\n",
      "  1.59987787  2.0119105   2.1934772   1.47614296  2.9129221   2.15115603\n",
      "  1.53630225  3.00673904  1.58606667  2.09797873  1.66217778  1.10926118\n",
      "  2.23990586  1.34947789  2.43955822  1.37295593  1.79612009  1.78488342\n",
      "  2.12709361  1.90490522  2.00577896  1.83835018  2.11482897  1.8851669\n",
      "  1.97353032  1.86727465  1.79220657  1.19724902  1.64829546  1.84016529\n",
      "  2.02792293  2.53090503  2.14080624  2.21234171  1.83794103  1.86191577\n",
      "  1.35946016  2.28622588  2.01345457  1.70204355  2.14510779  1.98139534\n",
      "  2.0577144   2.05795734  2.47645635  2.10432697  2.13939156  2.57930661\n",
      "  2.06077678  2.44659289  1.75413505  1.76590278  2.68072807  1.67090906\n",
      "  2.40336699  1.87528165  1.89928568  1.12027431  2.28240783  1.70494533\n",
      "  0.65313723  2.42197543  2.05932398  1.44786458]\n"
     ]
    }
   ],
   "source": [
    "s = dist.rvs(100)\n",
    "print(s)"
   ]
  },
  {
   "cell_type": "markdown",
   "metadata": {},
   "source": [
    "We have sampled 100 numbers from that distribution!\n",
    "\n",
    "We can also compute the PDF in a given range:"
   ]
  },
  {
   "cell_type": "code",
   "execution_count": 69,
   "metadata": {
    "collapsed": false
   },
   "outputs": [
    {
     "data": {
      "text/plain": [
       "[<matplotlib.lines.Line2D at 0x1182476d0>]"
      ]
     },
     "execution_count": 69,
     "metadata": {},
     "output_type": "execute_result"
    },
    {
     "data": {
      "image/png": "[encoded data removed]",
      "text/plain": [
       "<matplotlib.figure.Figure at 0x1179b2790>"
      ]
     },
     "metadata": {},
     "output_type": "display_data"
    }
   ],
   "source": [
    "xcoord = np.linspace(0,4,500)\n",
    "pdf = dist.pdf(xcoord)\n",
    "\n",
    "plt.plot(xcoord, pdf)"
   ]
  },
  {
   "cell_type": "markdown",
   "metadata": {},
   "source": [
    "or the CDF:"
   ]
  },
  {
   "cell_type": "code",
   "execution_count": 71,
   "metadata": {
    "collapsed": false
   },
   "outputs": [
    {
     "data": {
      "text/plain": [
       "[<matplotlib.lines.Line2D at 0x1182f5f10>]"
      ]
     },
     "execution_count": 71,
     "metadata": {},
     "output_type": "execute_result"
    },
    {
     "data": {
      "image/png": "[encoded data removed]",
      "text/plain": [
       "<matplotlib.figure.Figure at 0x11801e810>"
      ]
     },
     "metadata": {},
     "output_type": "display_data"
    }
   ],
   "source": [
    "cdf = dist.cdf(xcoord)\n",
    "\n",
    "plt.plot(xcoord, cdf)"
   ]
  },
  {
   "cell_type": "markdown",
   "metadata": {},
   "source": [
    "Mean, median, var and std work as methods for the distribution, too:"
   ]
  },
  {
   "cell_type": "code",
   "execution_count": 72,
   "metadata": {
    "collapsed": false
   },
   "outputs": [
    {
     "name": "stdout",
     "output_type": "stream",
     "text": [
      "distribution mean 2.0000\n",
      "distribution median 2.0000\n",
      "distribution standard deviation 0.4000\n",
      "distribution variance 0.1600\n"
     ]
    }
   ],
   "source": [
    "print(\"distribution mean %.4f\"%dist.mean())\n",
    "print(\"distribution median %.4f\"%dist.median())\n",
    "print(\"distribution standard deviation %.4f\"%dist.std())\n",
    "print(\"distribution variance %.4f\"%dist.var())\n"
   ]
  },
  {
   "cell_type": "markdown",
   "metadata": {},
   "source": [
    "Easier than that, we can get it to just give us the moments of the distribution: the mean, the variance, the skewness and the kurtosis (below, replace 'mvsk' by any combination of those four letters to get it to print any of the four):"
   ]
  },
  {
   "cell_type": "code",
   "execution_count": 76,
   "metadata": {
    "collapsed": false
   },
   "outputs": [
    {
     "data": {
      "text/plain": [
       "(array(2.0), array(0.16000000000000003), array(0.0), array(0.0))"
      ]
     },
     "execution_count": 76,
     "metadata": {},
     "output_type": "execute_result"
    }
   ],
   "source": [
    "dist.stats(moments='mvsk')"
   ]
  },
  {
   "cell_type": "markdown",
   "metadata": {},
   "source": [
    "For computing the $n$th-order non-central moment, use the `moment` method:"
   ]
  },
  {
   "cell_type": "code",
   "execution_count": 81,
   "metadata": {
    "collapsed": false
   },
   "outputs": [
    {
     "data": {
      "text/plain": [
       "2.0"
      ]
     },
     "execution_count": 81,
     "metadata": {},
     "output_type": "execute_result"
    }
   ],
   "source": [
    "dist.moment(1)"
   ]
  },
  {
   "cell_type": "markdown",
   "metadata": {},
   "source": [
    "For more advanced purposes, we can also compute the survival function (1-CDF) and the percent point function (1/CDF) of the distribution:"
   ]
  },
  {
   "cell_type": "code",
   "execution_count": 82,
   "metadata": {
    "collapsed": false
   },
   "outputs": [
    {
     "data": {
      "text/plain": [
       "<matplotlib.text.Text at 0x118471ad0>"
      ]
     },
     "execution_count": 82,
     "metadata": {},
     "output_type": "execute_result"
    },
    {
     "data": {
      "image/png": "[encoded data removed]",
      "text/plain": [
       "<matplotlib.figure.Figure at 0x117f91b10>"
      ]
     },
     "metadata": {},
     "output_type": "display_data"
    }
   ],
   "source": [
    "fig, (ax1, ax2) = plt.subplots(1,2, figsize=(16,6))\n",
    "ax1.plot(xcoord, dist.sf(xcoord))\n",
    "ax1.set_title(\"Survival function\")\n",
    "\n",
    "ax2.plot(xcoord, dist.ppf(xcoord))\n",
    "ax2.set_title(\"Percent point function\")"
   ]
  },
  {
   "cell_type": "markdown",
   "metadata": {},
   "source": [
    "To compute a confidence interval around the median of the distribution, use the method `interval`:"
   ]
  },
  {
   "cell_type": "code",
   "execution_count": 83,
   "metadata": {
    "collapsed": false
   },
   "outputs": [
    {
     "data": {
      "text/plain": [
       "(1.6633515065708342, 2.3366484934291658)"
      ]
     },
     "execution_count": 83,
     "metadata": {},
     "output_type": "execute_result"
    }
   ],
   "source": [
    "dist.interval(0.6)"
   ]
  },
  {
   "cell_type": "markdown",
   "metadata": {},
   "source": [
    "Finally, if you have some data that you think was drawn from the distribution, you may use the `fit` method to fit the distribution's parameters to the sample:"
   ]
  },
  {
   "cell_type": "code",
   "execution_count": 86,
   "metadata": {
    "collapsed": false
   },
   "outputs": [
    {
     "name": "stdout",
     "output_type": "stream",
     "text": [
      "the location and scale parameters of the fit distribution are 4.017 and 0.204, respectively.\n"
     ]
    }
   ],
   "source": [
    "normal_data = np.random.normal(4.0, 0.2, size=1000)\n",
    "\n",
    "data_loc, data_scale = scipy.stats.norm.fit(normal_data)\n",
    "print(\"the location and scale parameters of the fit distribution are %.3f and %.3f, respectively.\"%(data_loc, data_scale))"
   ]
  },
  {
   "cell_type": "markdown",
   "metadata": {},
   "source": [
    "Continuous distributions function in exactly the same way, except that instead of a `pdf` method, they will have a `pmf` method:"
   ]
  },
  {
   "cell_type": "code",
   "execution_count": 91,
   "metadata": {
    "collapsed": false
   },
   "outputs": [
    {
     "data": {
      "text/plain": [
       "<matplotlib.collections.PathCollection at 0x11892ca50>"
      ]
     },
     "execution_count": 91,
     "metadata": {},
     "output_type": "execute_result"
    },
    {
     "data": {
      "image/png": "[encoded data removed]",
      "text/plain": [
       "<matplotlib.figure.Figure at 0x118343fd0>"
      ]
     },
     "metadata": {},
     "output_type": "display_data"
    }
   ],
   "source": [
    "## set the distribution\n",
    "dist = scipy.stats.poisson(10)\n",
    "\n",
    "## make an x-coordinate: Poisson distribution only defined\n",
    "## for positive integer numbers!\n",
    "xcoord = np.arange(0,50,1.0)\n",
    "\n",
    "## plot the results\n",
    "plt.scatter(xcoord, dist.pmf(xcoord))"
   ]
  },
  {
   "cell_type": "markdown",
   "metadata": {},
   "source": [
    "**Exercise**: Take the galaxy data we've used above and fit a distribution of your choice (see http://docs.scipy.org/doc/scipy/reference/stats.html for a list of all of them) and compare the parameters of your distribution to the sample mean and variance (if they're comparable.\n",
    "\n",
    "### Multivariate data\n",
    "\n",
    "Of course, most data sets aren't univariate. As we've seen above, we can use the same functions that we've used to compute  mean, median, variance and standard deviation for multi-variate data sets in the same way as for single-valued data, except that we need to specify the axis along which to compute the operation. \n",
    "\n",
    "However, these functions will compute the mean, variance etc. for each dimension in the data set *independently*. This unfortunately tells us nothing about whether the data vary with each other, that is, whether they are correlated in any way. One way to look at whether data vary with each other is by computing the covariance. Let's take our slightly expanded galaxy data set (with three colours from above, and compute the covariance between the three magnitude bands.\n",
    "\n",
    "Because of the way I've set up the array above, we need to take the transpose of it in order to get the covariance between the bands (and not between the samples!). "
   ]
  },
  {
   "cell_type": "code",
   "execution_count": 97,
   "metadata": {
    "collapsed": false
   },
   "outputs": [
    {
     "name": "stdout",
     "output_type": "stream",
     "text": [
      "[[ 0.52938372  0.51149323  0.48624376]\n",
      " [ 0.51149323  0.63016432  0.67565774]\n",
      " [ 0.48624376  0.67565774  0.78268418]]\n"
     ]
    }
   ],
   "source": [
    "cov = np.cov(x_multi.T)\n",
    "print(cov)"
   ]
  },
  {
   "cell_type": "markdown",
   "metadata": {},
   "source": [
    "Note that the matrix is symmetric about the diagonal. Also, the values on the diagonal are just the variance:"
   ]
  },
  {
   "cell_type": "code",
   "execution_count": 98,
   "metadata": {
    "collapsed": false
   },
   "outputs": [
    {
     "name": "stdout",
     "output_type": "stream",
     "text": [
      "[ 0.52926058  0.63001774  0.78250212]\n",
      "[ 0.52938372  0.63016432  0.78268418]\n"
     ]
    }
   ],
   "source": [
    "x_var = np.var(x_multi, axis=0)\n",
    "print(x_var)\n",
    "x_var_cov = np.diag(cov)\n",
    "print(x_var_cov)"
   ]
  },
  {
   "cell_type": "markdown",
   "metadata": {},
   "source": [
    "To compute the actual correlation between two samples, compute the correlation coefficient, which is the ratio of sample covariance and the product of the individual standard deviations:\n",
    "\n",
    "$s_{xy} = \\frac{1}{n-1}\\sum{(x_i - \\bar{x})(y_i - \\bar{y})}$ ;\n",
    "\n",
    "$r = \\frac{s_{xy}}{s_x s_y}$"
   ]
  },
  {
   "cell_type": "code",
   "execution_count": 104,
   "metadata": {
    "collapsed": false
   },
   "outputs": [
    {
     "name": "stdout",
     "output_type": "stream",
     "text": [
      "[[ 1.          0.88557979  0.75539737]\n",
      " [ 0.88557979  1.          0.96206977]\n",
      " [ 0.75539737  0.96206977  1.        ]]\n"
     ]
    }
   ],
   "source": [
    "r = np.corrcoef(x_multi.T)\n",
    "print(r)"
   ]
  },
  {
   "cell_type": "markdown",
   "metadata": {},
   "source": [
    "The correlation coefficient can range between -1 and 1. If two samples are only offset by a scaling factor (perfect correlation), then $r = 1$. $r = 0$ implies that there is no correlation.\n",
    "\n",
    "Another way to compare two samples is to compare the *means* of the two samples. To do this, we can use a generalization of the Student's t-test above to higher dimensions for two samples $x$ and $y$:\n",
    "\n",
    "$t = \\frac{\\bar{x} - \\bar{y}}{\\sqrt{\\left(\\frac{s_x^2}{n} + \\frac{s_y^2}{n}\\right)}}$.\n",
    "\n",
    "In python: "
   ]
  },
  {
   "cell_type": "code",
   "execution_count": 101,
   "metadata": {
    "collapsed": false
   },
   "outputs": [
    {
     "name": "stdout",
     "output_type": "stream",
     "text": [
      "The t-statistic for the two bands is 88.4215\n",
      "The p-value for that t-statistic is 0.0\n"
     ]
    }
   ],
   "source": [
    "t = scipy.stats.ttest_ind(x_multi[:,0], x_multi[:,1])\n",
    "t_stat = t.statistic\n",
    "t_pvalue = t.pvalue\n",
    "\n",
    "print(\"The t-statistic for the two bands is %.4f\"%t_stat)\n",
    "print(\"The p-value for that t-statistic is \" + str(t_pvalue))"
   ]
  },
  {
   "cell_type": "markdown",
   "metadata": {},
   "source": [
    "Note that the t-statistic tests whether the *means* of the two samples are the same. We can also test whether a sample is likely to be produced by a reference distribution (single-sample Kolmogorov-Smirnov test) or whether two samples are produced by the same, underlying (unknown) distribution (2-sample Kolmogorov-Smirnov test).\n",
    "\n",
    "The one-sample  KS-test (test sample against a reference distribution) can take, for example, the `cdf` method of any of the distributions defined in scipy.stats. "
   ]
  },
  {
   "cell_type": "code",
   "execution_count": 109,
   "metadata": {
    "collapsed": false
   },
   "outputs": [
    {
     "name": "stdout",
     "output_type": "stream",
     "text": [
      "The KS statistic for the sample and a normal distribution is 0.0689309216324\n",
      "The corresponding p-value is 3.62017717266e-18\n"
     ]
    }
   ],
   "source": [
    "ks = scipy.stats.kstest(x, scipy.stats.norm(np.mean(x), np.var(x)).cdf)\n",
    "print(\"The KS statistic for the sample and a normal distribution is \" + str(ks.statistic))\n",
    "print(\"The corresponding p-value is \" + str(ks.pvalue))"
   ]
  },
  {
   "cell_type": "markdown",
   "metadata": {},
   "source": [
    "Analogously, for the 2-sample KS-test:"
   ]
  },
  {
   "cell_type": "code",
   "execution_count": 111,
   "metadata": {
    "collapsed": false
   },
   "outputs": [
    {
     "name": "stdout",
     "output_type": "stream",
     "text": [
      "The KS statistic for the u and g-band magnitudes is 0.76366596883\n",
      "The corresponding p-value is 0.0\n"
     ]
    }
   ],
   "source": [
    "ks = scipy.stats.ks_2samp(x_multi[:,0], x_multi[:,1])\n",
    "print(\"The KS statistic for the u and g-band magnitudes is \" + str(ks.statistic))\n",
    "print(\"The corresponding p-value is \" + str(ks.pvalue))"
   ]
  },
  {
   "cell_type": "markdown",
   "metadata": {},
   "source": [
    "There are *many* more statistical tests to compare distributions and samples, too many to showcase them all here. Some of them are implemented in scipy.stats, so I invite you to look there for your favourite test!\n",
    "\n",
    "**to add: simple linear regression**"
   ]
  },
  {
   "cell_type": "code",
   "execution_count": null,
   "metadata": {
    "collapsed": true
   },
   "outputs": [],
   "source": []
  }
 ],
 "metadata": {
  "kernelspec": {
   "display_name": "Python 2",
   "language": "python",
   "name": "python2"
  },
  "language_info": {
   "codemirror_mode": {
    "name": "ipython",
    "version": 2
   },
   "file_extension": ".py",
   "mimetype": "text/x-python",
   "name": "python",
   "nbconvert_exporter": "python",
   "pygments_lexer": "ipython2",
   "version": "2.7.10"
  }
 },
 "nbformat": 4,
 "nbformat_minor": 0
}
