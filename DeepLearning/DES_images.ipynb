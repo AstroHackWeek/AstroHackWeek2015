{
 "cells": [
  {
   "cell_type": "code",
   "execution_count": 2,
   "metadata": {
    "collapsed": false
   },
   "outputs": [],
   "source": [
    "%matplotlib inline"
   ]
  },
  {
   "cell_type": "code",
   "execution_count": 3,
   "metadata": {
    "collapsed": true
   },
   "outputs": [],
   "source": [
    "from __future__ import absolute_import\n",
    "from __future__ import print_function,division\n",
    "import numpy as np\n",
    "np.random.seed(1337)  # for reproducibility\n",
    "import matplotlib.pyplot as plt\n",
    "import os,time\n",
    "\n",
    "import theano\n",
    "\n",
    "from keras.datasets import mnist\n",
    "from keras.models import Sequential\n",
    "from keras.layers.core import Dense, Dropout, Activation, Flatten\n",
    "from keras.layers.convolutional import Convolution2D, MaxPooling2D\n",
    "from keras.utils import np_utils\n",
    "from keras.optimizers import adagrad\n",
    "from keras.callbacks import ModelCheckpoint\n",
    "\n",
    "from sklearn.cross_validation import ShuffleSplit"
   ]
  },
  {
   "cell_type": "code",
   "execution_count": 4,
   "metadata": {
    "collapsed": false
   },
   "outputs": [
    {
     "data": {
      "text/plain": [
       "\"\\nt1=time.time()\\nrt='/home/michelle/Dropbox/Project/DES_images/data/'\\nX_train=np.load(rt+'X_train.npy')\\nX_val=np.load(rt+'X_val.npy')\\nX_test=np.load(rt+'X_test.npy')\\n\\nY_train=np.load(rt+'Y_train.npy')\\nY_val=np.load(rt+'Y_val.npy')\\nY_test=np.load(rt+'Y_test.npy')\\nprint('Read data in ',time.time()-t1,'s')\\n\""
      ]
     },
     "execution_count": 4,
     "metadata": {},
     "output_type": "execute_result"
    }
   ],
   "source": [
    "\"\"\"\n",
    "t1=time.time()\n",
    "rt='/home/michelle/Dropbox/Project/DES_images/data/'\n",
    "X_train=np.load(rt+'X_train.npy')\n",
    "X_val=np.load(rt+'X_val.npy')\n",
    "X_test=np.load(rt+'X_test.npy')\n",
    "\n",
    "Y_train=np.load(rt+'Y_train.npy')\n",
    "Y_val=np.load(rt+'Y_val.npy')\n",
    "Y_test=np.load(rt+'Y_test.npy')\n",
    "print('Read data in ',time.time()-t1,'s')\n",
    "\"\"\""
   ]
  },
  {
   "cell_type": "code",
   "execution_count": 7,
   "metadata": {
    "collapsed": false
   },
   "outputs": [
    {
     "name": "stdout",
     "output_type": "stream",
     "text": [
      "Number of classes 24\n",
      "Read data in  0.487659931183 s\n"
     ]
    }
   ],
   "source": [
    "t1=time.time()\n",
    "rt='/home/michelle/Dropbox/Project/DES_images/data/'\n",
    "X=np.load(rt+'multiclass_images.npy')\n",
    "Y=np.load(rt+'multiclass_classes.npy')\n",
    "\n",
    "nb_classes = len(np.unique(Y))\n",
    "print('Number of classes',nb_classes)\n",
    "\n",
    "ss = ShuffleSplit(len(Y), n_iter=1,test_size=0.4)\n",
    "mylist = list(ss)\n",
    "train, test = mylist[0]\n",
    "\n",
    "#I actually want to split the \"test\" into validation and test\n",
    "val=test[:(int)(0.75*len(test))]\n",
    "test=test[(int)(0.75*len(test)):]\n",
    "\n",
    "X_train=X[train]\n",
    "Y_train=Y[train]\n",
    "X_val=X[val]\n",
    "Y_val=Y[val]\n",
    "X_test=X[test]\n",
    "Y_test=Y[test]\n",
    "\n",
    "print('Read data in ',time.time()-t1,'s')"
   ]
  },
  {
   "cell_type": "code",
   "execution_count": 8,
   "metadata": {
    "collapsed": false
   },
   "outputs": [
    {
     "data": {
      "image/png": "[encoded data removed]",
      "text/plain": [
       "<matplotlib.figure.Figure at 0x7ff124fb3f10>"
      ]
     },
     "metadata": {},
     "output_type": "display_data"
    }
   ],
   "source": [
    "#Check the training set is representative\n",
    "plt.hist(Y_train,nb_classes,facecolor='none',edgecolor='b');\n",
    "plt.hist(Y_val,nb_classes,facecolor='none',edgecolor='g');\n",
    "plt.hist(Y_test,nb_classes,facecolor='none',edgecolor='r');"
   ]
  },
  {
   "cell_type": "code",
   "execution_count": 9,
   "metadata": {
    "collapsed": false
   },
   "outputs": [],
   "source": [
    "# convert class vectors to binary class matrices\n",
    "Y_train = np_utils.to_categorical(Y_train, nb_classes)\n",
    "Y_val = np_utils.to_categorical(Y_val, nb_classes)\n",
    "Y_test = np_utils.to_categorical(Y_test, nb_classes)"
   ]
  },
  {
   "cell_type": "code",
   "execution_count": 8,
   "metadata": {
    "collapsed": false
   },
   "outputs": [],
   "source": [
    "#X_train=X_train[:,:,:50,:]\n",
    "#X_val=X_val[:,:,:50,:]\n",
    "#X_test=X_test[:,:,:50,:]"
   ]
  },
  {
   "cell_type": "code",
   "execution_count": 10,
   "metadata": {
    "collapsed": false
   },
   "outputs": [
    {
     "name": "stdout",
     "output_type": "stream",
     "text": [
      "102 205\n"
     ]
    }
   ],
   "source": [
    "batch_size = 50 \n",
    "nb_epoch = 20\n",
    "\n",
    "# shape of the image (SHAPE x SHAPE)\n",
    "shapex, shapey = X_train[0].shape[-2],X_train[0].shape[-1]\n",
    "#print(X_train.shape)\n",
    "print(shapex,shapey)\n",
    "# number of convolutional filters to use\n",
    "nb_filters = 32 #32\n",
    "# level of pooling to perform (POOL x POOL)\n",
    "nb_pool = 2\n",
    "# level of convolution to perform (CONV x CONV)\n",
    "nb_conv = 3"
   ]
  },
  {
   "cell_type": "code",
   "execution_count": 11,
   "metadata": {
    "collapsed": false
   },
   "outputs": [],
   "source": [
    "#plt.imshow(X_train[1][0],cmap='gray')"
   ]
  },
  {
   "cell_type": "code",
   "execution_count": 13,
   "metadata": {
    "collapsed": false
   },
   "outputs": [],
   "source": [
    "model = Sequential()\n",
    "\n",
    "model.add(Convolution2D(nb_filters, 1, nb_conv, nb_conv, border_mode='full'))\n",
    "model.add(Activation('relu'))\n",
    "model.add(Convolution2D(nb_filters, nb_filters, nb_conv, nb_conv))\n",
    "convout1=Activation('relu')\n",
    "model.add(convout1)\n",
    "model.add(MaxPooling2D(poolsize=(nb_pool, nb_pool)))\n",
    "model.add(Dropout(0.4))\n",
    "\n",
    "#model.add(Convolution2D(nb_filters,nb_filters, nb_conv, nb_conv, border_mode='full'))\n",
    "#model.add(Activation('relu'))\n",
    "#model.add(Convolution2D(nb_filters, nb_filters, nb_conv, nb_conv))\n",
    "#convout2=Activation('relu')\n",
    "#model.add(convout2)\n",
    "#model.add(MaxPooling2D(poolsize=(nb_pool, nb_pool)))\n",
    "#model.add(Dropout(0.3))\n",
    "\n",
    "model.add(Flatten())\n",
    "# the resulting image after conv and pooling is the original shape\n",
    "# divided by the pooling with a number of filters for each \"pixel\"\n",
    "# (the number of filters is determined by the last Conv2D)\n",
    "#model.add(Dense(2*nb_filters//3 * (shapex // nb_pool//nb_pool) * (shapey // nb_pool//nb_pool), 128))\n",
    "model.add(Dense(nb_filters * (shapex // nb_pool) * (shapey // nb_pool), 128))\n",
    "model.add(Activation('relu'))\n",
    "model.add(Dropout(0.5))\n",
    "\n",
    "#Gilles suggested adding an extra set of layers here to improve accuracy\n",
    "model.add(Dense(128, 128))\n",
    "model.add(Activation('relu'))\n",
    "model.add(Dropout(0.5))\n",
    "\n",
    "model.add(Dense(128, nb_classes))\n",
    "model.add(Activation('softmax'))\n",
    "\n",
    "model.compile(loss='categorical_crossentropy', optimizer='adadelta')\n",
    "#ad=adagrad(clipnorm=1)\n",
    "#model.compile(loss='mean_squared_error', optimizer=ad)\n",
    "#model.compile(loss='categorical_crossentropy', optimizer=ad)\n",
    "\n"
   ]
  },
  {
   "cell_type": "code",
   "execution_count": null,
   "metadata": {
    "collapsed": false
   },
   "outputs": [],
   "source": [
    "#model.get_config()\n",
    "fname='model.hdf5'"
   ]
  },
  {
   "cell_type": "code",
   "execution_count": null,
   "metadata": {
    "collapsed": false
   },
   "outputs": [
    {
     "name": "stdout",
     "output_type": "stream",
     "text": [
      "Train on 1645 samples, validate on 823 samples\n",
      "Epoch 0\n",
      " 150/1645 [=>............................] - ETA: 695s - loss: 17.4853 - acc: 0.0800"
     ]
    }
   ],
   "source": [
    "checkpointer=ModelCheckpoint(fname, verbose=0, save_best_only=True)\n",
    "model.fit(X_train, Y_train, batch_size=batch_size, nb_epoch=nb_epoch, show_accuracy=True, verbose=1, validation_data=(X_val, Y_val),callbacks=[checkpointer])\n",
    "score = model.evaluate(X_test, Y_test, show_accuracy=True, verbose=0)\n",
    "print('Test score:', score[0])\n",
    "print('Test accuracy:', score[1])"
   ]
  },
  {
   "cell_type": "code",
   "execution_count": null,
   "metadata": {
    "collapsed": false
   },
   "outputs": [],
   "source": [
    "#model=Sequential()\n",
    "#model.load_weights(fname)"
   ]
  },
  {
   "cell_type": "code",
   "execution_count": null,
   "metadata": {
    "collapsed": false
   },
   "outputs": [],
   "source": [
    "y_fit=model.predict(X_test)"
   ]
  },
  {
   "cell_type": "code",
   "execution_count": null,
   "metadata": {
    "collapsed": false
   },
   "outputs": [],
   "source": [
    "y_fit=y_fit.argmax(axis=1)"
   ]
  },
  {
   "cell_type": "code",
   "execution_count": null,
   "metadata": {
    "collapsed": false
   },
   "outputs": [],
   "source": [
    "Y_test=np.load(rt+'Y_test.npy')"
   ]
  },
  {
   "cell_type": "code",
   "execution_count": null,
   "metadata": {
    "collapsed": false
   },
   "outputs": [],
   "source": [
    "np.sum(Y_test==y_fit)/len(Y_test)"
   ]
  },
  {
   "cell_type": "code",
   "execution_count": null,
   "metadata": {
    "collapsed": true
   },
   "outputs": [],
   "source": [
    "# utility functions\n",
    "from mpl_toolkits.axes_grid1 import make_axes_locatable\n",
    "\n",
    "def nice_imshow(ax, data, vmin=None, vmax=None, cmap=None):\n",
    "    \"\"\"Wrapper around pl.imshow\"\"\"\n",
    "    if cmap is None:\n",
    "        cmap = cm.jet\n",
    "    if vmin is None:\n",
    "        vmin = data.min()\n",
    "    if vmax is None:\n",
    "        vmax = data.max()\n",
    "    divider = make_axes_locatable(ax)\n",
    "    cax = divider.append_axes(\"right\", size=\"5%\", pad=0.05)\n",
    "    im = ax.imshow(data, vmin=vmin, vmax=vmax, interpolation='nearest', cmap=cmap)\n",
    "    plt.colorbar(im, cax=cax)"
   ]
  },
  {
   "cell_type": "code",
   "execution_count": null,
   "metadata": {
    "collapsed": true
   },
   "outputs": [],
   "source": [
    "import numpy.ma as ma\n",
    "def make_mosaic(imgs, nrows, ncols, border=1):\n",
    "    \"\"\"\n",
    "    Given a set of images with all the same shape, makes a\n",
    "    mosaic with nrows and ncols\n",
    "    \"\"\"\n",
    "    nimgs = imgs.shape[0]\n",
    "    imshape = imgs.shape[1:]\n",
    "    \n",
    "    mosaic = ma.masked_all((nrows * imshape[0] + (nrows - 1) * border,\n",
    "                            ncols * imshape[1] + (ncols - 1) * border),\n",
    "                            dtype=np.float32)\n",
    "    \n",
    "    paddedh = imshape[0] + border\n",
    "    paddedw = imshape[1] + border\n",
    "    for i in xrange(nimgs):\n",
    "        row = int(np.floor(i / ncols))\n",
    "        col = i % ncols\n",
    "        \n",
    "        mosaic[row * paddedh:row * paddedh + imshape[0],\n",
    "               col * paddedw:col * paddedw + imshape[1]] = imgs[i]\n",
    "    return mosaic"
   ]
  },
  {
   "cell_type": "code",
   "execution_count": null,
   "metadata": {
    "collapsed": false
   },
   "outputs": [],
   "source": [
    "convout1_f = theano.function([model.get_input(train=False)], convout1.get_output(train=False))\n",
    "#convout2_f = theano.function([model.get_input(train=False)], convout2.get_output(train=False))"
   ]
  },
  {
   "cell_type": "code",
   "execution_count": null,
   "metadata": {
    "collapsed": true
   },
   "outputs": [],
   "source": []
  },
  {
   "cell_type": "code",
   "execution_count": null,
   "metadata": {
    "collapsed": false
   },
   "outputs": [],
   "source": [
    "ind=10\n",
    "plt.imshow(X_test[ind][0],cmap='gray')\n",
    "plt.title(Y_test[ind])"
   ]
  },
  {
   "cell_type": "code",
   "execution_count": null,
   "metadata": {
    "collapsed": false
   },
   "outputs": [],
   "source": [
    "C1 = convout1_f(X_test[ind:ind+1])\n",
    "C1 = np.squeeze(C1)\n",
    "print(\"C1 shape : \", C1.shape)\n",
    "\n",
    "plt.figure(figsize=(15, 15))\n",
    "#plt.suptitle('convout1')\n",
    "nice_imshow(plt.gca(), make_mosaic(C1, 6, 6,border=1), cmap='gray')"
   ]
  },
  {
   "cell_type": "code",
   "execution_count": null,
   "metadata": {
    "collapsed": false
   },
   "outputs": [],
   "source": [
    "C2 = convout2_f(X_test[ind:ind+1])\n",
    "C2 = np.squeeze(C2)\n",
    "print(\"C2 shape : \", C2.shape)\n",
    "\n",
    "plt.figure(figsize=(15, 15))\n",
    "#plt.suptitle('convout1')\n",
    "nice_imshow(plt.gca(), make_mosaic(C2, 6, 6,border=1), cmap='gray')"
   ]
  },
  {
   "cell_type": "code",
   "execution_count": null,
   "metadata": {
    "collapsed": true
   },
   "outputs": [],
   "source": []
  }
 ],
 "metadata": {
  "kernelspec": {
   "display_name": "Python 2",
   "language": "python",
   "name": "python2"
  },
  "language_info": {
   "codemirror_mode": {
    "name": "ipython",
    "version": 2
   },
   "file_extension": ".py",
   "mimetype": "text/x-python",
   "name": "python",
   "nbconvert_exporter": "python",
   "pygments_lexer": "ipython2",
   "version": "2.7.6"
  }
 },
 "nbformat": 4,
 "nbformat_minor": 0
}
